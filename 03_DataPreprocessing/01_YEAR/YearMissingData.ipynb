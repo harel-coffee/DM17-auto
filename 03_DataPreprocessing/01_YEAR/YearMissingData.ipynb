{
 "cells": [
  {
   "cell_type": "code",
   "execution_count": 1,
   "metadata": {
    "collapsed": true
   },
   "outputs": [],
   "source": [
    "import numpy as np\n",
    "import matplotlib.pyplot as plt\n",
    "import pandas as pd"
   ]
  },
  {
   "cell_type": "code",
   "execution_count": 2,
   "metadata": {
    "collapsed": false
   },
   "outputs": [
    {
     "data": {
      "text/plain": [
       "1378      1\n",
       "1380      1\n",
       "1384      1\n",
       "1387      1\n",
       "2000      8\n",
       "2001      6\n",
       "2002      1\n",
       "2003      9\n",
       "2004     13\n",
       "2005     13\n",
       "2006     11\n",
       "2007     31\n",
       "2008    200\n",
       "2009    243\n",
       "2010    460\n",
       "2011    429\n",
       "2012    504\n",
       "2013    462\n",
       "2014    412\n",
       "2015    322\n",
       "2016    286\n",
       "2017     89\n",
       "2018      8\n",
       "85        1\n",
       "87        1\n",
       "n/a      13\n",
       "Name: year, dtype: int64"
      ]
     },
     "execution_count": 2,
     "metadata": {},
     "output_type": "execute_result"
    }
   ],
   "source": [
    "df = pd.read_json('../Data2.json')\n",
    "df.sort_index(inplace=True)\n",
    "df.year.value_counts().sort_index()"
   ]
  },
  {
   "cell_type": "code",
   "execution_count": 3,
   "metadata": {
    "collapsed": false
   },
   "outputs": [
    {
     "data": {
      "text/plain": [
       "2000      9\n",
       "2001      7\n",
       "2002      1\n",
       "2003      9\n",
       "2004     13\n",
       "2005     14\n",
       "2006     12\n",
       "2007     31\n",
       "2008    202\n",
       "2009    243\n",
       "2010    460\n",
       "2011    429\n",
       "2012    504\n",
       "2013    462\n",
       "2014    412\n",
       "2015    322\n",
       "2016    286\n",
       "2017     89\n",
       "2018      8\n",
       "n/a      13\n",
       "Name: year, dtype: int64"
      ]
     },
     "execution_count": 3,
     "metadata": {},
     "output_type": "execute_result"
    }
   ],
   "source": [
    "df.year.replace({'85':'2006','87':'2008','1387':'2008','1378':'2000','1380':'2001','1384':'2005'},inplace=True)\n",
    "df.year.value_counts().sort_index()"
   ]
  },
  {
   "cell_type": "markdown",
   "metadata": {
    "collapsed": true
   },
   "source": [
    "### 13 missing data in Year column"
   ]
  },
  {
   "cell_type": "code",
   "execution_count": 4,
   "metadata": {
    "collapsed": false
   },
   "outputs": [],
   "source": [
    "df.year=df.year.apply(pd.to_numeric, errors='coerce',downcast='unsigned').fillna(np.nan)"
   ]
  },
  {
   "cell_type": "code",
   "execution_count": 5,
   "metadata": {
    "collapsed": false
   },
   "outputs": [
    {
     "data": {
      "image/png": "[encoded data removed]",
      "text/plain": [
       "<matplotlib.figure.Figure at 0x999b128>"
      ]
     },
     "metadata": {},
     "output_type": "display_data"
    }
   ],
   "source": [
    "cln=df.year.value_counts().sort_index()\n",
    "cln.plot(kind='bar')\n",
    "plt.show()"
   ]
  },
  {
   "cell_type": "markdown",
   "metadata": {},
   "source": [
    "## Filling Missing Data\n",
    "We can see in applyabroad.com/forum web portal when we submit results , it gives an ID for admission result which is Incremental. So we're going to fill missing data with average of \"YEAR\" in the next and previous available record."
   ]
  },
  {
   "cell_type": "code",
   "execution_count": 6,
   "metadata": {
    "collapsed": false
   },
   "outputs": [
    {
     "data": {
      "text/plain": [
       "568    NaN\n",
       "1859   NaN\n",
       "1904   NaN\n",
       "1951   NaN\n",
       "1958   NaN\n",
       "2479   NaN\n",
       "2771   NaN\n",
       "2995   NaN\n",
       "3286   NaN\n",
       "3429   NaN\n",
       "3521   NaN\n",
       "3782   NaN\n",
       "4152   NaN\n",
       "Name: year, dtype: float64"
      ]
     },
     "execution_count": 6,
     "metadata": {},
     "output_type": "execute_result"
    }
   ],
   "source": [
    "df.year[df.year.isnull()]"
   ]
  },
  {
   "cell_type": "code",
   "execution_count": 7,
   "metadata": {
    "collapsed": false
   },
   "outputs": [
    {
     "data": {
      "text/plain": [
       "2000.0      9\n",
       "2001.0      7\n",
       "2002.0      1\n",
       "2003.0      9\n",
       "2004.0     13\n",
       "2005.0     14\n",
       "2006.0     12\n",
       "2007.0     31\n",
       "2008.0    202\n",
       "2009.0    243\n",
       "2010.0    460\n",
       "2011.0    429\n",
       "2012.0    517\n",
       "2013.0    462\n",
       "2014.0    412\n",
       "2015.0    322\n",
       "2016.0    286\n",
       "2017.0     89\n",
       "2018.0      8\n",
       "Name: year, dtype: int64"
      ]
     },
     "execution_count": 7,
     "metadata": {},
     "output_type": "execute_result"
    }
   ],
   "source": [
    "for i in df.year.index:\n",
    "    if df.year[i]>0:continue\n",
    "    nex=i\n",
    "    while True:\n",
    "        nex+=1\n",
    "        try:\n",
    "            if nex>df.year.index[-1]:\n",
    "                df.year.set_value(i,round(df.year.mean()))\n",
    "                break\n",
    "            if df.year[nex]>0:\n",
    "                df.year.set_value(i,df.year[nex])\n",
    "        except:\n",
    "            pass\n",
    "cln2=df.year.value_counts().sort_index()\n",
    "cln2        "
   ]
  },
  {
   "cell_type": "code",
   "execution_count": 8,
   "metadata": {
    "collapsed": false
   },
   "outputs": [
    {
     "data": {
      "text/plain": [
       "Series([], Name: year, dtype: float64)"
      ]
     },
     "execution_count": 8,
     "metadata": {},
     "output_type": "execute_result"
    }
   ],
   "source": [
    "df.year[df.year.isnull()]"
   ]
  },
  {
   "cell_type": "markdown",
   "metadata": {},
   "source": [
    "### Here you can see changes in our series after setting new values"
   ]
  },
  {
   "cell_type": "code",
   "execution_count": 9,
   "metadata": {
    "collapsed": false
   },
   "outputs": [
    {
     "data": {
      "text/plain": [
       "2000.0     0\n",
       "2001.0     0\n",
       "2002.0     0\n",
       "2003.0     0\n",
       "2004.0     0\n",
       "2005.0     0\n",
       "2006.0     0\n",
       "2007.0     0\n",
       "2008.0     0\n",
       "2009.0     0\n",
       "2010.0     0\n",
       "2011.0     0\n",
       "2012.0    13\n",
       "2013.0     0\n",
       "2014.0     0\n",
       "2015.0     0\n",
       "2016.0     0\n",
       "2017.0     0\n",
       "2018.0     0\n",
       "Name: year, dtype: int64"
      ]
     },
     "execution_count": 9,
     "metadata": {},
     "output_type": "execute_result"
    }
   ],
   "source": [
    "cln2-cln"
   ]
  },
  {
   "cell_type": "code",
   "execution_count": 10,
   "metadata": {
    "collapsed": true
   },
   "outputs": [],
   "source": [
    "# Saving\n",
    "df.to_json('Data_FixedYear.json',date_format='utf8')"
   ]
  },
  {
   "cell_type": "code",
   "execution_count": 11,
   "metadata": {
    "collapsed": false
   },
   "outputs": [
    {
     "data": {
      "text/plain": [
       "count    3526.000000\n",
       "mean     2012.084515\n",
       "std         2.687339\n",
       "min      2000.000000\n",
       "25%      2010.000000\n",
       "50%      2012.000000\n",
       "75%      2014.000000\n",
       "max      2018.000000\n",
       "Name: year, dtype: float64"
      ]
     },
     "execution_count": 11,
     "metadata": {},
     "output_type": "execute_result"
    }
   ],
   "source": [
    "df.year.describe()"
   ]
  }
 ],
 "metadata": {
  "kernelspec": {
   "display_name": "Python 2",
   "language": "python",
   "name": "python2"
  },
  "language_info": {
   "codemirror_mode": {
    "name": "ipython",
    "version": 2
   },
   "file_extension": ".py",
   "mimetype": "text/x-python",
   "name": "python",
   "nbconvert_exporter": "python",
   "pygments_lexer": "ipython2",
   "version": "2.7.13"
  }
 },
 "nbformat": 4,
 "nbformat_minor": 2
}

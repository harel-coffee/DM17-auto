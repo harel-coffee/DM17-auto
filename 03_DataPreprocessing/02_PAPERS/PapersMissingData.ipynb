{
 "cells": [
  {
   "cell_type": "code",
   "execution_count": 1,
   "metadata": {
    "collapsed": true
   },
   "outputs": [],
   "source": [
    "import numpy as np\n",
    "import matplotlib.pyplot as plt\n",
    "import pandas as pd"
   ]
  },
  {
   "cell_type": "markdown",
   "metadata": {},
   "source": [
    "We are using changed data (which we removed students who applied for 'Bachelor')"
   ]
  },
  {
   "cell_type": "code",
   "execution_count": 2,
   "metadata": {
    "collapsed": false,
    "scrolled": false
   },
   "outputs": [
    {
     "data": {
      "text/html": [
       "<div>\n",
       "<table border=\"1\" class=\"dataframe\">\n",
       "  <thead>\n",
       "    <tr style=\"text-align: right;\">\n",
       "      <th></th>\n",
       "      <th>accUni</th>\n",
       "      <th>apDegree</th>\n",
       "      <th>apUni</th>\n",
       "      <th>bachelorsAvg</th>\n",
       "      <th>bachelorsUni</th>\n",
       "      <th>country</th>\n",
       "      <th>engExamAnlt</th>\n",
       "      <th>engExamQuan</th>\n",
       "      <th>engExamResult</th>\n",
       "      <th>engExamType</th>\n",
       "      <th>...</th>\n",
       "      <th>extra</th>\n",
       "      <th>field</th>\n",
       "      <th>fund</th>\n",
       "      <th>fundType</th>\n",
       "      <th>masterAvg</th>\n",
       "      <th>masterUni</th>\n",
       "      <th>papersGLOB</th>\n",
       "      <th>papersIRAN</th>\n",
       "      <th>rejUni</th>\n",
       "      <th>year</th>\n",
       "    </tr>\n",
       "  </thead>\n",
       "  <tbody>\n",
       "    <tr>\n",
       "      <th>2</th>\n",
       "      <td>n/a</td>\n",
       "      <td>Doctorate</td>\n",
       "      <td>Heriot Watt University, Edinburgh</td>\n",
       "      <td>17.74</td>\n",
       "      <td>آزاد اسلامی امیدیه</td>\n",
       "      <td>انگلستان</td>\n",
       "      <td>n/a</td>\n",
       "      <td>n/a</td>\n",
       "      <td>n/a</td>\n",
       "      <td>n/a</td>\n",
       "      <td>...</td>\n",
       "      <td>Award is in GBP.The amount is for living stipe...</td>\n",
       "      <td>Petroleum Engineering</td>\n",
       "      <td>12600</td>\n",
       "      <td>Award</td>\n",
       "      <td>n/a</td>\n",
       "      <td>n/a</td>\n",
       "      <td>4</td>\n",
       "      <td>8</td>\n",
       "      <td>n/a</td>\n",
       "      <td>2007</td>\n",
       "    </tr>\n",
       "    <tr>\n",
       "      <th>3</th>\n",
       "      <td>EPFL Switzerland, Northwestern</td>\n",
       "      <td>Doctorate</td>\n",
       "      <td>Northwestern</td>\n",
       "      <td>15.70</td>\n",
       "      <td>فردوسی مشهد</td>\n",
       "      <td>آمریکا</td>\n",
       "      <td>3</td>\n",
       "      <td>760</td>\n",
       "      <td>100</td>\n",
       "      <td>iBT</td>\n",
       "      <td>...</td>\n",
       "      <td>سال 2008 اومدم آمریکا و دو سال master رو در دا...</td>\n",
       "      <td>Civil Engineering / Transportation</td>\n",
       "      <td>63000</td>\n",
       "      <td>RA</td>\n",
       "      <td>19</td>\n",
       "      <td>Portland State University</td>\n",
       "      <td>8</td>\n",
       "      <td>10</td>\n",
       "      <td>UC Berkeley, Georgia Tech</td>\n",
       "      <td>2010</td>\n",
       "    </tr>\n",
       "    <tr>\n",
       "      <th>5</th>\n",
       "      <td>n/a</td>\n",
       "      <td>Doctorate</td>\n",
       "      <td>Cornell</td>\n",
       "      <td>17.68</td>\n",
       "      <td>اميرکبير</td>\n",
       "      <td>آمریکا</td>\n",
       "      <td>3.5</td>\n",
       "      <td>800</td>\n",
       "      <td>100</td>\n",
       "      <td>iBT</td>\n",
       "      <td>...</td>\n",
       "      <td>تاريخ مصاحبه: 6 مي 2008 و تاريخ کلير شدن: 16 م...</td>\n",
       "      <td>(Management ( Operations Management</td>\n",
       "      <td>59400</td>\n",
       "      <td>TA/RA</td>\n",
       "      <td>18.04</td>\n",
       "      <td>شريف</td>\n",
       "      <td>4</td>\n",
       "      <td>4</td>\n",
       "      <td>Virginia Tech, INSEAD, MIT Sloan,Cornegie Mell...</td>\n",
       "      <td>2008</td>\n",
       "    </tr>\n",
       "    <tr>\n",
       "      <th>6</th>\n",
       "      <td>Dalhousie, Clemson, TUDelft, NTU-NUS (SINGA sc...</td>\n",
       "      <td>Masters</td>\n",
       "      <td>Chalmers</td>\n",
       "      <td>16.00</td>\n",
       "      <td>صنعتی امیرکبیر</td>\n",
       "      <td>سوئد</td>\n",
       "      <td>3</td>\n",
       "      <td>800</td>\n",
       "      <td>92</td>\n",
       "      <td>iBT</td>\n",
       "      <td>...</td>\n",
       "      <td>رشته لیسانس من مهندسی مکانیک بود. فاند Dalhous...</td>\n",
       "      <td>Nanotechnology</td>\n",
       "      <td>0</td>\n",
       "      <td>n/a</td>\n",
       "      <td>n/a</td>\n",
       "      <td>n/a</td>\n",
       "      <td>0</td>\n",
       "      <td>0</td>\n",
       "      <td>UC Berkeley, UC Davis, Carneigie Mellon</td>\n",
       "      <td>2008</td>\n",
       "    </tr>\n",
       "    <tr>\n",
       "      <th>7</th>\n",
       "      <td>Carlos III Madrid, FHTW Berlin, Chalmers, Poli...</td>\n",
       "      <td>Masters</td>\n",
       "      <td>Carlos III Madrid, Spain</td>\n",
       "      <td>7.67</td>\n",
       "      <td>پلی تکنیک بخارست، رومانی - معدل 7.67 از 10</td>\n",
       "      <td>اسپانیا</td>\n",
       "      <td>n/a</td>\n",
       "      <td>n/a</td>\n",
       "      <td>103</td>\n",
       "      <td>iBT</td>\n",
       "      <td>...</td>\n",
       "      <td>رشته ی لیسانس ام مهندسی برق بوده./ ساپورت مالی...</td>\n",
       "      <td>Business Administration and Quantitative Methods</td>\n",
       "      <td>24500</td>\n",
       "      <td>TA</td>\n",
       "      <td>n/a</td>\n",
       "      <td>n/a</td>\n",
       "      <td>0</td>\n",
       "      <td>0</td>\n",
       "      <td>Chalmers</td>\n",
       "      <td>2008</td>\n",
       "    </tr>\n",
       "  </tbody>\n",
       "</table>\n",
       "<p>5 rows × 21 columns</p>\n",
       "</div>"
      ],
      "text/plain": [
       "                                              accUni   apDegree  \\\n",
       "2                                                n/a  Doctorate   \n",
       "3                     EPFL Switzerland, Northwestern  Doctorate   \n",
       "5                                                n/a  Doctorate   \n",
       "6  Dalhousie, Clemson, TUDelft, NTU-NUS (SINGA sc...    Masters   \n",
       "7  Carlos III Madrid, FHTW Berlin, Chalmers, Poli...    Masters   \n",
       "\n",
       "                               apUni  bachelorsAvg  \\\n",
       "2  Heriot Watt University, Edinburgh         17.74   \n",
       "3                       Northwestern         15.70   \n",
       "5                            Cornell         17.68   \n",
       "6                           Chalmers         16.00   \n",
       "7           Carlos III Madrid, Spain          7.67   \n",
       "\n",
       "                                 bachelorsUni   country engExamAnlt  \\\n",
       "2                          آزاد اسلامی امیدیه  انگلستان         n/a   \n",
       "3                                 فردوسی مشهد    آمریکا           3   \n",
       "5                                    اميرکبير    آمریکا         3.5   \n",
       "6                              صنعتی امیرکبیر      سوئد           3   \n",
       "7  پلی تکنیک بخارست، رومانی - معدل 7.67 از 10   اسپانیا         n/a   \n",
       "\n",
       "  engExamQuan engExamResult engExamType  ...   \\\n",
       "2         n/a           n/a         n/a  ...    \n",
       "3         760           100         iBT  ...    \n",
       "5         800           100         iBT  ...    \n",
       "6         800            92         iBT  ...    \n",
       "7         n/a           103         iBT  ...    \n",
       "\n",
       "                                               extra  \\\n",
       "2  Award is in GBP.The amount is for living stipe...   \n",
       "3  سال 2008 اومدم آمریکا و دو سال master رو در دا...   \n",
       "5  تاريخ مصاحبه: 6 مي 2008 و تاريخ کلير شدن: 16 م...   \n",
       "6  رشته لیسانس من مهندسی مکانیک بود. فاند Dalhous...   \n",
       "7  رشته ی لیسانس ام مهندسی برق بوده./ ساپورت مالی...   \n",
       "\n",
       "                                              field   fund  fundType  \\\n",
       "2                             Petroleum Engineering  12600     Award   \n",
       "3                Civil Engineering / Transportation  63000        RA   \n",
       "5               (Management ( Operations Management  59400     TA/RA   \n",
       "6                                    Nanotechnology      0       n/a   \n",
       "7  Business Administration and Quantitative Methods  24500        TA   \n",
       "\n",
       "  masterAvg                  masterUni papersGLOB  papersIRAN  \\\n",
       "2       n/a                        n/a          4           8   \n",
       "3        19  Portland State University          8          10   \n",
       "5     18.04                       شريف          4           4   \n",
       "6       n/a                        n/a          0           0   \n",
       "7       n/a                        n/a          0           0   \n",
       "\n",
       "                                              rejUni  year  \n",
       "2                                                n/a  2007  \n",
       "3                          UC Berkeley, Georgia Tech  2010  \n",
       "5  Virginia Tech, INSEAD, MIT Sloan,Cornegie Mell...  2008  \n",
       "6            UC Berkeley, UC Davis, Carneigie Mellon  2008  \n",
       "7                                           Chalmers  2008  \n",
       "\n",
       "[5 rows x 21 columns]"
      ]
     },
     "execution_count": 2,
     "metadata": {},
     "output_type": "execute_result"
    }
   ],
   "source": [
    "df = pd.read_json('../Data2.json')\n",
    "df.sort_index(inplace=True)\n",
    "df.head(5)"
   ]
  },
  {
   "cell_type": "code",
   "execution_count": 3,
   "metadata": {
    "collapsed": false
   },
   "outputs": [
    {
     "data": {
      "text/plain": [
       "0     2242\n",
       "1      484\n",
       "2      299\n",
       "3      175\n",
       "4      104\n",
       "5       69\n",
       "6       24\n",
       "7       31\n",
       "8       26\n",
       "9       10\n",
       "10      22\n",
       "11       5\n",
       "12       8\n",
       "13       3\n",
       "14       3\n",
       "15       7\n",
       "17       1\n",
       "18       2\n",
       "19       1\n",
       "20       4\n",
       "21       2\n",
       "25       1\n",
       "27       1\n",
       "30       1\n",
       "54       1\n",
       "Name: papersIRAN, dtype: int64"
      ]
     },
     "execution_count": 3,
     "metadata": {},
     "output_type": "execute_result"
    }
   ],
   "source": [
    "df['papersIRAN'].value_counts().sort_index()"
   ]
  },
  {
   "cell_type": "code",
   "execution_count": 4,
   "metadata": {
    "collapsed": false
   },
   "outputs": [
    {
     "data": {
      "text/plain": [
       "Doctorate    12\n",
       "Masters       2\n",
       "Name: apDegree, dtype: int64"
      ]
     },
     "execution_count": 4,
     "metadata": {},
     "output_type": "execute_result"
    }
   ],
   "source": [
    "df[df['papersIRAN']>15]['apDegree'].value_counts()"
   ]
  },
  {
   "cell_type": "code",
   "execution_count": 5,
   "metadata": {
    "collapsed": false
   },
   "outputs": [
    {
     "data": {
      "text/plain": [
       "0     1880\n",
       "1      519\n",
       "2      338\n",
       "3      263\n",
       "4      155\n",
       "5      104\n",
       "6       68\n",
       "7       51\n",
       "8       31\n",
       "9       17\n",
       "10      26\n",
       "11       9\n",
       "12      13\n",
       "13       4\n",
       "14       8\n",
       "15       7\n",
       "16       5\n",
       "17       5\n",
       "18       3\n",
       "19       2\n",
       "20       4\n",
       "23       3\n",
       "24       1\n",
       "25       1\n",
       "26       1\n",
       "27       1\n",
       "30       3\n",
       "32       2\n",
       "39       1\n",
       "43       1\n",
       "Name: papersGLOB, dtype: int64"
      ]
     },
     "execution_count": 5,
     "metadata": {},
     "output_type": "execute_result"
    }
   ],
   "source": [
    "df['papersGLOB'].value_counts().sort_index()"
   ]
  },
  {
   "cell_type": "code",
   "execution_count": 6,
   "metadata": {
    "collapsed": false
   },
   "outputs": [
    {
     "data": {
      "text/plain": [
       "Doctorate    67\n",
       "Masters       7\n",
       "Name: apDegree, dtype: int64"
      ]
     },
     "execution_count": 6,
     "metadata": {},
     "output_type": "execute_result"
    }
   ],
   "source": [
    "df[df['papersGLOB']>10]['apDegree'].value_counts()"
   ]
  },
  {
   "cell_type": "markdown",
   "metadata": {},
   "source": [
    "# Don't Have Any Paper"
   ]
  },
  {
   "cell_type": "code",
   "execution_count": 10,
   "metadata": {
    "collapsed": false
   },
   "outputs": [
    {
     "data": {
      "text/plain": [
       "Masters      1147\n",
       "Doctorate     345\n",
       "Name: apDegree, dtype: int64"
      ]
     },
     "execution_count": 10,
     "metadata": {},
     "output_type": "execute_result"
    }
   ],
   "source": [
    "na=df[(df['papersGLOB']==0) & (df['papersIRAN']==0)]['apDegree'].value_counts()\n",
    "na"
   ]
  },
  {
   "cell_type": "code",
   "execution_count": 11,
   "metadata": {
    "collapsed": false
   },
   "outputs": [
    {
     "data": {
      "image/png": "[encoded data removed]",
      "text/plain": [
       "<matplotlib.figure.Figure at 0x99e0e80>"
      ]
     },
     "metadata": {},
     "output_type": "display_data"
    }
   ],
   "source": [
    "pd.Series((na.Masters,df[df.apDegree=='Masters'].count()[0]-na.Masters),index=['No Paper','With Papers']).plot(autopct='%1.1f%%',kind='pie')\n",
    "plt.title('Masters Paper')\n",
    "plt.show()"
   ]
  },
  {
   "cell_type": "code",
   "execution_count": 12,
   "metadata": {
    "collapsed": false
   },
   "outputs": [
    {
     "data": {
      "image/png": "[encoded data removed]",
      "text/plain": [
       "<matplotlib.figure.Figure at 0x9922438>"
      ]
     },
     "metadata": {},
     "output_type": "display_data"
    }
   ],
   "source": [
    "pd.Series((na.Doctorate,df[df.apDegree=='Doctorate'].count()[0]-na.Doctorate),index=['No Paper','With Papers']).plot(autopct='%1.1f%%',kind='pie')\n",
    "plt.title('Doctorate Paper')\n",
    "plt.show()"
   ]
  },
  {
   "cell_type": "code",
   "execution_count": 14,
   "metadata": {
    "collapsed": false
   },
   "outputs": [
    {
     "data": {
      "text/plain": [
       "count    3526.000000\n",
       "mean        2.760068\n",
       "std         4.594755\n",
       "min         0.000000\n",
       "25%         0.000000\n",
       "50%         1.000000\n",
       "75%         4.000000\n",
       "max        56.000000\n",
       "dtype: float64"
      ]
     },
     "execution_count": 14,
     "metadata": {},
     "output_type": "execute_result"
    }
   ],
   "source": [
    "(df.papersGLOB+df.papersIRAN).describe()"
   ]
  },
  {
   "cell_type": "code",
   "execution_count": null,
   "metadata": {
    "collapsed": true
   },
   "outputs": [],
   "source": []
  }
 ],
 "metadata": {
  "kernelspec": {
   "display_name": "Python 2",
   "language": "python",
   "name": "python2"
  },
  "language_info": {
   "codemirror_mode": {
    "name": "ipython",
    "version": 2
   },
   "file_extension": ".py",
   "mimetype": "text/x-python",
   "name": "python",
   "nbconvert_exporter": "python",
   "pygments_lexer": "ipython2",
   "version": "2.7.13"
  }
 },
 "nbformat": 4,
 "nbformat_minor": 2
}

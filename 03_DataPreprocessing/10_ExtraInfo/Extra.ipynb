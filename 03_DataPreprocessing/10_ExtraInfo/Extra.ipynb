{
 "cells": [
  {
   "cell_type": "code",
   "execution_count": 5,
   "metadata": {
    "collapsed": true
   },
   "outputs": [],
   "source": [
    "import numpy as np\n",
    "import matplotlib.pyplot as plt\n",
    "import pandas as pd"
   ]
  },
  {
   "cell_type": "code",
   "execution_count": 6,
   "metadata": {
    "collapsed": false
   },
   "outputs": [
    {
     "data": {
      "text/html": [
       "<div>\n",
       "<table border=\"1\" class=\"dataframe\">\n",
       "  <thead>\n",
       "    <tr style=\"text-align: right;\">\n",
       "      <th></th>\n",
       "      <th>accUni</th>\n",
       "      <th>apDegree</th>\n",
       "      <th>apUni</th>\n",
       "      <th>bachelorsAvg</th>\n",
       "      <th>bachelorsUni</th>\n",
       "      <th>country</th>\n",
       "      <th>engExamAnlt</th>\n",
       "      <th>engExamQuan</th>\n",
       "      <th>engExamResult</th>\n",
       "      <th>engExamType</th>\n",
       "      <th>...</th>\n",
       "      <th>extra</th>\n",
       "      <th>field</th>\n",
       "      <th>fund</th>\n",
       "      <th>fundType</th>\n",
       "      <th>masterAvg</th>\n",
       "      <th>masterUni</th>\n",
       "      <th>papersGLOB</th>\n",
       "      <th>papersIRAN</th>\n",
       "      <th>rejUni</th>\n",
       "      <th>year</th>\n",
       "    </tr>\n",
       "  </thead>\n",
       "  <tbody>\n",
       "    <tr>\n",
       "      <th>2</th>\n",
       "      <td>n/a</td>\n",
       "      <td>Doctorate</td>\n",
       "      <td>Heriot Watt University, Edinburgh</td>\n",
       "      <td>17.74</td>\n",
       "      <td>آزاد اسلامی امیدیه</td>\n",
       "      <td>انگلستان</td>\n",
       "      <td>n/a</td>\n",
       "      <td>n/a</td>\n",
       "      <td>n/a</td>\n",
       "      <td>n/a</td>\n",
       "      <td>...</td>\n",
       "      <td>Award is in GBP.The amount is for living stipe...</td>\n",
       "      <td>Petroleum Engineering</td>\n",
       "      <td>12600</td>\n",
       "      <td>Award</td>\n",
       "      <td>n/a</td>\n",
       "      <td>n/a</td>\n",
       "      <td>4</td>\n",
       "      <td>8</td>\n",
       "      <td>n/a</td>\n",
       "      <td>2007</td>\n",
       "    </tr>\n",
       "    <tr>\n",
       "      <th>3</th>\n",
       "      <td>EPFL Switzerland, Northwestern</td>\n",
       "      <td>Doctorate</td>\n",
       "      <td>Northwestern</td>\n",
       "      <td>15.70</td>\n",
       "      <td>فردوسی مشهد</td>\n",
       "      <td>آمریکا</td>\n",
       "      <td>3</td>\n",
       "      <td>760</td>\n",
       "      <td>100</td>\n",
       "      <td>iBT</td>\n",
       "      <td>...</td>\n",
       "      <td>سال 2008 اومدم آمریکا و دو سال master رو در دا...</td>\n",
       "      <td>Civil Engineering / Transportation</td>\n",
       "      <td>63000</td>\n",
       "      <td>RA</td>\n",
       "      <td>19</td>\n",
       "      <td>Portland State University</td>\n",
       "      <td>8</td>\n",
       "      <td>10</td>\n",
       "      <td>UC Berkeley, Georgia Tech</td>\n",
       "      <td>2010</td>\n",
       "    </tr>\n",
       "  </tbody>\n",
       "</table>\n",
       "<p>2 rows × 21 columns</p>\n",
       "</div>"
      ],
      "text/plain": [
       "                           accUni   apDegree  \\\n",
       "2                             n/a  Doctorate   \n",
       "3  EPFL Switzerland, Northwestern  Doctorate   \n",
       "\n",
       "                               apUni  bachelorsAvg        bachelorsUni  \\\n",
       "2  Heriot Watt University, Edinburgh         17.74  آزاد اسلامی امیدیه   \n",
       "3                       Northwestern         15.70         فردوسی مشهد   \n",
       "\n",
       "    country engExamAnlt engExamQuan engExamResult engExamType  ...   \\\n",
       "2  انگلستان         n/a         n/a           n/a         n/a  ...    \n",
       "3    آمریکا           3         760           100         iBT  ...    \n",
       "\n",
       "                                               extra  \\\n",
       "2  Award is in GBP.The amount is for living stipe...   \n",
       "3  سال 2008 اومدم آمریکا و دو سال master رو در دا...   \n",
       "\n",
       "                                field   fund  fundType masterAvg  \\\n",
       "2               Petroleum Engineering  12600     Award       n/a   \n",
       "3  Civil Engineering / Transportation  63000        RA        19   \n",
       "\n",
       "                   masterUni papersGLOB  papersIRAN  \\\n",
       "2                        n/a          4           8   \n",
       "3  Portland State University          8          10   \n",
       "\n",
       "                      rejUni  year  \n",
       "2                        n/a  2007  \n",
       "3  UC Berkeley, Georgia Tech  2010  \n",
       "\n",
       "[2 rows x 21 columns]"
      ]
     },
     "execution_count": 6,
     "metadata": {},
     "output_type": "execute_result"
    }
   ],
   "source": [
    "df = pd.read_json('../Data2.json')\n",
    "df.sort_index(inplace=True)\n",
    "df.head(2)"
   ]
  },
  {
   "cell_type": "code",
   "execution_count": 8,
   "metadata": {
    "collapsed": false
   },
   "outputs": [
    {
     "data": {
      "text/plain": [
       "n/a                                                                                                                                                                                                                                                                                                                                                 1670\n",
       "محل دریافت روادید: تهران                                                                                                                                                                                                                                                                                                                             544\n",
       "محل دریافت روادید: آنکارا                                                                                                                                                                                                                                                                                                                             97\n",
       "محل دریافت روادید: دوبی clearance (روز): 0                                                                                                                                                                                                                                                                                                            57\n",
       "محل دریافت روادید: آنکارا clearance (روز): 0                                                                                                                                                                                                                                                                                                          42\n",
       "محل دریافت روادید: استانبول                                                                                                                                                                                                                                                                                                                           32\n",
       "محل دریافت روادید: سایر کشورهای آسیایی clearance (روز): 0                                                                                                                                                                                                                                                                                             25\n",
       "محل دریافت روادید: دوبی                                                                                                                                                                                                                                                                                                                               21\n",
       "محل دریافت روادید: سایر کشورهای آسیایی                                                                                                                                                                                                                                                                                                                16\n",
       "محل دریافت روادید: سایر کشورها                                                                                                                                                                                                                                                                                                                        15\n",
       "محل دریافت روادید: سایر کشورهای اروپایی                                                                                                                                                                                                                                                                                                               12\n",
       "محل دریافت روادید: سایر کشورها clearance (روز): 0                                                                                                                                                                                                                                                                                                     12\n",
       "محل دریافت روادید: باکو clearance (روز): 0                                                                                                                                                                                                                                                                                                            10\n",
       "محل دریافت روادید: قبرس clearance (روز): 0                                                                                                                                                                                                                                                                                                            10\n",
       "محل دریافت روادید: ابوظبی                                                                                                                                                                                                                                                                                                                              8\n",
       "محل دریافت روادید: آنکارا clearance (روز): 20                                                                                                                                                                                                                                                                                                          7\n",
       "محل دریافت روادید: دوبی clearance (روز): 33                                                                                                                                                                                                                                                                                                            5\n",
       "محل دریافت روادید: استانبول clearance (روز): 0                                                                                                                                                                                                                                                                                                         5\n",
       "عشق آباد                                                                                                                                                                                                                                                                                                                                               5\n",
       "محل دریافت روادید: دوبی clearance (روز): 30                                                                                                                                                                                                                                                                                                            5\n",
       "محل دریافت روادید: دوبی clearance (روز): 50                                                                                                                                                                                                                                                                                                            4\n",
       "محل دریافت روادید: دوبی clearance (روز): 20                                                                                                                                                                                                                                                                                                            4\n",
       "محل دریافت روادید: تهران clearance (روز): 0                                                                                                                                                                                                                                                                                                            4\n",
       "-                                                                                                                                                                                                                                                                                                                                                      4\n",
       "محل دریافت روادید: دوبی clearance (روز): 40                                                                                                                                                                                                                                                                                                            4\n",
       "محل دریافت روادید: سایر کشورهای اروپایی clearance (روز): 0                                                                                                                                                                                                                                                                                             4\n",
       "محل دریافت روادید: آنکارا clearance (روز): 45                                                                                                                                                                                                                                                                                                          3\n",
       "محل دریافت روادید: آنکارا clearance (روز): 22                                                                                                                                                                                                                                                                                                          3\n",
       "محل دریافت روادید: دوبی clearance (روز): 25                                                                                                                                                                                                                                                                                                            3\n",
       "محل دریافت روادید: سایر کشورهای آسیایی clearance (روز): 21                                                                                                                                                                                                                                                                                             3\n",
       "                                                                                                                                                                                                                                                                                                                                                    ... \n",
       "بهترین دانشجوی کارشناسی دانشگاه در سال 93                                                                                                                                                                                                                                                                                                              1\n",
       "....                                                                                                                                                                                                                                                                                                                                                   1\n",
       "ویزای بنده گرین کارت است و نیازی به فاند نداشته ام                                                                                                                                                                                                                                                                                                     1\n",
       ".                                                                                                                                                                                                                                                                                                                                                      1\n",
       "I was in the funding waitlist at UB, but I decline the offer before they state their final desision                                                                                                                                                                                                                                                    1\n",
       "محل دریافت روادید: سایر کشورها clearance (روز): 2                                                                                                                                                                                                                                                                                                      1\n",
       "محل گرفتن ويزا: ايروان                                                                                                                                                                                                                                                                                                                                 1\n",
       "یکبار ریکلر شدم. یکبار دیفر کردم.                                                                                                                                                                                                                                                                                                                      1\n",
       "بدون فاند                                                                                                                                                                                                                                                                                                                                              1\n",
       "پروژه ام خیلی تاثیر داشت چون پروژه ای بود که استادم 10 سال روش کار کرده+ ساپورت استادم                                                                                                                                                                                                                                                                 1\n",
       "فقط تلاش تلاش ، تمرکز بر هدف ، تحقیق از رشته و دانشگاه قبل از هر اقدام دیگر                                                                                                                                                                                                                                                                            1\n",
       "Emaro بورس نشدم فقط تخفیف دادند . مقاله مربوط به یکی از ژورنال های springer بود                                                                                                                                                                                                                                                                        1\n",
       "Fall 2012 Semester: Bachelor in Architecture from Istanbul Technical University &amp;amp; Middle East Technical University in Turkey                                                                                                                                                                                                                   1\n",
       "محل سفارت: ایروان                                                                                                                                                                                                                                                                                                                                      1\n",
       "دانشگاه يورك ١٠ هزار دلار روى شهريه بورس داد                                                                                                                                                                                                                                                                                                           1\n",
       "Haven been cleared after 8momths now!                                                                                                                                                                                                                                                                                                                  1\n",
       "محل دریافت روادید: آنکارا clearance (روز): 60                                                                                                                                                                                                                                                                                                          1\n",
       "Marie Curie Early Stage researcher                                                                                                                                                                                                                                                                                                                     1\n",
       "18 تا مقاله خیلی خیلی معتبر خارجی در ژورنالهای خیلی قوی در رشته خودم. بعلاوه حدود 4-5 تا هم مقاله کنفرانسی تو کنفرانسهای خوب آمریکا داشتم. به نظرم اینها بیشترین کمک رو بمن کردند واسه این پذیرش ها. از همه دانشگاههای بالا فلوشیپ گرفتم که کاملا همه چی رو کاور می کنه. از استنفورد و جرجیا تک هم RA کامل دارم. با آرزوی موفقیت برای همه دوستان       1\n",
       "محل دریافت روادید: آنکارا clearance (روز): 65                                                                                                                                                                                                                                                                                                          1\n",
       "محل دریافت روادید: آنکارا clearance (روز): 66                                                                                                                                                                                                                                                                                                          1\n",
       "تعداد دانشگاه های رد شده بسیار بیشتر از این لیستی هست که نوشتم. اکثر دانشگاه های بریتانیا و استرالیا و نیوزلند رو اقدام کردم.                                                                                                                                                                                                                          1\n",
       "www.linkedin.com/in/hajiesmaili                                                                                                                                                                                                                                                                                                                        1\n",
       "تنها نکته مثبت اپلیکیشن من، داشتن مقاله خوب(حاصل 3-4 سال کار) در JMLR است (که البته مرتبط به علایق استاد مربوطه است).                                                                                                                                                                                                                                  1\n",
       "دلیل اصلی ریجکت ها، عدم موفقیت در پیدا کردن سوپروایزر بوده است.                                                                                                                                                                                                                                                                                        1\n",
       "Tuition waiver + $2000 stipend per month                                                                                                                                                                                                                                                                                                               1\n",
       "GRE=1100,Visa: Yeravan, Multiple                                                                                                                                                                                                                                                                                                                       1\n",
       "کشور ویزا : تاشکند (ازبکستان)                                                                                                                                                                                                                                                                                                                          1\n",
       "محل دریافت روادید: دوبی clearance (روز): 54                                                                                                                                                                                                                                                                                                            1\n",
       "Fully funded : 26000$ stipend+tuition fee+insurance                                                                                                                                                                                                                                                                                                    1\n",
       "Name: extra, dtype: int64"
      ]
     },
     "execution_count": 8,
     "metadata": {},
     "output_type": "execute_result"
    }
   ],
   "source": [
    "df['extra'].value_counts()"
   ]
  },
  {
   "cell_type": "code",
   "execution_count": 7,
   "metadata": {
    "collapsed": false
   },
   "outputs": [
    {
     "data": {
      "text/plain": [
       "872"
      ]
     },
     "execution_count": 7,
     "metadata": {},
     "output_type": "execute_result"
    }
   ],
   "source": [
    "df['extra'].value_counts().count()"
   ]
  },
  {
   "cell_type": "code",
   "execution_count": null,
   "metadata": {
    "collapsed": true
   },
   "outputs": [],
   "source": []
  }
 ],
 "metadata": {
  "kernelspec": {
   "display_name": "Python 2",
   "language": "python",
   "name": "python2"
  },
  "language_info": {
   "codemirror_mode": {
    "name": "ipython",
    "version": 2
   },
   "file_extension": ".py",
   "mimetype": "text/x-python",
   "name": "python",
   "nbconvert_exporter": "python",
   "pygments_lexer": "ipython2",
   "version": "2.7.13"
  }
 },
 "nbformat": 4,
 "nbformat_minor": 2
}

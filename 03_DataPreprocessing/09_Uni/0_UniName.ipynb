{
 "cells": [
  {
   "cell_type": "code",
   "execution_count": 1,
   "metadata": {
    "collapsed": true
   },
   "outputs": [],
   "source": [
    "import numpy as np\n",
    "import matplotlib.pyplot as plt\n",
    "import pandas as pd"
   ]
  },
  {
   "cell_type": "code",
   "execution_count": 2,
   "metadata": {
    "collapsed": false
   },
   "outputs": [],
   "source": [
    "df = pd.read_json('../Data2.json')\n",
    "df.sort_index(inplace=True)"
   ]
  },
  {
   "cell_type": "markdown",
   "metadata": {},
   "source": [
    "دانشگاه‌های پذیرفته شده: accUni\n",
    "\n",
    "دانشگاه انتخاب شده:apUni"
   ]
  },
  {
   "cell_type": "markdown",
   "metadata": {},
   "source": [
    "# accUni"
   ]
  },
  {
   "cell_type": "code",
   "execution_count": 3,
   "metadata": {
    "collapsed": false
   },
   "outputs": [
    {
     "data": {
      "text/plain": [
       "2505"
      ]
     },
     "execution_count": 3,
     "metadata": {},
     "output_type": "execute_result"
    }
   ],
   "source": [
    "df['accUni'].value_counts().count()"
   ]
  },
  {
   "cell_type": "markdown",
   "metadata": {},
   "source": [
    "** We have 2505 type of Universities in our data :)**"
   ]
  },
  {
   "cell_type": "code",
   "execution_count": 4,
   "metadata": {
    "collapsed": false
   },
   "outputs": [
    {
     "data": {
      "text/plain": [
       "2403"
      ]
     },
     "execution_count": 4,
     "metadata": {},
     "output_type": "execute_result"
    }
   ],
   "source": [
    "df['accUni']=df['accUni'].str.lower()\n",
    "df['accUni'].value_counts().count()"
   ]
  },
  {
   "cell_type": "code",
   "execution_count": 5,
   "metadata": {
    "collapsed": false
   },
   "outputs": [
    {
     "data": {
      "text/plain": [
       "False    2953\n",
       "True      573\n",
       "Name: accUni, dtype: int64"
      ]
     },
     "execution_count": 5,
     "metadata": {},
     "output_type": "execute_result"
    }
   ],
   "source": [
    "(df['accUni']=='n/a').value_counts()"
   ]
  },
  {
   "cell_type": "markdown",
   "metadata": {},
   "source": [
    "### 573 Missing Data in \"accUni\""
   ]
  },
  {
   "cell_type": "markdown",
   "metadata": {},
   "source": [
    "# apUni"
   ]
  },
  {
   "cell_type": "code",
   "execution_count": 6,
   "metadata": {
    "collapsed": false
   },
   "outputs": [
    {
     "data": {
      "text/plain": [
       "1607"
      ]
     },
     "execution_count": 6,
     "metadata": {},
     "output_type": "execute_result"
    }
   ],
   "source": [
    "df['apUni'].value_counts().count()"
   ]
  },
  {
   "cell_type": "code",
   "execution_count": 7,
   "metadata": {
    "collapsed": false
   },
   "outputs": [
    {
     "data": {
      "text/plain": [
       "1376"
      ]
     },
     "execution_count": 7,
     "metadata": {},
     "output_type": "execute_result"
    }
   ],
   "source": [
    "df['apUni']=df['apUni'].str.lower()\n",
    "df['apUni'].value_counts().count()"
   ]
  },
  {
   "cell_type": "code",
   "execution_count": 8,
   "metadata": {
    "collapsed": false
   },
   "outputs": [
    {
     "data": {
      "text/plain": [
       "n/a                                                   426\n",
       "politecnico di milano                                  46\n",
       "kth                                                    46\n",
       "university of alberta                                  32\n",
       "concordia                                              32\n",
       "utm                                                    27\n",
       "ubc                                                    26\n",
       "ntnu                                                   24\n",
       "unsw                                                   23\n",
       "concordia university                                   22\n",
       "politecnico di torino                                  22\n",
       "university of calgary                                  21\n",
       "rwth aachen                                            20\n",
       "mcgill                                                 19\n",
       "university of toronto                                  19\n",
       "chalmers                                               19\n",
       "alberta                                                19\n",
       "sfu                                                    18\n",
       "waterloo                                               18\n",
       "mcmaster                                               16\n",
       "virginia tech                                          16\n",
       "university of saskatchewan                             15\n",
       "university of manitoba                                 15\n",
       "university of houston                                  13\n",
       "university of victoria                                 13\n",
       "calgary                                                13\n",
       "university of waterloo                                 13\n",
       "upm                                                    13\n",
       "arizona state university                               12\n",
       "ncsu                                                   12\n",
       "                                                     ... \n",
       "university of leoben                                    1\n",
       "imperial college london                                 1\n",
       "university of texas                                     1\n",
       "karlsruher institut fur technologie                     1\n",
       "dalhousoie university                                   1\n",
       "universite de montreal                                  1\n",
       "mapua                                                   1\n",
       "state university of newyork at buffalo                  1\n",
       "university of oxford                                    1\n",
       "erasmus mundus master of bioethics                      1\n",
       "the university of auckland                              1\n",
       "academy of art san fransisco                            1\n",
       "university of washington-seattle                        1\n",
       "texas a.m                                               1\n",
       "georg-august university gottengin                       1\n",
       "university of queensland - uq                           1\n",
       "university of colorado-boulder                          1\n",
       "philadelphia university                                 1\n",
       "korea advanced institute of science and technology      1\n",
       "university of new orleans                               1\n",
       "jku                                                     1\n",
       "university of erlangen-nurnberg                         1\n",
       "toledo                                                  1\n",
       "university of massachusetts amherst                     1\n",
       "national university of singapore                        1\n",
       "gottingen                                               1\n",
       "ucr university of california, riverside                 1\n",
       "texas am univ                                           1\n",
       "la sapienza university of rome                          1\n",
       "u michigan - ann arbor                                  1\n",
       "Name: apUni, dtype: int64"
      ]
     },
     "execution_count": 8,
     "metadata": {},
     "output_type": "execute_result"
    }
   ],
   "source": [
    "df['apUni'].value_counts()"
   ]
  },
  {
   "cell_type": "markdown",
   "metadata": {},
   "source": [
    "### 426 Missing Data \"apUni\""
   ]
  },
  {
   "cell_type": "markdown",
   "metadata": {},
   "source": [
    "# bachelorsUni"
   ]
  },
  {
   "cell_type": "code",
   "execution_count": 9,
   "metadata": {
    "collapsed": false
   },
   "outputs": [
    {
     "data": {
      "text/plain": [
       "1367"
      ]
     },
     "execution_count": 9,
     "metadata": {},
     "output_type": "execute_result"
    }
   ],
   "source": [
    "df['bachelorsUni'].value_counts().count()"
   ]
  },
  {
   "cell_type": "code",
   "execution_count": 10,
   "metadata": {
    "collapsed": false
   },
   "outputs": [
    {
     "data": {
      "text/plain": [
       "1221"
      ]
     },
     "execution_count": 10,
     "metadata": {},
     "output_type": "execute_result"
    }
   ],
   "source": [
    "df['bachelorsUni']=df['bachelorsUni'].str.lower()\n",
    "df['bachelorsUni'].value_counts().count()"
   ]
  },
  {
   "cell_type": "code",
   "execution_count": 11,
   "metadata": {
    "collapsed": false
   },
   "outputs": [
    {
     "data": {
      "text/plain": [
       "تهران                                            112\n",
       "شریف                                              84\n",
       "azad                                              82\n",
       "university of tehran                              80\n",
       "علم و صنعت                                        76\n",
       "امیرکبیر                                          71\n",
       "صنعتی اصفهان                                      61\n",
       "amirkabir                                         46\n",
       "تبریز                                             45\n",
       "iust                                              45\n",
       "sharif                                            44\n",
       "شیراز                                             43\n",
       "فردوسی مشهد                                       41\n",
       "دانشگاه تهران                                     39\n",
       "sharif university of technology                   38\n",
       "خواجه نصیر                                        36\n",
       "shiraz university                                 32\n",
       "n/a                                               32\n",
       "صنعتی شریف                                        32\n",
       "صنعتی امیرکبیر                                    32\n",
       "شهید بهشتی                                        31\n",
       "university of tabriz                              29\n",
       "iau                                               29\n",
       "اصفهان                                            28\n",
       "azad university                                   28\n",
       "tehran                                            27\n",
       "islamic azad university                           26\n",
       "ferdowsi university of mashhad                    22\n",
       "shahid beheshti                                   20\n",
       "گیلان                                             17\n",
       "                                                ... \n",
       "elmo sanat                                         1\n",
       "ازاد رامسر                                         1\n",
       "private university                                 1\n",
       "دانشگاه تفرش (سراسري)                              1\n",
       "امیر کیبر                                          1\n",
       "غیرانتفاعی بهمنیار کرمان                           1\n",
       "azad of takestan                                   1\n",
       "islamic azad university of khorasgan(isfahan)      1\n",
       "shiraz u                                           1\n",
       "ازاد خرم اباد                                      1\n",
       "damqan azad university                             1\n",
       "art university of isfahan                          1\n",
       "موسسه آموزش عالی سجاد                              1\n",
       "امام حسين                                          1\n",
       "sadjad institute of higher ed                      1\n",
       "دانشگاه صنعتی امیرکبیر                             1\n",
       "جهرم                                               1\n",
       "مرکز تحصیلات تکمیلی در علوم پایه زنجان             1\n",
       "دانشگاه آزاد اسلامی تهران شمال                     1\n",
       "دانشگاه آزاد واحد تبریز                            1\n",
       "روزبه زنجان                                        1\n",
       "علامه                                              1\n",
       "منهدسی نرم افزار                                   1\n",
       "azad - tehran north                                1\n",
       "زاهدان                                             1\n",
       "azad uni - tehran medical branch                   1\n",
       "علم و صنعت ایران ( واحد اراک)                      1\n",
       "kharazmi university                                1\n",
       "راغب اصفهاني                                       1\n",
       "kar university                                     1\n",
       "Name: bachelorsUni, dtype: int64"
      ]
     },
     "execution_count": 11,
     "metadata": {},
     "output_type": "execute_result"
    }
   ],
   "source": [
    "df['bachelorsUni'].value_counts()"
   ]
  },
  {
   "cell_type": "markdown",
   "metadata": {},
   "source": [
    "### 32 Missing Data in \"bachelorsUni\""
   ]
  },
  {
   "cell_type": "code",
   "execution_count": 12,
   "metadata": {
    "collapsed": false
   },
   "outputs": [
    {
     "data": {
      "text/plain": [
       "688"
      ]
     },
     "execution_count": 12,
     "metadata": {},
     "output_type": "execute_result"
    }
   ],
   "source": [
    "df['masterUni'].value_counts().count()"
   ]
  },
  {
   "cell_type": "code",
   "execution_count": 13,
   "metadata": {
    "collapsed": false
   },
   "outputs": [
    {
     "data": {
      "text/plain": [
       "638"
      ]
     },
     "execution_count": 13,
     "metadata": {},
     "output_type": "execute_result"
    }
   ],
   "source": [
    "df['masterUni']=df['masterUni'].str.lower()\n",
    "df['masterUni'].value_counts().count()"
   ]
  },
  {
   "cell_type": "code",
   "execution_count": 14,
   "metadata": {
    "collapsed": false
   },
   "outputs": [
    {
     "data": {
      "text/plain": [
       "n/a                                                 1712\n",
       "تهران                                                124\n",
       "شریف                                                  77\n",
       "university of tehran                                  61\n",
       "امیرکبیر                                              57\n",
       "علم و صنعت                                            43\n",
       "صنعتی شریف                                            42\n",
       "sharif                                                40\n",
       "iust                                                  40\n",
       "دانشگاه تهران                                         32\n",
       "tehran                                                27\n",
       "تربیت مدرس                                            25\n",
       "شهید بهشتی                                            25\n",
       "amirkabir                                             23\n",
       "sharif university of technology                       21\n",
       "خواجه نصیر                                            21\n",
       "صنعتی امیرکبیر                                        21\n",
       "صنعتی اصفهان                                          19\n",
       "azad                                                  18\n",
       "amirkabir university of technology                    16\n",
       "شیراز                                                 14\n",
       "علامه طباطبایی                                        14\n",
       "kntu                                                  13\n",
       "tarbiat modares                                       12\n",
       "shiraz university                                     11\n",
       "ferdowsi university of mashhad                        11\n",
       "فردوسی مشهد                                           11\n",
       "utm                                                   11\n",
       "tarbiat modares university                            10\n",
       "تبریز                                                 10\n",
       "                                                    ... \n",
       "خاتم                                                   1\n",
       "rhode island                                           1\n",
       "iran university of science &amp;amp; tech              1\n",
       "universtiy of isfahan                                  1\n",
       "k.n toosi univesrity of technology                     1\n",
       "azad-science and research                              1\n",
       "غیرانتفائی                                             1\n",
       "علوم پزشکی مازندران                                    1\n",
       "tu delft                                               1\n",
       "دانشگاه هنر تهران                                      1\n",
       "isfahan univ. of tech                                  1\n",
       "sharif uni. of tech                                    1\n",
       "ُرجایی                                                 1\n",
       "amirkabir university of technology (polytechnic)       1\n",
       "يزد                                                    1\n",
       "ازاد اسلامی واحد زنجان                                 1\n",
       "university                                             1\n",
       "iau-varamin                                            1\n",
       "علوم و تحقيقات                                         1\n",
       "university of akron                                    1\n",
       "فنی تهران                                              1\n",
       "شهیدبهشتی                                              1\n",
       "iran univ of sci&amp;amp; tech                         1\n",
       "azad saveh                                             1\n",
       "university of semnan                                   1\n",
       "مجازی شیراز                                            1\n",
       "kiev technical university                              1\n",
       "azad zanjan                                            1\n",
       "tabrizu                                                1\n",
       "دانشگاه شریعتی                                         1\n",
       "Name: masterUni, dtype: int64"
      ]
     },
     "execution_count": 14,
     "metadata": {},
     "output_type": "execute_result"
    }
   ],
   "source": [
    "df['masterUni'].value_counts()"
   ]
  },
  {
   "cell_type": "markdown",
   "metadata": {},
   "source": [
    "** 1712 Empty values. Does who want to apply for masters probably don't have MasterUni**"
   ]
  },
  {
   "cell_type": "code",
   "execution_count": 15,
   "metadata": {
    "collapsed": false
   },
   "outputs": [
    {
     "data": {
      "text/plain": [
       "n/a    167\n",
       "Name: masterUni, dtype: int64"
      ]
     },
     "execution_count": 15,
     "metadata": {},
     "output_type": "execute_result"
    }
   ],
   "source": [
    "df[(df['apDegree']=='Doctorate') & (df['masterUni']=='n/a')]['masterUni'].value_counts()"
   ]
  },
  {
   "cell_type": "markdown",
   "metadata": {},
   "source": [
    "** Only 167 of people who want to apply for Doctorate don't have masterUni**"
   ]
  },
  {
   "cell_type": "markdown",
   "metadata": {},
   "source": [
    "# rejUni"
   ]
  },
  {
   "cell_type": "code",
   "execution_count": 16,
   "metadata": {
    "collapsed": false
   },
   "outputs": [
    {
     "data": {
      "text/plain": [
       "1259"
      ]
     },
     "execution_count": 16,
     "metadata": {},
     "output_type": "execute_result"
    }
   ],
   "source": [
    "df['rejUni'].value_counts().count()"
   ]
  },
  {
   "cell_type": "code",
   "execution_count": 17,
   "metadata": {
    "collapsed": false
   },
   "outputs": [
    {
     "data": {
      "text/plain": [
       "1225"
      ]
     },
     "execution_count": 17,
     "metadata": {},
     "output_type": "execute_result"
    }
   ],
   "source": [
    "df['rejUni']=df['rejUni'].str.lower()\n",
    "df['rejUni'].replace([r'\\-+','','none'],'n/a',regex=True,inplace=True)\n",
    "df['rejUni'].value_counts().count()"
   ]
  },
  {
   "cell_type": "code",
   "execution_count": 18,
   "metadata": {
    "collapsed": false
   },
   "outputs": [
    {
     "data": {
      "text/plain": [
       "n/a                                                                                                                              2196\n",
       "epfl                                                                                                                               10\n",
       "ntnu                                                                                                                                8\n",
       "cornell                                                                                                                             5\n",
       "chalmers                                                                                                                            4\n",
       "university of waterloo                                                                                                              4\n",
       "university of helsinki                                                                                                              4\n",
       "university of alberta                                                                                                               4\n",
       "saarland                                                                                                                            4\n",
       "mit                                                                                                                                 4\n",
       "waterloo                                                                                                                            4\n",
       "mcgill                                                                                                                              4\n",
       "delft                                                                                                                               3\n",
       "north carolina                                                                                                                      3\n",
       "university of british columbia                                                                                                      3\n",
       "sydney                                                                                                                              3\n",
       "toronto                                                                                                                             3\n",
       "stanford                                                                                                                            3\n",
       "politecnico di milano                                                                                                               3\n",
       "oregon state university                                                                                                             3\n",
       "rwth aachen                                                                                                                         3\n",
       "uwa                                                                                                                                 2\n",
       "carlton                                                                                                                             2\n",
       "northwestern                                                                                                                        2\n",
       "upm                                                                                                                                 2\n",
       "western ontario                                                                                                                     2\n",
       "concordia                                                                                                                           2\n",
       "ohio university                                                                                                                     2\n",
       "msu                                                                                                                                 2\n",
       "university of calgary                                                                                                               2\n",
       "                                                                                                                                 ... \n",
       "university of stutgart, twente, chalmers, kth, boras, malardalen, helsinki, oulu, tut, polimi, technical university of munikh       1\n",
       "uic                                                                                                                                 1\n",
       "deakin, rmit, unisa                                                                                                                 1\n",
       "univ. of tokyo (shortn/alisted), ntu, ttu, missouri s&amp;amp;t                                                                     1\n",
       "slu                                                                                                                                 1\n",
       "drexel university                                                                                                                   1\n",
       "alberta (geotech and mining), u of toronto, queens, vt, u of kentucky                                                               1\n",
       "university of copenhagen                                                                                                            1\n",
       "rpi, northwestern                                                                                                                   1\n",
       "warwick, manchester                                                                                                                 1\n",
       "virginia poly tech., u of washington, worcester polytech., nebraska lincoln                                                         1\n",
       "rochestern/akentn/amax planck                                                                                                       1\n",
       "purdue, illinois urban champ.                                                                                                       1\n",
       "wterloon/atoronton/apurdue                                                                                                          1\n",
       "ucsd, boston university, asu, u of washington seattle , vanderbilt university, cmu                                                  1\n",
       ", ou, bu,vt, uaa (only clinical psy program among the others), unive of ark                                                         1\n",
       "university of texas at austin, rice university                                                                                      1\n",
       "epfln/a delft                                                                                                                       1\n",
       "ucla, uci, ucr, john hopkins, upenn, utah,mcgill, waterloo                                                                          1\n",
       "eth/university of twente/ university of windsor/lehigh university                                                                   1\n",
       "university of delaware, university of california irvine, university of tennisee                                                     1\n",
       "delaware,rensselaer,                                                                                                                1\n",
       "usc u brown uc santa cruz                                                                                                           1\n",
       "nevada, arizona, penstate, south dakota, virginia, west virginia, all around europe and austarlia                                   1\n",
       "northeastern university, dartmouth college, boston university, purdue                                                               1\n",
       "windsor, university of arizona, university of louisiana at lafayette                                                                1\n",
       "university of tennessee, ncsu, university of kentucky                                                                               1\n",
       "mcgill,ubc,mcmaster                                                                                                                 1\n",
       "imperial college of london ? ucl                                                                                                    1\n",
       "chalmers , kth , boras                                                                                                              1\n",
       "Name: rejUni, dtype: int64"
      ]
     },
     "execution_count": 18,
     "metadata": {},
     "output_type": "execute_result"
    }
   ],
   "source": [
    "df['rejUni'].value_counts()"
   ]
  },
  {
   "cell_type": "markdown",
   "metadata": {},
   "source": [
    "** 2190 N/A Data for Rejected Universities**"
   ]
  },
  {
   "cell_type": "code",
   "execution_count": 19,
   "metadata": {
    "collapsed": true
   },
   "outputs": [],
   "source": [
    "df.to_json('Fix1.json',date_format='utf8')"
   ]
  }
 ],
 "metadata": {
  "kernelspec": {
   "display_name": "Python 2",
   "language": "python",
   "name": "python2"
  },
  "language_info": {
   "codemirror_mode": {
    "name": "ipython",
    "version": 2
   },
   "file_extension": ".py",
   "mimetype": "text/x-python",
   "name": "python",
   "nbconvert_exporter": "python",
   "pygments_lexer": "ipython2",
   "version": "2.7.13"
  }
 },
 "nbformat": 4,
 "nbformat_minor": 2
}

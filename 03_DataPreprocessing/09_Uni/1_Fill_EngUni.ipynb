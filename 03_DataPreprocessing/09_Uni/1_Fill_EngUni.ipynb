{
 "cells": [
  {
   "cell_type": "code",
   "execution_count": 1,
   "metadata": {
    "collapsed": true
   },
   "outputs": [],
   "source": [
    "import numpy as np\n",
    "import matplotlib.pyplot as plt\n",
    "import pandas as pd\n",
    "import difflib"
   ]
  },
  {
   "cell_type": "code",
   "execution_count": 2,
   "metadata": {
    "collapsed": true
   },
   "outputs": [],
   "source": [
    "df = pd.read_json('Fix1.json')\n",
    "df.sort_index(inplace=True)"
   ]
  },
  {
   "cell_type": "code",
   "execution_count": 3,
   "metadata": {
    "collapsed": false
   },
   "outputs": [],
   "source": [
    "# دانشگاه‌های پذیرفته شده: accUni\n",
    "# دانشگاه انتخاب شده:apUni\n",
    "# Renaming : Cause it is not clear\n",
    "# + Make them a same style!\n",
    "df.rename(columns={\"apUni\": 'uniSelected', 'accUni': 'uniAccepted','rejUni':'uniRejected','masterUni':'uniMasters','bachelorsUni':'uniBachelors'}, inplace=True)\n",
    "df.to_json('Data_Uni.json',date_format='utf8')"
   ]
  },
  {
   "cell_type": "code",
   "execution_count": 4,
   "metadata": {
    "collapsed": false
   },
   "outputs": [],
   "source": [
    "col=['uniSelected','uniMasters','uniBachelors']\n",
    "for c in col:\n",
    "    df[c].replace(r'\\-+','n/a',inplace=True,regex=True)\n",
    "col.append('uniAccepted')\n",
    "col.append('uniRejected')\n",
    "for c in col:\n",
    "    df[c].replace(r'\\-+','n/a',inplace=True,regex=True)\n",
    "    for i in df.index:\n",
    "        df.set_value(i, c, df.ix[i][c].replace('u of','').replace('university of','')\n",
    "                     .replace('uni of','').replace('university','').replace('uni ','')\n",
    "                     .replace('universidad de','').replace('universidad','').strip())"
   ]
  },
  {
   "cell_type": "markdown",
   "metadata": {},
   "source": [
    "# Preparing 9k Uni name "
   ]
  },
  {
   "cell_type": "code",
   "execution_count": 5,
   "metadata": {
    "collapsed": false
   },
   "outputs": [
    {
     "data": {
      "text/html": [
       "<div>\n",
       "<table border=\"1\" class=\"dataframe\">\n",
       "  <thead>\n",
       "    <tr style=\"text-align: right;\">\n",
       "      <th></th>\n",
       "      <th>country</th>\n",
       "      <th>name</th>\n",
       "      <th>site</th>\n",
       "    </tr>\n",
       "  </thead>\n",
       "  <tbody>\n",
       "    <tr>\n",
       "      <th>0</th>\n",
       "      <td>AD</td>\n",
       "      <td>university of andorra</td>\n",
       "      <td>http://www.uda.ad/</td>\n",
       "    </tr>\n",
       "    <tr>\n",
       "      <th>1</th>\n",
       "      <td>AE</td>\n",
       "      <td>abu dhabi university</td>\n",
       "      <td>http://www.adu.ac.ae/</td>\n",
       "    </tr>\n",
       "    <tr>\n",
       "      <th>2</th>\n",
       "      <td>AE</td>\n",
       "      <td>ajman university of science &amp; technology</td>\n",
       "      <td>http://www.ajman.ac.ae/</td>\n",
       "    </tr>\n",
       "    <tr>\n",
       "      <th>3</th>\n",
       "      <td>AE</td>\n",
       "      <td>alain university of science and technology</td>\n",
       "      <td>http://www.alainuniversity.ac.ae/</td>\n",
       "    </tr>\n",
       "    <tr>\n",
       "      <th>4</th>\n",
       "      <td>AE</td>\n",
       "      <td>al ghurair university</td>\n",
       "      <td>http://www.agu.ae/</td>\n",
       "    </tr>\n",
       "  </tbody>\n",
       "</table>\n",
       "</div>"
      ],
      "text/plain": [
       "  country                                        name  \\\n",
       "0      AD                       university of andorra   \n",
       "1      AE                        abu dhabi university   \n",
       "2      AE    ajman university of science & technology   \n",
       "3      AE  alain university of science and technology   \n",
       "4      AE                       al ghurair university   \n",
       "\n",
       "                                site  \n",
       "0                 http://www.uda.ad/  \n",
       "1              http://www.adu.ac.ae/  \n",
       "2            http://www.ajman.ac.ae/  \n",
       "3  http://www.alainuniversity.ac.ae/  \n",
       "4                 http://www.agu.ae/  "
      ]
     },
     "execution_count": 5,
     "metadata": {},
     "output_type": "execute_result"
    }
   ],
   "source": [
    "cdf=pd.read_csv('../10kUni.csv',names=['country','name','site'])\n",
    "cdf.name=cdf.name.str.lower()\n",
    "cdf.head()"
   ]
  },
  {
   "cell_type": "code",
   "execution_count": 6,
   "metadata": {
    "collapsed": false
   },
   "outputs": [
    {
     "data": {
      "text/html": [
       "<div>\n",
       "<table border=\"1\" class=\"dataframe\">\n",
       "  <thead>\n",
       "    <tr style=\"text-align: right;\">\n",
       "      <th></th>\n",
       "      <th>country</th>\n",
       "      <th>name</th>\n",
       "      <th>site</th>\n",
       "    </tr>\n",
       "  </thead>\n",
       "  <tbody>\n",
       "    <tr>\n",
       "      <th>0</th>\n",
       "      <td>AD</td>\n",
       "      <td>andorra</td>\n",
       "      <td>uda</td>\n",
       "    </tr>\n",
       "    <tr>\n",
       "      <th>1</th>\n",
       "      <td>AE</td>\n",
       "      <td>abu dhabi</td>\n",
       "      <td>adu</td>\n",
       "    </tr>\n",
       "    <tr>\n",
       "      <th>2</th>\n",
       "      <td>AE</td>\n",
       "      <td>ajman</td>\n",
       "      <td>ajman</td>\n",
       "    </tr>\n",
       "    <tr>\n",
       "      <th>3</th>\n",
       "      <td>AE</td>\n",
       "      <td>alain</td>\n",
       "      <td>alainuniversity</td>\n",
       "    </tr>\n",
       "    <tr>\n",
       "      <th>4</th>\n",
       "      <td>AE</td>\n",
       "      <td>al ghurair</td>\n",
       "      <td>agu</td>\n",
       "    </tr>\n",
       "  </tbody>\n",
       "</table>\n",
       "</div>"
      ],
      "text/plain": [
       "  country        name             site\n",
       "0      AD     andorra              uda\n",
       "1      AE   abu dhabi              adu\n",
       "2      AE       ajman            ajman\n",
       "3      AE       alain  alainuniversity\n",
       "4      AE  al ghurair              agu"
      ]
     },
     "execution_count": 6,
     "metadata": {},
     "output_type": "execute_result"
    }
   ],
   "source": [
    "for i in cdf.index:\n",
    "    s=cdf.ix[i]['site'].split('.')[1]\n",
    "    cdf.set_value(i, 'site',s)\n",
    "    w=cdf.ix[i]['name'].replace(' and ','').replace('&','').replace('university of','').replace('university','').replace('technology','').replace('science','').replace('universidad de','').replace('universidad','').strip()\n",
    "    cdf.set_value(i, 'name',w)\n",
    "cdf.head()"
   ]
  },
  {
   "cell_type": "markdown",
   "metadata": {},
   "source": [
    "### Type of Uni"
   ]
  },
  {
   "cell_type": "code",
   "execution_count": 7,
   "metadata": {
    "collapsed": false
   },
   "outputs": [
    {
     "name": "stdout",
     "output_type": "stream",
     "text": [
      "('uniSelected', 1168)\n",
      "('uniMasters', 601)\n",
      "('uniBachelors', 1148)\n",
      "('uniAccepted', 2313)\n",
      "('uniRejected', 1202)\n"
     ]
    }
   ],
   "source": [
    "for c in col:\n",
    "    print(c,df[c].value_counts().count())"
   ]
  },
  {
   "cell_type": "markdown",
   "metadata": {},
   "source": [
    "### Changing uni.name with length less than 5 char"
   ]
  },
  {
   "cell_type": "markdown",
   "metadata": {},
   "source": [
    "### just counting"
   ]
  },
  {
   "cell_type": "code",
   "execution_count": 8,
   "metadata": {
    "collapsed": true
   },
   "outputs": [],
   "source": [
    "# rm Bachelors , because they are mostly iranian uni\n",
    "del col[2]"
   ]
  },
  {
   "cell_type": "code",
   "execution_count": 9,
   "metadata": {
    "collapsed": false
   },
   "outputs": [
    {
     "name": "stdout",
     "output_type": "stream",
     "text": [
      "1012 records with <5Chars in uniSelected\n",
      "2007 records with <5Chars in uniMasters\n",
      "812 records with <5Chars in uniAccepted\n",
      "2280 records with <5Chars in uniRejected\n"
     ]
    }
   ],
   "source": [
    "for c in col:\n",
    "    counter=0\n",
    "    for i in df.index:\n",
    "        if (len(df.ix[i][c])<5):counter+=1\n",
    "    print(str(counter)+' records with <5Chars in '+ str(c))"
   ]
  },
  {
   "cell_type": "code",
   "execution_count": 10,
   "metadata": {
    "collapsed": false
   },
   "outputs": [],
   "source": [
    "#get part before ',' ... to handle multivalue records\n",
    "for c in col:\n",
    "    for i in df.index:\n",
    "        df.set_value(i, c,(df.ix[i][c]).split(',')[0])\n",
    "for i in cdf.index:\n",
    "    cdf.set_value(i, c,(cdf.ix[i]['name']).split(',')[0])"
   ]
  },
  {
   "cell_type": "code",
   "execution_count": 109,
   "metadata": {
    "collapsed": false
   },
   "outputs": [
    {
     "name": "stdout",
     "output_type": "stream",
     "text": [
      "1022 records with <5Chars in uniSelected\n",
      "2011 records with <5Chars in uniMasters\n",
      "1041 records with <5Chars in uniAccepted\n",
      "2446 records with <5Chars in uniRejected\n"
     ]
    }
   ],
   "source": [
    "for c in col:\n",
    "    counter=0\n",
    "    for i in df.index:\n",
    "        if (len(df.ix[i][c])<5):counter+=1\n",
    "    print(str(counter)+' records with <5Chars in '+ str(c))"
   ]
  },
  {
   "cell_type": "code",
   "execution_count": 12,
   "metadata": {
    "collapsed": false
   },
   "outputs": [],
   "source": [
    "cdf.to_csv('../10kUni_Cleaned.csv',date_format='utf8',columns=['country','name','site'])"
   ]
  },
  {
   "cell_type": "markdown",
   "metadata": {},
   "source": [
    "## Filling"
   ]
  },
  {
   "cell_type": "markdown",
   "metadata": {},
   "source": [
    "# 1st wave"
   ]
  },
  {
   "cell_type": "code",
   "execution_count": 111,
   "metadata": {
    "collapsed": false
   },
   "outputs": [
    {
     "name": "stdout",
     "output_type": "stream",
     "text": [
      "487 records changed in uniSelected\n",
      "159 records changed in uniMasters\n",
      "354 records changed in uniAccepted\n",
      "196 records changed in uniRejected\n"
     ]
    }
   ],
   "source": [
    "for c in col:\n",
    "    counter=0\n",
    "    for i in df.index:\n",
    "        if (len(df.ix[i][c])<5) & (df.ix[i][c]!='n/a'):\n",
    "            isin=cdf['site'].isin([df.ix[i][c]])\n",
    "            isin=isin[isin==True]\n",
    "            if len(isin)==0:\n",
    "                continue\n",
    "            inx=isin.index[0]\n",
    "            res=cdf.ix[inx]['name']\n",
    "            df.set_value(i, c,str.strip(res))\n",
    "            counter+=1\n",
    "    print(str(counter)+' records changed in '+ str(c))"
   ]
  },
  {
   "cell_type": "code",
   "execution_count": 112,
   "metadata": {
    "collapsed": false
   },
   "outputs": [
    {
     "name": "stdout",
     "output_type": "stream",
     "text": [
      "562 records with <5Chars in uniSelected\n",
      "1856 records with <5Chars in uniMasters\n",
      "706 records with <5Chars in uniAccepted\n",
      "2267 records with <5Chars in uniRejected\n"
     ]
    }
   ],
   "source": [
    "for c in col:\n",
    "    counter=0\n",
    "    for i in df.index:\n",
    "        if (len(df.ix[i][c])<5):counter+=1\n",
    "    print(str(counter)+' records with <5Chars in '+ str(c))"
   ]
  },
  {
   "cell_type": "markdown",
   "metadata": {},
   "source": [
    "# 2nd wave"
   ]
  },
  {
   "cell_type": "code",
   "execution_count": 113,
   "metadata": {
    "collapsed": false
   },
   "outputs": [
    {
     "name": "stdout",
     "output_type": "stream",
     "text": [
      "120 records changed in uniSelected\n",
      "29 records changed in uniMasters\n",
      "91 records changed in uniAccepted\n",
      "52 records changed in uniRejected\n"
     ]
    }
   ],
   "source": [
    "for c in col:\n",
    "    counter=0\n",
    "    for i in df.index:\n",
    "        if (len(df.ix[i][c])<5) & (df.ix[i][c]!='n/a'):\n",
    "            r=difflib.get_close_matches(df.ix[i][c],cdf.site)\n",
    "            if len(r)>0:\n",
    "                res=cdf[cdf['site']==r[0]]\n",
    "                df.set_value(i, c,str.strip(res.name.values[0]))\n",
    "                counter+=1\n",
    "    print(str(counter)+' records changed in '+ str(c))"
   ]
  },
  {
   "cell_type": "code",
   "execution_count": 114,
   "metadata": {
    "collapsed": false
   },
   "outputs": [
    {
     "name": "stdout",
     "output_type": "stream",
     "text": [
      "484 records with <5Chars in uniSelected\n",
      "1832 records with <5Chars in uniMasters\n",
      "641 records with <5Chars in uniAccepted\n",
      "2233 records with <5Chars in uniRejected\n"
     ]
    }
   ],
   "source": [
    "for c in col:\n",
    "    counter=0\n",
    "    for i in df.index:\n",
    "        if (len(df.ix[i][c])<5):counter+=1\n",
    "    print(str(counter)+' records with <5Chars in '+ str(c))"
   ]
  },
  {
   "cell_type": "markdown",
   "metadata": {},
   "source": [
    "### Counting Changes"
   ]
  },
  {
   "cell_type": "code",
   "execution_count": 115,
   "metadata": {
    "collapsed": false
   },
   "outputs": [
    {
     "name": "stdout",
     "output_type": "stream",
     "text": [
      "Old Records:\n",
      "('uniSelected', 1168)\n",
      "('uniMasters', 601)\n",
      "('uniAccepted', 2313)\n",
      "('uniRejected', 1202)\n",
      "\n",
      "New records:\n",
      "('uniSelected', 1109)\n",
      "('uniMasters', 590)\n",
      "('uniAccepted', 1655)\n",
      "('uniRejected', 801)\n"
     ]
    }
   ],
   "source": [
    "print(\"Old Records:\\n('uniSelected', 1168)\\n('uniMasters', 601)\\n('uniAccepted', 2313)\\n('uniRejected', 1202)\")\n",
    "print '\\nNew records:'\n",
    "for c in col:\n",
    "    print(c,df[c].value_counts().count())"
   ]
  },
  {
   "cell_type": "markdown",
   "metadata": {},
   "source": [
    "### Func to check txt is Persian or not"
   ]
  },
  {
   "cell_type": "code",
   "execution_count": 116,
   "metadata": {
    "collapsed": true
   },
   "outputs": [],
   "source": [
    "import re\n",
    "def checkFarsi(w):\n",
    "    regexp = re.compile(r'[a-zA-Z?]')\n",
    "    return (not regexp.search(w))"
   ]
  },
  {
   "cell_type": "markdown",
   "metadata": {},
   "source": [
    "### Try to fit Bigger words "
   ]
  },
  {
   "cell_type": "markdown",
   "metadata": {},
   "source": [
    "#### Counting words need to change"
   ]
  },
  {
   "cell_type": "code",
   "execution_count": 131,
   "metadata": {
    "collapsed": false
   },
   "outputs": [
    {
     "name": "stdout",
     "output_type": "stream",
     "text": [
      "(1197, 3526)\n",
      "(386, 3526)\n",
      "(1664, 3526)\n",
      "(703, 3526)\n"
     ]
    }
   ],
   "source": [
    "notin=[]\n",
    "for c in col:\n",
    "    arenotin=[]\n",
    "    for i in df.index:\n",
    "        temp=df.ix[i][c]\n",
    "        if checkFarsi(temp) |(len(temp)<5) :continue\n",
    "        isin=cdf['name'].isin([df.ix[i][c]])\n",
    "        isin=isin[isin==True]\n",
    "        if len(isin)==0:\n",
    "            arenotin.append(i)\n",
    "    print(len(arenotin),len(df))\n",
    "    notin.append(arenotin)"
   ]
  },
  {
   "cell_type": "code",
   "execution_count": 133,
   "metadata": {
    "collapsed": false
   },
   "outputs": [
    {
     "name": "stdout",
     "output_type": "stream",
     "text": [
      "1047 records changed in uniSelected\n",
      "315 records changed in uniMasters\n",
      "1192 records changed in uniAccepted\n",
      "514 records changed in uniRejected\n"
     ]
    }
   ],
   "source": [
    "for key,c in enumerate(col):\n",
    "    counter=0\n",
    "    for i in notin[key]:\n",
    "        temp=df.ix[i][c]\n",
    "        if checkFarsi(temp) |(len(temp)<5) :continue\n",
    "        r=difflib.get_close_matches(temp,cdf.name)\n",
    "        if len(r)>0:\n",
    "            res=cdf[cdf['name']==r[0]]\n",
    "            df.set_value(i, c,str.strip(res.name.values[0]))\n",
    "            counter+=1\n",
    "    print(str(counter)+' records changed in '+ str(c))"
   ]
  },
  {
   "cell_type": "code",
   "execution_count": 134,
   "metadata": {
    "collapsed": false
   },
   "outputs": [
    {
     "name": "stdout",
     "output_type": "stream",
     "text": [
      "('uniSelected', 825)\n",
      "('uniMasters', 505)\n",
      "('uniAccepted', 1171)\n",
      "('uniRejected', 607)\n"
     ]
    }
   ],
   "source": [
    "for c in col:\n",
    "    print(c,df[c].value_counts().count())"
   ]
  },
  {
   "cell_type": "code",
   "execution_count": null,
   "metadata": {
    "collapsed": true
   },
   "outputs": [],
   "source": []
  },
  {
   "cell_type": "code",
   "execution_count": 135,
   "metadata": {
    "collapsed": false
   },
   "outputs": [],
   "source": [
    "df.to_json('Fix2.json',date_format='utf8')"
   ]
  }
 ],
 "metadata": {
  "kernelspec": {
   "display_name": "Python 2",
   "language": "python",
   "name": "python2"
  },
  "language_info": {
   "codemirror_mode": {
    "name": "ipython",
    "version": 2
   },
   "file_extension": ".py",
   "mimetype": "text/x-python",
   "name": "python",
   "nbconvert_exporter": "python",
   "pygments_lexer": "ipython2",
   "version": "2.7.13"
  }
 },
 "nbformat": 4,
 "nbformat_minor": 2
}

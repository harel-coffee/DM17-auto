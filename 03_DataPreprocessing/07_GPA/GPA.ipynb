{
 "cells": [
  {
   "cell_type": "code",
   "execution_count": 69,
   "metadata": {
    "collapsed": true
   },
   "outputs": [],
   "source": [
    "import numpy as np\n",
    "import matplotlib.pyplot as plt\n",
    "import pandas as pd"
   ]
  },
  {
   "cell_type": "code",
   "execution_count": 70,
   "metadata": {
    "collapsed": false
   },
   "outputs": [],
   "source": [
    "df = pd.read_json('../Data2.json')\n",
    "df.sort_index(inplace=True)"
   ]
  },
  {
   "cell_type": "markdown",
   "metadata": {},
   "source": [
    "## Casting string to float"
   ]
  },
  {
   "cell_type": "code",
   "execution_count": 71,
   "metadata": {
    "collapsed": true
   },
   "outputs": [],
   "source": [
    "df['bachelorsAvg']=df['bachelorsAvg'].apply(pd.to_numeric, errors='coerce')\n",
    "df['masterAvg']=df['masterAvg'].apply(pd.to_numeric, errors='coerce')"
   ]
  },
  {
   "cell_type": "markdown",
   "metadata": {},
   "source": [
    "#### Doc about pandas.to_numeric\n",
    "\n",
    "http://pandas.pydata.org/pandas-docs/stable/generated/pandas.to_numeric.html\n",
    "\n",
    "errors =‘coerce’,  invalid parsing will be set as NaN"
   ]
  },
  {
   "cell_type": "markdown",
   "metadata": {},
   "source": [
    "## Overall view of situation"
   ]
  },
  {
   "cell_type": "markdown",
   "metadata": {},
   "source": [
    "### Bachelors"
   ]
  },
  {
   "cell_type": "code",
   "execution_count": 72,
   "metadata": {
    "collapsed": false
   },
   "outputs": [
    {
     "data": {
      "image/png": "[encoded data removed]",
      "text/plain": [
       "<matplotlib.figure.Figure at 0xb8cf240>"
      ]
     },
     "metadata": {},
     "output_type": "display_data"
    }
   ],
   "source": [
    "df['bachelorsAvg'].value_counts().sort_index().plot(xlim=(0,20))\n",
    "plt.show()"
   ]
  },
  {
   "cell_type": "code",
   "execution_count": 73,
   "metadata": {
    "collapsed": false
   },
   "outputs": [
    {
     "data": {
      "text/plain": [
       "(10, 20]       3454\n",
       "(0, 4]           34\n",
       "(-14, 0]         23\n",
       "(20, 18050]      10\n",
       "(5, 10]           2\n",
       "(4, 5]            2\n",
       "Name: bachelorsAvg, dtype: int64"
      ]
     },
     "execution_count": 73,
     "metadata": {},
     "output_type": "execute_result"
    }
   ],
   "source": [
    "myBins=[df['bachelorsAvg'].min(),0,4,5,10,20,df['bachelorsAvg'].max()]\n",
    "avg = pd.cut(df['bachelorsAvg'], myBins) \n",
    "avg.value_counts()"
   ]
  },
  {
   "cell_type": "code",
   "execution_count": 74,
   "metadata": {
    "collapsed": false
   },
   "outputs": [
    {
     "data": {
      "text/plain": [
       "آمریکا      29\n",
       "n/a          9\n",
       "کانادا       5\n",
       "استرالیا     5\n",
       "آلمان        3\n",
       "سوئد         2\n",
       "سنگاپور      1\n",
       "انگلستان     1\n",
       "فنلاند       1\n",
       "بلژیک        1\n",
       "نیوزلند      1\n",
       "اتریش        1\n",
       "فرانسه       1\n",
       "Name: country, dtype: int64"
      ]
     },
     "execution_count": 74,
     "metadata": {},
     "output_type": "execute_result"
    }
   ],
   "source": [
    "df[df['bachelorsAvg']<=6].country.value_counts()"
   ]
  },
  {
   "cell_type": "markdown",
   "metadata": {},
   "source": [
    "### Masters"
   ]
  },
  {
   "cell_type": "code",
   "execution_count": 75,
   "metadata": {
    "collapsed": false
   },
   "outputs": [
    {
     "data": {
      "image/png": "[encoded data removed]",
      "text/plain": [
       "<matplotlib.figure.Figure at 0xca1b5f8>"
      ]
     },
     "metadata": {},
     "output_type": "display_data"
    }
   ],
   "source": [
    "df['masterAvg'].value_counts().sort_index().plot(xlim=(0,20))\n",
    "plt.show()"
   ]
  },
  {
   "cell_type": "code",
   "execution_count": 76,
   "metadata": {
    "collapsed": false
   },
   "outputs": [
    {
     "data": {
      "text/plain": [
       "count    1823.000000\n",
       "mean       18.361791\n",
       "std        43.007922\n",
       "min         1.000000\n",
       "25%        16.500000\n",
       "50%        17.400000\n",
       "75%        18.125000\n",
       "max      1820.000000\n",
       "Name: masterAvg, dtype: float64"
      ]
     },
     "execution_count": 76,
     "metadata": {},
     "output_type": "execute_result"
    }
   ],
   "source": [
    "df['masterAvg'].describe()"
   ]
  },
  {
   "cell_type": "code",
   "execution_count": 77,
   "metadata": {
    "collapsed": false
   },
   "outputs": [
    {
     "data": {
      "text/plain": [
       "(10, 20]      1688\n",
       "(0, 4]         100\n",
       "(20, 1820]      24\n",
       "(4, 6]          10\n",
       "(6, 10]          1\n",
       "Name: masterAvg, dtype: int64"
      ]
     },
     "execution_count": 77,
     "metadata": {},
     "output_type": "execute_result"
    }
   ],
   "source": [
    "myBins2=[0,4,6,10,20,df['masterAvg'].max()]\n",
    "avg = pd.cut(df['masterAvg'], myBins2)\n",
    "avg.value_counts()"
   ]
  },
  {
   "cell_type": "markdown",
   "metadata": {},
   "source": [
    "## Converting GermanyGPA to Iranian Gpa\n",
    "#### based on https://www.visamondial.com/تبدیل-معدل-یا-نمره-به-سیستم-آلمانی/"
   ]
  },
  {
   "cell_type": "code",
   "execution_count": 78,
   "metadata": {
    "collapsed": false,
    "scrolled": true
   },
   "outputs": [
    {
     "data": {
      "text/plain": [
       "8"
      ]
     },
     "execution_count": 78,
     "metadata": {},
     "output_type": "execute_result"
    }
   ],
   "source": [
    "df[((df.masterAvg<=6)|(df.bachelorsAvg<=6)) & (df.country==u\"آلمان\")].count()[0]"
   ]
  },
  {
   "cell_type": "code",
   "execution_count": 79,
   "metadata": {
    "collapsed": true
   },
   "outputs": [],
   "source": [
    "def germanGPA_to_iranGPA(g):\n",
    "    return 10*(g-1/3)-20"
   ]
  },
  {
   "cell_type": "code",
   "execution_count": 80,
   "metadata": {
    "collapsed": false
   },
   "outputs": [],
   "source": [
    "df[(df.masterAvg<=6) & (df.country==u\"آلمان\")].masterAvg=germanGPA_to_iranGPA(df[(df.masterAvg<=6) & (df.country==u\"آلمان\")].masterAvg)"
   ]
  },
  {
   "cell_type": "code",
   "execution_count": 81,
   "metadata": {
    "collapsed": true
   },
   "outputs": [],
   "source": [
    "df[(df.bachelorsAvg<=6) & (df.country==u\"آلمان\")].bachelorsAvg=germanGPA_to_iranGPA(df[(df.bachelorsAvg<=6) & (df.country==u\"آلمان\")].bachelorsAvg)"
   ]
  },
  {
   "cell_type": "markdown",
   "metadata": {},
   "source": [
    "## Converting to GPA 0-4"
   ]
  },
  {
   "cell_type": "markdown",
   "metadata": {},
   "source": [
    "#### About the GPA Calculator\n",
    "\n",
    "Based of http://www.foreigncredits.com/resources/gpa-calculator/iran"
   ]
  },
  {
   "cell_type": "code",
   "execution_count": 82,
   "metadata": {
    "collapsed": true
   },
   "outputs": [],
   "source": [
    "#methods\n",
    "import math\n",
    "def round_to(number,roundto):\n",
    "    return math.floor(number / roundto) * roundto\n",
    "def toGPA(iscore): #to GPA [0,4]\n",
    "    return round_to((float)(iscore-10)/2,0.5)"
   ]
  },
  {
   "cell_type": "code",
   "execution_count": 83,
   "metadata": {
    "collapsed": false
   },
   "outputs": [
    {
     "data": {
      "text/plain": [
       "(0, 4]         3463\n",
       "(4, 5]           27\n",
       "(-14, 0]         23\n",
       "(20, 18050]      10\n",
       "(5, 10]           2\n",
       "(10, 20]          0\n",
       "Name: bachelorsAvg, dtype: int64"
      ]
     },
     "execution_count": 83,
     "metadata": {},
     "output_type": "execute_result"
    }
   ],
   "source": [
    "x=df['bachelorsAvg'].copy()\n",
    "for i in x.index:\n",
    "    if (x[i]>10) & (x[i]<=20):x[i]=toGPA(x[i])\n",
    "df['bachelorsAvg']=x\n",
    "pd.cut(x, myBins).value_counts()"
   ]
  },
  {
   "cell_type": "code",
   "execution_count": 84,
   "metadata": {
    "collapsed": false
   },
   "outputs": [
    {
     "data": {
      "text/plain": [
       "(0, 4]        1705\n",
       "(4, 6]          93\n",
       "(20, 1820]      24\n",
       "(6, 10]          1\n",
       "(10, 20]         0\n",
       "Name: masterAvg, dtype: int64"
      ]
     },
     "execution_count": 84,
     "metadata": {},
     "output_type": "execute_result"
    }
   ],
   "source": [
    "x=df['masterAvg'].copy()\n",
    "for i in x.index:\n",
    "    if (x[i]>10) & (x[i]<=20):x[i]=toGPA(x[i])\n",
    "df['masterAvg']=x\n",
    "pd.cut(df['masterAvg'], myBins2).value_counts()"
   ]
  },
  {
   "cell_type": "markdown",
   "metadata": {},
   "source": [
    "## Outliers to NAN"
   ]
  },
  {
   "cell_type": "markdown",
   "metadata": {},
   "source": [
    "## bachelorsAvg"
   ]
  },
  {
   "cell_type": "code",
   "execution_count": 85,
   "metadata": {
    "collapsed": false
   },
   "outputs": [
    {
     "data": {
      "text/plain": [
       "23"
      ]
     },
     "execution_count": 85,
     "metadata": {},
     "output_type": "execute_result"
    }
   ],
   "source": [
    "(df[df['bachelorsAvg']==0]['bachelorsAvg']).count()"
   ]
  },
  {
   "cell_type": "code",
   "execution_count": 86,
   "metadata": {
    "collapsed": false
   },
   "outputs": [
    {
     "data": {
      "text/plain": [
       "7           7.67\n",
       "1480       10.00\n",
       "1685     1660.00\n",
       "1876    18050.00\n",
       "2088       22.00\n",
       "2191    10000.00\n",
       "2352       99.00\n",
       "3292       64.00\n",
       "3384     1450.00\n",
       "3588       70.12\n",
       "3744     9999.00\n",
       "4132     1304.00\n",
       "Name: bachelorsAvg, dtype: float64"
      ]
     },
     "execution_count": 86,
     "metadata": {},
     "output_type": "execute_result"
    }
   ],
   "source": [
    "df.ix[df.bachelorsAvg>5, 'bachelorsAvg'] "
   ]
  },
  {
   "cell_type": "markdown",
   "metadata": {},
   "source": [
    "** These data don't make sense so we are going to fill them with Null value**"
   ]
  },
  {
   "cell_type": "code",
   "execution_count": 87,
   "metadata": {
    "collapsed": false
   },
   "outputs": [],
   "source": [
    "df.ix[df.bachelorsAvg==0, 'bachelorsAvg'] = np.nan\n",
    "df.ix[df.bachelorsAvg>5, 'bachelorsAvg'] = np.nan"
   ]
  },
  {
   "cell_type": "code",
   "execution_count": 88,
   "metadata": {
    "collapsed": false
   },
   "outputs": [
    {
     "data": {
      "text/plain": [
       "(0, 4]         3463\n",
       "(4, 5]           27\n",
       "(20, 18050]       0\n",
       "(10, 20]          0\n",
       "(5, 10]           0\n",
       "(-14, 0]          0\n",
       "Name: bachelorsAvg, dtype: int64"
      ]
     },
     "execution_count": 88,
     "metadata": {},
     "output_type": "execute_result"
    }
   ],
   "source": [
    "pd.cut(df['bachelorsAvg'], myBins).value_counts()"
   ]
  },
  {
   "cell_type": "code",
   "execution_count": 89,
   "metadata": {
    "collapsed": false
   },
   "outputs": [
    {
     "data": {
      "text/plain": [
       "4.5    24\n",
       "5.0     2\n",
       "4.6     1\n",
       "Name: bachelorsAvg, dtype: int64"
      ]
     },
     "execution_count": 89,
     "metadata": {},
     "output_type": "execute_result"
    }
   ],
   "source": [
    "df.ix[df.bachelorsAvg>4, 'bachelorsAvg'].value_counts()"
   ]
  },
  {
   "cell_type": "code",
   "execution_count": 90,
   "metadata": {
    "collapsed": true
   },
   "outputs": [],
   "source": [
    "# GPA scale 0-5\n",
    "# in this scale 5==4 in 0-4 scale\n",
    "# and 4.5==3.6 in 0-4 scale\n",
    "df.ix[df.bachelorsAvg==5, 'bachelorsAvg'] = 4\n",
    "df.ix[df.bachelorsAvg>=4.5, 'bachelorsAvg'] = 3.6"
   ]
  },
  {
   "cell_type": "code",
   "execution_count": 91,
   "metadata": {
    "collapsed": false
   },
   "outputs": [
    {
     "data": {
      "text/plain": [
       "(0, 4]         3490\n",
       "(20, 18050]       0\n",
       "(10, 20]          0\n",
       "(5, 10]           0\n",
       "(4, 5]            0\n",
       "(-14, 0]          0\n",
       "Name: bachelorsAvg, dtype: int64"
      ]
     },
     "execution_count": 91,
     "metadata": {},
     "output_type": "execute_result"
    }
   ],
   "source": [
    "pd.cut(df['bachelorsAvg'], myBins).value_counts()"
   ]
  },
  {
   "cell_type": "markdown",
   "metadata": {},
   "source": [
    "## masterAvg"
   ]
  },
  {
   "cell_type": "code",
   "execution_count": 92,
   "metadata": {
    "collapsed": false
   },
   "outputs": [
    {
     "data": {
      "text/plain": [
       "(0, 4]        1705\n",
       "(4, 6]          93\n",
       "(20, 1820]      24\n",
       "(6, 10]          1\n",
       "(10, 20]         0\n",
       "Name: masterAvg, dtype: int64"
      ]
     },
     "execution_count": 92,
     "metadata": {},
     "output_type": "execute_result"
    }
   ],
   "source": [
    "pd.cut(df['masterAvg'], myBins2).value_counts()"
   ]
  },
  {
   "cell_type": "code",
   "execution_count": 93,
   "metadata": {
    "collapsed": false
   },
   "outputs": [
    {
     "data": {
      "text/plain": [
       "43        66.0\n",
       "157       94.0\n",
       "257       85.0\n",
       "349       97.2\n",
       "367       88.0\n",
       "375       74.0\n",
       "1197      69.0\n",
       "1332     110.0\n",
       "1550      78.0\n",
       "1659      96.0\n",
       "1667      60.0\n",
       "1830      92.0\n",
       "1842      60.0\n",
       "1975      96.0\n",
       "2123      87.0\n",
       "2192      62.0\n",
       "2616      90.0\n",
       "2819      69.0\n",
       "2856      72.0\n",
       "3262     108.0\n",
       "3384    1820.0\n",
       "3924      80.0\n",
       "4220      68.0\n",
       "4243      80.0\n",
       "Name: masterAvg, dtype: float64"
      ]
     },
     "execution_count": 93,
     "metadata": {},
     "output_type": "execute_result"
    }
   ],
   "source": [
    "df[df['masterAvg']>20]['masterAvg']"
   ]
  },
  {
   "cell_type": "code",
   "execution_count": 94,
   "metadata": {
    "collapsed": false
   },
   "outputs": [],
   "source": [
    "df.ix[[3384,3262,1332],'masterAvg']=np.nan #remove out of range records"
   ]
  },
  {
   "cell_type": "markdown",
   "metadata": {},
   "source": [
    "### Convert 100 scale gpa to 4.0\n",
    "\n",
    "based of : http://www.collegeboard.com/html/academicTracker-howtoconvert.html"
   ]
  },
  {
   "cell_type": "code",
   "execution_count": 95,
   "metadata": {
    "collapsed": false
   },
   "outputs": [
    {
     "data": {
      "text/html": [
       "<div>\n",
       "<table border=\"1\" class=\"dataframe\">\n",
       "  <thead>\n",
       "    <tr style=\"text-align: right;\">\n",
       "      <th></th>\n",
       "      <th>masterAvg</th>\n",
       "      <th>masterAvg</th>\n",
       "    </tr>\n",
       "  </thead>\n",
       "  <tbody>\n",
       "    <tr>\n",
       "      <th>43</th>\n",
       "      <td>1</td>\n",
       "      <td>66.0</td>\n",
       "    </tr>\n",
       "    <tr>\n",
       "      <th>157</th>\n",
       "      <td>4</td>\n",
       "      <td>94.0</td>\n",
       "    </tr>\n",
       "    <tr>\n",
       "      <th>257</th>\n",
       "      <td>3</td>\n",
       "      <td>85.0</td>\n",
       "    </tr>\n",
       "    <tr>\n",
       "      <th>349</th>\n",
       "      <td>4</td>\n",
       "      <td>97.2</td>\n",
       "    </tr>\n",
       "    <tr>\n",
       "      <th>367</th>\n",
       "      <td>3</td>\n",
       "      <td>88.0</td>\n",
       "    </tr>\n",
       "    <tr>\n",
       "      <th>375</th>\n",
       "      <td>2</td>\n",
       "      <td>74.0</td>\n",
       "    </tr>\n",
       "    <tr>\n",
       "      <th>1197</th>\n",
       "      <td>1</td>\n",
       "      <td>69.0</td>\n",
       "    </tr>\n",
       "  </tbody>\n",
       "</table>\n",
       "</div>"
      ],
      "text/plain": [
       "      masterAvg  masterAvg\n",
       "43            1       66.0\n",
       "157           4       94.0\n",
       "257           3       85.0\n",
       "349           4       97.2\n",
       "367           3       88.0\n",
       "375           2       74.0\n",
       "1197          1       69.0"
      ]
     },
     "execution_count": 95,
     "metadata": {},
     "output_type": "execute_result"
    }
   ],
   "source": [
    "def togpa(iscore,binss):\n",
    "    return pd.cut(iscore, bins=binss,labels=np.arange(1,5))\n",
    "avg=df[(df['masterAvg']>50) & (df['masterAvg']<=100)]['masterAvg']\n",
    "x=togpa(avg,[60,72,79,89,100])\n",
    "df.ix[(df['masterAvg']>50) & (df['masterAvg']<=100),'masterAvg']=x\n",
    "pd.concat([x,avg],axis=1).head(7)"
   ]
  },
  {
   "cell_type": "code",
   "execution_count": 96,
   "metadata": {
    "collapsed": true
   },
   "outputs": [],
   "source": [
    "df.ix[df.masterAvg>5, 'masterAvg'] = np.nan\n",
    "df.ix[df.masterAvg==5, 'masterAvg'] = 4"
   ]
  },
  {
   "cell_type": "code",
   "execution_count": 97,
   "metadata": {
    "collapsed": false
   },
   "outputs": [
    {
     "data": {
      "text/plain": [
       "4.50    81\n",
       "4.30     2\n",
       "4.65     1\n",
       "4.60     1\n",
       "4.20     1\n",
       "4.12     1\n",
       "Name: masterAvg, dtype: int64"
      ]
     },
     "execution_count": 97,
     "metadata": {},
     "output_type": "execute_result"
    }
   ],
   "source": [
    "df[df['masterAvg']>4]['masterAvg'].value_counts()"
   ]
  },
  {
   "cell_type": "code",
   "execution_count": 98,
   "metadata": {
    "collapsed": true
   },
   "outputs": [],
   "source": [
    "df.ix[df.masterAvg>4, 'masterAvg'] = 3.5"
   ]
  },
  {
   "cell_type": "code",
   "execution_count": 99,
   "metadata": {
    "collapsed": false
   },
   "outputs": [
    {
     "data": {
      "text/plain": [
       "(0, 4]        1817\n",
       "(20, 1820]       0\n",
       "(10, 20]         0\n",
       "(6, 10]          0\n",
       "(4, 6]           0\n",
       "Name: masterAvg, dtype: int64"
      ]
     },
     "execution_count": 99,
     "metadata": {},
     "output_type": "execute_result"
    }
   ],
   "source": [
    "pd.cut(df['masterAvg'], myBins2).value_counts()"
   ]
  },
  {
   "cell_type": "markdown",
   "metadata": {},
   "source": [
    "# PLOT"
   ]
  },
  {
   "cell_type": "code",
   "execution_count": 100,
   "metadata": {
    "collapsed": false
   },
   "outputs": [
    {
     "data": {
      "image/png": "[encoded data removed]",
      "text/plain": [
       "<matplotlib.figure.Figure at 0xcd6dc50>"
      ]
     },
     "metadata": {},
     "output_type": "display_data"
    }
   ],
   "source": [
    "df.bachelorsAvg.value_counts().sort_index().plot(xlim=(0,4))\n",
    "df.masterAvg.value_counts().sort_index().plot(xlim=(0,4),c='r')\n",
    "plt.legend(loc = 1)\n",
    "plt.legend(['Bachelors GPA', 'Masters GPA'], loc = 2)\n",
    "plt.xlabel('GPA')\n",
    "plt.ylabel('Count')\n",
    "plt.show()"
   ]
  },
  {
   "cell_type": "markdown",
   "metadata": {},
   "source": [
    "## Saving data"
   ]
  },
  {
   "cell_type": "code",
   "execution_count": 101,
   "metadata": {
    "collapsed": false
   },
   "outputs": [],
   "source": [
    "df.rename(columns={'masterAvg': 'gpaMasters','bachelorsAvg':'gpaBachelors'}, inplace=True)\n",
    "df.to_json('Data_FixedGPA.json',date_format='utf8')"
   ]
  }
 ],
 "metadata": {
  "kernelspec": {
   "display_name": "Python 2",
   "language": "python",
   "name": "python2"
  },
  "language_info": {
   "codemirror_mode": {
    "name": "ipython",
    "version": 2
   },
   "file_extension": ".py",
   "mimetype": "text/x-python",
   "name": "python",
   "nbconvert_exporter": "python",
   "pygments_lexer": "ipython2",
   "version": "2.7.13"
  }
 },
 "nbformat": 4,
 "nbformat_minor": 2
}

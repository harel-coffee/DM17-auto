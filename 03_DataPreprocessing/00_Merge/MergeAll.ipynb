{
 "cells": [
  {
   "cell_type": "code",
   "execution_count": 1,
   "metadata": {
    "collapsed": true
   },
   "outputs": [],
   "source": [
    "import os\n",
    "import pandas as pd"
   ]
  },
  {
   "cell_type": "code",
   "execution_count": 2,
   "metadata": {
    "collapsed": false
   },
   "outputs": [],
   "source": [
    "def read_files(path):\n",
    "    for root, dir_names, file_names in os.walk(path):\n",
    "        for path in dir_names:\n",
    "            if 'Extra' in path: continue\n",
    "            read_files(os.path.join(root, path))\n",
    "        for file_name in file_names:\n",
    "            if (('Data2.json' == file_name) | ('Data_' in file_name)):\n",
    "                file_path = os.path.join(root, file_name)\n",
    "                past_header, lines = False, []\n",
    "                yield file_path"
   ]
  },
  {
   "cell_type": "code",
   "execution_count": 3,
   "metadata": {
    "collapsed": false
   },
   "outputs": [],
   "source": [
    "filenames=read_files('../')"
   ]
  },
  {
   "cell_type": "code",
   "execution_count": 4,
   "metadata": {
    "collapsed": false
   },
   "outputs": [
    {
     "name": "stdout",
     "output_type": "stream",
     "text": [
      "(0, '../Data2.json')\n",
      "(1, '../01_YEAR\\\\Data_FixedYear.json')\n",
      "(2, '../04_Country\\\\Data_Country.json')\n",
      "(3, '../05_English\\\\Data_FixedENG.json')\n",
      "(4, '../06_Fund\\\\Data_FixedFound.json')\n",
      "(5, '../07_GPA\\\\Data_FixedGPA.json')\n",
      "(6, '../08_Field\\\\Data_Field.json')\n",
      "(7, '../09_Uni\\\\Data_Uni.json')\n"
     ]
    }
   ],
   "source": [
    "dfs=[]\n",
    "for i,f in enumerate(filenames):\n",
    "    print(i,f)\n",
    "    dfs.append(pd.read_json(f).sort_index())"
   ]
  },
  {
   "cell_type": "code",
   "execution_count": 5,
   "metadata": {
    "collapsed": false
   },
   "outputs": [
    {
     "data": {
      "text/html": [
       "<div>\n",
       "<table border=\"1\" class=\"dataframe\">\n",
       "  <thead>\n",
       "    <tr style=\"text-align: right;\">\n",
       "      <th></th>\n",
       "      <th>apDegree</th>\n",
       "      <th>papersIRAN</th>\n",
       "      <th>papersGLOB</th>\n",
       "      <th>year</th>\n",
       "      <th>country</th>\n",
       "      <th>eng</th>\n",
       "      <th>gre</th>\n",
       "      <th>engExamResult</th>\n",
       "      <th>greQuan</th>\n",
       "      <th>greAnlt</th>\n",
       "      <th>...</th>\n",
       "      <th>fieldGroup</th>\n",
       "      <th>uniSelected</th>\n",
       "      <th>uniAccepted</th>\n",
       "      <th>uniRejected</th>\n",
       "      <th>uniMasters</th>\n",
       "      <th>uniBachelors</th>\n",
       "      <th>highLevelBachUni</th>\n",
       "      <th>uniBachelorsOLD</th>\n",
       "      <th>highLevelMasterUni</th>\n",
       "      <th>uniMastersOLD</th>\n",
       "    </tr>\n",
       "  </thead>\n",
       "  <tbody>\n",
       "    <tr>\n",
       "      <th>2</th>\n",
       "      <td>Doctorate</td>\n",
       "      <td>8</td>\n",
       "      <td>4</td>\n",
       "      <td>2007</td>\n",
       "      <td>england</td>\n",
       "      <td>High</td>\n",
       "      <td>False</td>\n",
       "      <td>7.153244</td>\n",
       "      <td>NaN</td>\n",
       "      <td>NaN</td>\n",
       "      <td>...</td>\n",
       "      <td>7.0</td>\n",
       "      <td>heriot-watt</td>\n",
       "      <td>n/a</td>\n",
       "      <td>n/a</td>\n",
       "      <td>n/a</td>\n",
       "      <td>azad</td>\n",
       "      <td>False</td>\n",
       "      <td>آزاد اسلامی امیدیه</td>\n",
       "      <td>False</td>\n",
       "      <td>n/a</td>\n",
       "    </tr>\n",
       "    <tr>\n",
       "      <th>3</th>\n",
       "      <td>Doctorate</td>\n",
       "      <td>10</td>\n",
       "      <td>8</td>\n",
       "      <td>2010</td>\n",
       "      <td>united states</td>\n",
       "      <td>VeryHigh</td>\n",
       "      <td>True</td>\n",
       "      <td>8.000000</td>\n",
       "      <td>170.0</td>\n",
       "      <td>3.0</td>\n",
       "      <td>...</td>\n",
       "      <td>5.0</td>\n",
       "      <td>northwestern</td>\n",
       "      <td>switzerland</td>\n",
       "      <td>california, berkeley</td>\n",
       "      <td>portland state</td>\n",
       "      <td>mashhad</td>\n",
       "      <td>True</td>\n",
       "      <td>فردوسی مشهد</td>\n",
       "      <td>False</td>\n",
       "      <td>portland state</td>\n",
       "    </tr>\n",
       "    <tr>\n",
       "      <th>5</th>\n",
       "      <td>Doctorate</td>\n",
       "      <td>4</td>\n",
       "      <td>4</td>\n",
       "      <td>2008</td>\n",
       "      <td>united states</td>\n",
       "      <td>VeryHigh</td>\n",
       "      <td>True</td>\n",
       "      <td>8.000000</td>\n",
       "      <td>170.0</td>\n",
       "      <td>3.5</td>\n",
       "      <td>...</td>\n",
       "      <td>10.0</td>\n",
       "      <td>cornell</td>\n",
       "      <td>n/a</td>\n",
       "      <td>virginia state</td>\n",
       "      <td>sharif</td>\n",
       "      <td>amir-kabir</td>\n",
       "      <td>True</td>\n",
       "      <td>اميرکبير</td>\n",
       "      <td>True</td>\n",
       "      <td>شريف</td>\n",
       "    </tr>\n",
       "    <tr>\n",
       "      <th>6</th>\n",
       "      <td>Masters</td>\n",
       "      <td>0</td>\n",
       "      <td>0</td>\n",
       "      <td>2008</td>\n",
       "      <td>sweden</td>\n",
       "      <td>High</td>\n",
       "      <td>True</td>\n",
       "      <td>7.000000</td>\n",
       "      <td>170.0</td>\n",
       "      <td>3.0</td>\n",
       "      <td>...</td>\n",
       "      <td>0.0</td>\n",
       "      <td>chalmers</td>\n",
       "      <td>dalhousie</td>\n",
       "      <td>california, berkeley</td>\n",
       "      <td>n/a</td>\n",
       "      <td>amir-kabir</td>\n",
       "      <td>True</td>\n",
       "      <td>صنعتی امیرکبیر</td>\n",
       "      <td>False</td>\n",
       "      <td>n/a</td>\n",
       "    </tr>\n",
       "    <tr>\n",
       "      <th>7</th>\n",
       "      <td>Masters</td>\n",
       "      <td>0</td>\n",
       "      <td>0</td>\n",
       "      <td>2008</td>\n",
       "      <td>spain</td>\n",
       "      <td>VeryHigh</td>\n",
       "      <td>False</td>\n",
       "      <td>8.000000</td>\n",
       "      <td>NaN</td>\n",
       "      <td>NaN</td>\n",
       "      <td>...</td>\n",
       "      <td>10.0</td>\n",
       "      <td>carlos iii de madrid</td>\n",
       "      <td>carlos iii de madrid</td>\n",
       "      <td>chalmers</td>\n",
       "      <td>n/a</td>\n",
       "      <td>پلی تکنیک بخارست، رومانی n/a معدل 7.67 از 10</td>\n",
       "      <td>False</td>\n",
       "      <td>پلی تکنیک بخارست، رومانی n/a معدل 7.67 از 10</td>\n",
       "      <td>False</td>\n",
       "      <td>n/a</td>\n",
       "    </tr>\n",
       "  </tbody>\n",
       "</table>\n",
       "<p>5 rows × 27 columns</p>\n",
       "</div>"
      ],
      "text/plain": [
       "    apDegree  papersIRAN  papersGLOB  year        country       eng    gre  \\\n",
       "2  Doctorate           8           4  2007        england      High  False   \n",
       "3  Doctorate          10           8  2010  united states  VeryHigh   True   \n",
       "5  Doctorate           4           4  2008  united states  VeryHigh   True   \n",
       "6    Masters           0           0  2008         sweden      High   True   \n",
       "7    Masters           0           0  2008          spain  VeryHigh  False   \n",
       "\n",
       "   engExamResult  greQuan  greAnlt       ...        fieldGroup  \\\n",
       "2       7.153244      NaN      NaN       ...               7.0   \n",
       "3       8.000000    170.0      3.0       ...               5.0   \n",
       "5       8.000000    170.0      3.5       ...              10.0   \n",
       "6       7.000000    170.0      3.0       ...               0.0   \n",
       "7       8.000000      NaN      NaN       ...              10.0   \n",
       "\n",
       "            uniSelected           uniAccepted           uniRejected  \\\n",
       "2           heriot-watt                   n/a                   n/a   \n",
       "3          northwestern           switzerland  california, berkeley   \n",
       "5               cornell                   n/a        virginia state   \n",
       "6              chalmers             dalhousie  california, berkeley   \n",
       "7  carlos iii de madrid  carlos iii de madrid              chalmers   \n",
       "\n",
       "       uniMasters                                  uniBachelors  \\\n",
       "2             n/a                                          azad   \n",
       "3  portland state                                       mashhad   \n",
       "5          sharif                                    amir-kabir   \n",
       "6             n/a                                    amir-kabir   \n",
       "7             n/a  پلی تکنیک بخارست، رومانی n/a معدل 7.67 از 10   \n",
       "\n",
       "  highLevelBachUni                               uniBachelorsOLD  \\\n",
       "2            False                            آزاد اسلامی امیدیه   \n",
       "3             True                                   فردوسی مشهد   \n",
       "5             True                                      اميرکبير   \n",
       "6             True                                صنعتی امیرکبیر   \n",
       "7            False  پلی تکنیک بخارست، رومانی n/a معدل 7.67 از 10   \n",
       "\n",
       "  highLevelMasterUni   uniMastersOLD  \n",
       "2              False             n/a  \n",
       "3              False  portland state  \n",
       "5               True            شريف  \n",
       "6              False             n/a  \n",
       "7              False             n/a  \n",
       "\n",
       "[5 rows x 27 columns]"
      ]
     },
     "execution_count": 5,
     "metadata": {},
     "output_type": "execute_result"
    }
   ],
   "source": [
    "clist=[dfs[0][['apDegree','papersIRAN','papersGLOB']]\n",
    "       ,dfs[1]['year']\n",
    "       ,dfs[2]['country']\n",
    "       ,dfs[3][['eng','gre','engExamResult','greQuan','greAnlt','greVrbl']]\n",
    "       ,dfs[4][['fund','fundValue','fundType']]\n",
    "       ,dfs[5][['gpaBachelors','gpaMasters']]\n",
    "       ,dfs[6][['field','fieldGroup']]\n",
    "       ,dfs[7][['uniSelected', 'uniAccepted','uniRejected','uniMasters','uniBachelors','highLevelBachUni','uniBachelorsOLD','highLevelMasterUni','uniMastersOLD']]\n",
    "      ]\n",
    "df=pd.concat(clist, axis=1).sort_index()\n",
    "df.head()"
   ]
  },
  {
   "cell_type": "code",
   "execution_count": 6,
   "metadata": {
    "collapsed": false
   },
   "outputs": [
    {
     "data": {
      "text/plain": [
       "(3526, 27)"
      ]
     },
     "execution_count": 6,
     "metadata": {},
     "output_type": "execute_result"
    }
   ],
   "source": [
    "df.shape"
   ]
  },
  {
   "cell_type": "code",
   "execution_count": 7,
   "metadata": {
    "collapsed": false
   },
   "outputs": [],
   "source": [
    "df.rename(columns={'apDegree': 'degree'}, inplace=True)"
   ]
  },
  {
   "cell_type": "code",
   "execution_count": 8,
   "metadata": {
    "collapsed": false
   },
   "outputs": [],
   "source": [
    "df.to_json('Merged.json',date_format='utf8')"
   ]
  }
 ],
 "metadata": {
  "kernelspec": {
   "display_name": "Python 2",
   "language": "python",
   "name": "python2"
  },
  "language_info": {
   "codemirror_mode": {
    "name": "ipython",
    "version": 2
   },
   "file_extension": ".py",
   "mimetype": "text/x-python",
   "name": "python",
   "nbconvert_exporter": "python",
   "pygments_lexer": "ipython2",
   "version": "2.7.13"
  }
 },
 "nbformat": 4,
 "nbformat_minor": 2
}

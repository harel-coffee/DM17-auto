{
 "cells": [
  {
   "cell_type": "code",
   "execution_count": 1,
   "metadata": {
    "collapsed": true
   },
   "outputs": [],
   "source": [
    "import numpy as np\n",
    "import pandas as pd"
   ]
  },
  {
   "cell_type": "code",
   "execution_count": 2,
   "metadata": {
    "collapsed": true
   },
   "outputs": [],
   "source": [
    "dff = pd.read_json('Fix2.json').sort_index()\n",
    "dfCountries=pd.read_csv('../Countries.csv',header=0)"
   ]
  },
  {
   "cell_type": "code",
   "execution_count": 3,
   "metadata": {
    "collapsed": false
   },
   "outputs": [
    {
     "data": {
      "text/plain": [
       "(3526, 21)"
      ]
     },
     "execution_count": 3,
     "metadata": {},
     "output_type": "execute_result"
    }
   ],
   "source": [
    "dff.shape"
   ]
  },
  {
   "cell_type": "code",
   "execution_count": 4,
   "metadata": {
    "collapsed": true
   },
   "outputs": [],
   "source": [
    "dfCountries.Name=dfCountries.Name.str.lower()\n",
    "dfCountries.Code=dfCountries.Code.str.lower()\n",
    "dff.country=dff.country.str.lower()"
   ]
  },
  {
   "cell_type": "code",
   "execution_count": 5,
   "metadata": {
    "collapsed": false
   },
   "outputs": [],
   "source": [
    "succ=0;err=0\n",
    "for i in dff.country.index:\n",
    "    d=dff.country[i]\n",
    "    if len(d)==2:\n",
    "        try:\n",
    "            index=list(dfCountries.Code).index(d)\n",
    "            dff.set_value(i,'country',dfCountries.ix[index]['Name'].strip())\n",
    "            succ+=1\n",
    "        except:\n",
    "            err+=1"
   ]
  },
  {
   "cell_type": "code",
   "execution_count": 6,
   "metadata": {
    "collapsed": false
   },
   "outputs": [
    {
     "name": "stdout",
     "output_type": "stream",
     "text": [
      "(1165, 0)\n"
     ]
    }
   ],
   "source": [
    "print(succ,err)"
   ]
  },
  {
   "cell_type": "code",
   "execution_count": 7,
   "metadata": {
    "collapsed": true
   },
   "outputs": [],
   "source": [
    "dff.country.replace('us','united states',inplace=True)"
   ]
  },
  {
   "cell_type": "code",
   "execution_count": 8,
   "metadata": {
    "collapsed": false
   },
   "outputs": [
    {
     "data": {
      "text/plain": [
       "27"
      ]
     },
     "execution_count": 8,
     "metadata": {},
     "output_type": "execute_result"
    }
   ],
   "source": [
    "dff.country.value_counts().count()"
   ]
  },
  {
   "cell_type": "code",
   "execution_count": 9,
   "metadata": {
    "collapsed": false
   },
   "outputs": [
    {
     "data": {
      "text/plain": [
       "united states                1142\n",
       "canada                        603\n",
       "n/a                           508\n",
       "germany                       234\n",
       "australia                     185\n",
       "sweden                        167\n",
       "italy                         147\n",
       "finland                        69\n",
       "england                        68\n",
       "malaysia                       65\n",
       "turkey                         46\n",
       "netherlands                    43\n",
       "norway                         41\n",
       "belgium                        35\n",
       "france                         33\n",
       "new zealand                    29\n",
       "swaziland                      28\n",
       "spain                          25\n",
       "singapore                      17\n",
       "austria                        17\n",
       "china                           8\n",
       "india                           7\n",
       "russia                          3\n",
       "japan                           2\n",
       "czech republic                  2\n",
       "united kingdom                  1\n",
       "iran, islamic republic of       1\n",
       "Name: country, dtype: int64"
      ]
     },
     "execution_count": 9,
     "metadata": {},
     "output_type": "execute_result"
    }
   ],
   "source": [
    "dff.country.value_counts()"
   ]
  },
  {
   "cell_type": "code",
   "execution_count": 10,
   "metadata": {
    "collapsed": true
   },
   "outputs": [],
   "source": [
    "dff.to_json('Data_Country.json',date_format='utf8')"
   ]
  },
  {
   "cell_type": "code",
   "execution_count": null,
   "metadata": {
    "collapsed": true
   },
   "outputs": [],
   "source": []
  }
 ],
 "metadata": {
  "kernelspec": {
   "display_name": "Python 2",
   "language": "python",
   "name": "python2"
  },
  "language_info": {
   "codemirror_mode": {
    "name": "ipython",
    "version": 2
   },
   "file_extension": ".py",
   "mimetype": "text/x-python",
   "name": "python",
   "nbconvert_exporter": "python",
   "pygments_lexer": "ipython2",
   "version": "2.7.13"
  }
 },
 "nbformat": 4,
 "nbformat_minor": 2
}

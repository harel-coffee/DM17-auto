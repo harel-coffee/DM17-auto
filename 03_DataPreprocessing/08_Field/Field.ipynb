{
 "cells": [
  {
   "cell_type": "code",
   "execution_count": 34,
   "metadata": {
    "collapsed": true
   },
   "outputs": [],
   "source": [
    "import numpy as np\n",
    "import matplotlib.pyplot as plt\n",
    "import pandas as pd\n",
    "import difflib"
   ]
  },
  {
   "cell_type": "code",
   "execution_count": 35,
   "metadata": {
    "collapsed": false
   },
   "outputs": [
    {
     "data": {
      "text/html": [
       "<div>\n",
       "<table border=\"1\" class=\"dataframe\">\n",
       "  <thead>\n",
       "    <tr style=\"text-align: right;\">\n",
       "      <th></th>\n",
       "      <th>accUni</th>\n",
       "      <th>apDegree</th>\n",
       "      <th>apUni</th>\n",
       "      <th>bachelorsAvg</th>\n",
       "      <th>bachelorsUni</th>\n",
       "      <th>country</th>\n",
       "      <th>engExamAnlt</th>\n",
       "      <th>engExamQuan</th>\n",
       "      <th>engExamResult</th>\n",
       "      <th>engExamType</th>\n",
       "      <th>...</th>\n",
       "      <th>extra</th>\n",
       "      <th>field</th>\n",
       "      <th>fund</th>\n",
       "      <th>fundType</th>\n",
       "      <th>masterAvg</th>\n",
       "      <th>masterUni</th>\n",
       "      <th>papersGLOB</th>\n",
       "      <th>papersIRAN</th>\n",
       "      <th>rejUni</th>\n",
       "      <th>year</th>\n",
       "    </tr>\n",
       "  </thead>\n",
       "  <tbody>\n",
       "    <tr>\n",
       "      <th>2</th>\n",
       "      <td>n/a</td>\n",
       "      <td>Doctorate</td>\n",
       "      <td>Heriot Watt University, Edinburgh</td>\n",
       "      <td>17.74</td>\n",
       "      <td>آزاد اسلامی امیدیه</td>\n",
       "      <td>انگلستان</td>\n",
       "      <td>n/a</td>\n",
       "      <td>n/a</td>\n",
       "      <td>n/a</td>\n",
       "      <td>n/a</td>\n",
       "      <td>...</td>\n",
       "      <td>Award is in GBP.The amount is for living stipe...</td>\n",
       "      <td>Petroleum Engineering</td>\n",
       "      <td>12600</td>\n",
       "      <td>Award</td>\n",
       "      <td>n/a</td>\n",
       "      <td>n/a</td>\n",
       "      <td>4</td>\n",
       "      <td>8</td>\n",
       "      <td>n/a</td>\n",
       "      <td>2007</td>\n",
       "    </tr>\n",
       "    <tr>\n",
       "      <th>3</th>\n",
       "      <td>EPFL Switzerland, Northwestern</td>\n",
       "      <td>Doctorate</td>\n",
       "      <td>Northwestern</td>\n",
       "      <td>15.70</td>\n",
       "      <td>فردوسی مشهد</td>\n",
       "      <td>آمریکا</td>\n",
       "      <td>3</td>\n",
       "      <td>760</td>\n",
       "      <td>100</td>\n",
       "      <td>iBT</td>\n",
       "      <td>...</td>\n",
       "      <td>سال 2008 اومدم آمریکا و دو سال master رو در دا...</td>\n",
       "      <td>Civil Engineering / Transportation</td>\n",
       "      <td>63000</td>\n",
       "      <td>RA</td>\n",
       "      <td>19</td>\n",
       "      <td>Portland State University</td>\n",
       "      <td>8</td>\n",
       "      <td>10</td>\n",
       "      <td>UC Berkeley, Georgia Tech</td>\n",
       "      <td>2010</td>\n",
       "    </tr>\n",
       "  </tbody>\n",
       "</table>\n",
       "<p>2 rows × 21 columns</p>\n",
       "</div>"
      ],
      "text/plain": [
       "                           accUni   apDegree  \\\n",
       "2                             n/a  Doctorate   \n",
       "3  EPFL Switzerland, Northwestern  Doctorate   \n",
       "\n",
       "                               apUni  bachelorsAvg        bachelorsUni  \\\n",
       "2  Heriot Watt University, Edinburgh         17.74  آزاد اسلامی امیدیه   \n",
       "3                       Northwestern         15.70         فردوسی مشهد   \n",
       "\n",
       "    country engExamAnlt engExamQuan engExamResult engExamType  ...   \\\n",
       "2  انگلستان         n/a         n/a           n/a         n/a  ...    \n",
       "3    آمریکا           3         760           100         iBT  ...    \n",
       "\n",
       "                                               extra  \\\n",
       "2  Award is in GBP.The amount is for living stipe...   \n",
       "3  سال 2008 اومدم آمریکا و دو سال master رو در دا...   \n",
       "\n",
       "                                field   fund  fundType masterAvg  \\\n",
       "2               Petroleum Engineering  12600     Award       n/a   \n",
       "3  Civil Engineering / Transportation  63000        RA        19   \n",
       "\n",
       "                   masterUni papersGLOB  papersIRAN  \\\n",
       "2                        n/a          4           8   \n",
       "3  Portland State University          8          10   \n",
       "\n",
       "                      rejUni  year  \n",
       "2                        n/a  2007  \n",
       "3  UC Berkeley, Georgia Tech  2010  \n",
       "\n",
       "[2 rows x 21 columns]"
      ]
     },
     "execution_count": 35,
     "metadata": {},
     "output_type": "execute_result"
    }
   ],
   "source": [
    "df = pd.read_json('../Data2.json')\n",
    "df.sort_index(inplace=True)\n",
    "df.head(2)"
   ]
  },
  {
   "cell_type": "code",
   "execution_count": 36,
   "metadata": {
    "collapsed": false
   },
   "outputs": [
    {
     "data": {
      "text/plain": [
       "Mechanical Engineering    261\n",
       "Computer Science          190\n",
       "Electrical Engineering    147\n",
       "Civil Engineering          94\n",
       "Chemical Engineering       84\n",
       "Name: field, dtype: int64"
      ]
     },
     "execution_count": 36,
     "metadata": {},
     "output_type": "execute_result"
    }
   ],
   "source": [
    "df['field'].value_counts().head()"
   ]
  },
  {
   "cell_type": "code",
   "execution_count": 37,
   "metadata": {
    "collapsed": false
   },
   "outputs": [
    {
     "data": {
      "text/plain": [
       "1519"
      ]
     },
     "execution_count": 37,
     "metadata": {},
     "output_type": "execute_result"
    }
   ],
   "source": [
    "df['field'].value_counts().count()"
   ]
  },
  {
   "cell_type": "code",
   "execution_count": 38,
   "metadata": {
    "collapsed": false
   },
   "outputs": [
    {
     "data": {
      "text/plain": [
       "1307"
      ]
     },
     "execution_count": 38,
     "metadata": {},
     "output_type": "execute_result"
    }
   ],
   "source": [
    "df['field']=df['field'].str.lower()\n",
    "df['field'].value_counts().count()"
   ]
  },
  {
   "cell_type": "markdown",
   "metadata": {},
   "source": [
    "**1307 types of fields**"
   ]
  },
  {
   "cell_type": "code",
   "execution_count": 39,
   "metadata": {
    "collapsed": false
   },
   "outputs": [],
   "source": [
    "for i in df.index:\n",
    "    f=df.get_value(i,'field').strip()\n",
    "    if \"civil\" in f: \n",
    "        df.set_value(i,'field','civil')\n",
    "    elif \"wireless\" in f: \n",
    "        df.set_value(i,'field','wireless')\n",
    "    elif (\"computer sci\" in f) | (\"compter sci\" in f) | ('ai'==f) | ('artificial' in f)| ('machine' in f)| ('robot' in f): \n",
    "        df.set_value(i,'field','computer science')\n",
    "    elif \"account\" in f: \n",
    "        df.set_value(i,'field','accounting')\n",
    "    elif (\"electrical\" in f )| ('electronic'in f): \n",
    "        df.set_value(i,'field','electric')\n",
    "    elif \"mechanic\" in f: \n",
    "        df.set_value(i,'field','mechanic')\n",
    "    elif \"math\" in f: \n",
    "        df.set_value(i,'field','math')\n",
    "    elif \"law\" in f: \n",
    "        df.set_value(i,'field','law')\n",
    "    elif (\"software\" in f) | ('computer' in f): \n",
    "        df.set_value(i,'field','computer engineering')\n",
    "    elif (\"information t\" in f) | (\"it\"==f) | (f=='ict')| ('it ' in f): \n",
    "        df.set_value(i,'field','information technology')\n",
    "    elif \"information sec\" in f: \n",
    "        df.set_value(i,'field','information security')\n",
    "    elif \"economic\" in f: \n",
    "        df.set_value(i,'field','economics')\n",
    "    elif \"material\" in f: \n",
    "        df.set_value(i,'field','materials')\n",
    "    elif \"market\" in f: \n",
    "        df.set_value(i,'field','marketing')\n",
    "    elif \"construct\" in f: \n",
    "        df.set_value(i,'field','construction')\n",
    "    elif \"management eng\" in f: \n",
    "        df.set_value(i,'field','engineering management')\n",
    "    elif \"chemical\" in f: \n",
    "        df.set_value(i,'field','chemical engineering')\n",
    "    elif \"geology\" in f: \n",
    "        df.set_value(i,'field','geology')\n",
    "    elif \"power\" in f: \n",
    "        if \"elec\" in f: \n",
    "            df.set_value(i,'field','electric') \n",
    "        else: \n",
    "            df.set_value(i,'field','power engineering') \n",
    "    elif \"project\" in f: \n",
    "        df.set_value(i,'field','project management')\n",
    "    elif \"physic\" in f: \n",
    "        df.set_value(i,'field','physics')\n",
    "    elif \"psyc\" in f: \n",
    "        df.set_value(i,'field','psychology')\n",
    "    elif \"media\" in f: \n",
    "        df.set_value(i,'field','media informatics')\n",
    "    elif \"business\" in f: \n",
    "        df.set_value(i,'field','mba')\n",
    "    elif \"finance\" in f: \n",
    "        df.set_value(i,'field','finance')\n",
    "    elif (\"english\" in f) | ('tesol' in f): \n",
    "        df.set_value(i,'field','english literature')\n",
    "    elif \"urban\" in f: \n",
    "        df.set_value(i,'field','urban planning')\n",
    "    elif \"network\" in f: \n",
    "        df.set_value(i,'field','networks and distributed systems')\n",
    "    elif \"biomedic\" in f: \n",
    "        df.set_value(i,'field','biomedical engineering')\n",
    "    elif \"water\" in f: \n",
    "        df.set_value(i,'field','water management')\n",
    "    elif \"telecommunication\" in f: \n",
    "        df.set_value(i,'field','telecommunication engineering')\n",
    "    elif \"industrial\" in f: \n",
    "        df.set_value(i,'field','industrial engineering')\n",
    "    elif \"statis\" in f: \n",
    "        df.set_value(i,'field','statistics')\n",
    "    elif \"information sys\" in f: \n",
    "        df.set_value(i,'field','information systems')\n",
    "    elif \"chemist\" in f: \n",
    "        df.set_value(i,'field','chemistry')\n",
    "    elif \"chem.\" in f: \n",
    "        df.set_value(i,'field','chemical engineering')\n",
    "    elif \"mining\" in f: \n",
    "        df.set_value(i,'field','mining')"
   ]
  },
  {
   "cell_type": "code",
   "execution_count": 40,
   "metadata": {
    "collapsed": false
   },
   "outputs": [
    {
     "name": "stdout",
     "output_type": "stream",
     "text": [
      "655 types\n"
     ]
    }
   ],
   "source": [
    "print(str(df['field'].value_counts().count())+' types')"
   ]
  },
  {
   "cell_type": "code",
   "execution_count": 41,
   "metadata": {
    "collapsed": false
   },
   "outputs": [
    {
     "data": {
      "text/plain": [
       "mechanic                            406\n",
       "electric                            360\n",
       "computer science                    294\n",
       "civil                               247\n",
       "chemical engineering                147\n",
       "computer engineering                137\n",
       "industrial engineering              120\n",
       "physics                             115\n",
       "chemistry                            75\n",
       "mba                                  72\n",
       "architecture                         70\n",
       "materials                            68\n",
       "economics                            49\n",
       "biomedical engineering               48\n",
       "math                                 46\n",
       "information technology               39\n",
       "urban planning                       34\n",
       "petroleum engineering                28\n",
       "law                                  26\n",
       "marketing                            26\n",
       "english literature                   25\n",
       "engineering management               24\n",
       "environmental engineering            21\n",
       "psychology                           21\n",
       "water management                     19\n",
       "information systems                  18\n",
       "construction                         18\n",
       "media informatics                    15\n",
       "power engineering                    14\n",
       "geology                              14\n",
       "project management                   14\n",
       "telecommunication engineering        12\n",
       "information security                 11\n",
       "neuroscience                         10\n",
       "management                           10\n",
       "networks and distributed systems     10\n",
       "accounting                           10\n",
       "architectural engineering             9\n",
       "statistics                            9\n",
       "finance                               9\n",
       "mining                                9\n",
       "sociology                             8\n",
       "structural engineering                7\n",
       "energy engineering                    7\n",
       "aerospace engineering                 7\n",
       "wireless                              7\n",
       "Name: field, dtype: int64"
      ]
     },
     "execution_count": 41,
     "metadata": {},
     "output_type": "execute_result"
    }
   ],
   "source": [
    "head=df['field'].value_counts()\n",
    "head[head>5]"
   ]
  },
  {
   "cell_type": "code",
   "execution_count": 42,
   "metadata": {
    "collapsed": false
   },
   "outputs": [],
   "source": [
    "head=head[head>5].index"
   ]
  },
  {
   "cell_type": "markdown",
   "metadata": {
    "collapsed": false
   },
   "source": [
    "### Using difflib Library\n",
    "### difflib.get_close_matches(word, possibilities[, n][, cutoff])\n",
    "### cutoff (default 0.6)"
   ]
  },
  {
   "cell_type": "markdown",
   "metadata": {},
   "source": [
    "** Testing Library **"
   ]
  },
  {
   "cell_type": "code",
   "execution_count": 43,
   "metadata": {
    "collapsed": false
   },
   "outputs": [
    {
     "data": {
      "text/plain": [
       "['telecommunication engineering',\n",
       " 'biomedical engineering',\n",
       " 'computer engineering']"
      ]
     },
     "execution_count": 43,
     "metadata": {},
     "output_type": "execute_result"
    }
   ],
   "source": [
    "difflib.get_close_matches('wireless communications engineering',head)"
   ]
  },
  {
   "cell_type": "markdown",
   "metadata": {},
   "source": [
    "** ! Wow Error with deafult CUTOFF **"
   ]
  },
  {
   "cell_type": "code",
   "execution_count": 44,
   "metadata": {
    "collapsed": false
   },
   "outputs": [
    {
     "data": {
      "text/plain": [
       "['telecommunication engineering']"
      ]
     },
     "execution_count": 44,
     "metadata": {},
     "output_type": "execute_result"
    }
   ],
   "source": [
    "difflib.get_close_matches('wireless communications engineering',head,cutoff=0.7)"
   ]
  },
  {
   "cell_type": "markdown",
   "metadata": {},
   "source": [
    "** Better than default one **"
   ]
  },
  {
   "cell_type": "code",
   "execution_count": 45,
   "metadata": {
    "collapsed": false
   },
   "outputs": [],
   "source": [
    "for i in df.index:\n",
    "    f=df.get_value(i,'field')\n",
    "    if f in head:continue\n",
    "    f=f.replace(u\")\",'')\n",
    "    f=f.replace(u\"(\",'')\n",
    "    res=difflib.get_close_matches(f,head)\n",
    "    if res==[]:continue\n",
    "    df.set_value(i,'field',res[0])"
   ]
  },
  {
   "cell_type": "code",
   "execution_count": 46,
   "metadata": {
    "collapsed": false
   },
   "outputs": [
    {
     "data": {
      "text/plain": [
       "372"
      ]
     },
     "execution_count": 46,
     "metadata": {},
     "output_type": "execute_result"
    }
   ],
   "source": [
    "new=df['field'].value_counts()\n",
    "new.count()"
   ]
  },
  {
   "cell_type": "code",
   "execution_count": 47,
   "metadata": {
    "collapsed": false
   },
   "outputs": [
    {
     "name": "stdout",
     "output_type": "stream",
     "text": [
      "48 main types\n"
     ]
    }
   ],
   "source": [
    "print(str(new[new>4].count())+' main types')"
   ]
  },
  {
   "cell_type": "code",
   "execution_count": 48,
   "metadata": {
    "collapsed": false
   },
   "outputs": [
    {
     "data": {
      "text/plain": [
       "sustainable energy technology            2\n",
       "maschinenbau                             2\n",
       "ie                                       2\n",
       "fine arts                                2\n",
       "genetic engineering and biotechnology    2\n",
       "Name: field, dtype: int64"
      ]
     },
     "execution_count": 48,
     "metadata": {},
     "output_type": "execute_result"
    }
   ],
   "source": [
    "out=new[new<3]\n",
    "out.head()"
   ]
  },
  {
   "cell_type": "code",
   "execution_count": 49,
   "metadata": {
    "collapsed": false
   },
   "outputs": [],
   "source": [
    "for i in df.index:\n",
    "    f=df.get_value(i,'field')\n",
    "    if f in out:\n",
    "        df.set_value(i,'field','n/a')"
   ]
  },
  {
   "cell_type": "code",
   "execution_count": 50,
   "metadata": {
    "collapsed": false
   },
   "outputs": [
    {
     "data": {
      "text/plain": [
       "58"
      ]
     },
     "execution_count": 50,
     "metadata": {},
     "output_type": "execute_result"
    }
   ],
   "source": [
    "df['field'].value_counts().count()"
   ]
  },
  {
   "cell_type": "code",
   "execution_count": 51,
   "metadata": {
    "collapsed": false
   },
   "outputs": [
    {
     "name": "stdout",
     "output_type": "stream",
     "text": [
      "mechanic                            418\n",
      "electric                            365\n",
      "n/a                                 342\n",
      "computer science                    309\n",
      "civil                               248\n",
      "chemical engineering                159\n",
      "computer engineering                153\n",
      "industrial engineering              127\n",
      "physics                             119\n",
      "architecture                         84\n",
      "mba                                  77\n",
      "chemistry                            77\n",
      "biomedical engineering               70\n",
      "materials                            69\n",
      "information technology               69\n",
      "economics                            52\n",
      "math                                 46\n",
      "engineering management               42\n",
      "environmental engineering            39\n",
      "petroleum engineering                36\n",
      "urban planning                       35\n",
      "information systems                  35\n",
      "media informatics                    35\n",
      "neuroscience                         34\n",
      "telecommunication engineering        33\n",
      "water management                     31\n",
      "marketing                            27\n",
      "english literature                   27\n",
      "sociology                            27\n",
      "construction                         27\n",
      "law                                  26\n",
      "power engineering                    24\n",
      "management                           23\n",
      "psychology                           23\n",
      "project management                   23\n",
      "geology                              23\n",
      "architectural engineering            16\n",
      "energy engineering                   16\n",
      "structural engineering               15\n",
      "information security                 15\n",
      "accounting                           13\n",
      "aerospace engineering                11\n",
      "statistics                           11\n",
      "mining                               11\n",
      "networks and distributed systems     10\n",
      "finance                               9\n",
      "wireless                              7\n",
      "philosophy                            5\n",
      "linguistics                           5\n",
      "operations research                   4\n",
      "ece                                   3\n",
      "hydraulic structures                  3\n",
      "applied linguistics                   3\n",
      "medicine                              3\n",
      "education                             3\n",
      "signal processing                     3\n",
      "automation                            3\n",
      "veterinary medicine                   3\n",
      "Name: field, dtype: int64\n"
     ]
    }
   ],
   "source": [
    "x=df.field.value_counts()\n",
    "pd.set_option('display.max_rows', len(x))\n",
    "print(x)\n",
    "pd.reset_option('display.max_rows')"
   ]
  },
  {
   "cell_type": "code",
   "execution_count": 52,
   "metadata": {
    "collapsed": true
   },
   "outputs": [],
   "source": [
    "groups=[[\"computer science\",\"computer engineering\",\"information technology\",\"wireless\",\"information systems\",\"media informatics\",\"information security\",\"signal processing\",\"telecommunication engineering\",\"networks and distributed systems\"],[\"mechanic\"],[\"physics\"],[\"math\",\"statistics\",\"operations research\"],[\"chemical engineering\",\"chemistry\",\"biomedical engineering\t\"],[\"civil\",\"law\",\"economics\",\"\"],[\"accounting\",\"finance\"],[\"geology\",\"environmental engineering\",\"petroleum engineering\",\"water management\",\"mining\",\"aerospace engineering\",\"hydraulic structures\",\"materials\"],[\"architectural engineering\",\"architecture\",\"structural engineering\"],[\"industrial engineering\"],[\"engineering management\",\"mba\",\"management\",\"project management\",\"urban planning \"],[\"power engineering\",\"electric\",\"energy engineering\"],[\"philosophy\"],[\"psychology\",\"neuroscience\",\"sociology\"],[\"linguistics\",\"english literature\",\"applied linguistics\"],[\"marketing\"],[\"education\"],[\"automation\"],[\"ece\"]]"
   ]
  },
  {
   "cell_type": "code",
   "execution_count": 53,
   "metadata": {
    "collapsed": false
   },
   "outputs": [],
   "source": [
    "for inx,d in df.iterrows():\n",
    "    for i,g in enumerate(groups):\n",
    "        if (d['field']!='n/a') & (d['field'] in g):\n",
    "            df.set_value(inx, 'fieldGroup', i)"
   ]
  },
  {
   "cell_type": "code",
   "execution_count": 54,
   "metadata": {
    "collapsed": false
   },
   "outputs": [
    {
     "data": {
      "text/html": [
       "<div>\n",
       "<table border=\"1\" class=\"dataframe\">\n",
       "  <thead>\n",
       "    <tr style=\"text-align: right;\">\n",
       "      <th></th>\n",
       "      <th>accUni</th>\n",
       "      <th>apDegree</th>\n",
       "      <th>apUni</th>\n",
       "      <th>bachelorsAvg</th>\n",
       "      <th>bachelorsUni</th>\n",
       "      <th>country</th>\n",
       "      <th>engExamAnlt</th>\n",
       "      <th>engExamQuan</th>\n",
       "      <th>engExamResult</th>\n",
       "      <th>engExamType</th>\n",
       "      <th>...</th>\n",
       "      <th>field</th>\n",
       "      <th>fund</th>\n",
       "      <th>fundType</th>\n",
       "      <th>masterAvg</th>\n",
       "      <th>masterUni</th>\n",
       "      <th>papersGLOB</th>\n",
       "      <th>papersIRAN</th>\n",
       "      <th>rejUni</th>\n",
       "      <th>year</th>\n",
       "      <th>fieldGroup</th>\n",
       "    </tr>\n",
       "  </thead>\n",
       "  <tbody>\n",
       "    <tr>\n",
       "      <th>2</th>\n",
       "      <td>n/a</td>\n",
       "      <td>Doctorate</td>\n",
       "      <td>Heriot Watt University, Edinburgh</td>\n",
       "      <td>17.74</td>\n",
       "      <td>آزاد اسلامی امیدیه</td>\n",
       "      <td>انگلستان</td>\n",
       "      <td>n/a</td>\n",
       "      <td>n/a</td>\n",
       "      <td>n/a</td>\n",
       "      <td>n/a</td>\n",
       "      <td>...</td>\n",
       "      <td>petroleum engineering</td>\n",
       "      <td>12600</td>\n",
       "      <td>Award</td>\n",
       "      <td>n/a</td>\n",
       "      <td>n/a</td>\n",
       "      <td>4</td>\n",
       "      <td>8</td>\n",
       "      <td>n/a</td>\n",
       "      <td>2007</td>\n",
       "      <td>7.0</td>\n",
       "    </tr>\n",
       "    <tr>\n",
       "      <th>3</th>\n",
       "      <td>EPFL Switzerland, Northwestern</td>\n",
       "      <td>Doctorate</td>\n",
       "      <td>Northwestern</td>\n",
       "      <td>15.70</td>\n",
       "      <td>فردوسی مشهد</td>\n",
       "      <td>آمریکا</td>\n",
       "      <td>3</td>\n",
       "      <td>760</td>\n",
       "      <td>100</td>\n",
       "      <td>iBT</td>\n",
       "      <td>...</td>\n",
       "      <td>civil</td>\n",
       "      <td>63000</td>\n",
       "      <td>RA</td>\n",
       "      <td>19</td>\n",
       "      <td>Portland State University</td>\n",
       "      <td>8</td>\n",
       "      <td>10</td>\n",
       "      <td>UC Berkeley, Georgia Tech</td>\n",
       "      <td>2010</td>\n",
       "      <td>5.0</td>\n",
       "    </tr>\n",
       "    <tr>\n",
       "      <th>5</th>\n",
       "      <td>n/a</td>\n",
       "      <td>Doctorate</td>\n",
       "      <td>Cornell</td>\n",
       "      <td>17.68</td>\n",
       "      <td>اميرکبير</td>\n",
       "      <td>آمریکا</td>\n",
       "      <td>3.5</td>\n",
       "      <td>800</td>\n",
       "      <td>100</td>\n",
       "      <td>iBT</td>\n",
       "      <td>...</td>\n",
       "      <td>engineering management</td>\n",
       "      <td>59400</td>\n",
       "      <td>TA/RA</td>\n",
       "      <td>18.04</td>\n",
       "      <td>شريف</td>\n",
       "      <td>4</td>\n",
       "      <td>4</td>\n",
       "      <td>Virginia Tech, INSEAD, MIT Sloan,Cornegie Mell...</td>\n",
       "      <td>2008</td>\n",
       "      <td>10.0</td>\n",
       "    </tr>\n",
       "    <tr>\n",
       "      <th>6</th>\n",
       "      <td>Dalhousie, Clemson, TUDelft, NTU-NUS (SINGA sc...</td>\n",
       "      <td>Masters</td>\n",
       "      <td>Chalmers</td>\n",
       "      <td>16.00</td>\n",
       "      <td>صنعتی امیرکبیر</td>\n",
       "      <td>سوئد</td>\n",
       "      <td>3</td>\n",
       "      <td>800</td>\n",
       "      <td>92</td>\n",
       "      <td>iBT</td>\n",
       "      <td>...</td>\n",
       "      <td>information technology</td>\n",
       "      <td>0</td>\n",
       "      <td>n/a</td>\n",
       "      <td>n/a</td>\n",
       "      <td>n/a</td>\n",
       "      <td>0</td>\n",
       "      <td>0</td>\n",
       "      <td>UC Berkeley, UC Davis, Carneigie Mellon</td>\n",
       "      <td>2008</td>\n",
       "      <td>0.0</td>\n",
       "    </tr>\n",
       "    <tr>\n",
       "      <th>7</th>\n",
       "      <td>Carlos III Madrid, FHTW Berlin, Chalmers, Poli...</td>\n",
       "      <td>Masters</td>\n",
       "      <td>Carlos III Madrid, Spain</td>\n",
       "      <td>7.67</td>\n",
       "      <td>پلی تکنیک بخارست، رومانی - معدل 7.67 از 10</td>\n",
       "      <td>اسپانیا</td>\n",
       "      <td>n/a</td>\n",
       "      <td>n/a</td>\n",
       "      <td>103</td>\n",
       "      <td>iBT</td>\n",
       "      <td>...</td>\n",
       "      <td>mba</td>\n",
       "      <td>24500</td>\n",
       "      <td>TA</td>\n",
       "      <td>n/a</td>\n",
       "      <td>n/a</td>\n",
       "      <td>0</td>\n",
       "      <td>0</td>\n",
       "      <td>Chalmers</td>\n",
       "      <td>2008</td>\n",
       "      <td>10.0</td>\n",
       "    </tr>\n",
       "  </tbody>\n",
       "</table>\n",
       "<p>5 rows × 22 columns</p>\n",
       "</div>"
      ],
      "text/plain": [
       "                                              accUni   apDegree  \\\n",
       "2                                                n/a  Doctorate   \n",
       "3                     EPFL Switzerland, Northwestern  Doctorate   \n",
       "5                                                n/a  Doctorate   \n",
       "6  Dalhousie, Clemson, TUDelft, NTU-NUS (SINGA sc...    Masters   \n",
       "7  Carlos III Madrid, FHTW Berlin, Chalmers, Poli...    Masters   \n",
       "\n",
       "                               apUni  bachelorsAvg  \\\n",
       "2  Heriot Watt University, Edinburgh         17.74   \n",
       "3                       Northwestern         15.70   \n",
       "5                            Cornell         17.68   \n",
       "6                           Chalmers         16.00   \n",
       "7           Carlos III Madrid, Spain          7.67   \n",
       "\n",
       "                                 bachelorsUni   country engExamAnlt  \\\n",
       "2                          آزاد اسلامی امیدیه  انگلستان         n/a   \n",
       "3                                 فردوسی مشهد    آمریکا           3   \n",
       "5                                    اميرکبير    آمریکا         3.5   \n",
       "6                              صنعتی امیرکبیر      سوئد           3   \n",
       "7  پلی تکنیک بخارست، رومانی - معدل 7.67 از 10   اسپانیا         n/a   \n",
       "\n",
       "  engExamQuan engExamResult engExamType    ...                       field  \\\n",
       "2         n/a           n/a         n/a    ...       petroleum engineering   \n",
       "3         760           100         iBT    ...                       civil   \n",
       "5         800           100         iBT    ...      engineering management   \n",
       "6         800            92         iBT    ...      information technology   \n",
       "7         n/a           103         iBT    ...                         mba   \n",
       "\n",
       "    fund fundType  masterAvg                  masterUni papersGLOB papersIRAN  \\\n",
       "2  12600    Award        n/a                        n/a          4          8   \n",
       "3  63000       RA         19  Portland State University          8         10   \n",
       "5  59400    TA/RA      18.04                       شريف          4          4   \n",
       "6      0      n/a        n/a                        n/a          0          0   \n",
       "7  24500       TA        n/a                        n/a          0          0   \n",
       "\n",
       "                                              rejUni  year fieldGroup  \n",
       "2                                                n/a  2007        7.0  \n",
       "3                          UC Berkeley, Georgia Tech  2010        5.0  \n",
       "5  Virginia Tech, INSEAD, MIT Sloan,Cornegie Mell...  2008       10.0  \n",
       "6            UC Berkeley, UC Davis, Carneigie Mellon  2008        0.0  \n",
       "7                                           Chalmers  2008       10.0  \n",
       "\n",
       "[5 rows x 22 columns]"
      ]
     },
     "execution_count": 54,
     "metadata": {},
     "output_type": "execute_result"
    }
   ],
   "source": [
    "df.head()"
   ]
  },
  {
   "cell_type": "code",
   "execution_count": 55,
   "metadata": {
    "collapsed": true
   },
   "outputs": [],
   "source": [
    "df.to_json('Data_Field.json',date_format='utf8')"
   ]
  }
 ],
 "metadata": {
  "kernelspec": {
   "display_name": "Python 2",
   "language": "python",
   "name": "python2"
  },
  "language_info": {
   "codemirror_mode": {
    "name": "ipython",
    "version": 2
   },
   "file_extension": ".py",
   "mimetype": "text/x-python",
   "name": "python",
   "nbconvert_exporter": "python",
   "pygments_lexer": "ipython2",
   "version": "2.7.13"
  }
 },
 "nbformat": 4,
 "nbformat_minor": 2
}

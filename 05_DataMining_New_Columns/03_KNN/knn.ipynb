{
 "cells": [
  {
   "cell_type": "code",
   "execution_count": 14,
   "metadata": {
    "collapsed": false
   },
   "outputs": [],
   "source": [
    "import numpy as np\n",
    "from pandas import Series, DataFrame\n",
    "import pandas as pd\n",
    "from sklearn import preprocessing, tree\n",
    "from sklearn.metrics import accuracy_score\n",
    "# from sklearn.model_selection import train_test_split, KFold\n",
    "from sklearn.neighbors import KNeighborsClassifier\n",
    "from sklearn.cross_validation import KFold"
   ]
  },
  {
   "cell_type": "code",
   "execution_count": 15,
   "metadata": {
    "collapsed": true
   },
   "outputs": [],
   "source": [
    "df=pd.read_json('../01_Preprocessing/First.json').sort_index()"
   ]
  },
  {
   "cell_type": "code",
   "execution_count": 16,
   "metadata": {
    "collapsed": false
   },
   "outputs": [
    {
     "data": {
      "text/html": [
       "<div>\n",
       "<table border=\"1\" class=\"dataframe\">\n",
       "  <thead>\n",
       "    <tr style=\"text-align: right;\">\n",
       "      <th></th>\n",
       "      <th>country</th>\n",
       "      <th>countryCoded</th>\n",
       "      <th>degree</th>\n",
       "      <th>degreeCoded</th>\n",
       "      <th>eng</th>\n",
       "      <th>engCoded</th>\n",
       "      <th>fieldGroup</th>\n",
       "      <th>fund</th>\n",
       "      <th>gpaBachelors</th>\n",
       "      <th>gpaMasters</th>\n",
       "      <th>gre</th>\n",
       "      <th>highLevelBachUni</th>\n",
       "      <th>highLevelMasterUni</th>\n",
       "      <th>paper</th>\n",
       "      <th>targetUni</th>\n",
       "      <th>uniAccepted</th>\n",
       "      <th>uniBachelors</th>\n",
       "      <th>uniMasters</th>\n",
       "      <th>uniSelected</th>\n",
       "      <th>year</th>\n",
       "    </tr>\n",
       "  </thead>\n",
       "  <tbody>\n",
       "    <tr>\n",
       "      <th>2</th>\n",
       "      <td>united kingdom</td>\n",
       "      <td>4</td>\n",
       "      <td>Doctorate</td>\n",
       "      <td>1</td>\n",
       "      <td>High</td>\n",
       "      <td>1</td>\n",
       "      <td>7</td>\n",
       "      <td>True</td>\n",
       "      <td>3.5</td>\n",
       "      <td>3.442986</td>\n",
       "      <td>False</td>\n",
       "      <td>False</td>\n",
       "      <td>False</td>\n",
       "      <td>8.0</td>\n",
       "      <td>heriot-watt</td>\n",
       "      <td>n/a</td>\n",
       "      <td>azad</td>\n",
       "      <td>n/a</td>\n",
       "      <td>heriot-watt</td>\n",
       "      <td>2007</td>\n",
       "    </tr>\n",
       "    <tr>\n",
       "      <th>3</th>\n",
       "      <td>united states</td>\n",
       "      <td>0</td>\n",
       "      <td>Doctorate</td>\n",
       "      <td>1</td>\n",
       "      <td>VeryHigh</td>\n",
       "      <td>0</td>\n",
       "      <td>5</td>\n",
       "      <td>True</td>\n",
       "      <td>2.5</td>\n",
       "      <td>3.500000</td>\n",
       "      <td>True</td>\n",
       "      <td>True</td>\n",
       "      <td>False</td>\n",
       "      <td>13.0</td>\n",
       "      <td>northwestern</td>\n",
       "      <td>switzerland</td>\n",
       "      <td>mashhad</td>\n",
       "      <td>portland state</td>\n",
       "      <td>northwestern</td>\n",
       "      <td>2010</td>\n",
       "    </tr>\n",
       "  </tbody>\n",
       "</table>\n",
       "</div>"
      ],
      "text/plain": [
       "          country  countryCoded     degree  degreeCoded       eng  engCoded  \\\n",
       "2  united kingdom             4  Doctorate            1      High         1   \n",
       "3   united states             0  Doctorate            1  VeryHigh         0   \n",
       "\n",
       "   fieldGroup  fund  gpaBachelors  gpaMasters    gre highLevelBachUni  \\\n",
       "2           7  True           3.5    3.442986  False            False   \n",
       "3           5  True           2.5    3.500000   True             True   \n",
       "\n",
       "  highLevelMasterUni  paper     targetUni  uniAccepted uniBachelors  \\\n",
       "2              False    8.0   heriot-watt          n/a         azad   \n",
       "3              False   13.0  northwestern  switzerland      mashhad   \n",
       "\n",
       "       uniMasters   uniSelected  year  \n",
       "2             n/a   heriot-watt  2007  \n",
       "3  portland state  northwestern  2010  "
      ]
     },
     "execution_count": 16,
     "metadata": {},
     "output_type": "execute_result"
    }
   ],
   "source": [
    "df.head(2)"
   ]
  },
  {
   "cell_type": "code",
   "execution_count": 17,
   "metadata": {
    "collapsed": true
   },
   "outputs": [],
   "source": [
    "def mydist(x, y):\n",
    "    return np.sum((x-y)**2)\n",
    "def jaccard(a, b):\n",
    "    intersection = float(len(set(a) & set(b)))\n",
    "    union = float(len(set(a) | set(b)))\n",
    "    return 1.0 - (intersection/union)"
   ]
  },
  {
   "cell_type": "code",
   "execution_count": 18,
   "metadata": {
    "collapsed": true
   },
   "outputs": [],
   "source": [
    "# http://scikit-learn.org/stable/modules/generated/sklearn.neighbors.DistanceMetric.html\n",
    "    \n",
    "dist=['braycurtis','canberra','chebyshev','cityblock','correlation','cosine','euclidean','dice','hamming','jaccard','kulsinski','matching','rogerstanimoto','russellrao','sokalsneath','yule']\n",
    "algorithm=['ball_tree', 'kd_tree', 'brute']"
   ]
  },
  {
   "cell_type": "markdown",
   "metadata": {},
   "source": [
    "## On country (only MS)"
   ]
  },
  {
   "cell_type": "code",
   "execution_count": 19,
   "metadata": {
    "collapsed": false
   },
   "outputs": [
    {
     "data": {
      "text/plain": [
       "Index([u'country', u'countryCoded', u'degree', u'degreeCoded', u'eng',\n",
       "       u'engCoded', u'fieldGroup', u'fund', u'gpaBachelors', u'gpaMasters',\n",
       "       u'gre', u'highLevelBachUni', u'highLevelMasterUni', u'paper',\n",
       "       u'targetUni', u'uniAccepted', u'uniBachelors', u'uniMasters',\n",
       "       u'uniSelected', u'year'],\n",
       "      dtype='object')"
      ]
     },
     "execution_count": 19,
     "metadata": {},
     "output_type": "execute_result"
    }
   ],
   "source": [
    "df.columns"
   ]
  },
  {
   "cell_type": "code",
   "execution_count": 20,
   "metadata": {
    "collapsed": false
   },
   "outputs": [
    {
     "name": "stdout",
     "output_type": "stream",
     "text": [
      "('ball_tree', 'braycurtis', 33.943345543345544)\n",
      "('ball_tree', 'canberra', 32.974684574684574)\n",
      "('ball_tree', 'chebyshev', 31.034106634106632)\n",
      "('ball_tree', 'cityblock', 33.431501831501834)\n",
      "('ball_tree', 'euclidean', 33.659422059422056)\n",
      "('ball_tree', 'dice', 30.746764346764348)\n",
      "('ball_tree', 'hamming', 33.943671143671146)\n",
      "('ball_tree', 'jaccard', 30.746764346764348)\n",
      "('ball_tree', 'kulsinski', 30.861375661375661)\n",
      "('ball_tree', 'matching', 30.746764346764348)\n",
      "('ball_tree', 'rogerstanimoto', 30.746764346764348)\n",
      "('ball_tree', 'russellrao', 35.258608058608061)\n",
      "('ball_tree', 'sokalsneath', 30.746764346764348)\n",
      "('kd_tree', 'chebyshev', 32.117867317867322)\n",
      "('kd_tree', 'cityblock', 33.202930402930399)\n",
      "('kd_tree', 'euclidean', 33.373544973544981)\n",
      "('brute', 'braycurtis', 33.316890516890524)\n",
      "('brute', 'canberra', 32.176475376475381)\n",
      "('brute', 'chebyshev', 29.949369149369147)\n",
      "('brute', 'cityblock', 32.746275946275951)\n",
      "('brute', 'correlation', 31.32242572242572)\n",
      "('brute', 'cosine', 30.807488807488806)\n",
      "('brute', 'euclidean', 32.86039886039886)\n",
      "('brute', 'dice', 31.54106634106634)\n",
      "('brute', 'hamming', 33.316402116402116)\n",
      "('brute', 'jaccard', 31.54106634106634)\n",
      "('brute', 'kulsinski', 31.54106634106634)\n",
      "('brute', 'matching', 31.54106634106634)\n",
      "('brute', 'rogerstanimoto', 31.54106634106634)\n",
      "('brute', 'russellrao', 30.861375661375661)\n",
      "('brute', 'sokalsneath', 31.54106634106634)\n",
      "('brute', 'yule', 32.286528286528281)\n",
      "('>>>>>>>Best: ', 35.258608058608061)\n"
     ]
    }
   ],
   "source": [
    "oldDf=df.copy()\n",
    "df=df[['countryCoded','degreeCoded','engCoded', 'fieldGroup','fund','gpaBachelors','gre', 'highLevelBachUni', 'paper']]\n",
    "df=df[df.degreeCoded==0]\n",
    "del df['degreeCoded']\n",
    "bestAvg=[]\n",
    "for alg in algorithm:\n",
    "    for dis in dist:\n",
    "        k_fold = KFold(n=len(df), n_folds=5)\n",
    "        scores = []\n",
    "        try:\n",
    "            clf = KNeighborsClassifier(n_neighbors=3, weights='distance',algorithm=alg, metric=dis)\n",
    "        except Exception as err:\n",
    "#             print(alg,dis,'err')\n",
    "            continue\n",
    "        for train_indices, test_indices in k_fold:\n",
    "            xtr = df.iloc[train_indices,(df.columns != 'countryCoded')]\n",
    "            ytr = df.iloc[train_indices]['countryCoded']\n",
    "            xte = df.iloc[test_indices, (df.columns != 'countryCoded')]\n",
    "            yte = df.iloc[test_indices]['countryCoded']\n",
    "            clf.fit(xtr, ytr)\n",
    "            ypred = clf.predict(xte)\n",
    "            acc=accuracy_score(list(yte),list(ypred))\n",
    "            scores.append(acc*100)\n",
    "        print(alg,dis,np.average(scores))\n",
    "        bestAvg.append(np.average(scores))\n",
    "print('>>>>>>>Best: ',np.max(bestAvg))"
   ]
  },
  {
   "cell_type": "markdown",
   "metadata": {},
   "source": [
    "## On Fund (only MS)"
   ]
  },
  {
   "cell_type": "code",
   "execution_count": 21,
   "metadata": {
    "collapsed": false
   },
   "outputs": [
    {
     "name": "stdout",
     "output_type": "stream",
     "text": [
      "('ball_tree', 'braycurtis', 75.868294668294666)\n",
      "('ball_tree', 'canberra', 75.353846153846149)\n",
      "('ball_tree', 'chebyshev', 73.245095645095631)\n",
      "('ball_tree', 'cityblock', 76.668294668294678)\n",
      "('ball_tree', 'euclidean', 76.098168498168505)\n",
      "('ball_tree', 'dice', 68.450305250305249)\n",
      "('ball_tree', 'hamming', 74.898819698819707)\n",
      "('ball_tree', 'jaccard', 68.450305250305249)\n",
      "('ball_tree', 'kulsinski', 68.678876678876676)\n",
      "('ball_tree', 'matching', 68.450305250305249)\n",
      "('ball_tree', 'rogerstanimoto', 68.450305250305249)\n",
      "('ball_tree', 'russellrao', 65.768335368335372)\n",
      "('ball_tree', 'sokalsneath', 68.450305250305249)\n",
      "('kd_tree', 'chebyshev', 73.359869759869767)\n",
      "('kd_tree', 'cityblock', 75.526577126577124)\n",
      "('kd_tree', 'euclidean', 75.298819698819699)\n",
      "('brute', 'braycurtis', 76.096052096052091)\n",
      "('brute', 'canberra', 75.696377696377709)\n",
      "('brute', 'chebyshev', 71.876923076923077)\n",
      "('brute', 'cityblock', 76.268294668294672)\n",
      "('brute', 'correlation', 75.297028897028895)\n",
      "('brute', 'cosine', 74.498494098494092)\n",
      "('brute', 'euclidean', 75.812291412291415)\n",
      "('brute', 'dice', 72.444118844118833)\n",
      "('brute', 'hamming', 75.354008954008947)\n",
      "('brute', 'jaccard', 72.444118844118833)\n",
      "('brute', 'kulsinski', 72.386813186813185)\n",
      "('brute', 'matching', 72.444118844118833)\n",
      "('brute', 'rogerstanimoto', 72.444118844118833)\n",
      "('brute', 'russellrao', 59.489947089947087)\n",
      "('brute', 'sokalsneath', 72.444118844118833)\n",
      "('brute', 'yule', 54.586406186406194)\n",
      "('>>>>>>>Best: ', 76.668294668294678)\n"
     ]
    }
   ],
   "source": [
    "bestAvg=[]\n",
    "for alg in algorithm:\n",
    "    for dis in dist:\n",
    "        k_fold = KFold(n=len(df), n_folds=5)\n",
    "        scores = []\n",
    "        try:\n",
    "            clf = KNeighborsClassifier(n_neighbors=3, weights='distance',algorithm=alg, metric=dis)\n",
    "        except Exception as err:\n",
    "            continue\n",
    "        for train_indices, test_indices in k_fold:\n",
    "            xtr = df.iloc[train_indices, (df.columns != 'fund')]\n",
    "            ytr = df.iloc[train_indices]['fund']\n",
    "            xte = df.iloc[test_indices, (df.columns != 'fund')]\n",
    "            yte = df.iloc[test_indices]['fund']\n",
    "            clf.fit(xtr, ytr)\n",
    "            ypred = clf.predict(xte)\n",
    "            acc=accuracy_score(list(yte),list(ypred))\n",
    "            score=acc*100\n",
    "            scores.append(score)\n",
    "            if (len(bestAvg)>1) :\n",
    "                if(score > np.max(bestAvg)) :\n",
    "                    bestClf=clf\n",
    "        bestAvg.append(np.average(scores))\n",
    "        print (alg,dis,np.average(scores))\n",
    "print('>>>>>>>Best: ',np.max(bestAvg))"
   ]
  },
  {
   "cell_type": "markdown",
   "metadata": {},
   "source": [
    "### Best : ('brute', 'cityblock', 76.894261294261298)"
   ]
  },
  {
   "cell_type": "code",
   "execution_count": 22,
   "metadata": {
    "collapsed": false
   },
   "outputs": [],
   "source": [
    "me=[1,2,0,2.5,False,False,1.5]"
   ]
  },
  {
   "cell_type": "code",
   "execution_count": 23,
   "metadata": {
    "collapsed": false
   },
   "outputs": [
    {
     "data": {
      "text/plain": [
       "(array([[ 0.42857143,  0.42857143,  0.42857143]]),\n",
       " array([[ 5, 17, 18]], dtype=int64))"
      ]
     },
     "execution_count": 23,
     "metadata": {},
     "output_type": "execute_result"
    }
   ],
   "source": [
    "n=bestClf.kneighbors([me])\n",
    "n"
   ]
  },
  {
   "cell_type": "code",
   "execution_count": 24,
   "metadata": {
    "collapsed": false
   },
   "outputs": [
    {
     "name": "stdout",
     "output_type": "stream",
     "text": [
      "    countryCoded  engCoded  fieldGroup  gpaBachelors    gre highLevelBachUni  \\\n",
      "18             1         1           2           2.0  False             True   \n",
      "71             1         1          10           3.0  False             True   \n",
      "77             5         1           0           3.0  False             True   \n",
      "\n",
      "    paper  \n",
      "18    5.0  \n",
      "71    1.5  \n",
      "77    2.5  \n"
     ]
    }
   ],
   "source": [
    "for i in n[1]:\n",
    "    print(xtr.iloc[i])"
   ]
  },
  {
   "cell_type": "code",
   "execution_count": null,
   "metadata": {
    "collapsed": true
   },
   "outputs": [],
   "source": []
  }
 ],
 "metadata": {
  "kernelspec": {
   "display_name": "Python 2",
   "language": "python",
   "name": "python2"
  }
 },
 "nbformat": 4,
 "nbformat_minor": 2
}

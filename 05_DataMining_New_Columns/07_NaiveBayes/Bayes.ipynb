{
 "cells": [
  {
   "cell_type": "code",
   "execution_count": 1,
   "metadata": {
    "collapsed": false
   },
   "outputs": [],
   "source": [
    "import numpy as np\n",
    "from pandas import Series, DataFrame\n",
    "import pandas as pd\n",
    "from sklearn.cluster import KMeans\n",
    "from sklearn.preprocessing import scale\n",
    "import matplotlib.pylab as plt"
   ]
  },
  {
   "cell_type": "code",
   "execution_count": 2,
   "metadata": {
    "collapsed": true
   },
   "outputs": [],
   "source": [
    "olddf=pd.read_json('../01_Preprocessing//First.json').sort_index()"
   ]
  },
  {
   "cell_type": "code",
   "execution_count": 3,
   "metadata": {
    "collapsed": false
   },
   "outputs": [
    {
     "data": {
      "text/html": [
       "<div>\n",
       "<table border=\"1\" class=\"dataframe\">\n",
       "  <thead>\n",
       "    <tr style=\"text-align: right;\">\n",
       "      <th></th>\n",
       "      <th>country</th>\n",
       "      <th>countryCoded</th>\n",
       "      <th>degree</th>\n",
       "      <th>degreeCoded</th>\n",
       "      <th>eng</th>\n",
       "      <th>engCoded</th>\n",
       "      <th>fieldGroup</th>\n",
       "      <th>fund</th>\n",
       "      <th>gpaBachelors</th>\n",
       "      <th>gpaMasters</th>\n",
       "      <th>gre</th>\n",
       "      <th>highLevelBachUni</th>\n",
       "      <th>highLevelMasterUni</th>\n",
       "      <th>paper</th>\n",
       "      <th>targetUni</th>\n",
       "      <th>uniAccepted</th>\n",
       "      <th>uniBachelors</th>\n",
       "      <th>uniMasters</th>\n",
       "      <th>uniSelected</th>\n",
       "      <th>year</th>\n",
       "    </tr>\n",
       "  </thead>\n",
       "  <tbody>\n",
       "    <tr>\n",
       "      <th>2</th>\n",
       "      <td>united kingdom</td>\n",
       "      <td>4</td>\n",
       "      <td>Doctorate</td>\n",
       "      <td>1</td>\n",
       "      <td>High</td>\n",
       "      <td>1</td>\n",
       "      <td>7</td>\n",
       "      <td>True</td>\n",
       "      <td>3.5</td>\n",
       "      <td>3.442986</td>\n",
       "      <td>False</td>\n",
       "      <td>False</td>\n",
       "      <td>False</td>\n",
       "      <td>8.0</td>\n",
       "      <td>heriot-watt</td>\n",
       "      <td>n/a</td>\n",
       "      <td>azad</td>\n",
       "      <td>n/a</td>\n",
       "      <td>heriot-watt</td>\n",
       "      <td>2007</td>\n",
       "    </tr>\n",
       "    <tr>\n",
       "      <th>3</th>\n",
       "      <td>united states</td>\n",
       "      <td>0</td>\n",
       "      <td>Doctorate</td>\n",
       "      <td>1</td>\n",
       "      <td>VeryHigh</td>\n",
       "      <td>0</td>\n",
       "      <td>5</td>\n",
       "      <td>True</td>\n",
       "      <td>2.5</td>\n",
       "      <td>3.500000</td>\n",
       "      <td>True</td>\n",
       "      <td>True</td>\n",
       "      <td>False</td>\n",
       "      <td>13.0</td>\n",
       "      <td>northwestern</td>\n",
       "      <td>switzerland</td>\n",
       "      <td>mashhad</td>\n",
       "      <td>portland state</td>\n",
       "      <td>northwestern</td>\n",
       "      <td>2010</td>\n",
       "    </tr>\n",
       "  </tbody>\n",
       "</table>\n",
       "</div>"
      ],
      "text/plain": [
       "          country  countryCoded     degree  degreeCoded       eng  engCoded  \\\n",
       "2  united kingdom             4  Doctorate            1      High         1   \n",
       "3   united states             0  Doctorate            1  VeryHigh         0   \n",
       "\n",
       "   fieldGroup  fund  gpaBachelors  gpaMasters    gre highLevelBachUni  \\\n",
       "2           7  True           3.5    3.442986  False            False   \n",
       "3           5  True           2.5    3.500000   True             True   \n",
       "\n",
       "  highLevelMasterUni  paper     targetUni  uniAccepted uniBachelors  \\\n",
       "2              False    8.0   heriot-watt          n/a         azad   \n",
       "3              False   13.0  northwestern  switzerland      mashhad   \n",
       "\n",
       "       uniMasters   uniSelected  year  \n",
       "2             n/a   heriot-watt  2007  \n",
       "3  portland state  northwestern  2010  "
      ]
     },
     "execution_count": 3,
     "metadata": {},
     "output_type": "execute_result"
    }
   ],
   "source": [
    "olddf.head(2)"
   ]
  },
  {
   "cell_type": "code",
   "execution_count": 4,
   "metadata": {
    "collapsed": true
   },
   "outputs": [],
   "source": [
    "olddf.targetUni.replace('n/a',np.nan,inplace=True)"
   ]
  },
  {
   "cell_type": "code",
   "execution_count": 5,
   "metadata": {
    "collapsed": false
   },
   "outputs": [
    {
     "data": {
      "text/plain": [
       "Index([u'country', u'countryCoded', u'degree', u'degreeCoded', u'eng',\n",
       "       u'engCoded', u'fieldGroup', u'fund', u'gpaBachelors', u'gpaMasters',\n",
       "       u'gre', u'highLevelBachUni', u'highLevelMasterUni', u'paper',\n",
       "       u'targetUni', u'uniAccepted', u'uniBachelors', u'uniMasters',\n",
       "       u'uniSelected', u'year'],\n",
       "      dtype='object')"
      ]
     },
     "execution_count": 5,
     "metadata": {},
     "output_type": "execute_result"
    }
   ],
   "source": [
    "olddf.columns"
   ]
  },
  {
   "cell_type": "code",
   "execution_count": 6,
   "metadata": {
    "collapsed": false
   },
   "outputs": [],
   "source": [
    "df=olddf[['countryCoded', 'degreeCoded','engCoded', 'fieldGroup', \n",
    "          'gpaBachelors','gre', 'highLevelBachUni', \n",
    "          'paper']]"
   ]
  },
  {
   "cell_type": "code",
   "execution_count": 7,
   "metadata": {
    "collapsed": false
   },
   "outputs": [
    {
     "name": "stdout",
     "output_type": "stream",
     "text": [
      "Number of mislabeled points out of a total 3526 points : 843\n"
     ]
    }
   ],
   "source": [
    "from sklearn.naive_bayes import GaussianNB\n",
    "gnb = GaussianNB()\n",
    "gnb.fit(df, olddf.fund)\n",
    "y_pred = gnb.predict(df)\n",
    "print(\"Number of mislabeled points out of a total %d points : %d\"\n",
    "      % (df.shape[0],(olddf.fund != y_pred).sum()))"
   ]
  },
  {
   "cell_type": "code",
   "execution_count": 8,
   "metadata": {
    "collapsed": false
   },
   "outputs": [
    {
     "data": {
      "text/plain": [
       "array([False], dtype=bool)"
      ]
     },
     "execution_count": 8,
     "metadata": {},
     "output_type": "execute_result"
    }
   ],
   "source": [
    "me=[1, 0,2, 0, 2.5,False, False,1]\n",
    "gnb.predict([me])"
   ]
  },
  {
   "cell_type": "code",
   "execution_count": 9,
   "metadata": {
    "collapsed": false
   },
   "outputs": [
    {
     "data": {
      "text/plain": [
       "array([[ 0.96836683,  0.03163317]])"
      ]
     },
     "execution_count": 9,
     "metadata": {},
     "output_type": "execute_result"
    }
   ],
   "source": [
    "gnb.predict_proba([me])"
   ]
  },
  {
   "cell_type": "code",
   "execution_count": 10,
   "metadata": {
    "collapsed": false
   },
   "outputs": [
    {
     "data": {
      "text/plain": [
       "array([False,  True], dtype=bool)"
      ]
     },
     "execution_count": 10,
     "metadata": {},
     "output_type": "execute_result"
    }
   ],
   "source": [
    "gnb.classes_"
   ]
  },
  {
   "cell_type": "code",
   "execution_count": null,
   "metadata": {
    "collapsed": true
   },
   "outputs": [],
   "source": []
  }
 ],
 "metadata": {
  "kernelspec": {
   "display_name": "Python 2",
   "language": "python",
   "name": "python2"
  },
  "language_info": {
   "codemirror_mode": {
    "name": "ipython",
    "version": 2
   },
   "file_extension": ".py",
   "mimetype": "text/x-python",
   "name": "python",
   "nbconvert_exporter": "python",
   "pygments_lexer": "ipython2",
   "version": "2.7.13"
  }
 },
 "nbformat": 4,
 "nbformat_minor": 2
}

{
 "cells": [
  {
   "cell_type": "code",
   "execution_count": 1,
   "metadata": {
    "collapsed": false
   },
   "outputs": [],
   "source": [
    "import numpy as np\n",
    "from pandas import Series, DataFrame\n",
    "import pandas as pd\n",
    "from sklearn.cluster import KMeans\n",
    "from sklearn.preprocessing import scale\n",
    "import matplotlib.pylab as plt"
   ]
  },
  {
   "cell_type": "code",
   "execution_count": 2,
   "metadata": {
    "collapsed": true
   },
   "outputs": [],
   "source": [
    "olddf=pd.read_json('../01_Preprocessing//First.json').sort_index()\n",
    "olddf.targetUni.replace('n/a',np.nan,inplace=True)"
   ]
  },
  {
   "cell_type": "code",
   "execution_count": 3,
   "metadata": {
    "collapsed": false
   },
   "outputs": [
    {
     "data": {
      "text/plain": [
       "Index([u'country', u'countryCoded', u'degree', u'degreeCoded', u'eng',\n",
       "       u'engCoded', u'fieldGroup', u'fund', u'gpaBachelors', u'gpaMasters',\n",
       "       u'gre', u'highLevelBachUni', u'highLevelMasterUni', u'paper',\n",
       "       u'targetUni', u'uniAccepted', u'uniBachelors', u'uniMasters',\n",
       "       u'uniSelected', u'year'],\n",
       "      dtype='object')"
      ]
     },
     "execution_count": 3,
     "metadata": {},
     "output_type": "execute_result"
    }
   ],
   "source": [
    "olddf.columns"
   ]
  },
  {
   "cell_type": "markdown",
   "metadata": {},
   "source": [
    "# phd"
   ]
  },
  {
   "cell_type": "code",
   "execution_count": 6,
   "metadata": {
    "collapsed": false
   },
   "outputs": [
    {
     "data": {
      "text/plain": [
       "alberta                 13\n",
       "waterloo                10\n",
       "royal lnstitute of       9\n",
       "bologna                  8\n",
       "new south wales          8\n",
       "calgary                  8\n",
       "ottawa                   6\n",
       "north carolina state     6\n",
       "concordia                6\n",
       "polytechnic  tirane      6\n",
       "Name: targetUni, dtype: int64"
      ]
     },
     "execution_count": 6,
     "metadata": {},
     "output_type": "execute_result"
    }
   ],
   "source": [
    "df=olddf[['countryCoded', 'degreeCoded','engCoded', 'fieldGroup', 'fund',\n",
    "          'gpaBachelors', 'gpaMasters','gre', 'highLevelBachUni', 'highLevelMasterUni','paper']]\n",
    "model=KMeans(n_clusters=10,random_state=99)\n",
    "model.fit(df)\n",
    "olddf['label']=Series(model.labels_,index=df.index)\n",
    "\n",
    "# Canada, Masters, Medium Eng , Want Fund, 2.5GPA , 0GPA MS, NoGRE, NoTopUni,noTopUniMS, 1Paper, 0PaperIran, 2017\n",
    "me=[1, 0,2, 3.5,True,2.5,0,False,False,False,1]\n",
    "pred=model.predict([me])\n",
    "olddf[olddf.label==pred[0]]['targetUni'].value_counts().head(10)"
   ]
  },
  {
   "cell_type": "markdown",
   "metadata": {},
   "source": [
    "# Masters"
   ]
  },
  {
   "cell_type": "code",
   "execution_count": 7,
   "metadata": {
    "collapsed": true
   },
   "outputs": [],
   "source": [
    "# 'countryCoded', 'engCoded', 'fieldGroup','gpaBachelors','gre',\n",
    "# 'highLevelBachUni','papersGLOB','papersIRAN','fund'\n",
    "me=[1,2, 0,2.5,False,False,1,True]"
   ]
  },
  {
   "cell_type": "code",
   "execution_count": 8,
   "metadata": {
    "collapsed": false
   },
   "outputs": [
    {
     "data": {
      "text/plain": [
       "concordia           29\n",
       "simon fraser        17\n",
       "calgary             17\n",
       "alberta             16\n",
       "melbourne           13\n",
       "british columbia    12\n",
       "manitoba            11\n",
       "western ontario      9\n",
       "northeastern         9\n",
       "toronto              8\n",
       "Name: targetUni, dtype: int64"
      ]
     },
     "execution_count": 8,
     "metadata": {},
     "output_type": "execute_result"
    }
   ],
   "source": [
    "df=olddf[['countryCoded', 'engCoded', 'fieldGroup','gpaBachelors','gre', 'highLevelBachUni','paper','fund']]\n",
    "model=KMeans(n_clusters=10,random_state=99)\n",
    "model.fit(df)\n",
    "olddf['label']=Series(model.labels_,index=df.index)\n",
    "pred=model.predict([me])\n",
    "olddf[olddf.label==pred[0]]['targetUni'].value_counts().head(10)"
   ]
  },
  {
   "cell_type": "markdown",
   "metadata": {},
   "source": [
    "# range clusters"
   ]
  },
  {
   "cell_type": "code",
   "execution_count": 9,
   "metadata": {
    "collapsed": false
   },
   "outputs": [],
   "source": [
    "cl=[u'country', u'degree', u'eng', u'fieldGroup', u'fund', u'gpaBachelors',\n",
    "       u'gre', u'highLevelBachUni', u'paper', u'targetUni', u'year']\n",
    "recomUni=[]\n",
    "for i in range(2,20):\n",
    "    model=KMeans(n_clusters=i,random_state=99)\n",
    "    model.fit(df)\n",
    "    pr=model.predict([me])\n",
    "    \n",
    "    olddf['label']=Series(model.labels_,index=df.index)\n",
    "    recomUni.append(olddf[(olddf.label==pr[0])&(olddf.countryCoded==me[0])][cl])"
   ]
  },
  {
   "cell_type": "code",
   "execution_count": 10,
   "metadata": {
    "collapsed": false
   },
   "outputs": [],
   "source": [
    "allProp=pd.concat(recomUni)"
   ]
  },
  {
   "cell_type": "code",
   "execution_count": 11,
   "metadata": {
    "collapsed": false
   },
   "outputs": [
    {
     "data": {
      "text/plain": [
       "targetUni\n",
       "concordia                                475\n",
       "alberta                                  320\n",
       "calgary                                  296\n",
       "simon fraser                             286\n",
       "melbourne                                216\n",
       "british columbia                         209\n",
       "manitoba                                 190\n",
       "toronto                                  168\n",
       "western ontario                          158\n",
       "waterloo                                 153\n",
       "saskatchewan                             123\n",
       "mcgill                                   111\n",
       "mcmaster                                 109\n",
       "new south wales                           92\n",
       "swiss federal institute of , lausanne     91\n",
       "Name: country, dtype: int64"
      ]
     },
     "execution_count": 11,
     "metadata": {},
     "output_type": "execute_result"
    }
   ],
   "source": [
    "allProp.groupby('targetUni').count().ix[:,0].sort_values(ascending=False).head(15)"
   ]
  },
  {
   "cell_type": "code",
   "execution_count": 12,
   "metadata": {
    "collapsed": false
   },
   "outputs": [
    {
     "name": "stdout",
     "output_type": "stream",
     "text": [
      "country\n",
      "canada         3812\n",
      "australia       770\n",
      "switzerland     216\n",
      "Name: degree, dtype: int64\n",
      "\n",
      "\n",
      "degree\n",
      "Masters      2745\n",
      "Doctorate    2053\n",
      "Name: country, dtype: int64\n",
      "\n",
      "\n",
      "eng\n",
      "High        2571\n",
      "VeryHigh    1320\n",
      "Medium       905\n",
      "Low            2\n",
      "Name: country, dtype: int64\n",
      "\n",
      "\n",
      "fieldGroup\n",
      "0    2999\n",
      "1    1107\n",
      "2     339\n",
      "4     156\n",
      "5     130\n",
      "3      67\n",
      "Name: country, dtype: int64\n",
      "\n",
      "\n",
      "fund\n",
      "True     3346\n",
      "False    1452\n",
      "Name: country, dtype: int64\n",
      "\n",
      "\n",
      "gpaBachelors\n",
      " 3.000000     1425\n",
      " 2.500000     1030\n",
      " 3.500000      885\n",
      " 2.000000      711\n",
      " 4.000000      390\n",
      " 1.500000      224\n",
      " 2.611309       73\n",
      " 1.000000       59\n",
      "-14.000000       1\n",
      "Name: country, dtype: int64\n",
      "\n",
      "\n",
      "gre\n",
      "False    3194\n",
      "True     1604\n",
      "Name: country, dtype: int64\n",
      "\n",
      "\n",
      "highLevelBachUni\n",
      "True     2664\n",
      "False    2134\n",
      "Name: country, dtype: int64\n",
      "\n",
      "\n",
      "paper\n",
      "0.0    2149\n",
      "1.0     627\n",
      "2.0     552\n",
      "0.5     343\n",
      "1.5     338\n",
      "3.0     222\n",
      "2.5     118\n",
      "4.0      87\n",
      "3.5      85\n",
      "4.5      47\n",
      "Name: country, dtype: int64\n",
      "\n",
      "\n",
      "targetUni\n",
      "concordia           475\n",
      "alberta             320\n",
      "calgary             296\n",
      "simon fraser        286\n",
      "melbourne           216\n",
      "british columbia    209\n",
      "manitoba            190\n",
      "toronto             168\n",
      "western ontario     158\n",
      "waterloo            153\n",
      "Name: country, dtype: int64\n",
      "\n",
      "\n",
      "year\n",
      "2013    763\n",
      "2012    759\n",
      "2010    664\n",
      "2011    597\n",
      "2014    505\n",
      "2016    422\n",
      "2015    329\n",
      "2009    280\n",
      "2008    266\n",
      "2017    158\n",
      "Name: country, dtype: int64\n",
      "\n",
      "\n"
     ]
    }
   ],
   "source": [
    "for l in cl:\n",
    "    print(allProp.groupby(l).count().ix[:,0].sort_values(ascending=False).head(10))\n",
    "    print '\\n'"
   ]
  },
  {
   "cell_type": "code",
   "execution_count": null,
   "metadata": {
    "collapsed": true
   },
   "outputs": [],
   "source": []
  }
 ],
 "metadata": {
  "kernelspec": {
   "display_name": "Python 2",
   "language": "python",
   "name": "python2"
  },
  "language_info": {
   "codemirror_mode": {
    "name": "ipython",
    "version": 2
   },
   "file_extension": ".py",
   "mimetype": "text/x-python",
   "name": "python",
   "nbconvert_exporter": "python",
   "pygments_lexer": "ipython2",
   "version": "2.7.13"
  }
 },
 "nbformat": 4,
 "nbformat_minor": 2
}

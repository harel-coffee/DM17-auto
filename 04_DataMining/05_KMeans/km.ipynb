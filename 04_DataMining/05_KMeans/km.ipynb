{
 "cells": [
  {
   "cell_type": "code",
   "execution_count": 1,
   "metadata": {
    "collapsed": false
   },
   "outputs": [],
   "source": [
    "import numpy as np\n",
    "from pandas import Series, DataFrame\n",
    "import pandas as pd\n",
    "from sklearn.cluster import KMeans\n",
    "from sklearn.preprocessing import scale\n",
    "import matplotlib.pylab as plt"
   ]
  },
  {
   "cell_type": "code",
   "execution_count": 2,
   "metadata": {
    "collapsed": true
   },
   "outputs": [],
   "source": [
    "olddf=pd.read_json('../01_Preprocessing//First.json').sort_index()\n",
    "olddf.targetUni.replace('n/a',np.nan,inplace=True)"
   ]
  },
  {
   "cell_type": "code",
   "execution_count": 3,
   "metadata": {
    "collapsed": false
   },
   "outputs": [
    {
     "data": {
      "text/plain": [
       "Index([u'country', u'countryCoded', u'degree', u'degreeCoded', u'eng',\n",
       "       u'engCoded', u'fieldGroup', u'fund', u'gpaBachelors', u'gpaMasters',\n",
       "       u'gre', u'highLevelBachUni', u'highLevelMasterUni', u'papersGLOB',\n",
       "       u'papersIRAN', u'targetUni', u'uniAccepted', u'uniSelected', u'year'],\n",
       "      dtype='object')"
      ]
     },
     "execution_count": 3,
     "metadata": {},
     "output_type": "execute_result"
    }
   ],
   "source": [
    "olddf.columns"
   ]
  },
  {
   "cell_type": "markdown",
   "metadata": {},
   "source": [
    "# phd"
   ]
  },
  {
   "cell_type": "code",
   "execution_count": 7,
   "metadata": {
    "collapsed": false
   },
   "outputs": [
    {
     "data": {
      "text/plain": [
       "alberta                 18\n",
       "royal lnstitute of      16\n",
       "new south wales         12\n",
       "waterloo                12\n",
       "north carolina state    11\n",
       "calgary                  9\n",
       "bologna                  9\n",
       "british columbia         8\n",
       "manitoba                 7\n",
       "western ontario          7\n",
       "Name: targetUni, dtype: int64"
      ]
     },
     "execution_count": 7,
     "metadata": {},
     "output_type": "execute_result"
    }
   ],
   "source": [
    "df=olddf[['countryCoded', 'degreeCoded','engCoded', 'fieldGroup', 'fund',\n",
    "          'gpaBachelors', 'gpaMasters','gre', 'highLevelBachUni', 'highLevelMasterUni',\n",
    "          'papersGLOB','papersIRAN']]\n",
    "model=KMeans(n_clusters=10,random_state=99)\n",
    "model.fit(df)\n",
    "olddf['label']=Series(model.labels_,index=df.index)\n",
    "\n",
    "# Canada, Masters, Medium Eng , Want Fund, 2.5GPA , 0GPA MS, NoGRE, NoTopUni,noTopUniMS, 1Paper, 0PaperIran, 2017\n",
    "me=[1, 0,2, 3.5,True,2.5,0,False,False,False,1,0]\n",
    "pred=model.predict([me])\n",
    "olddf[olddf.label==pred[0]]['targetUni'].value_counts().head(10)"
   ]
  },
  {
   "cell_type": "markdown",
   "metadata": {},
   "source": [
    "# Masters"
   ]
  },
  {
   "cell_type": "code",
   "execution_count": null,
   "metadata": {
    "collapsed": true
   },
   "outputs": [],
   "source": [
    "# 'countryCoded', 'engCoded', 'fieldGroup','gpaBachelors','gre',\n",
    "# 'highLevelBachUni','papersGLOB','papersIRAN','fund'\n",
    "me=[1,2, 0,2.5,False,False,1,0,True]"
   ]
  },
  {
   "cell_type": "code",
   "execution_count": 5,
   "metadata": {
    "collapsed": false
   },
   "outputs": [
    {
     "data": {
      "text/plain": [
       "concordia           26\n",
       "simon fraser        18\n",
       "calgary             18\n",
       "alberta             17\n",
       "manitoba            14\n",
       "melbourne           14\n",
       "british columbia    13\n",
       "western ontario     10\n",
       "toronto              9\n",
       "waterloo             9\n",
       "Name: targetUni, dtype: int64"
      ]
     },
     "execution_count": 5,
     "metadata": {},
     "output_type": "execute_result"
    }
   ],
   "source": [
    "df=olddf[['countryCoded', 'engCoded', 'fieldGroup','gpaBachelors','gre', 'highLevelBachUni','papersGLOB','papersIRAN','fund']]\n",
    "model=KMeans(n_clusters=10,random_state=99)\n",
    "model.fit(df)\n",
    "olddf['label']=Series(model.labels_,index=df.index)\n",
    "pred=model.predict([me])\n",
    "olddf[olddf.label==pred[0]]['targetUni'].value_counts().head(10)"
   ]
  },
  {
   "cell_type": "markdown",
   "metadata": {},
   "source": [
    "# range clusters"
   ]
  },
  {
   "cell_type": "code",
   "execution_count": 12,
   "metadata": {
    "collapsed": false
   },
   "outputs": [],
   "source": [
    "cl=[u'country', u'degree', u'eng', u'fieldGroup', u'fund', u'gpaBachelors',\n",
    "       u'gre', u'highLevelBachUni', u'papersGLOB',u'papersIRAN', u'targetUni', u'year']\n",
    "recomUni=[]\n",
    "for i in range(2,20):\n",
    "    model=KMeans(n_clusters=i,random_state=99)\n",
    "    model.fit(df)\n",
    "    pr=model.predict([me])\n",
    "    \n",
    "    olddf['label']=Series(model.labels_,index=df.index)\n",
    "    recomUni.append(olddf[(olddf.label==pr[0])&(olddf.countryCoded==me[0])][cl])"
   ]
  },
  {
   "cell_type": "code",
   "execution_count": 26,
   "metadata": {
    "collapsed": false
   },
   "outputs": [],
   "source": [
    "allProp=pd.concat(recomUni)"
   ]
  },
  {
   "cell_type": "code",
   "execution_count": 46,
   "metadata": {
    "collapsed": false
   },
   "outputs": [
    {
     "data": {
      "text/plain": [
       "targetUni\n",
       "alberta             349\n",
       "waterloo            223\n",
       "calgary             207\n",
       "new south wales     205\n",
       "british columbia    180\n",
       "concordia           177\n",
       "manitoba            134\n",
       "western ontario     128\n",
       "simon fraser        119\n",
       "ottawa              118\n",
       "mcgill              101\n",
       "queens               89\n",
       "dalhousie            86\n",
       "mcmaster             85\n",
       "melbourne            83\n",
       "Name: country, dtype: int64"
      ]
     },
     "execution_count": 46,
     "metadata": {},
     "output_type": "execute_result"
    }
   ],
   "source": [
    "allProp.groupby('targetUni').count().ix[:,0].sort_values(ascending=False).head(15)"
   ]
  },
  {
   "cell_type": "code",
   "execution_count": 45,
   "metadata": {
    "collapsed": false
   },
   "outputs": [
    {
     "name": "stdout",
     "output_type": "stream",
     "text": [
      "country\n",
      "canada         2988\n",
      "australia       848\n",
      "switzerland     147\n",
      "Name: degree, dtype: int64\n",
      "\n",
      "\n",
      "degree\n",
      "Doctorate    2261\n",
      "Masters      1722\n",
      "Name: country, dtype: int64\n",
      "\n",
      "\n",
      "eng\n",
      "High        2078\n",
      "Medium       938\n",
      "VeryHigh     936\n",
      "Low           31\n",
      "Name: country, dtype: int64\n",
      "\n",
      "\n",
      "fieldGroup\n",
      "4    1101\n",
      "5    1013\n",
      "0     708\n",
      "7     470\n",
      "1     312\n",
      "3     155\n",
      "2      81\n",
      "8      73\n",
      "6      70\n",
      "Name: country, dtype: int64\n",
      "\n",
      "\n",
      "fund\n",
      "True     3026\n",
      "False     957\n",
      "Name: country, dtype: int64\n",
      "\n",
      "\n",
      "gpaBachelors\n",
      "3.000000    1205\n",
      "2.500000    1092\n",
      "3.500000     612\n",
      "2.000000     583\n",
      "1.500000     208\n",
      "4.000000     174\n",
      "1.000000      64\n",
      "2.611309      22\n",
      "3.600000      14\n",
      "3.570000       8\n",
      "Name: country, dtype: int64\n",
      "\n",
      "\n",
      "gre\n",
      "False    2652\n",
      "True     1331\n",
      "Name: country, dtype: int64\n",
      "\n",
      "\n",
      "highLevelBachUni\n",
      "True     2075\n",
      "False    1908\n",
      "Name: country, dtype: int64\n",
      "\n",
      "\n",
      "papersGLOB\n",
      "0     1988\n",
      "1      626\n",
      "2      523\n",
      "3      507\n",
      "4      130\n",
      "5       81\n",
      "6       48\n",
      "7       42\n",
      "8       16\n",
      "10       8\n",
      "Name: country, dtype: int64\n",
      "\n",
      "\n",
      "papersIRAN\n",
      "0     2400\n",
      "1      675\n",
      "2      425\n",
      "3      200\n",
      "4      138\n",
      "5       87\n",
      "6       27\n",
      "7       13\n",
      "8        7\n",
      "10       4\n",
      "Name: country, dtype: int64\n",
      "\n",
      "\n",
      "targetUni\n",
      "alberta             349\n",
      "waterloo            223\n",
      "calgary             207\n",
      "new south wales     205\n",
      "british columbia    180\n",
      "concordia           177\n",
      "manitoba            134\n",
      "western ontario     128\n",
      "simon fraser        119\n",
      "ottawa              118\n",
      "Name: country, dtype: int64\n",
      "\n",
      "\n",
      "year\n",
      "2013    623\n",
      "2012    580\n",
      "2010    456\n",
      "2014    453\n",
      "2011    437\n",
      "2016    384\n",
      "2015    357\n",
      "2008    266\n",
      "2009    257\n",
      "2017    147\n",
      "Name: country, dtype: int64\n",
      "\n",
      "\n"
     ]
    }
   ],
   "source": [
    "for l in cl:\n",
    "    print(allProp.groupby(l).count().ix[:,0].sort_values(ascending=False).head(10))\n",
    "    print '\\n'"
   ]
  },
  {
   "cell_type": "code",
   "execution_count": null,
   "metadata": {
    "collapsed": true
   },
   "outputs": [],
   "source": []
  },
  {
   "cell_type": "markdown",
   "metadata": {},
   "source": [
    "# Nice\n",
    "\n",
    "# but : unknown accuracy"
   ]
  }
 ],
 "metadata": {
  "kernelspec": {
   "display_name": "Python 2",
   "language": "python",
   "name": "python2"
  },
  "language_info": {
   "codemirror_mode": {
    "name": "ipython",
    "version": 2
   },
   "file_extension": ".py",
   "mimetype": "text/x-python",
   "name": "python",
   "nbconvert_exporter": "python",
   "pygments_lexer": "ipython2",
   "version": "2.7.13"
  }
 },
 "nbformat": 4,
 "nbformat_minor": 2
}

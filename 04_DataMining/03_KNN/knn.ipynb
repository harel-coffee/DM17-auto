{
 "cells": [
  {
   "cell_type": "code",
   "execution_count": 17,
   "metadata": {
    "collapsed": false
   },
   "outputs": [],
   "source": [
    "import numpy as np\n",
    "from pandas import Series, DataFrame\n",
    "import pandas as pd\n",
    "from sklearn import preprocessing, tree\n",
    "from sklearn.metrics import accuracy_score\n",
    "# from sklearn.model_selection import train_test_split, KFold\n",
    "from sklearn.neighbors import KNeighborsClassifier\n",
    "from sklearn.cross_validation import KFold"
   ]
  },
  {
   "cell_type": "code",
   "execution_count": 18,
   "metadata": {
    "collapsed": true
   },
   "outputs": [],
   "source": [
    "df=pd.read_json('../01_Preprocessing/First.json').sort_index()"
   ]
  },
  {
   "cell_type": "code",
   "execution_count": 19,
   "metadata": {
    "collapsed": false
   },
   "outputs": [
    {
     "data": {
      "text/html": [
       "<div>\n",
       "<table border=\"1\" class=\"dataframe\">\n",
       "  <thead>\n",
       "    <tr style=\"text-align: right;\">\n",
       "      <th></th>\n",
       "      <th>country</th>\n",
       "      <th>countryCoded</th>\n",
       "      <th>degree</th>\n",
       "      <th>degreeCoded</th>\n",
       "      <th>eng</th>\n",
       "      <th>engCoded</th>\n",
       "      <th>fieldGroup</th>\n",
       "      <th>fund</th>\n",
       "      <th>gpaBachelors</th>\n",
       "      <th>gpaMasters</th>\n",
       "      <th>gre</th>\n",
       "      <th>highLevelBachUni</th>\n",
       "      <th>highLevelMasterUni</th>\n",
       "      <th>papersGLOB</th>\n",
       "      <th>papersIRAN</th>\n",
       "      <th>targetUni</th>\n",
       "      <th>uniAccepted</th>\n",
       "      <th>uniSelected</th>\n",
       "      <th>year</th>\n",
       "    </tr>\n",
       "  </thead>\n",
       "  <tbody>\n",
       "    <tr>\n",
       "      <th>2</th>\n",
       "      <td>united kingdom</td>\n",
       "      <td>4</td>\n",
       "      <td>Doctorate</td>\n",
       "      <td>1</td>\n",
       "      <td>High</td>\n",
       "      <td>1</td>\n",
       "      <td>7</td>\n",
       "      <td>True</td>\n",
       "      <td>3.5</td>\n",
       "      <td>3.442986</td>\n",
       "      <td>False</td>\n",
       "      <td>False</td>\n",
       "      <td>False</td>\n",
       "      <td>4</td>\n",
       "      <td>8</td>\n",
       "      <td>heriot watt , edinburgh</td>\n",
       "      <td>n/a</td>\n",
       "      <td>heriot watt , edinburgh</td>\n",
       "      <td>2007</td>\n",
       "    </tr>\n",
       "    <tr>\n",
       "      <th>3</th>\n",
       "      <td>united states</td>\n",
       "      <td>0</td>\n",
       "      <td>Doctorate</td>\n",
       "      <td>1</td>\n",
       "      <td>VeryHigh</td>\n",
       "      <td>0</td>\n",
       "      <td>5</td>\n",
       "      <td>True</td>\n",
       "      <td>2.5</td>\n",
       "      <td>3.500000</td>\n",
       "      <td>True</td>\n",
       "      <td>True</td>\n",
       "      <td>False</td>\n",
       "      <td>8</td>\n",
       "      <td>10</td>\n",
       "      <td>northwestern</td>\n",
       "      <td>epfl switzerland, northwestern</td>\n",
       "      <td>northwestern</td>\n",
       "      <td>2010</td>\n",
       "    </tr>\n",
       "  </tbody>\n",
       "</table>\n",
       "</div>"
      ],
      "text/plain": [
       "          country  countryCoded     degree  degreeCoded       eng  engCoded  \\\n",
       "2  united kingdom             4  Doctorate            1      High         1   \n",
       "3   united states             0  Doctorate            1  VeryHigh         0   \n",
       "\n",
       "   fieldGroup  fund  gpaBachelors  gpaMasters    gre highLevelBachUni  \\\n",
       "2           7  True           3.5    3.442986  False            False   \n",
       "3           5  True           2.5    3.500000   True             True   \n",
       "\n",
       "  highLevelMasterUni  papersGLOB  papersIRAN                targetUni  \\\n",
       "2              False           4           8  heriot watt , edinburgh   \n",
       "3              False           8          10             northwestern   \n",
       "\n",
       "                      uniAccepted              uniSelected  year  \n",
       "2                             n/a  heriot watt , edinburgh  2007  \n",
       "3  epfl switzerland, northwestern             northwestern  2010  "
      ]
     },
     "execution_count": 19,
     "metadata": {},
     "output_type": "execute_result"
    }
   ],
   "source": [
    "df.head(2)"
   ]
  },
  {
   "cell_type": "code",
   "execution_count": 20,
   "metadata": {
    "collapsed": true
   },
   "outputs": [],
   "source": [
    "def mydist(x, y):\n",
    "    return np.sum((x-y)**2)\n",
    "def jaccard(a, b):\n",
    "    intersection = float(len(set(a) & set(b)))\n",
    "    union = float(len(set(a) | set(b)))\n",
    "    return 1.0 - (intersection/union)"
   ]
  },
  {
   "cell_type": "code",
   "execution_count": 21,
   "metadata": {
    "collapsed": true
   },
   "outputs": [],
   "source": [
    "# http://scikit-learn.org/stable/modules/generated/sklearn.neighbors.DistanceMetric.html\n",
    "    \n",
    "dist=['braycurtis','canberra','chebyshev','cityblock','correlation','cosine','euclidean','dice','hamming','jaccard','kulsinski','matching','rogerstanimoto','russellrao','sokalsneath','yule']\n",
    "algorithm=['ball_tree', 'kd_tree', 'brute']"
   ]
  },
  {
   "cell_type": "markdown",
   "metadata": {},
   "source": [
    "## On country (only MS)"
   ]
  },
  {
   "cell_type": "code",
   "execution_count": 22,
   "metadata": {
    "collapsed": false
   },
   "outputs": [
    {
     "data": {
      "text/plain": [
       "Index([u'country', u'countryCoded', u'degree', u'degreeCoded', u'eng',\n",
       "       u'engCoded', u'fieldGroup', u'fund', u'gpaBachelors', u'gpaMasters',\n",
       "       u'gre', u'highLevelBachUni', u'highLevelMasterUni', u'papersGLOB',\n",
       "       u'papersIRAN', u'targetUni', u'uniAccepted', u'uniSelected', u'year'],\n",
       "      dtype='object')"
      ]
     },
     "execution_count": 22,
     "metadata": {},
     "output_type": "execute_result"
    }
   ],
   "source": [
    "df.columns"
   ]
  },
  {
   "cell_type": "code",
   "execution_count": 23,
   "metadata": {
    "collapsed": false
   },
   "outputs": [
    {
     "name": "stdout",
     "output_type": "stream",
     "text": [
      "('ball_tree', 'braycurtis', 28.238013838013835)\n",
      "('ball_tree', 'canberra', 28.238990638990639)\n",
      "('ball_tree', 'chebyshev', 25.4979242979243)\n",
      "('ball_tree', 'cityblock', 27.782010582010582)\n",
      "('ball_tree', 'euclidean', 27.838176638176641)\n",
      "('ball_tree', 'dice', 29.549206349206351)\n",
      "('ball_tree', 'hamming', 29.264143264143264)\n",
      "('ball_tree', 'jaccard', 29.549206349206351)\n",
      "('ball_tree', 'kulsinski', 29.492063492063494)\n",
      "('ball_tree', 'matching', 29.549043549043546)\n",
      "('ball_tree', 'rogerstanimoto', 29.549043549043546)\n",
      "('ball_tree', 'russellrao', 27.441758241758244)\n",
      "('ball_tree', 'sokalsneath', 29.549206349206351)\n",
      "('kd_tree', 'chebyshev', 26.58168498168498)\n",
      "('kd_tree', 'cityblock', 27.838502238502237)\n",
      "('kd_tree', 'euclidean', 27.952136752136756)\n",
      "('brute', 'braycurtis', 28.295482295482298)\n",
      "('brute', 'canberra', 28.067887667887668)\n",
      "('brute', 'chebyshev', 25.097924297924301)\n",
      "('brute', 'cityblock', 27.325681725681726)\n",
      "('brute', 'correlation', 26.585917785917786)\n",
      "('brute', 'cosine', 26.642409442409445)\n",
      "('brute', 'euclidean', 27.325193325193329)\n",
      "('brute', 'dice', 30.914448514448516)\n",
      "('brute', 'hamming', 28.808465608465603)\n",
      "('brute', 'jaccard', 30.914448514448516)\n",
      "('brute', 'kulsinski', 31.028571428571428)\n",
      "('brute', 'matching', 30.857142857142854)\n",
      "('brute', 'rogerstanimoto', 30.857142857142854)\n",
      "('brute', 'russellrao', 29.948880748880754)\n",
      "('brute', 'sokalsneath', 30.914448514448516)\n",
      "('brute', 'yule', 30.575335775335777)\n",
      "('>>>>>>>Best: ', 31.028571428571428)\n"
     ]
    }
   ],
   "source": [
    "oldDf=df.copy()\n",
    "df=df[['countryCoded','degreeCoded','engCoded', 'fieldGroup','fund','gpaBachelors','gre', 'highLevelBachUni', 'papersGLOB','papersIRAN']]\n",
    "df=df[df.degreeCoded==0]\n",
    "del df['degreeCoded']\n",
    "bestAvg=[]\n",
    "for alg in algorithm:\n",
    "    for dis in dist:\n",
    "        k_fold = KFold(n=len(df), n_folds=5)\n",
    "        scores = []\n",
    "        try:\n",
    "            clf = KNeighborsClassifier(n_neighbors=3, weights='distance',algorithm=alg, metric=dis)\n",
    "        except Exception as err:\n",
    "#             print(alg,dis,'err')\n",
    "            continue\n",
    "        for train_indices, test_indices in k_fold:\n",
    "            xtr = df.iloc[train_indices,(df.columns != 'countryCoded')]\n",
    "            ytr = df.iloc[train_indices]['countryCoded']\n",
    "            xte = df.iloc[test_indices, (df.columns != 'countryCoded')]\n",
    "            yte = df.iloc[test_indices]['countryCoded']\n",
    "            clf.fit(xtr, ytr)\n",
    "            ypred = clf.predict(xte)\n",
    "            acc=accuracy_score(list(yte),list(ypred))\n",
    "            scores.append(acc*100)\n",
    "        print(alg,dis,np.average(scores))\n",
    "        bestAvg.append(np.average(scores))\n",
    "print('>>>>>>>Best: ',np.max(bestAvg))"
   ]
  },
  {
   "cell_type": "markdown",
   "metadata": {},
   "source": [
    "## On Fund (only MS)"
   ]
  },
  {
   "cell_type": "code",
   "execution_count": 46,
   "metadata": {
    "collapsed": false
   },
   "outputs": [
    {
     "name": "stdout",
     "output_type": "stream",
     "text": [
      "('ball_tree', 'braycurtis', 75.753846153846155)\n",
      "('ball_tree', 'canberra', 73.812779812779823)\n",
      "('ball_tree', 'chebyshev', 73.643304843304847)\n",
      "('ball_tree', 'cityblock', 76.382254782254776)\n",
      "('ball_tree', 'euclidean', 75.983719983719965)\n",
      "('ball_tree', 'dice', 70.734717134717144)\n",
      "('ball_tree', 'hamming', 75.126414326414334)\n",
      "('ball_tree', 'jaccard', 70.734717134717144)\n",
      "('ball_tree', 'kulsinski', 70.791697191697196)\n",
      "('ball_tree', 'matching', 70.791534391534398)\n",
      "('ball_tree', 'rogerstanimoto', 70.791534391534398)\n",
      "('ball_tree', 'russellrao', 58.922425722425729)\n",
      "('ball_tree', 'sokalsneath', 70.734717134717144)\n",
      "('kd_tree', 'chebyshev', 74.213431013431006)\n",
      "('kd_tree', 'cityblock', 76.553846153846152)\n",
      "('kd_tree', 'euclidean', 76.039886039886042)\n",
      "('brute', 'braycurtis', 76.096052096052105)\n",
      "('brute', 'canberra', 73.927065527065537)\n",
      "('brute', 'chebyshev', 72.903540903540915)\n",
      "('brute', 'cityblock', 76.894261294261298)\n",
      "('brute', 'correlation', 75.524623524623536)\n",
      "('brute', 'cosine', 74.84086284086284)\n",
      "('brute', 'euclidean', 76.153357753357753)\n",
      "('brute', 'dice', 72.55954415954416)\n",
      "('brute', 'hamming', 75.182580382580383)\n",
      "('brute', 'jaccard', 72.55954415954416)\n",
      "('brute', 'kulsinski', 72.559706959706958)\n",
      "('brute', 'matching', 72.901750101750096)\n",
      "('brute', 'rogerstanimoto', 72.901750101750096)\n",
      "('brute', 'russellrao', 58.348392348392352)\n",
      "('brute', 'sokalsneath', 72.55954415954416)\n",
      "('brute', 'yule', 53.67358567358567)\n",
      "('>>>>>>>Best: ', 76.894261294261298)\n"
     ]
    }
   ],
   "source": [
    "bestAvg=[]\n",
    "for alg in algorithm:\n",
    "    for dis in dist:\n",
    "        k_fold = KFold(n=len(df), n_folds=5)\n",
    "        scores = []\n",
    "        try:\n",
    "            clf = KNeighborsClassifier(n_neighbors=3, weights='distance',algorithm=alg, metric=dis)\n",
    "        except Exception as err:\n",
    "            continue\n",
    "        for train_indices, test_indices in k_fold:\n",
    "            xtr = df.iloc[train_indices, (df.columns != 'fund')]\n",
    "            ytr = df.iloc[train_indices]['fund']\n",
    "            xte = df.iloc[test_indices, (df.columns != 'fund')]\n",
    "            yte = df.iloc[test_indices]['fund']\n",
    "            clf.fit(xtr, ytr)\n",
    "            ypred = clf.predict(xte)\n",
    "            acc=accuracy_score(list(yte),list(ypred))\n",
    "            score=acc*100\n",
    "            scores.append(score)\n",
    "            if (len(bestAvg)>1) :\n",
    "                if(score > np.max(bestAvg)) :\n",
    "                    bestClf=clf\n",
    "        bestAvg.append(np.average(scores))\n",
    "        print (alg,dis,np.average(scores))\n",
    "print('>>>>>>>Best: ',np.max(bestAvg))"
   ]
  },
  {
   "cell_type": "markdown",
   "metadata": {},
   "source": [
    "### Best : ('brute', 'cityblock', 76.894261294261298)"
   ]
  },
  {
   "cell_type": "code",
   "execution_count": 73,
   "metadata": {
    "collapsed": false
   },
   "outputs": [],
   "source": [
    "me=[1,2,0,2.5,False,False,1,0]"
   ]
  },
  {
   "cell_type": "code",
   "execution_count": 74,
   "metadata": {
    "collapsed": false
   },
   "outputs": [
    {
     "data": {
      "text/plain": [
       "(array([[ 0.5,  0.5,  0.5]]), array([[ 5, 18, 20]], dtype=int64))"
      ]
     },
     "execution_count": 74,
     "metadata": {},
     "output_type": "execute_result"
    }
   ],
   "source": [
    "n=bestClf.kneighbors([me])\n",
    "n"
   ]
  },
  {
   "cell_type": "code",
   "execution_count": 76,
   "metadata": {
    "collapsed": false
   },
   "outputs": [
    {
     "name": "stdout",
     "output_type": "stream",
     "text": [
      "    countryCoded  engCoded  fieldGroup  gpaBachelors    gre highLevelBachUni  \\\n",
      "18             1         1           2           2.0  False             True   \n",
      "77             5         1           0           3.0  False             True   \n",
      "84             2         1           0           2.0  False            False   \n",
      "\n",
      "    papersGLOB  papersIRAN  \n",
      "18           4           2  \n",
      "77           1           3  \n",
      "84           1           0  \n"
     ]
    }
   ],
   "source": [
    "for i in n[1]:\n",
    "    print(xtr.iloc[i])"
   ]
  },
  {
   "cell_type": "code",
   "execution_count": null,
   "metadata": {
    "collapsed": true
   },
   "outputs": [],
   "source": []
  }
 ],
 "metadata": {
  "kernelspec": {
   "display_name": "Python 2",
   "language": "python",
   "name": "python2"
  },
  "language_info": {
   "codemirror_mode": {
    "name": "ipython",
    "version": 2
   },
   "file_extension": ".py",
   "mimetype": "text/x-python",
   "name": "python",
   "nbconvert_exporter": "python",
   "pygments_lexer": "ipython2",
   "version": "2.7.13"
  }
 },
 "nbformat": 4,
 "nbformat_minor": 2
}

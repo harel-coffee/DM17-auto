{
 "cells": [
  {
   "cell_type": "code",
   "execution_count": 1,
   "metadata": {
    "collapsed": false
   },
   "outputs": [],
   "source": [
    "import numpy as np\n",
    "import pandas as pd\n",
    "from pandas import Series, DataFrame"
   ]
  },
  {
   "cell_type": "code",
   "execution_count": 2,
   "metadata": {
    "collapsed": false,
    "scrolled": true
   },
   "outputs": [],
   "source": [
    "df=pd.read_json('../../03_DataPreprocessing/00_Merge/Merged.json')"
   ]
  },
  {
   "cell_type": "code",
   "execution_count": 3,
   "metadata": {
    "collapsed": false
   },
   "outputs": [
    {
     "data": {
      "text/html": [
       "<div>\n",
       "<table border=\"1\" class=\"dataframe\">\n",
       "  <thead>\n",
       "    <tr style=\"text-align: right;\">\n",
       "      <th></th>\n",
       "      <th>country</th>\n",
       "      <th>degree</th>\n",
       "      <th>eng</th>\n",
       "      <th>engExamResult</th>\n",
       "      <th>field</th>\n",
       "      <th>fieldGroup</th>\n",
       "      <th>fund</th>\n",
       "      <th>fundType</th>\n",
       "      <th>fundValue</th>\n",
       "      <th>gpaBachelors</th>\n",
       "      <th>...</th>\n",
       "      <th>papersGLOB</th>\n",
       "      <th>papersIRAN</th>\n",
       "      <th>uniAccepted</th>\n",
       "      <th>uniBachelors</th>\n",
       "      <th>uniBachelorsOLD</th>\n",
       "      <th>uniMasters</th>\n",
       "      <th>uniMastersOLD</th>\n",
       "      <th>uniRejected</th>\n",
       "      <th>uniSelected</th>\n",
       "      <th>year</th>\n",
       "    </tr>\n",
       "  </thead>\n",
       "  <tbody>\n",
       "    <tr>\n",
       "      <th>10</th>\n",
       "      <td>canada</td>\n",
       "      <td>Doctorate</td>\n",
       "      <td>High</td>\n",
       "      <td>7.500000</td>\n",
       "      <td>electric</td>\n",
       "      <td>11.0</td>\n",
       "      <td>True</td>\n",
       "      <td>Award</td>\n",
       "      <td>25348</td>\n",
       "      <td>3.0</td>\n",
       "      <td>...</td>\n",
       "      <td>11</td>\n",
       "      <td>1</td>\n",
       "      <td>new south wales</td>\n",
       "      <td>amir-kabir</td>\n",
       "      <td>امير کبير</td>\n",
       "      <td>amir-kabir</td>\n",
       "      <td>امير کبير</td>\n",
       "      <td>swiss federal institute of , lausanne</td>\n",
       "      <td>mcmaster</td>\n",
       "      <td>2008</td>\n",
       "    </tr>\n",
       "    <tr>\n",
       "      <th>100</th>\n",
       "      <td>sweden</td>\n",
       "      <td>Masters</td>\n",
       "      <td>VeryHigh</td>\n",
       "      <td>8.000000</td>\n",
       "      <td>urban planning</td>\n",
       "      <td>NaN</td>\n",
       "      <td>False</td>\n",
       "      <td>n/a</td>\n",
       "      <td>0</td>\n",
       "      <td>2.5</td>\n",
       "      <td>...</td>\n",
       "      <td>0</td>\n",
       "      <td>0</td>\n",
       "      <td>virginia tech_ florida_kth</td>\n",
       "      <td>beheshti</td>\n",
       "      <td>شهید بهشتی</td>\n",
       "      <td>n/a</td>\n",
       "      <td>n/a</td>\n",
       "      <td>mcgill ? carleton ?? ???? ??????_ ryerson ?? t...</td>\n",
       "      <td>royal lnstitute of</td>\n",
       "      <td>2008</td>\n",
       "    </tr>\n",
       "    <tr>\n",
       "      <th>1002</th>\n",
       "      <td>germany</td>\n",
       "      <td>Masters</td>\n",
       "      <td>High</td>\n",
       "      <td>7.153244</td>\n",
       "      <td>physics</td>\n",
       "      <td>2.0</td>\n",
       "      <td>False</td>\n",
       "      <td>n/a</td>\n",
       "      <td>0</td>\n",
       "      <td>2.0</td>\n",
       "      <td>...</td>\n",
       "      <td>0</td>\n",
       "      <td>0</td>\n",
       "      <td>université kofi annan</td>\n",
       "      <td>tehran</td>\n",
       "      <td>دانشگاه تهران</td>\n",
       "      <td>n/a</td>\n",
       "      <td>n/a</td>\n",
       "      <td>n/a</td>\n",
       "      <td>université kofi annan</td>\n",
       "      <td>2005</td>\n",
       "    </tr>\n",
       "    <tr>\n",
       "      <th>1003</th>\n",
       "      <td>canada</td>\n",
       "      <td>Masters</td>\n",
       "      <td>VeryHigh</td>\n",
       "      <td>8.000000</td>\n",
       "      <td>electric</td>\n",
       "      <td>11.0</td>\n",
       "      <td>True</td>\n",
       "      <td>Award</td>\n",
       "      <td>28400</td>\n",
       "      <td>4.0</td>\n",
       "      <td>...</td>\n",
       "      <td>1</td>\n",
       "      <td>0</td>\n",
       "      <td>toronto</td>\n",
       "      <td>amir-kabir</td>\n",
       "      <td>امیرکبیر</td>\n",
       "      <td>n/a</td>\n",
       "      <td>n/a</td>\n",
       "      <td>british columbia</td>\n",
       "      <td>toronto</td>\n",
       "      <td>2010</td>\n",
       "    </tr>\n",
       "    <tr>\n",
       "      <th>1006</th>\n",
       "      <td>sweden</td>\n",
       "      <td>Masters</td>\n",
       "      <td>VeryHigh</td>\n",
       "      <td>8.000000</td>\n",
       "      <td>law</td>\n",
       "      <td>5.0</td>\n",
       "      <td>False</td>\n",
       "      <td>n/a</td>\n",
       "      <td>0</td>\n",
       "      <td>4.0</td>\n",
       "      <td>...</td>\n",
       "      <td>0</td>\n",
       "      <td>0</td>\n",
       "      <td>n/a</td>\n",
       "      <td>tehran</td>\n",
       "      <td>تهران</td>\n",
       "      <td>n/a</td>\n",
       "      <td>n/a</td>\n",
       "      <td>n/a</td>\n",
       "      <td>north dakota</td>\n",
       "      <td>2010</td>\n",
       "    </tr>\n",
       "  </tbody>\n",
       "</table>\n",
       "<p>5 rows × 27 columns</p>\n",
       "</div>"
      ],
      "text/plain": [
       "      country     degree       eng  engExamResult           field  fieldGroup  \\\n",
       "10     canada  Doctorate      High       7.500000        electric        11.0   \n",
       "100    sweden    Masters  VeryHigh       8.000000  urban planning         NaN   \n",
       "1002  germany    Masters      High       7.153244         physics         2.0   \n",
       "1003   canada    Masters  VeryHigh       8.000000        electric        11.0   \n",
       "1006   sweden    Masters  VeryHigh       8.000000             law         5.0   \n",
       "\n",
       "       fund fundType  fundValue  gpaBachelors  ...   papersGLOB papersIRAN  \\\n",
       "10     True    Award      25348           3.0  ...           11          1   \n",
       "100   False      n/a          0           2.5  ...            0          0   \n",
       "1002  False      n/a          0           2.0  ...            0          0   \n",
       "1003   True    Award      28400           4.0  ...            1          0   \n",
       "1006  False      n/a          0           4.0  ...            0          0   \n",
       "\n",
       "                     uniAccepted  uniBachelors  uniBachelorsOLD  uniMasters  \\\n",
       "10               new south wales    amir-kabir        امير کبير  amir-kabir   \n",
       "100   virginia tech_ florida_kth      beheshti       شهید بهشتی         n/a   \n",
       "1002       université kofi annan        tehran    دانشگاه تهران         n/a   \n",
       "1003                     toronto    amir-kabir         امیرکبیر         n/a   \n",
       "1006                         n/a        tehran            تهران         n/a   \n",
       "\n",
       "     uniMastersOLD                                        uniRejected  \\\n",
       "10       امير کبير              swiss federal institute of , lausanne   \n",
       "100            n/a  mcgill ? carleton ?? ???? ??????_ ryerson ?? t...   \n",
       "1002           n/a                                                n/a   \n",
       "1003           n/a                                   british columbia   \n",
       "1006           n/a                                                n/a   \n",
       "\n",
       "                uniSelected  year  \n",
       "10                 mcmaster  2008  \n",
       "100      royal lnstitute of  2008  \n",
       "1002  université kofi annan  2005  \n",
       "1003                toronto  2010  \n",
       "1006           north dakota  2010  \n",
       "\n",
       "[5 rows x 27 columns]"
      ]
     },
     "execution_count": 3,
     "metadata": {},
     "output_type": "execute_result"
    }
   ],
   "source": [
    "df.head()"
   ]
  },
  {
   "cell_type": "code",
   "execution_count": 4,
   "metadata": {
    "collapsed": false
   },
   "outputs": [
    {
     "data": {
      "text/plain": [
       "0                country\n",
       "1                 degree\n",
       "2                    eng\n",
       "3          engExamResult\n",
       "4                  field\n",
       "5             fieldGroup\n",
       "6                   fund\n",
       "7               fundType\n",
       "8              fundValue\n",
       "9           gpaBachelors\n",
       "10            gpaMasters\n",
       "11                   gre\n",
       "12               greAnlt\n",
       "13               greQuan\n",
       "14               greVrbl\n",
       "15      highLevelBachUni\n",
       "16    highLevelMasterUni\n",
       "17            papersGLOB\n",
       "18            papersIRAN\n",
       "19           uniAccepted\n",
       "20          uniBachelors\n",
       "21       uniBachelorsOLD\n",
       "22            uniMasters\n",
       "23         uniMastersOLD\n",
       "24           uniRejected\n",
       "25           uniSelected\n",
       "26                  year\n",
       "dtype: object"
      ]
     },
     "execution_count": 4,
     "metadata": {},
     "output_type": "execute_result"
    }
   ],
   "source": [
    "Series(df.columns)"
   ]
  },
  {
   "cell_type": "code",
   "execution_count": 5,
   "metadata": {
    "collapsed": false
   },
   "outputs": [],
   "source": [
    "df=df[['year','country','degree','eng','gre','fieldGroup','fund','highLevelBachUni','highLevelMasterUni','papersGLOB','gpaBachelors','gpaMasters','papersIRAN','uniAccepted','uniSelected']].copy()"
   ]
  },
  {
   "cell_type": "code",
   "execution_count": 6,
   "metadata": {
    "collapsed": false
   },
   "outputs": [
    {
     "data": {
      "text/plain": [
       "0                   year\n",
       "1                country\n",
       "2                 degree\n",
       "3                    eng\n",
       "4                    gre\n",
       "5             fieldGroup\n",
       "6                   fund\n",
       "7       highLevelBachUni\n",
       "8     highLevelMasterUni\n",
       "9             papersGLOB\n",
       "10          gpaBachelors\n",
       "11            gpaMasters\n",
       "12            papersIRAN\n",
       "13           uniAccepted\n",
       "14           uniSelected\n",
       "dtype: object"
      ]
     },
     "execution_count": 6,
     "metadata": {},
     "output_type": "execute_result"
    }
   ],
   "source": [
    "Series(df.columns)"
   ]
  },
  {
   "cell_type": "code",
   "execution_count": 7,
   "metadata": {
    "collapsed": false
   },
   "outputs": [
    {
     "data": {
      "text/html": [
       "<div>\n",
       "<table border=\"1\" class=\"dataframe\">\n",
       "  <thead>\n",
       "    <tr style=\"text-align: right;\">\n",
       "      <th></th>\n",
       "      <th>year</th>\n",
       "      <th>country</th>\n",
       "      <th>degree</th>\n",
       "      <th>eng</th>\n",
       "      <th>gre</th>\n",
       "      <th>fieldGroup</th>\n",
       "      <th>fund</th>\n",
       "      <th>highLevelBachUni</th>\n",
       "      <th>highLevelMasterUni</th>\n",
       "      <th>papersGLOB</th>\n",
       "      <th>gpaBachelors</th>\n",
       "      <th>gpaMasters</th>\n",
       "      <th>papersIRAN</th>\n",
       "      <th>uniAccepted</th>\n",
       "      <th>uniSelected</th>\n",
       "    </tr>\n",
       "  </thead>\n",
       "  <tbody>\n",
       "    <tr>\n",
       "      <th>10</th>\n",
       "      <td>2008</td>\n",
       "      <td>canada</td>\n",
       "      <td>Doctorate</td>\n",
       "      <td>High</td>\n",
       "      <td>True</td>\n",
       "      <td>11.0</td>\n",
       "      <td>True</td>\n",
       "      <td>True</td>\n",
       "      <td>True</td>\n",
       "      <td>11</td>\n",
       "      <td>3.0</td>\n",
       "      <td>4.0</td>\n",
       "      <td>1</td>\n",
       "      <td>new south wales</td>\n",
       "      <td>mcmaster</td>\n",
       "    </tr>\n",
       "    <tr>\n",
       "      <th>100</th>\n",
       "      <td>2008</td>\n",
       "      <td>sweden</td>\n",
       "      <td>Masters</td>\n",
       "      <td>VeryHigh</td>\n",
       "      <td>True</td>\n",
       "      <td>NaN</td>\n",
       "      <td>False</td>\n",
       "      <td>True</td>\n",
       "      <td>False</td>\n",
       "      <td>0</td>\n",
       "      <td>2.5</td>\n",
       "      <td>NaN</td>\n",
       "      <td>0</td>\n",
       "      <td>virginia tech_ florida_kth</td>\n",
       "      <td>royal lnstitute of</td>\n",
       "    </tr>\n",
       "  </tbody>\n",
       "</table>\n",
       "</div>"
      ],
      "text/plain": [
       "     year country     degree       eng   gre  fieldGroup   fund  \\\n",
       "10   2008  canada  Doctorate      High  True        11.0   True   \n",
       "100  2008  sweden    Masters  VeryHigh  True         NaN  False   \n",
       "\n",
       "    highLevelBachUni highLevelMasterUni  papersGLOB  gpaBachelors  gpaMasters  \\\n",
       "10              True               True          11           3.0         4.0   \n",
       "100             True              False           0           2.5         NaN   \n",
       "\n",
       "     papersIRAN                 uniAccepted         uniSelected  \n",
       "10            1             new south wales            mcmaster  \n",
       "100           0  virginia tech_ florida_kth  royal lnstitute of  "
      ]
     },
     "execution_count": 7,
     "metadata": {},
     "output_type": "execute_result"
    }
   ],
   "source": [
    "df.head(2)"
   ]
  },
  {
   "cell_type": "code",
   "execution_count": 8,
   "metadata": {
    "collapsed": false
   },
   "outputs": [],
   "source": [
    "for i in df.index:\n",
    "    r=df.get_value(i,'uniSelected')\n",
    "    if r=='n/a':\n",
    "        r=df.get_value(i,'uniAccepted')\n",
    "    df.loc[i,'targetUni']=r"
   ]
  },
  {
   "cell_type": "code",
   "execution_count": 9,
   "metadata": {
    "collapsed": true
   },
   "outputs": [],
   "source": [
    "df.sort_index(inplace=True)"
   ]
  },
  {
   "cell_type": "code",
   "execution_count": 10,
   "metadata": {
    "collapsed": false
   },
   "outputs": [
    {
     "data": {
      "text/html": [
       "<div>\n",
       "<table border=\"1\" class=\"dataframe\">\n",
       "  <thead>\n",
       "    <tr style=\"text-align: right;\">\n",
       "      <th></th>\n",
       "      <th>year</th>\n",
       "      <th>country</th>\n",
       "      <th>degree</th>\n",
       "      <th>eng</th>\n",
       "      <th>gre</th>\n",
       "      <th>fieldGroup</th>\n",
       "      <th>fund</th>\n",
       "      <th>highLevelBachUni</th>\n",
       "      <th>highLevelMasterUni</th>\n",
       "      <th>papersGLOB</th>\n",
       "      <th>gpaBachelors</th>\n",
       "      <th>gpaMasters</th>\n",
       "      <th>papersIRAN</th>\n",
       "      <th>uniAccepted</th>\n",
       "      <th>uniSelected</th>\n",
       "      <th>targetUni</th>\n",
       "    </tr>\n",
       "  </thead>\n",
       "  <tbody>\n",
       "    <tr>\n",
       "      <th>2</th>\n",
       "      <td>2007</td>\n",
       "      <td>england</td>\n",
       "      <td>Doctorate</td>\n",
       "      <td>High</td>\n",
       "      <td>False</td>\n",
       "      <td>7.0</td>\n",
       "      <td>True</td>\n",
       "      <td>False</td>\n",
       "      <td>False</td>\n",
       "      <td>4</td>\n",
       "      <td>3.5</td>\n",
       "      <td>NaN</td>\n",
       "      <td>8</td>\n",
       "      <td>n/a</td>\n",
       "      <td>heriot-watt</td>\n",
       "      <td>heriot-watt</td>\n",
       "    </tr>\n",
       "    <tr>\n",
       "      <th>3</th>\n",
       "      <td>2010</td>\n",
       "      <td>united states</td>\n",
       "      <td>Doctorate</td>\n",
       "      <td>VeryHigh</td>\n",
       "      <td>True</td>\n",
       "      <td>5.0</td>\n",
       "      <td>True</td>\n",
       "      <td>True</td>\n",
       "      <td>False</td>\n",
       "      <td>8</td>\n",
       "      <td>2.5</td>\n",
       "      <td>3.5</td>\n",
       "      <td>10</td>\n",
       "      <td>switzerland</td>\n",
       "      <td>northwestern</td>\n",
       "      <td>northwestern</td>\n",
       "    </tr>\n",
       "  </tbody>\n",
       "</table>\n",
       "</div>"
      ],
      "text/plain": [
       "   year        country     degree       eng    gre  fieldGroup  fund  \\\n",
       "2  2007        england  Doctorate      High  False         7.0  True   \n",
       "3  2010  united states  Doctorate  VeryHigh   True         5.0  True   \n",
       "\n",
       "  highLevelBachUni highLevelMasterUni  papersGLOB  gpaBachelors  gpaMasters  \\\n",
       "2            False              False           4           3.5         NaN   \n",
       "3             True              False           8           2.5         3.5   \n",
       "\n",
       "   papersIRAN  uniAccepted   uniSelected     targetUni  \n",
       "2           8          n/a   heriot-watt   heriot-watt  \n",
       "3          10  switzerland  northwestern  northwestern  "
      ]
     },
     "execution_count": 10,
     "metadata": {},
     "output_type": "execute_result"
    }
   ],
   "source": [
    "df.head(2)"
   ]
  },
  {
   "cell_type": "code",
   "execution_count": 11,
   "metadata": {
    "collapsed": false
   },
   "outputs": [
    {
     "data": {
      "text/plain": [
       "year                     0\n",
       "country                  0\n",
       "degree                   0\n",
       "eng                      0\n",
       "gre                      0\n",
       "fieldGroup             480\n",
       "fund                     0\n",
       "highLevelBachUni         0\n",
       "highLevelMasterUni       0\n",
       "papersGLOB               0\n",
       "gpaBachelors            35\n",
       "gpaMasters            1709\n",
       "papersIRAN               0\n",
       "uniAccepted              0\n",
       "uniSelected              0\n",
       "targetUni                0\n",
       "dtype: int64"
      ]
     },
     "execution_count": 11,
     "metadata": {},
     "output_type": "execute_result"
    }
   ],
   "source": [
    "df.isnull().sum()"
   ]
  },
  {
   "cell_type": "code",
   "execution_count": 12,
   "metadata": {
    "collapsed": true
   },
   "outputs": [],
   "source": [
    "df.fieldGroup.fillna(df.fieldGroup.mode()[0],inplace=True)"
   ]
  },
  {
   "cell_type": "code",
   "execution_count": 13,
   "metadata": {
    "collapsed": false
   },
   "outputs": [],
   "source": [
    "df.gpaBachelors.fillna(df.gpaBachelors.mean(),inplace=True)"
   ]
  },
  {
   "cell_type": "code",
   "execution_count": 14,
   "metadata": {
    "collapsed": false
   },
   "outputs": [],
   "source": [
    "df.gpaMasters.fillna(df.gpaMasters.mean(),inplace=True)"
   ]
  },
  {
   "cell_type": "code",
   "execution_count": 15,
   "metadata": {
    "collapsed": false
   },
   "outputs": [
    {
     "data": {
      "text/plain": [
       "year                  0\n",
       "country               0\n",
       "degree                0\n",
       "eng                   0\n",
       "gre                   0\n",
       "fieldGroup            0\n",
       "fund                  0\n",
       "highLevelBachUni      0\n",
       "highLevelMasterUni    0\n",
       "papersGLOB            0\n",
       "gpaBachelors          0\n",
       "gpaMasters            0\n",
       "papersIRAN            0\n",
       "uniAccepted           0\n",
       "uniSelected           0\n",
       "targetUni             0\n",
       "dtype: int64"
      ]
     },
     "execution_count": 15,
     "metadata": {},
     "output_type": "execute_result"
    }
   ],
   "source": [
    "df.isnull().sum()"
   ]
  },
  {
   "cell_type": "code",
   "execution_count": 16,
   "metadata": {
    "collapsed": false
   },
   "outputs": [
    {
     "data": {
      "text/html": [
       "<div>\n",
       "<table border=\"1\" class=\"dataframe\">\n",
       "  <thead>\n",
       "    <tr style=\"text-align: right;\">\n",
       "      <th></th>\n",
       "      <th>year</th>\n",
       "      <th>country</th>\n",
       "      <th>degree</th>\n",
       "      <th>eng</th>\n",
       "      <th>gre</th>\n",
       "      <th>fieldGroup</th>\n",
       "      <th>fund</th>\n",
       "      <th>highLevelBachUni</th>\n",
       "      <th>highLevelMasterUni</th>\n",
       "      <th>papersGLOB</th>\n",
       "      <th>gpaBachelors</th>\n",
       "      <th>gpaMasters</th>\n",
       "      <th>papersIRAN</th>\n",
       "      <th>uniAccepted</th>\n",
       "      <th>uniSelected</th>\n",
       "      <th>targetUni</th>\n",
       "    </tr>\n",
       "  </thead>\n",
       "  <tbody>\n",
       "    <tr>\n",
       "      <th>2</th>\n",
       "      <td>2007</td>\n",
       "      <td>england</td>\n",
       "      <td>Doctorate</td>\n",
       "      <td>High</td>\n",
       "      <td>False</td>\n",
       "      <td>7.0</td>\n",
       "      <td>True</td>\n",
       "      <td>False</td>\n",
       "      <td>False</td>\n",
       "      <td>4</td>\n",
       "      <td>3.5</td>\n",
       "      <td>3.442986</td>\n",
       "      <td>8</td>\n",
       "      <td>n/a</td>\n",
       "      <td>heriot-watt</td>\n",
       "      <td>heriot-watt</td>\n",
       "    </tr>\n",
       "    <tr>\n",
       "      <th>3</th>\n",
       "      <td>2010</td>\n",
       "      <td>united states</td>\n",
       "      <td>Doctorate</td>\n",
       "      <td>VeryHigh</td>\n",
       "      <td>True</td>\n",
       "      <td>5.0</td>\n",
       "      <td>True</td>\n",
       "      <td>True</td>\n",
       "      <td>False</td>\n",
       "      <td>8</td>\n",
       "      <td>2.5</td>\n",
       "      <td>3.500000</td>\n",
       "      <td>10</td>\n",
       "      <td>switzerland</td>\n",
       "      <td>northwestern</td>\n",
       "      <td>northwestern</td>\n",
       "    </tr>\n",
       "  </tbody>\n",
       "</table>\n",
       "</div>"
      ],
      "text/plain": [
       "   year        country     degree       eng    gre  fieldGroup  fund  \\\n",
       "2  2007        england  Doctorate      High  False         7.0  True   \n",
       "3  2010  united states  Doctorate  VeryHigh   True         5.0  True   \n",
       "\n",
       "  highLevelBachUni highLevelMasterUni  papersGLOB  gpaBachelors  gpaMasters  \\\n",
       "2            False              False           4           3.5    3.442986   \n",
       "3             True              False           8           2.5    3.500000   \n",
       "\n",
       "   papersIRAN  uniAccepted   uniSelected     targetUni  \n",
       "2           8          n/a   heriot-watt   heriot-watt  \n",
       "3          10  switzerland  northwestern  northwestern  "
      ]
     },
     "execution_count": 16,
     "metadata": {},
     "output_type": "execute_result"
    }
   ],
   "source": [
    "df.head(2)"
   ]
  },
  {
   "cell_type": "markdown",
   "metadata": {},
   "source": [
    "# Coding features"
   ]
  },
  {
   "cell_type": "code",
   "execution_count": 17,
   "metadata": {
    "collapsed": true
   },
   "outputs": [],
   "source": [
    "df['degreeCoded']=df.degree.map({'Doctorate':1,'Masters':0})\n",
    "df['engCoded']=df.eng.replace({'VeryHigh':0,'High':1,'Medium':2,'Low':3,'VeryLow':4})"
   ]
  },
  {
   "cell_type": "code",
   "execution_count": 18,
   "metadata": {
    "collapsed": false
   },
   "outputs": [
    {
     "data": {
      "text/html": [
       "<div>\n",
       "<table border=\"1\" class=\"dataframe\">\n",
       "  <thead>\n",
       "    <tr style=\"text-align: right;\">\n",
       "      <th></th>\n",
       "      <th>year</th>\n",
       "      <th>country</th>\n",
       "      <th>degree</th>\n",
       "      <th>eng</th>\n",
       "      <th>gre</th>\n",
       "      <th>fieldGroup</th>\n",
       "      <th>fund</th>\n",
       "      <th>highLevelBachUni</th>\n",
       "      <th>highLevelMasterUni</th>\n",
       "      <th>papersGLOB</th>\n",
       "      <th>gpaBachelors</th>\n",
       "      <th>gpaMasters</th>\n",
       "      <th>papersIRAN</th>\n",
       "      <th>uniAccepted</th>\n",
       "      <th>uniSelected</th>\n",
       "      <th>targetUni</th>\n",
       "      <th>degreeCoded</th>\n",
       "      <th>engCoded</th>\n",
       "    </tr>\n",
       "  </thead>\n",
       "  <tbody>\n",
       "    <tr>\n",
       "      <th>2</th>\n",
       "      <td>2007</td>\n",
       "      <td>england</td>\n",
       "      <td>Doctorate</td>\n",
       "      <td>High</td>\n",
       "      <td>False</td>\n",
       "      <td>7.0</td>\n",
       "      <td>True</td>\n",
       "      <td>False</td>\n",
       "      <td>False</td>\n",
       "      <td>4</td>\n",
       "      <td>3.5</td>\n",
       "      <td>3.442986</td>\n",
       "      <td>8</td>\n",
       "      <td>n/a</td>\n",
       "      <td>heriot-watt</td>\n",
       "      <td>heriot-watt</td>\n",
       "      <td>1</td>\n",
       "      <td>1</td>\n",
       "    </tr>\n",
       "    <tr>\n",
       "      <th>3</th>\n",
       "      <td>2010</td>\n",
       "      <td>united states</td>\n",
       "      <td>Doctorate</td>\n",
       "      <td>VeryHigh</td>\n",
       "      <td>True</td>\n",
       "      <td>5.0</td>\n",
       "      <td>True</td>\n",
       "      <td>True</td>\n",
       "      <td>False</td>\n",
       "      <td>8</td>\n",
       "      <td>2.5</td>\n",
       "      <td>3.500000</td>\n",
       "      <td>10</td>\n",
       "      <td>switzerland</td>\n",
       "      <td>northwestern</td>\n",
       "      <td>northwestern</td>\n",
       "      <td>1</td>\n",
       "      <td>0</td>\n",
       "    </tr>\n",
       "  </tbody>\n",
       "</table>\n",
       "</div>"
      ],
      "text/plain": [
       "   year        country     degree       eng    gre  fieldGroup  fund  \\\n",
       "2  2007        england  Doctorate      High  False         7.0  True   \n",
       "3  2010  united states  Doctorate  VeryHigh   True         5.0  True   \n",
       "\n",
       "  highLevelBachUni highLevelMasterUni  papersGLOB  gpaBachelors  gpaMasters  \\\n",
       "2            False              False           4           3.5    3.442986   \n",
       "3             True              False           8           2.5    3.500000   \n",
       "\n",
       "   papersIRAN  uniAccepted   uniSelected     targetUni  degreeCoded  engCoded  \n",
       "2           8          n/a   heriot-watt   heriot-watt            1         1  \n",
       "3          10  switzerland  northwestern  northwestern            1         0  "
      ]
     },
     "execution_count": 18,
     "metadata": {},
     "output_type": "execute_result"
    }
   ],
   "source": [
    "df.head(2)"
   ]
  },
  {
   "cell_type": "markdown",
   "metadata": {},
   "source": [
    "# Fixing Country"
   ]
  },
  {
   "cell_type": "code",
   "execution_count": 19,
   "metadata": {
    "collapsed": false
   },
   "outputs": [
    {
     "data": {
      "text/plain": [
       "Index([u'united states', u'canada', u'n/a', u'germany', u'australia',\n",
       "       u'sweden', u'italy', u'finland', u'england', u'malaysia', u'turkey',\n",
       "       u'netherlands', u'norway', u'belgium', u'france', u'new zealand',\n",
       "       u'swaziland', u'spain', u'singapore', u'austria', u'china', u'india',\n",
       "       u'russia', u'japan', u'czech republic', u'united kingdom',\n",
       "       u'iran, islamic republic of'],\n",
       "      dtype='object')"
      ]
     },
     "execution_count": 19,
     "metadata": {},
     "output_type": "execute_result"
    }
   ],
   "source": [
    "df.country.value_counts().index"
   ]
  },
  {
   "cell_type": "code",
   "execution_count": 20,
   "metadata": {
    "collapsed": false
   },
   "outputs": [],
   "source": [
    "\n",
    "df.country.replace({'swaziland':'switzerland','england':'united kingdom','korea':'korea, republic of','russia':'russian federation'},inplace=True)"
   ]
  },
  {
   "cell_type": "code",
   "execution_count": 21,
   "metadata": {
    "collapsed": false
   },
   "outputs": [
    {
     "name": "stdout",
     "output_type": "stream",
     "text": [
      "Index([            u'united states',                    u'canada',\n",
      "                             u'n/a',                   u'germany',\n",
      "                       u'australia',                    u'sweden',\n",
      "                           u'italy',            u'united kingdom',\n",
      "                         u'finland',                  u'malaysia',\n",
      "                          u'turkey',               u'netherlands',\n",
      "                          u'norway',                   u'belgium',\n",
      "                          u'france',               u'new zealand',\n",
      "                     u'switzerland',                     u'spain',\n",
      "                         u'austria',                 u'singapore',\n",
      "                           u'china',                     u'india',\n",
      "              u'russian federation',            u'czech republic',\n",
      "                           u'japan', u'iran, islamic republic of'],\n",
      "      dtype='object')\n"
     ]
    }
   ],
   "source": [
    "print(df.country.value_counts().index)"
   ]
  },
  {
   "cell_type": "code",
   "execution_count": 22,
   "metadata": {
    "collapsed": false
   },
   "outputs": [],
   "source": [
    "ls=[\n",
    "    ['united states'],\n",
    "    ['canada','australia','switzerland']\n",
    "    ,['sweden','finland','norway','iceland','denmark']\n",
    "    ,['germany','france','austria','poland','spain','italy']\n",
    "    ,['united kingdom','netherlands','belgium','new zealand']\n",
    "    ,['singapore','korea, republic of','japan']\n",
    "    ,['malaysia','brazil','iran, islamic republic of','south africa','czech republic','turkey','russian federation']\n",
    "    ,['china','india','pakistan','albania','ireland','mexico','philippines','cyprus']\n",
    "    ,['tunisia','cambodia','myanmar','libya','bangladesh','uganda','latvia','hungary','puerto rico','indonesia','croatia','gambia','nicaragua','bolivia, plurinational state of','thailand','egypt','colombia','portugal','kenya','greece']\n",
    "]\n",
    "df['countryCoded']=df.country.copy()\n",
    "for i in range(len(ls)):\n",
    "    for l2 in ls[i]:\n",
    "        df.countryCoded.replace(l2,i,inplace=True)"
   ]
  },
  {
   "cell_type": "code",
   "execution_count": 23,
   "metadata": {
    "collapsed": false
   },
   "outputs": [
    {
     "data": {
      "text/plain": [
       "0      1142\n",
       "1       816\n",
       "n/a     508\n",
       "3       456\n",
       "2       277\n",
       "4       176\n",
       "6       117\n",
       "5        19\n",
       "7        15\n",
       "Name: countryCoded, dtype: int64"
      ]
     },
     "execution_count": 23,
     "metadata": {},
     "output_type": "execute_result"
    }
   ],
   "source": [
    "df.countryCoded.value_counts()"
   ]
  },
  {
   "cell_type": "code",
   "execution_count": 24,
   "metadata": {
    "collapsed": false
   },
   "outputs": [],
   "source": [
    "df.countryCoded.replace('n/a',df.countryCoded.mode()[0],inplace=True)"
   ]
  },
  {
   "cell_type": "code",
   "execution_count": 25,
   "metadata": {
    "collapsed": false
   },
   "outputs": [
    {
     "data": {
      "text/plain": [
       "0    1650\n",
       "1     816\n",
       "3     456\n",
       "2     277\n",
       "4     176\n",
       "6     117\n",
       "5      19\n",
       "7      15\n",
       "Name: countryCoded, dtype: int64"
      ]
     },
     "execution_count": 25,
     "metadata": {},
     "output_type": "execute_result"
    }
   ],
   "source": [
    "df.countryCoded.value_counts()"
   ]
  },
  {
   "cell_type": "code",
   "execution_count": 26,
   "metadata": {
    "collapsed": false,
    "scrolled": true
   },
   "outputs": [
    {
     "data": {
      "text/html": [
       "<div>\n",
       "<table border=\"1\" class=\"dataframe\">\n",
       "  <thead>\n",
       "    <tr style=\"text-align: right;\">\n",
       "      <th></th>\n",
       "      <th>year</th>\n",
       "      <th>country</th>\n",
       "      <th>degree</th>\n",
       "      <th>eng</th>\n",
       "      <th>gre</th>\n",
       "      <th>fieldGroup</th>\n",
       "      <th>fund</th>\n",
       "      <th>highLevelBachUni</th>\n",
       "      <th>highLevelMasterUni</th>\n",
       "      <th>papersGLOB</th>\n",
       "      <th>gpaBachelors</th>\n",
       "      <th>gpaMasters</th>\n",
       "      <th>papersIRAN</th>\n",
       "      <th>uniAccepted</th>\n",
       "      <th>uniSelected</th>\n",
       "      <th>targetUni</th>\n",
       "      <th>degreeCoded</th>\n",
       "      <th>engCoded</th>\n",
       "      <th>countryCoded</th>\n",
       "    </tr>\n",
       "  </thead>\n",
       "  <tbody>\n",
       "    <tr>\n",
       "      <th>2</th>\n",
       "      <td>2007</td>\n",
       "      <td>united kingdom</td>\n",
       "      <td>Doctorate</td>\n",
       "      <td>High</td>\n",
       "      <td>False</td>\n",
       "      <td>7.0</td>\n",
       "      <td>True</td>\n",
       "      <td>False</td>\n",
       "      <td>False</td>\n",
       "      <td>4</td>\n",
       "      <td>3.5</td>\n",
       "      <td>3.442986</td>\n",
       "      <td>8</td>\n",
       "      <td>n/a</td>\n",
       "      <td>heriot-watt</td>\n",
       "      <td>heriot-watt</td>\n",
       "      <td>1</td>\n",
       "      <td>1</td>\n",
       "      <td>4</td>\n",
       "    </tr>\n",
       "    <tr>\n",
       "      <th>3</th>\n",
       "      <td>2010</td>\n",
       "      <td>united states</td>\n",
       "      <td>Doctorate</td>\n",
       "      <td>VeryHigh</td>\n",
       "      <td>True</td>\n",
       "      <td>5.0</td>\n",
       "      <td>True</td>\n",
       "      <td>True</td>\n",
       "      <td>False</td>\n",
       "      <td>8</td>\n",
       "      <td>2.5</td>\n",
       "      <td>3.500000</td>\n",
       "      <td>10</td>\n",
       "      <td>switzerland</td>\n",
       "      <td>northwestern</td>\n",
       "      <td>northwestern</td>\n",
       "      <td>1</td>\n",
       "      <td>0</td>\n",
       "      <td>0</td>\n",
       "    </tr>\n",
       "  </tbody>\n",
       "</table>\n",
       "</div>"
      ],
      "text/plain": [
       "   year         country     degree       eng    gre  fieldGroup  fund  \\\n",
       "2  2007  united kingdom  Doctorate      High  False         7.0  True   \n",
       "3  2010   united states  Doctorate  VeryHigh   True         5.0  True   \n",
       "\n",
       "  highLevelBachUni highLevelMasterUni  papersGLOB  gpaBachelors  gpaMasters  \\\n",
       "2            False              False           4           3.5    3.442986   \n",
       "3             True              False           8           2.5    3.500000   \n",
       "\n",
       "   papersIRAN  uniAccepted   uniSelected     targetUni  degreeCoded  engCoded  \\\n",
       "2           8          n/a   heriot-watt   heriot-watt            1         1   \n",
       "3          10  switzerland  northwestern  northwestern            1         0   \n",
       "\n",
       "   countryCoded  \n",
       "2             4  \n",
       "3             0  "
      ]
     },
     "execution_count": 26,
     "metadata": {},
     "output_type": "execute_result"
    }
   ],
   "source": [
    "df.head(2)"
   ]
  },
  {
   "cell_type": "code",
   "execution_count": 27,
   "metadata": {
    "collapsed": true
   },
   "outputs": [],
   "source": [
    "df.to_json('First.json',date_format='utf8')"
   ]
  },
  {
   "cell_type": "code",
   "execution_count": null,
   "metadata": {
    "collapsed": true
   },
   "outputs": [],
   "source": []
  }
 ],
 "metadata": {
  "kernelspec": {
   "display_name": "Python 2",
   "language": "python",
   "name": "python2"
  },
  "language_info": {
   "codemirror_mode": {
    "name": "ipython",
    "version": 2
   },
   "file_extension": ".py",
   "mimetype": "text/x-python",
   "name": "python",
   "nbconvert_exporter": "python",
   "pygments_lexer": "ipython2",
   "version": "2.7.13"
  }
 },
 "nbformat": 4,
 "nbformat_minor": 2
}

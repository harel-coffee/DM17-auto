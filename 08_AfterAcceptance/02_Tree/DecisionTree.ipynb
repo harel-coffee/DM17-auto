{
 "cells": [
  {
   "cell_type": "code",
   "execution_count": 1,
   "metadata": {
    "collapsed": false
   },
   "outputs": [],
   "source": [
    "import numpy as np\n",
    "from pandas import Series, DataFrame\n",
    "import pandas as pd\n",
    "from sklearn import preprocessing, tree\n",
    "from sklearn.metrics import accuracy_score\n",
    "from sklearn.model_selection import train_test_split, KFold\n",
    "from sklearn.tree import DecisionTreeClassifier, export_graphviz\n",
    "from sklearn import metrics\n",
    "from IPython.display import Image \n",
    "from sklearn.model_selection import StratifiedKFold\n",
    "from sklearn.metrics import confusion_matrix \n",
    "import pydotplus"
   ]
  },
  {
   "cell_type": "markdown",
   "metadata": {},
   "source": [
    "# Decision tree > Getting FUND"
   ]
  },
  {
   "cell_type": "code",
   "execution_count": null,
   "metadata": {
    "collapsed": true
   },
   "outputs": [],
   "source": []
  },
  {
   "cell_type": "code",
   "execution_count": 2,
   "metadata": {
    "collapsed": false
   },
   "outputs": [],
   "source": [
    "df=pd.read_json('../01_Preprocessing/Second.json').sort_index()"
   ]
  },
  {
   "cell_type": "code",
   "execution_count": 3,
   "metadata": {
    "collapsed": false,
    "scrolled": true
   },
   "outputs": [
    {
     "data": {
      "text/html": [
       "<div>\n",
       "<table border=\"1\" class=\"dataframe\">\n",
       "  <thead>\n",
       "    <tr style=\"text-align: right;\">\n",
       "      <th></th>\n",
       "      <th>country</th>\n",
       "      <th>countryCode</th>\n",
       "      <th>degree</th>\n",
       "      <th>degreeCode</th>\n",
       "      <th>eng</th>\n",
       "      <th>field</th>\n",
       "      <th>fieldG_0</th>\n",
       "      <th>fieldG_1</th>\n",
       "      <th>fieldG_10</th>\n",
       "      <th>fieldG_11</th>\n",
       "      <th>...</th>\n",
       "      <th>greQ</th>\n",
       "      <th>greV</th>\n",
       "      <th>greW</th>\n",
       "      <th>highBU</th>\n",
       "      <th>highMU</th>\n",
       "      <th>paper</th>\n",
       "      <th>rejUni</th>\n",
       "      <th>targetUni</th>\n",
       "      <th>uniRank</th>\n",
       "      <th>year</th>\n",
       "    </tr>\n",
       "  </thead>\n",
       "  <tbody>\n",
       "    <tr>\n",
       "      <th>2</th>\n",
       "      <td>united kingdom</td>\n",
       "      <td>4</td>\n",
       "      <td>Doctorate</td>\n",
       "      <td>1</td>\n",
       "      <td>8.0</td>\n",
       "      <td>petroleum engineering</td>\n",
       "      <td>False</td>\n",
       "      <td>False</td>\n",
       "      <td>False</td>\n",
       "      <td>False</td>\n",
       "      <td>...</td>\n",
       "      <td>NaN</td>\n",
       "      <td>NaN</td>\n",
       "      <td>NaN</td>\n",
       "      <td>False</td>\n",
       "      <td>False</td>\n",
       "      <td>7</td>\n",
       "      <td>n/a</td>\n",
       "      <td>heriot-watt</td>\n",
       "      <td>692.0</td>\n",
       "      <td>2007</td>\n",
       "    </tr>\n",
       "    <tr>\n",
       "      <th>3</th>\n",
       "      <td>united states</td>\n",
       "      <td>0</td>\n",
       "      <td>Doctorate</td>\n",
       "      <td>1</td>\n",
       "      <td>8.0</td>\n",
       "      <td>civil</td>\n",
       "      <td>False</td>\n",
       "      <td>False</td>\n",
       "      <td>False</td>\n",
       "      <td>False</td>\n",
       "      <td>...</td>\n",
       "      <td>159.0</td>\n",
       "      <td>143.0</td>\n",
       "      <td>3.0</td>\n",
       "      <td>True</td>\n",
       "      <td>False</td>\n",
       "      <td>11</td>\n",
       "      <td>UC Berkeley, Georgia Tech</td>\n",
       "      <td>northwestern</td>\n",
       "      <td>20.0</td>\n",
       "      <td>2010</td>\n",
       "    </tr>\n",
       "  </tbody>\n",
       "</table>\n",
       "<p>2 rows × 41 columns</p>\n",
       "</div>"
      ],
      "text/plain": [
       "          country  countryCode     degree  degreeCode  eng  \\\n",
       "2  united kingdom            4  Doctorate           1  8.0   \n",
       "3   united states            0  Doctorate           1  8.0   \n",
       "\n",
       "                   field fieldG_0 fieldG_1 fieldG_10 fieldG_11  ...    greQ  \\\n",
       "2  petroleum engineering    False    False     False     False  ...     NaN   \n",
       "3                  civil    False    False     False     False  ...   159.0   \n",
       "\n",
       "    greV greW highBU highMU paper                     rejUni     targetUni  \\\n",
       "2    NaN  NaN  False  False     7                        n/a   heriot-watt   \n",
       "3  143.0  3.0   True  False    11  UC Berkeley, Georgia Tech  northwestern   \n",
       "\n",
       "  uniRank  year  \n",
       "2   692.0  2007  \n",
       "3    20.0  2010  \n",
       "\n",
       "[2 rows x 41 columns]"
      ]
     },
     "execution_count": 3,
     "metadata": {},
     "output_type": "execute_result"
    }
   ],
   "source": [
    "df.head(2)"
   ]
  },
  {
   "cell_type": "code",
   "execution_count": 4,
   "metadata": {
    "collapsed": false
   },
   "outputs": [
    {
     "data": {
      "text/plain": [
       "Index([u'country', u'countryCode', u'degree', u'degreeCode', u'eng', u'field',\n",
       "       u'fieldG_0', u'fieldG_1', u'fieldG_10', u'fieldG_11', u'fieldG_12',\n",
       "       u'fieldG_13', u'fieldG_14', u'fieldG_15', u'fieldG_16', u'fieldG_17',\n",
       "       u'fieldG_18', u'fieldG_2', u'fieldG_3', u'fieldG_4', u'fieldG_5',\n",
       "       u'fieldG_6', u'fieldG_7', u'fieldG_8', u'fieldG_9', u'fieldGroup',\n",
       "       u'fund', u'fundValue', u'gpaB', u'gpaM', u'gre', u'greQ', u'greV',\n",
       "       u'greW', u'highBU', u'highMU', u'paper', u'rejUni', u'targetUni',\n",
       "       u'uniRank', u'year'],\n",
       "      dtype='object')"
      ]
     },
     "execution_count": 4,
     "metadata": {},
     "output_type": "execute_result"
    }
   ],
   "source": [
    "df.columns"
   ]
  },
  {
   "cell_type": "code",
   "execution_count": 5,
   "metadata": {
    "collapsed": true
   },
   "outputs": [],
   "source": [
    "df.uniRank.fillna(300,inplace=True)\n",
    "df.greQ.fillna(0,inplace=True)\n",
    "df.greW.fillna(0,inplace=True)\n",
    "df.greV.fillna(0,inplace=True)"
   ]
  },
  {
   "cell_type": "markdown",
   "metadata": {
    "collapsed": true
   },
   "source": [
    "# FUNCTIONS"
   ]
  },
  {
   "cell_type": "code",
   "execution_count": 6,
   "metadata": {
    "collapsed": true
   },
   "outputs": [],
   "source": [
    "def get_code(tree, feature_names):\n",
    "        left      = tree.tree_.children_left\n",
    "        right     = tree.tree_.children_right\n",
    "        threshold = tree.tree_.threshold\n",
    "        features  = [feature_names[i] for i in tree.tree_.feature]\n",
    "        value = tree.tree_.value\n",
    "\n",
    "        def recurse(left, right, threshold, features, node):\n",
    "                if (threshold[node] != -2):\n",
    "                        print \"if ( \" + features[node] + \" <= \" + str(threshold[node]) + \" ) {\"\n",
    "                        if left[node] != -1:\n",
    "                                recurse (left, right, threshold, features,left[node])\n",
    "                        print \"} else {\"\n",
    "                        if right[node] != -1:\n",
    "                                recurse (left, right, threshold, features,right[node])\n",
    "                        print \"}\"\n",
    "                else:\n",
    "                        print \"return \" + str(value[node])\n",
    "\n",
    "        recurse(left, right, threshold, features, 0)"
   ]
  },
  {
   "cell_type": "code",
   "execution_count": 7,
   "metadata": {
    "collapsed": false
   },
   "outputs": [],
   "source": [
    "def build3(xtr, ytr,xte,yte,rocEnable,max_depth,criterion='entropy',class_weight=None):\n",
    "    clf = DecisionTreeClassifier(criterion = criterion, random_state = 100, max_depth=max_depth,class_weight=class_weight)\n",
    "    clf.fit(xtr, ytr)\n",
    "    ypred = clf.predict(xte)\n",
    "    if rocEnable==False:\n",
    "        acc=accuracy_score(yte,ypred)*100\n",
    "    else:\n",
    "        fpr, tpr, thresholds = metrics.roc_curve(yte,ypred)\n",
    "        acc=metrics.auc(fpr, tpr)*100\n",
    "    conf=confusion_matrix(yte,ypred)\n",
    "    return (clf,acc,conf)\n",
    "def draw3(clf):\n",
    "    dot_data = tree.export_graphviz(clf, out_file=None, feature_names=col,  max_depth=3, rounded=True)  \n",
    "    graph = pydotplus.graph_from_dot_data(dot_data)  \n",
    "    return Image(graph.create_png())  "
   ]
  },
  {
   "cell_type": "markdown",
   "metadata": {},
   "source": [
    "# DTree Fund For PHD Students"
   ]
  },
  {
   "cell_type": "code",
   "execution_count": 8,
   "metadata": {
    "collapsed": true
   },
   "outputs": [],
   "source": [
    "col=['countryCode', 'eng',\n",
    "       'fieldG_0', 'fieldG_1', 'fieldG_10', 'fieldG_11', 'fieldG_12',\n",
    "       'fieldG_13', 'fieldG_14', 'fieldG_15', 'fieldG_16', 'fieldG_17',\n",
    "       'fieldG_18', 'fieldG_2', 'fieldG_3', 'fieldG_4', 'fieldG_5',\n",
    "       'fieldG_6', 'fieldG_7', 'fieldG_8', 'fieldG_9',\n",
    "       'gpaB', 'gpaM', 'gre', 'greQ', 'greV', 'greW', \n",
    "       'highBU', 'highMU', 'paper', 'uniRank']"
   ]
  },
  {
   "cell_type": "code",
   "execution_count": 9,
   "metadata": {
    "collapsed": false
   },
   "outputs": [],
   "source": [
    "data=df[df.degreeCode==1][col]\n",
    "target=df[df.degreeCode==1].fund\n",
    "xtr,xte,ytr,yte=train_test_split(data,target,test_size=0.3 ,random_state=99)"
   ]
  },
  {
   "cell_type": "code",
   "execution_count": 10,
   "metadata": {
    "collapsed": false,
    "scrolled": false
   },
   "outputs": [
    {
     "data": {
      "text/html": [
       "<div>\n",
       "<table border=\"1\" class=\"dataframe\">\n",
       "  <thead>\n",
       "    <tr style=\"text-align: right;\">\n",
       "      <th></th>\n",
       "      <th>countryCode</th>\n",
       "      <th>eng</th>\n",
       "      <th>fieldG_0</th>\n",
       "      <th>fieldG_1</th>\n",
       "      <th>fieldG_10</th>\n",
       "      <th>fieldG_11</th>\n",
       "      <th>fieldG_12</th>\n",
       "      <th>fieldG_13</th>\n",
       "      <th>fieldG_14</th>\n",
       "      <th>fieldG_15</th>\n",
       "      <th>...</th>\n",
       "      <th>gpaB</th>\n",
       "      <th>gpaM</th>\n",
       "      <th>gre</th>\n",
       "      <th>greQ</th>\n",
       "      <th>greV</th>\n",
       "      <th>greW</th>\n",
       "      <th>highBU</th>\n",
       "      <th>highMU</th>\n",
       "      <th>paper</th>\n",
       "      <th>uniRank</th>\n",
       "    </tr>\n",
       "  </thead>\n",
       "  <tbody>\n",
       "    <tr>\n",
       "      <th>2</th>\n",
       "      <td>4</td>\n",
       "      <td>8.0</td>\n",
       "      <td>False</td>\n",
       "      <td>False</td>\n",
       "      <td>False</td>\n",
       "      <td>False</td>\n",
       "      <td>False</td>\n",
       "      <td>False</td>\n",
       "      <td>False</td>\n",
       "      <td>False</td>\n",
       "      <td>...</td>\n",
       "      <td>3.5</td>\n",
       "      <td>3.442986</td>\n",
       "      <td>False</td>\n",
       "      <td>0.0</td>\n",
       "      <td>0.0</td>\n",
       "      <td>0.0</td>\n",
       "      <td>False</td>\n",
       "      <td>False</td>\n",
       "      <td>7</td>\n",
       "      <td>692.0</td>\n",
       "    </tr>\n",
       "    <tr>\n",
       "      <th>3</th>\n",
       "      <td>0</td>\n",
       "      <td>8.0</td>\n",
       "      <td>False</td>\n",
       "      <td>False</td>\n",
       "      <td>False</td>\n",
       "      <td>False</td>\n",
       "      <td>False</td>\n",
       "      <td>False</td>\n",
       "      <td>False</td>\n",
       "      <td>False</td>\n",
       "      <td>...</td>\n",
       "      <td>2.5</td>\n",
       "      <td>3.500000</td>\n",
       "      <td>True</td>\n",
       "      <td>159.0</td>\n",
       "      <td>143.0</td>\n",
       "      <td>3.0</td>\n",
       "      <td>True</td>\n",
       "      <td>False</td>\n",
       "      <td>11</td>\n",
       "      <td>20.0</td>\n",
       "    </tr>\n",
       "  </tbody>\n",
       "</table>\n",
       "<p>2 rows × 31 columns</p>\n",
       "</div>"
      ],
      "text/plain": [
       "   countryCode  eng fieldG_0 fieldG_1 fieldG_10 fieldG_11 fieldG_12 fieldG_13  \\\n",
       "2            4  8.0    False    False     False     False     False     False   \n",
       "3            0  8.0    False    False     False     False     False     False   \n",
       "\n",
       "  fieldG_14 fieldG_15   ...   gpaB      gpaM    gre   greQ   greV greW highBU  \\\n",
       "2     False     False   ...    3.5  3.442986  False    0.0    0.0  0.0  False   \n",
       "3     False     False   ...    2.5  3.500000   True  159.0  143.0  3.0   True   \n",
       "\n",
       "  highMU paper uniRank  \n",
       "2  False     7   692.0  \n",
       "3  False    11    20.0  \n",
       "\n",
       "[2 rows x 31 columns]"
      ]
     },
     "execution_count": 10,
     "metadata": {},
     "output_type": "execute_result"
    }
   ],
   "source": [
    "data.head(2)"
   ]
  },
  {
   "cell_type": "code",
   "execution_count": 11,
   "metadata": {
    "collapsed": false,
    "scrolled": true
   },
   "outputs": [
    {
     "name": "stdout",
     "output_type": "stream",
     "text": [
      "((1241, 31), (1241L,), (532, 31), (532L,))\n"
     ]
    }
   ],
   "source": [
    "print(xtr.shape,ytr.shape,xte.shape,yte.shape)"
   ]
  },
  {
   "cell_type": "markdown",
   "metadata": {},
   "source": [
    "# PHD + AUC + train_test_split"
   ]
  },
  {
   "cell_type": "code",
   "execution_count": 12,
   "metadata": {
    "collapsed": false
   },
   "outputs": [],
   "source": [
    "ac=[];clfs=[]\n",
    "for i in range(3,10):\n",
    "    for j in range(1,10):\n",
    "        for j2 in range(1,10):\n",
    "            for k in ['entropy','gini']:\n",
    "                clf,acc,conf=build3(xtr, ytr,xte,yte,rocEnable=True,max_depth=i,criterion=k,class_weight={0:j, 1: j2})\n",
    "                ac.append(acc)\n",
    "                clfs.append(clf)"
   ]
  },
  {
   "cell_type": "code",
   "execution_count": 13,
   "metadata": {
    "collapsed": false,
    "scrolled": false
   },
   "outputs": [
    {
     "data": {
      "text/plain": [
       "[61.027327019364172, 19]"
      ]
     },
     "execution_count": 13,
     "metadata": {},
     "output_type": "execute_result"
    }
   ],
   "source": [
    "[max(ac),ac.index(max(ac))]"
   ]
  },
  {
   "cell_type": "code",
   "execution_count": 14,
   "metadata": {
    "collapsed": false,
    "scrolled": false
   },
   "outputs": [
    {
     "data": {
      "text/plain": [
       "DecisionTreeClassifier(class_weight={0: 2, 1: 1}, criterion='gini',\n",
       "            max_depth=3, max_features=None, max_leaf_nodes=None,\n",
       "            min_impurity_split=1e-07, min_samples_leaf=1,\n",
       "            min_samples_split=2, min_weight_fraction_leaf=0.0,\n",
       "            presort=False, random_state=100, splitter='best')"
      ]
     },
     "execution_count": 14,
     "metadata": {},
     "output_type": "execute_result"
    }
   ],
   "source": [
    "clf=clfs[ac.index(max(ac))]\n",
    "clf"
   ]
  },
  {
   "cell_type": "code",
   "execution_count": 15,
   "metadata": {
    "collapsed": false,
    "scrolled": true
   },
   "outputs": [],
   "source": [
    "# draw3(clf) "
   ]
  },
  {
   "cell_type": "markdown",
   "metadata": {},
   "source": [
    "# PHD + Acc + train_test_split"
   ]
  },
  {
   "cell_type": "code",
   "execution_count": 16,
   "metadata": {
    "collapsed": false
   },
   "outputs": [],
   "source": [
    "ac=[];clfs=[]\n",
    "for i in range(3,10):\n",
    "    for j in range(1,10):\n",
    "        for j2 in range(1,10):\n",
    "            for k in ['entropy','gini']:\n",
    "                clf,acc,conf=build3(xtr, ytr,xte,yte,rocEnable=False,max_depth=i,criterion=k,class_weight={0:j, 1: j2})\n",
    "                ac.append(acc)\n",
    "                clfs.append(clf)"
   ]
  },
  {
   "cell_type": "code",
   "execution_count": 17,
   "metadata": {
    "collapsed": false,
    "scrolled": false
   },
   "outputs": [
    {
     "data": {
      "text/plain": [
       "[79.135338345864653, 651]"
      ]
     },
     "execution_count": 17,
     "metadata": {},
     "output_type": "execute_result"
    }
   ],
   "source": [
    "[max(ac),ac.index(max(ac))]"
   ]
  },
  {
   "cell_type": "code",
   "execution_count": 18,
   "metadata": {
    "collapsed": false
   },
   "outputs": [
    {
     "data": {
      "text/plain": [
       "DecisionTreeClassifier(class_weight={0: 1, 1: 2}, criterion='gini',\n",
       "            max_depth=7, max_features=None, max_leaf_nodes=None,\n",
       "            min_impurity_split=1e-07, min_samples_leaf=1,\n",
       "            min_samples_split=2, min_weight_fraction_leaf=0.0,\n",
       "            presort=False, random_state=100, splitter='best')"
      ]
     },
     "execution_count": 18,
     "metadata": {},
     "output_type": "execute_result"
    }
   ],
   "source": [
    "clf=clfs[ac.index(max(ac))]\n",
    "clf"
   ]
  },
  {
   "cell_type": "code",
   "execution_count": 19,
   "metadata": {
    "collapsed": false,
    "scrolled": true
   },
   "outputs": [],
   "source": [
    "# get_code(clf,col)"
   ]
  },
  {
   "cell_type": "markdown",
   "metadata": {},
   "source": [
    "# PHD + Acc + train_test_split + NoWeight"
   ]
  },
  {
   "cell_type": "code",
   "execution_count": 20,
   "metadata": {
    "collapsed": false
   },
   "outputs": [],
   "source": [
    "ac=[];clfs=[]\n",
    "for i in range(3,10):\n",
    "    for k in ['entropy','gini']:\n",
    "        clf,acc,conf=build3(xtr, ytr,xte,yte,rocEnable=False,max_depth=i,criterion=k)\n",
    "        ac.append(acc)\n",
    "        clfs.append(clf)"
   ]
  },
  {
   "cell_type": "code",
   "execution_count": 21,
   "metadata": {
    "collapsed": false,
    "scrolled": false
   },
   "outputs": [
    {
     "data": {
      "text/plain": [
       "[78.007518796992485, 5]"
      ]
     },
     "execution_count": 21,
     "metadata": {},
     "output_type": "execute_result"
    }
   ],
   "source": [
    "[max(ac),ac.index(max(ac))]"
   ]
  },
  {
   "cell_type": "code",
   "execution_count": 22,
   "metadata": {
    "collapsed": false
   },
   "outputs": [
    {
     "data": {
      "text/plain": [
       "DecisionTreeClassifier(class_weight=None, criterion='gini', max_depth=5,\n",
       "            max_features=None, max_leaf_nodes=None,\n",
       "            min_impurity_split=1e-07, min_samples_leaf=1,\n",
       "            min_samples_split=2, min_weight_fraction_leaf=0.0,\n",
       "            presort=False, random_state=100, splitter='best')"
      ]
     },
     "execution_count": 22,
     "metadata": {},
     "output_type": "execute_result"
    }
   ],
   "source": [
    "clf=clfs[ac.index(max(ac))]\n",
    "clf"
   ]
  },
  {
   "cell_type": "code",
   "execution_count": 23,
   "metadata": {
    "collapsed": false
   },
   "outputs": [],
   "source": [
    "# draw3(clf)"
   ]
  },
  {
   "cell_type": "code",
   "execution_count": 24,
   "metadata": {
    "collapsed": false,
    "scrolled": true
   },
   "outputs": [],
   "source": [
    "# get_code(clf,col)"
   ]
  },
  {
   "cell_type": "markdown",
   "metadata": {},
   "source": [
    "# PHD + AUC + StratifiedKFold"
   ]
  },
  {
   "cell_type": "code",
   "execution_count": 25,
   "metadata": {
    "collapsed": false
   },
   "outputs": [],
   "source": [
    "ac=[];clfs=[];confs=[]\n",
    "dfTemp=df[df.degreeCode==1].reset_index(drop=True)\n",
    "for spl in range(10,11):\n",
    "    skf = StratifiedKFold(n_splits=spl)\n",
    "    for train,test in skf.split(dfTemp[col], dfTemp.fund):\n",
    "        xtr, ytr,xte,yte=dfTemp.ix[train][col],dfTemp.ix[train]['fund'],dfTemp.ix[test][col],dfTemp.ix[test]['fund']\n",
    "        for i in range(3,8):\n",
    "            for j in range(1,6):\n",
    "                for j2 in range(1,6):\n",
    "                    for k in ['entropy','gini']:\n",
    "                        clf,acc,conf=build3(xtr, ytr,xte,yte,rocEnable=True,max_depth=i,criterion=k,class_weight={0:j, 1: j2})\n",
    "                        ac.append(acc)\n",
    "                        clfs.append(clf)\n",
    "                        confs.append(conf)"
   ]
  },
  {
   "cell_type": "code",
   "execution_count": 26,
   "metadata": {
    "collapsed": false,
    "scrolled": false
   },
   "outputs": [
    {
     "data": {
      "text/plain": [
       "[68.759689922480632, 965]"
      ]
     },
     "execution_count": 26,
     "metadata": {},
     "output_type": "execute_result"
    }
   ],
   "source": [
    "[max(ac),ac.index(max(ac))]"
   ]
  },
  {
   "cell_type": "code",
   "execution_count": 27,
   "metadata": {
    "collapsed": false,
    "scrolled": true
   },
   "outputs": [
    {
     "data": {
      "text/plain": [
       "DecisionTreeClassifier(class_weight={0: 2, 1: 3}, criterion='gini',\n",
       "            max_depth=7, max_features=None, max_leaf_nodes=None,\n",
       "            min_impurity_split=1e-07, min_samples_leaf=1,\n",
       "            min_samples_split=2, min_weight_fraction_leaf=0.0,\n",
       "            presort=False, random_state=100, splitter='best')"
      ]
     },
     "execution_count": 27,
     "metadata": {},
     "output_type": "execute_result"
    }
   ],
   "source": [
    "clf=clfs[ac.index(max(ac))]\n",
    "clf"
   ]
  },
  {
   "cell_type": "code",
   "execution_count": 28,
   "metadata": {
    "collapsed": false,
    "scrolled": false
   },
   "outputs": [],
   "source": [
    "# draw3(clf)"
   ]
  },
  {
   "cell_type": "code",
   "execution_count": 29,
   "metadata": {
    "collapsed": false
   },
   "outputs": [
    {
     "name": "stdout",
     "output_type": "stream",
     "text": [
      "if ( greV <= 132.5 ) {\n",
      "if ( paper <= 1.5 ) {\n",
      "if ( gpaB <= 2.75 ) {\n",
      "if ( highMU <= 0.5 ) {\n",
      "if ( uniRank <= 273.0 ) {\n",
      "if ( uniRank <= 62.5 ) {\n",
      "return [[ 6.  0.]]\n",
      "} else {\n",
      "if ( gpaB <= 1.25 ) {\n",
      "return [[ 2.  0.]]\n",
      "} else {\n",
      "return [[  6.  33.]]\n",
      "}\n",
      "}\n",
      "} else {\n",
      "if ( uniRank <= 406.0 ) {\n",
      "if ( countryCode <= 6.5 ) {\n",
      "return [[ 90.  39.]]\n",
      "} else {\n",
      "return [[ 0.  6.]]\n",
      "}\n",
      "} else {\n",
      "if ( eng <= 6.75 ) {\n",
      "return [[ 8.  3.]]\n",
      "} else {\n",
      "return [[  4.  24.]]\n",
      "}\n",
      "}\n",
      "}\n",
      "} else {\n",
      "if ( gpaM <= 2.25 ) {\n",
      "return [[ 4.  0.]]\n",
      "} else {\n",
      "if ( fieldG_0 <= 0.5 ) {\n",
      "if ( gpaB <= 1.75 ) {\n",
      "return [[  0.  18.]]\n",
      "} else {\n",
      "return [[ 28.  69.]]\n",
      "}\n",
      "} else {\n",
      "if ( uniRank <= 330.5 ) {\n",
      "return [[ 18.  12.]]\n",
      "} else {\n",
      "return [[ 0.  6.]]\n",
      "}\n",
      "}\n",
      "}\n",
      "}\n",
      "} else {\n",
      "if ( eng <= 7.75 ) {\n",
      "if ( eng <= 6.75 ) {\n",
      "if ( gpaM <= 3.75 ) {\n",
      "if ( fieldG_2 <= 0.5 ) {\n",
      "return [[  6.  36.]]\n",
      "} else {\n",
      "return [[ 2.  0.]]\n",
      "}\n",
      "} else {\n",
      "if ( fieldG_3 <= 0.5 ) {\n",
      "return [[ 8.  3.]]\n",
      "} else {\n",
      "return [[ 0.  3.]]\n",
      "}\n",
      "}\n",
      "} else {\n",
      "if ( gpaM <= 2.0 ) {\n",
      "return [[ 2.  0.]]\n",
      "} else {\n",
      "if ( fieldG_8 <= 0.5 ) {\n",
      "return [[   4.  126.]]\n",
      "} else {\n",
      "return [[ 2.  3.]]\n",
      "}\n",
      "}\n",
      "}\n",
      "} else {\n",
      "if ( highBU <= 0.5 ) {\n",
      "if ( uniRank <= 82.0 ) {\n",
      "return [[ 6.  0.]]\n",
      "} else {\n",
      "if ( uniRank <= 287.5 ) {\n",
      "return [[  2.  18.]]\n",
      "} else {\n",
      "return [[ 24.  21.]]\n",
      "}\n",
      "}\n",
      "} else {\n",
      "if ( greQ <= 162.5 ) {\n",
      "if ( fieldG_9 <= 0.5 ) {\n",
      "return [[  8.  51.]]\n",
      "} else {\n",
      "return [[ 2.  0.]]\n",
      "}\n",
      "} else {\n",
      "return [[ 2.  0.]]\n",
      "}\n",
      "}\n",
      "}\n",
      "}\n",
      "} else {\n",
      "if ( fieldG_11 <= 0.5 ) {\n",
      "if ( fieldG_8 <= 0.5 ) {\n",
      "if ( countryCode <= 5.5 ) {\n",
      "if ( countryCode <= 0.5 ) {\n",
      "if ( uniRank <= 6.0 ) {\n",
      "return [[ 6.  0.]]\n",
      "} else {\n",
      "return [[ 114.  375.]]\n",
      "}\n",
      "} else {\n",
      "if ( countryCode <= 1.5 ) {\n",
      "return [[   8.  210.]]\n",
      "} else {\n",
      "return [[  46.  207.]]\n",
      "}\n",
      "}\n",
      "} else {\n",
      "if ( fieldG_0 <= 0.5 ) {\n",
      "if ( uniRank <= 179.5 ) {\n",
      "return [[ 0.  3.]]\n",
      "} else {\n",
      "return [[ 14.   0.]]\n",
      "}\n",
      "} else {\n",
      "if ( uniRank <= 752.0 ) {\n",
      "return [[  4.  24.]]\n",
      "} else {\n",
      "return [[ 4.  0.]]\n",
      "}\n",
      "}\n",
      "}\n",
      "} else {\n",
      "if ( gpaB <= 1.25 ) {\n",
      "return [[ 0.  3.]]\n",
      "} else {\n",
      "return [[ 10.   0.]]\n",
      "}\n",
      "}\n",
      "} else {\n",
      "if ( gpaB <= 3.75 ) {\n",
      "return [[   0.  147.]]\n",
      "} else {\n",
      "if ( paper <= 5.5 ) {\n",
      "return [[  0.  12.]]\n",
      "} else {\n",
      "return [[ 2.  0.]]\n",
      "}\n",
      "}\n",
      "}\n",
      "}\n",
      "} else {\n",
      "if ( greW <= 4.75 ) {\n",
      "if ( fieldG_7 <= 0.5 ) {\n",
      "if ( uniRank <= 234.0 ) {\n",
      "if ( countryCode <= 0.5 ) {\n",
      "if ( paper <= 6.5 ) {\n",
      "if ( greV <= 145.5 ) {\n",
      "return [[  26.  414.]]\n",
      "} else {\n",
      "return [[  48.  363.]]\n",
      "}\n",
      "} else {\n",
      "if ( fieldG_9 <= 0.5 ) {\n",
      "return [[ 16.  87.]]\n",
      "} else {\n",
      "return [[ 6.  0.]]\n",
      "}\n",
      "}\n",
      "} else {\n",
      "return [[   0.  105.]]\n",
      "}\n",
      "} else {\n",
      "if ( greQ <= 151.5 ) {\n",
      "if ( eng <= 7.75 ) {\n",
      "if ( greV <= 140.5 ) {\n",
      "return [[ 0.  6.]]\n",
      "} else {\n",
      "return [[ 16.   6.]]\n",
      "}\n",
      "} else {\n",
      "if ( uniRank <= 274.5 ) {\n",
      "return [[ 2.  0.]]\n",
      "} else {\n",
      "return [[  0.  15.]]\n",
      "}\n",
      "}\n",
      "} else {\n",
      "if ( paper <= 4.5 ) {\n",
      "if ( highMU <= 0.5 ) {\n",
      "return [[  80.  297.]]\n",
      "} else {\n",
      "return [[  80.  552.]]\n",
      "}\n",
      "} else {\n",
      "if ( eng <= 6.25 ) {\n",
      "return [[ 4.  0.]]\n",
      "} else {\n",
      "return [[   8.  240.]]\n",
      "}\n",
      "}\n",
      "}\n",
      "}\n",
      "} else {\n",
      "if ( greV <= 140.0 ) {\n",
      "if ( greQ <= 162.5 ) {\n",
      "if ( gpaM <= 3.25 ) {\n",
      "return [[ 2.  0.]]\n",
      "} else {\n",
      "return [[ 0.  9.]]\n",
      "}\n",
      "} else {\n",
      "if ( gpaB <= 3.25 ) {\n",
      "return [[ 12.   0.]]\n",
      "} else {\n",
      "return [[ 0.  3.]]\n",
      "}\n",
      "}\n",
      "} else {\n",
      "if ( greQ <= 150.5 ) {\n",
      "return [[ 2.  0.]]\n",
      "} else {\n",
      "if ( greQ <= 161.5 ) {\n",
      "if ( gpaB <= 2.25 ) {\n",
      "return [[ 2.  3.]]\n",
      "} else {\n",
      "return [[  0.  33.]]\n",
      "}\n",
      "} else {\n",
      "if ( greQ <= 163.5 ) {\n",
      "return [[ 2.  0.]]\n",
      "} else {\n",
      "return [[ 12.  42.]]\n",
      "}\n",
      "}\n",
      "}\n",
      "}\n",
      "}\n",
      "} else {\n",
      "if ( greQ <= 166.5 ) {\n",
      "return [[ 8.  0.]]\n",
      "} else {\n",
      "return [[ 0.  6.]]\n",
      "}\n",
      "}\n",
      "}\n"
     ]
    }
   ],
   "source": [
    "get_code(clf,col)"
   ]
  },
  {
   "cell_type": "code",
   "execution_count": 30,
   "metadata": {
    "collapsed": false,
    "scrolled": true
   },
   "outputs": [
    {
     "data": {
      "text/plain": [
       "array([[ 19,  24],\n",
       "       [  9, 126]])"
      ]
     },
     "execution_count": 30,
     "metadata": {},
     "output_type": "execute_result"
    }
   ],
   "source": [
    "confs[ac.index(max(ac))]"
   ]
  },
  {
   "cell_type": "markdown",
   "metadata": {},
   "source": [
    "# {0:3, 1: 2} ACC"
   ]
  },
  {
   "cell_type": "code",
   "execution_count": 31,
   "metadata": {
    "collapsed": false
   },
   "outputs": [],
   "source": [
    "ac=[];clfs=[];confs=[]\n",
    "dfTemp=df[df.degreeCode==1].reset_index(drop=True)\n",
    "for spl in range(10,11):\n",
    "    skf = StratifiedKFold(n_splits=spl)\n",
    "    for train,test in skf.split(dfTemp[col], dfTemp.fund):\n",
    "        xtr, ytr,xte,yte=dfTemp.ix[train][col],dfTemp.ix[train]['fund'],dfTemp.ix[test][col],dfTemp.ix[test]['fund']\n",
    "        for i in range(3,8):\n",
    "            for k in ['entropy','gini']:\n",
    "                clf,acc,conf=build3(xtr, ytr,xte,yte,rocEnable=False,max_depth=i,criterion=k,class_weight={0:3, 1: 2})\n",
    "                ac.append(acc)\n",
    "                clfs.append(clf)\n",
    "                confs.append(conf)"
   ]
  },
  {
   "cell_type": "code",
   "execution_count": 32,
   "metadata": {
    "collapsed": false,
    "scrolled": false
   },
   "outputs": [
    {
     "data": {
      "text/plain": [
       "[80.11363636363636, 94]"
      ]
     },
     "execution_count": 32,
     "metadata": {},
     "output_type": "execute_result"
    }
   ],
   "source": [
    "[max(ac),ac.index(max(ac))]"
   ]
  },
  {
   "cell_type": "code",
   "execution_count": 33,
   "metadata": {
    "collapsed": false
   },
   "outputs": [],
   "source": [
    "# draw3(clf)"
   ]
  },
  {
   "cell_type": "code",
   "execution_count": 34,
   "metadata": {
    "collapsed": false
   },
   "outputs": [
    {
     "data": {
      "text/plain": [
       "DecisionTreeClassifier(class_weight={0: 3, 1: 2}, criterion='gini',\n",
       "            max_depth=7, max_features=None, max_leaf_nodes=None,\n",
       "            min_impurity_split=1e-07, min_samples_leaf=1,\n",
       "            min_samples_split=2, min_weight_fraction_leaf=0.0,\n",
       "            presort=False, random_state=100, splitter='best')"
      ]
     },
     "execution_count": 34,
     "metadata": {},
     "output_type": "execute_result"
    }
   ],
   "source": [
    "clf"
   ]
  },
  {
   "cell_type": "code",
   "execution_count": 35,
   "metadata": {
    "collapsed": false
   },
   "outputs": [
    {
     "name": "stdout",
     "output_type": "stream",
     "text": [
      "if ( greV <= 132.5 ) {\n",
      "if ( paper <= 2.5 ) {\n",
      "if ( highBU <= 0.5 ) {\n",
      "if ( uniRank <= 275.0 ) {\n",
      "if ( uniRank <= 73.0 ) {\n",
      "if ( fieldG_1 <= 0.5 ) {\n",
      "if ( fieldG_10 <= 0.5 ) {\n",
      "return [[ 36.   6.]]\n",
      "} else {\n",
      "return [[ 0.  4.]]\n",
      "}\n",
      "} else {\n",
      "return [[ 0.  6.]]\n",
      "}\n",
      "} else {\n",
      "if ( uniRank <= 210.0 ) {\n",
      "if ( gpaM <= 3.47149276733 ) {\n",
      "return [[ 18.  16.]]\n",
      "} else {\n",
      "return [[  3.  26.]]\n",
      "}\n",
      "} else {\n",
      "return [[  0.  32.]]\n",
      "}\n",
      "}\n",
      "} else {\n",
      "if ( uniRank <= 322.0 ) {\n",
      "if ( fieldG_11 <= 0.5 ) {\n",
      "if ( countryCode <= 3.5 ) {\n",
      "return [[ 174.   32.]]\n",
      "} else {\n",
      "return [[ 18.  18.]]\n",
      "}\n",
      "} else {\n",
      "if ( paper <= 0.5 ) {\n",
      "return [[ 9.  4.]]\n",
      "} else {\n",
      "return [[ 0.  8.]]\n",
      "}\n",
      "}\n",
      "} else {\n",
      "if ( uniRank <= 575.0 ) {\n",
      "if ( gpaB <= 1.25 ) {\n",
      "return [[ 3.  0.]]\n",
      "} else {\n",
      "return [[  6.  34.]]\n",
      "}\n",
      "} else {\n",
      "if ( eng <= 6.75 ) {\n",
      "return [[ 21.   0.]]\n",
      "} else {\n",
      "return [[ 15.  14.]]\n",
      "}\n",
      "}\n",
      "}\n",
      "}\n",
      "} else {\n",
      "if ( gpaB <= 2.75 ) {\n",
      "if ( fieldG_5 <= 0.5 ) {\n",
      "if ( countryCode <= 5.5 ) {\n",
      "if ( uniRank <= 314.5 ) {\n",
      "return [[ 69.  86.]]\n",
      "} else {\n",
      "return [[  9.  38.]]\n",
      "}\n",
      "} else {\n",
      "if ( gre <= 0.5 ) {\n",
      "return [[ 15.   0.]]\n",
      "} else {\n",
      "return [[ 0.  2.]]\n",
      "}\n",
      "}\n",
      "} else {\n",
      "if ( highMU <= 0.5 ) {\n",
      "return [[ 18.   0.]]\n",
      "} else {\n",
      "if ( gpaM <= 3.25 ) {\n",
      "return [[ 3.  0.]]\n",
      "} else {\n",
      "return [[ 0.  2.]]\n",
      "}\n",
      "}\n",
      "}\n",
      "} else {\n",
      "if ( fieldG_11 <= 0.5 ) {\n",
      "if ( uniRank <= 71.5 ) {\n",
      "return [[  0.  18.]]\n",
      "} else {\n",
      "if ( uniRank <= 94.0 ) {\n",
      "return [[ 6.  2.]]\n",
      "} else {\n",
      "return [[ 33.  76.]]\n",
      "}\n",
      "}\n",
      "} else {\n",
      "return [[  0.  32.]]\n",
      "}\n",
      "}\n",
      "}\n",
      "} else {\n",
      "if ( countryCode <= 4.5 ) {\n",
      "if ( countryCode <= 0.5 ) {\n",
      "if ( highMU <= 0.5 ) {\n",
      "if ( uniRank <= 392.5 ) {\n",
      "if ( gpaM <= 2.75 ) {\n",
      "return [[ 12.   0.]]\n",
      "} else {\n",
      "return [[ 84.  92.]]\n",
      "}\n",
      "} else {\n",
      "if ( fieldG_4 <= 0.5 ) {\n",
      "return [[  0.  26.]]\n",
      "} else {\n",
      "return [[ 3.  0.]]\n",
      "}\n",
      "}\n",
      "} else {\n",
      "if ( eng <= 6.0 ) {\n",
      "return [[ 6.  0.]]\n",
      "} else {\n",
      "if ( fieldG_0 <= 0.5 ) {\n",
      "return [[  15.  112.]]\n",
      "} else {\n",
      "return [[ 15.  34.]]\n",
      "}\n",
      "}\n",
      "}\n",
      "} else {\n",
      "if ( countryCode <= 1.5 ) {\n",
      "if ( gpaM <= 2.25 ) {\n",
      "if ( paper <= 6.0 ) {\n",
      "return [[ 3.  0.]]\n",
      "} else {\n",
      "return [[ 0.  2.]]\n",
      "}\n",
      "} else {\n",
      "if ( gpaM <= 3.22149276733 ) {\n",
      "return [[  3.  34.]]\n",
      "} else {\n",
      "return [[  0.  90.]]\n",
      "}\n",
      "}\n",
      "} else {\n",
      "if ( fieldG_10 <= 0.5 ) {\n",
      "if ( eng <= 7.25 ) {\n",
      "return [[ 33.  62.]]\n",
      "} else {\n",
      "return [[  3.  56.]]\n",
      "}\n",
      "} else {\n",
      "if ( gpaB <= 1.75 ) {\n",
      "return [[ 0.  2.]]\n",
      "} else {\n",
      "return [[ 6.  0.]]\n",
      "}\n",
      "}\n",
      "}\n",
      "}\n",
      "} else {\n",
      "if ( countryCode <= 6.5 ) {\n",
      "if ( countryCode <= 5.5 ) {\n",
      "if ( fieldG_14 <= 0.5 ) {\n",
      "if ( gpaB <= 2.75 ) {\n",
      "return [[ 3.  2.]]\n",
      "} else {\n",
      "return [[ 0.  4.]]\n",
      "}\n",
      "} else {\n",
      "return [[ 3.  0.]]\n",
      "}\n",
      "} else {\n",
      "return [[ 24.   0.]]\n",
      "}\n",
      "} else {\n",
      "return [[ 0.  8.]]\n",
      "}\n",
      "}\n",
      "}\n",
      "} else {\n",
      "if ( greW <= 4.75 ) {\n",
      "if ( uniRank <= 234.0 ) {\n",
      "if ( countryCode <= 0.5 ) {\n",
      "if ( paper <= 6.5 ) {\n",
      "if ( greQ <= 160.5 ) {\n",
      "if ( gpaM <= 2.75 ) {\n",
      "return [[  6.  10.]]\n",
      "} else {\n",
      "return [[  12.  168.]]\n",
      "}\n",
      "} else {\n",
      "if ( fieldG_7 <= 0.5 ) {\n",
      "return [[  84.  336.]]\n",
      "} else {\n",
      "return [[ 18.  16.]]\n",
      "}\n",
      "}\n",
      "} else {\n",
      "if ( eng <= 6.75 ) {\n",
      "if ( greQ <= 158.5 ) {\n",
      "return [[  3.  10.]]\n",
      "} else {\n",
      "return [[ 21.   8.]]\n",
      "}\n",
      "} else {\n",
      "if ( eng <= 7.75 ) {\n",
      "return [[  0.  32.]]\n",
      "} else {\n",
      "return [[ 12.  16.]]\n",
      "}\n",
      "}\n",
      "}\n",
      "} else {\n",
      "return [[  0.  76.]]\n",
      "}\n",
      "} else {\n",
      "if ( paper <= 4.5 ) {\n",
      "if ( uniRank <= 662.0 ) {\n",
      "if ( highMU <= 0.5 ) {\n",
      "if ( countryCode <= 3.5 ) {\n",
      "return [[ 135.  162.]]\n",
      "} else {\n",
      "return [[  0.  10.]]\n",
      "}\n",
      "} else {\n",
      "if ( uniRank <= 254.5 ) {\n",
      "return [[ 15.   4.]]\n",
      "} else {\n",
      "return [[ 132.  326.]]\n",
      "}\n",
      "}\n",
      "} else {\n",
      "if ( greV <= 137.5 ) {\n",
      "if ( greQ <= 162.0 ) {\n",
      "return [[ 6.  0.]]\n",
      "} else {\n",
      "return [[ 0.  4.]]\n",
      "}\n",
      "} else {\n",
      "if ( fieldG_1 <= 0.5 ) {\n",
      "return [[  0.  66.]]\n",
      "} else {\n",
      "return [[  6.  10.]]\n",
      "}\n",
      "}\n",
      "}\n",
      "} else {\n",
      "if ( greQ <= 148.5 ) {\n",
      "return [[ 6.  0.]]\n",
      "} else {\n",
      "if ( eng <= 6.25 ) {\n",
      "return [[ 6.  0.]]\n",
      "} else {\n",
      "if ( uniRank <= 972.0 ) {\n",
      "return [[   9.  188.]]\n",
      "} else {\n",
      "return [[ 3.  0.]]\n",
      "}\n",
      "}\n",
      "}\n",
      "}\n",
      "}\n",
      "} else {\n",
      "if ( paper <= 7.5 ) {\n",
      "return [[ 12.   0.]]\n",
      "} else {\n",
      "return [[ 0.  2.]]\n",
      "}\n",
      "}\n",
      "}\n"
     ]
    }
   ],
   "source": [
    "get_code(clf,col)"
   ]
  },
  {
   "cell_type": "markdown",
   "metadata": {},
   "source": [
    "# PHD + ACC + StratifiedKFold"
   ]
  },
  {
   "cell_type": "code",
   "execution_count": 36,
   "metadata": {
    "collapsed": false
   },
   "outputs": [],
   "source": [
    "ac=[];clfs=[];confs=[]\n",
    "dfTemp=df[df.degreeCode==1].reset_index(drop=True)\n",
    "for spl in range(10,11):\n",
    "    skf = StratifiedKFold(n_splits=spl)\n",
    "    for train,test in skf.split(dfTemp[col], dfTemp.fund):\n",
    "        xtr, ytr,xte,yte=dfTemp.ix[train][col],dfTemp.ix[train]['fund'],dfTemp.ix[test][col],dfTemp.ix[test]['fund']\n",
    "        for i in range(3,8):\n",
    "            for j in range(1,6):\n",
    "                for j2 in range(1,6):\n",
    "                    for k in ['entropy','gini']:\n",
    "                        clf,acc,conf=build3(xtr, ytr,xte,yte,rocEnable=False,max_depth=i,criterion=k,class_weight={0:j, 1: j2})\n",
    "                        ac.append(acc)\n",
    "                        clfs.append(clf)\n",
    "                        confs.append(conf)"
   ]
  },
  {
   "cell_type": "code",
   "execution_count": 37,
   "metadata": {
    "collapsed": false,
    "scrolled": false
   },
   "outputs": [
    {
     "data": {
      "text/plain": [
       "[81.460674157303373, 965]"
      ]
     },
     "execution_count": 37,
     "metadata": {},
     "output_type": "execute_result"
    }
   ],
   "source": [
    "[max(ac),ac.index(max(ac))]"
   ]
  },
  {
   "cell_type": "code",
   "execution_count": 38,
   "metadata": {
    "collapsed": false,
    "scrolled": true
   },
   "outputs": [
    {
     "data": {
      "text/plain": [
       "DecisionTreeClassifier(class_weight={0: 2, 1: 3}, criterion='gini',\n",
       "            max_depth=7, max_features=None, max_leaf_nodes=None,\n",
       "            min_impurity_split=1e-07, min_samples_leaf=1,\n",
       "            min_samples_split=2, min_weight_fraction_leaf=0.0,\n",
       "            presort=False, random_state=100, splitter='best')"
      ]
     },
     "execution_count": 38,
     "metadata": {},
     "output_type": "execute_result"
    }
   ],
   "source": [
    "clf=clfs[ac.index(max(ac))]\n",
    "clf"
   ]
  },
  {
   "cell_type": "code",
   "execution_count": 39,
   "metadata": {
    "collapsed": false,
    "scrolled": false
   },
   "outputs": [],
   "source": [
    "# draw3(clf)"
   ]
  },
  {
   "cell_type": "code",
   "execution_count": 40,
   "metadata": {
    "collapsed": false
   },
   "outputs": [
    {
     "name": "stdout",
     "output_type": "stream",
     "text": [
      "if ( greV <= 132.5 ) {\n",
      "if ( paper <= 1.5 ) {\n",
      "if ( gpaB <= 2.75 ) {\n",
      "if ( highMU <= 0.5 ) {\n",
      "if ( uniRank <= 273.0 ) {\n",
      "if ( uniRank <= 62.5 ) {\n",
      "return [[ 6.  0.]]\n",
      "} else {\n",
      "if ( gpaB <= 1.25 ) {\n",
      "return [[ 2.  0.]]\n",
      "} else {\n",
      "return [[  6.  33.]]\n",
      "}\n",
      "}\n",
      "} else {\n",
      "if ( uniRank <= 406.0 ) {\n",
      "if ( countryCode <= 6.5 ) {\n",
      "return [[ 90.  39.]]\n",
      "} else {\n",
      "return [[ 0.  6.]]\n",
      "}\n",
      "} else {\n",
      "if ( eng <= 6.75 ) {\n",
      "return [[ 8.  3.]]\n",
      "} else {\n",
      "return [[  4.  24.]]\n",
      "}\n",
      "}\n",
      "}\n",
      "} else {\n",
      "if ( gpaM <= 2.25 ) {\n",
      "return [[ 4.  0.]]\n",
      "} else {\n",
      "if ( fieldG_0 <= 0.5 ) {\n",
      "if ( gpaB <= 1.75 ) {\n",
      "return [[  0.  18.]]\n",
      "} else {\n",
      "return [[ 28.  69.]]\n",
      "}\n",
      "} else {\n",
      "if ( uniRank <= 330.5 ) {\n",
      "return [[ 18.  12.]]\n",
      "} else {\n",
      "return [[ 0.  6.]]\n",
      "}\n",
      "}\n",
      "}\n",
      "}\n",
      "} else {\n",
      "if ( eng <= 7.75 ) {\n",
      "if ( eng <= 6.75 ) {\n",
      "if ( gpaM <= 3.75 ) {\n",
      "if ( fieldG_2 <= 0.5 ) {\n",
      "return [[  6.  36.]]\n",
      "} else {\n",
      "return [[ 2.  0.]]\n",
      "}\n",
      "} else {\n",
      "if ( fieldG_3 <= 0.5 ) {\n",
      "return [[ 8.  3.]]\n",
      "} else {\n",
      "return [[ 0.  3.]]\n",
      "}\n",
      "}\n",
      "} else {\n",
      "if ( gpaM <= 2.0 ) {\n",
      "return [[ 2.  0.]]\n",
      "} else {\n",
      "if ( fieldG_8 <= 0.5 ) {\n",
      "return [[   4.  126.]]\n",
      "} else {\n",
      "return [[ 2.  3.]]\n",
      "}\n",
      "}\n",
      "}\n",
      "} else {\n",
      "if ( highBU <= 0.5 ) {\n",
      "if ( uniRank <= 82.0 ) {\n",
      "return [[ 6.  0.]]\n",
      "} else {\n",
      "if ( uniRank <= 287.5 ) {\n",
      "return [[  2.  18.]]\n",
      "} else {\n",
      "return [[ 24.  21.]]\n",
      "}\n",
      "}\n",
      "} else {\n",
      "if ( greQ <= 162.5 ) {\n",
      "if ( fieldG_9 <= 0.5 ) {\n",
      "return [[  8.  51.]]\n",
      "} else {\n",
      "return [[ 2.  0.]]\n",
      "}\n",
      "} else {\n",
      "return [[ 2.  0.]]\n",
      "}\n",
      "}\n",
      "}\n",
      "}\n",
      "} else {\n",
      "if ( fieldG_11 <= 0.5 ) {\n",
      "if ( fieldG_8 <= 0.5 ) {\n",
      "if ( countryCode <= 5.5 ) {\n",
      "if ( countryCode <= 0.5 ) {\n",
      "if ( uniRank <= 6.0 ) {\n",
      "return [[ 6.  0.]]\n",
      "} else {\n",
      "return [[ 114.  375.]]\n",
      "}\n",
      "} else {\n",
      "if ( countryCode <= 1.5 ) {\n",
      "return [[   8.  210.]]\n",
      "} else {\n",
      "return [[  46.  207.]]\n",
      "}\n",
      "}\n",
      "} else {\n",
      "if ( fieldG_0 <= 0.5 ) {\n",
      "if ( uniRank <= 179.5 ) {\n",
      "return [[ 0.  3.]]\n",
      "} else {\n",
      "return [[ 14.   0.]]\n",
      "}\n",
      "} else {\n",
      "if ( uniRank <= 752.0 ) {\n",
      "return [[  4.  24.]]\n",
      "} else {\n",
      "return [[ 4.  0.]]\n",
      "}\n",
      "}\n",
      "}\n",
      "} else {\n",
      "if ( gpaB <= 1.25 ) {\n",
      "return [[ 0.  3.]]\n",
      "} else {\n",
      "return [[ 10.   0.]]\n",
      "}\n",
      "}\n",
      "} else {\n",
      "if ( gpaB <= 3.75 ) {\n",
      "return [[   0.  147.]]\n",
      "} else {\n",
      "if ( paper <= 5.5 ) {\n",
      "return [[  0.  12.]]\n",
      "} else {\n",
      "return [[ 2.  0.]]\n",
      "}\n",
      "}\n",
      "}\n",
      "}\n",
      "} else {\n",
      "if ( greW <= 4.75 ) {\n",
      "if ( fieldG_7 <= 0.5 ) {\n",
      "if ( uniRank <= 234.0 ) {\n",
      "if ( countryCode <= 0.5 ) {\n",
      "if ( paper <= 6.5 ) {\n",
      "if ( greV <= 145.5 ) {\n",
      "return [[  26.  414.]]\n",
      "} else {\n",
      "return [[  48.  363.]]\n",
      "}\n",
      "} else {\n",
      "if ( fieldG_9 <= 0.5 ) {\n",
      "return [[ 16.  87.]]\n",
      "} else {\n",
      "return [[ 6.  0.]]\n",
      "}\n",
      "}\n",
      "} else {\n",
      "return [[   0.  105.]]\n",
      "}\n",
      "} else {\n",
      "if ( greQ <= 151.5 ) {\n",
      "if ( eng <= 7.75 ) {\n",
      "if ( greV <= 140.5 ) {\n",
      "return [[ 0.  6.]]\n",
      "} else {\n",
      "return [[ 16.   6.]]\n",
      "}\n",
      "} else {\n",
      "if ( uniRank <= 274.5 ) {\n",
      "return [[ 2.  0.]]\n",
      "} else {\n",
      "return [[  0.  15.]]\n",
      "}\n",
      "}\n",
      "} else {\n",
      "if ( paper <= 4.5 ) {\n",
      "if ( highMU <= 0.5 ) {\n",
      "return [[  80.  297.]]\n",
      "} else {\n",
      "return [[  80.  552.]]\n",
      "}\n",
      "} else {\n",
      "if ( eng <= 6.25 ) {\n",
      "return [[ 4.  0.]]\n",
      "} else {\n",
      "return [[   8.  240.]]\n",
      "}\n",
      "}\n",
      "}\n",
      "}\n",
      "} else {\n",
      "if ( greV <= 140.0 ) {\n",
      "if ( greQ <= 162.5 ) {\n",
      "if ( gpaM <= 3.25 ) {\n",
      "return [[ 2.  0.]]\n",
      "} else {\n",
      "return [[ 0.  9.]]\n",
      "}\n",
      "} else {\n",
      "if ( gpaB <= 3.25 ) {\n",
      "return [[ 12.   0.]]\n",
      "} else {\n",
      "return [[ 0.  3.]]\n",
      "}\n",
      "}\n",
      "} else {\n",
      "if ( greQ <= 150.5 ) {\n",
      "return [[ 2.  0.]]\n",
      "} else {\n",
      "if ( greQ <= 161.5 ) {\n",
      "if ( gpaB <= 2.25 ) {\n",
      "return [[ 2.  3.]]\n",
      "} else {\n",
      "return [[  0.  33.]]\n",
      "}\n",
      "} else {\n",
      "if ( greQ <= 163.5 ) {\n",
      "return [[ 2.  0.]]\n",
      "} else {\n",
      "return [[ 12.  42.]]\n",
      "}\n",
      "}\n",
      "}\n",
      "}\n",
      "}\n",
      "} else {\n",
      "if ( greQ <= 166.5 ) {\n",
      "return [[ 8.  0.]]\n",
      "} else {\n",
      "return [[ 0.  6.]]\n",
      "}\n",
      "}\n",
      "}\n"
     ]
    }
   ],
   "source": [
    "get_code(clf,col)"
   ]
  },
  {
   "cell_type": "code",
   "execution_count": 41,
   "metadata": {
    "collapsed": false
   },
   "outputs": [
    {
     "data": {
      "text/plain": [
       "array([[ 19,  24],\n",
       "       [  9, 126]])"
      ]
     },
     "execution_count": 41,
     "metadata": {},
     "output_type": "execute_result"
    }
   ],
   "source": [
    "confs[ac.index(max(ac))]"
   ]
  },
  {
   "cell_type": "markdown",
   "metadata": {},
   "source": [
    "# PHD + ACC + StratifiedKFold + BALANCED"
   ]
  },
  {
   "cell_type": "code",
   "execution_count": 42,
   "metadata": {
    "collapsed": false
   },
   "outputs": [],
   "source": [
    "ac=[];clfs=[];confs=[]\n",
    "dfTemp=df[df.degreeCode==1].reset_index(drop=True)\n",
    "for spl in range(10,11):\n",
    "    skf = StratifiedKFold(n_splits=spl)\n",
    "    for train,test in skf.split(dfTemp[col], dfTemp.fund):\n",
    "        xtr, ytr,xte,yte=dfTemp.ix[train][col],dfTemp.ix[train]['fund'],dfTemp.ix[test][col],dfTemp.ix[test]['fund']\n",
    "        for i in range(3,8):\n",
    "            for k in ['entropy','gini']:\n",
    "                clf,acc,conf=build3(xtr, ytr,xte,yte,rocEnable=False,max_depth=i,criterion=k,class_weight=\"balanced\")\n",
    "                ac.append(acc)\n",
    "                clfs.append(clf)\n",
    "                confs.append(conf)"
   ]
  },
  {
   "cell_type": "code",
   "execution_count": 43,
   "metadata": {
    "collapsed": false,
    "scrolled": false
   },
   "outputs": [
    {
     "data": {
      "text/plain": [
       "[76.404494382022463, 7]"
      ]
     },
     "execution_count": 43,
     "metadata": {},
     "output_type": "execute_result"
    }
   ],
   "source": [
    "[max(ac),ac.index(max(ac))]"
   ]
  },
  {
   "cell_type": "markdown",
   "metadata": {},
   "source": [
    "# PHD + AUC + StratifiedKFold + BALANCED"
   ]
  },
  {
   "cell_type": "code",
   "execution_count": 44,
   "metadata": {
    "collapsed": false
   },
   "outputs": [],
   "source": [
    "ac=[];clfs=[];confs=[]\n",
    "dfTemp=df[df.degreeCode==1].reset_index(drop=True)\n",
    "for spl in range(10,11):\n",
    "    skf = StratifiedKFold(n_splits=spl)\n",
    "    for train,test in skf.split(dfTemp[col], dfTemp.fund):\n",
    "        xtr, ytr,xte,yte=dfTemp.ix[train][col],dfTemp.ix[train]['fund'],dfTemp.ix[test][col],dfTemp.ix[test]['fund']\n",
    "        for i in range(3,8):\n",
    "            for k in ['entropy','gini']:\n",
    "                clf,acc,conf=build3(xtr, ytr,xte,yte,rocEnable=True,max_depth=i,criterion=k,class_weight=\"balanced\")\n",
    "                ac.append(acc)\n",
    "                clfs.append(clf)\n",
    "                confs.append(conf)"
   ]
  },
  {
   "cell_type": "code",
   "execution_count": 45,
   "metadata": {
    "collapsed": false,
    "scrolled": true
   },
   "outputs": [
    {
     "data": {
      "text/plain": [
       "[66.623600344530573, 57]"
      ]
     },
     "execution_count": 45,
     "metadata": {},
     "output_type": "execute_result"
    }
   ],
   "source": [
    "[max(ac),ac.index(max(ac))]"
   ]
  },
  {
   "cell_type": "markdown",
   "metadata": {},
   "source": [
    "# PHD + ACC + StratifiedKFold + NoWeight"
   ]
  },
  {
   "cell_type": "code",
   "execution_count": 46,
   "metadata": {
    "collapsed": false
   },
   "outputs": [],
   "source": [
    "ac=[];clfs=[];confs=[]\n",
    "dfTemp=df[df.degreeCode==1].reset_index(drop=True)\n",
    "for spl in range(10,11):\n",
    "    skf = StratifiedKFold(n_splits=spl)\n",
    "    for train,test in skf.split(dfTemp[col], dfTemp.fund):\n",
    "        xtr, ytr,xte,yte=dfTemp.ix[train][col],dfTemp.ix[train]['fund'],dfTemp.ix[test][col],dfTemp.ix[test]['fund']\n",
    "        for i in range(3,8):\n",
    "            for k in ['entropy','gini']:\n",
    "                clf,acc,conf=build3(xtr, ytr,xte,yte,rocEnable=False,max_depth=i,criterion=k,class_weight=None)\n",
    "                ac.append(acc)\n",
    "                clfs.append(clf)\n",
    "                confs.append(conf)"
   ]
  },
  {
   "cell_type": "code",
   "execution_count": 47,
   "metadata": {
    "collapsed": false,
    "scrolled": false
   },
   "outputs": [
    {
     "data": {
      "text/plain": [
       "[79.775280898876403, 14]"
      ]
     },
     "execution_count": 47,
     "metadata": {},
     "output_type": "execute_result"
    }
   ],
   "source": [
    "[max(ac),ac.index(max(ac))]"
   ]
  },
  {
   "cell_type": "markdown",
   "metadata": {},
   "source": [
    "# PHD + AUC + StratifiedKFold + NoWeight"
   ]
  },
  {
   "cell_type": "code",
   "execution_count": 48,
   "metadata": {
    "collapsed": false
   },
   "outputs": [],
   "source": [
    "ac=[];clfs=[];confs=[]\n",
    "dfTemp=df[df.degreeCode==1].reset_index(drop=True)\n",
    "for spl in range(10,11):\n",
    "    skf = StratifiedKFold(n_splits=spl)\n",
    "    for train,test in skf.split(dfTemp[col], dfTemp.fund):\n",
    "        xtr, ytr,xte,yte=dfTemp.ix[train][col],dfTemp.ix[train]['fund'],dfTemp.ix[test][col],dfTemp.ix[test]['fund']\n",
    "        for i in range(3,8):\n",
    "            for k in ['entropy','gini']:\n",
    "                clf,acc,conf=build3(xtr, ytr,xte,yte,rocEnable=True,max_depth=i,criterion=k,class_weight=None)\n",
    "                ac.append(acc)\n",
    "                clfs.append(clf)\n",
    "                confs.append(conf)"
   ]
  },
  {
   "cell_type": "code",
   "execution_count": 49,
   "metadata": {
    "collapsed": false,
    "scrolled": true
   },
   "outputs": [
    {
     "data": {
      "text/plain": [
       "[64.900947459086993, 37]"
      ]
     },
     "execution_count": 49,
     "metadata": {},
     "output_type": "execute_result"
    }
   ],
   "source": [
    "[max(ac),ac.index(max(ac))]"
   ]
  },
  {
   "cell_type": "markdown",
   "metadata": {},
   "source": [
    "# For Masters Students"
   ]
  },
  {
   "cell_type": "markdown",
   "metadata": {},
   "source": [
    "# Masters + AUC + train_test_split"
   ]
  },
  {
   "cell_type": "code",
   "execution_count": 50,
   "metadata": {
    "collapsed": true
   },
   "outputs": [],
   "source": [
    "col=['countryCode', 'eng',\n",
    "       'fieldG_0', 'fieldG_1', 'fieldG_10', 'fieldG_11', 'fieldG_12',\n",
    "       'fieldG_13', 'fieldG_14', 'fieldG_15', 'fieldG_16', 'fieldG_17',\n",
    "       'fieldG_18', 'fieldG_2', 'fieldG_3', 'fieldG_4', 'fieldG_5',\n",
    "       'fieldG_6', 'fieldG_7', 'fieldG_8', 'fieldG_9',\n",
    "       'gpaB', 'gre', 'greQ', 'greV', 'greW', \n",
    "       'highBU', 'paper', 'uniRank']"
   ]
  },
  {
   "cell_type": "code",
   "execution_count": 51,
   "metadata": {
    "collapsed": false
   },
   "outputs": [],
   "source": [
    "xtr,xte,ytr,yte=train_test_split(df[df.degreeCode==0][col],df[df.degreeCode==0].fund,test_size=0.2,random_state=99)"
   ]
  },
  {
   "cell_type": "code",
   "execution_count": 52,
   "metadata": {
    "collapsed": true
   },
   "outputs": [],
   "source": [
    "ac=[];clfs=[]\n",
    "for i in range(3,10):\n",
    "    for j in range(1,10):\n",
    "        for j2 in range(1,10):\n",
    "            for k in ['entropy','gini']:\n",
    "                clf,acc,conf=build3(xtr, ytr,xte,yte,rocEnable=True,max_depth=i,criterion=k,class_weight={0:j, 1: j2})\n",
    "                ac.append(acc)\n",
    "                clfs.append(clf)"
   ]
  },
  {
   "cell_type": "code",
   "execution_count": 53,
   "metadata": {
    "collapsed": false,
    "scrolled": false
   },
   "outputs": [
    {
     "data": {
      "text/plain": [
       "[76.222910216718262, 347]"
      ]
     },
     "execution_count": 53,
     "metadata": {},
     "output_type": "execute_result"
    }
   ],
   "source": [
    "[max(ac),ac.index(max(ac))]"
   ]
  },
  {
   "cell_type": "code",
   "execution_count": 54,
   "metadata": {
    "collapsed": false,
    "scrolled": true
   },
   "outputs": [
    {
     "data": {
      "text/plain": [
       "DecisionTreeClassifier(class_weight={0: 2, 1: 3}, criterion='gini',\n",
       "            max_depth=5, max_features=None, max_leaf_nodes=None,\n",
       "            min_impurity_split=1e-07, min_samples_leaf=1,\n",
       "            min_samples_split=2, min_weight_fraction_leaf=0.0,\n",
       "            presort=False, random_state=100, splitter='best')"
      ]
     },
     "execution_count": 54,
     "metadata": {},
     "output_type": "execute_result"
    }
   ],
   "source": [
    "clf=clfs[ac.index(max(ac))]\n",
    "clf"
   ]
  },
  {
   "cell_type": "code",
   "execution_count": 55,
   "metadata": {
    "collapsed": false
   },
   "outputs": [],
   "source": [
    "# draw3(clf)"
   ]
  },
  {
   "cell_type": "code",
   "execution_count": 56,
   "metadata": {
    "collapsed": false,
    "scrolled": false
   },
   "outputs": [],
   "source": [
    "# get_code(clf,col)"
   ]
  },
  {
   "cell_type": "markdown",
   "metadata": {},
   "source": [
    "# MASTER + ACC + train_test_split "
   ]
  },
  {
   "cell_type": "code",
   "execution_count": 57,
   "metadata": {
    "collapsed": false
   },
   "outputs": [],
   "source": [
    "ac=[];clfs=[]\n",
    "for i in range(3,10):\n",
    "    for j in range(1,10):\n",
    "        for j2 in range(1,10):\n",
    "            for k in ['entropy','gini']:\n",
    "                clf,acc,conf=build3(xtr, ytr,xte,yte,rocEnable=False,max_depth=i,criterion=k,class_weight={0:j, 1: j2})\n",
    "                ac.append(acc)\n",
    "                clfs.append(clf)"
   ]
  },
  {
   "cell_type": "code",
   "execution_count": 58,
   "metadata": {
    "collapsed": false,
    "scrolled": false
   },
   "outputs": [
    {
     "data": {
      "text/plain": [
       "[81.481481481481481, 162]"
      ]
     },
     "execution_count": 58,
     "metadata": {},
     "output_type": "execute_result"
    }
   ],
   "source": [
    "[max(ac),ac.index(max(ac))]"
   ]
  },
  {
   "cell_type": "code",
   "execution_count": 59,
   "metadata": {
    "collapsed": false
   },
   "outputs": [
    {
     "data": {
      "text/plain": [
       "DecisionTreeClassifier(class_weight={0: 1, 1: 1}, criterion='entropy',\n",
       "            max_depth=4, max_features=None, max_leaf_nodes=None,\n",
       "            min_impurity_split=1e-07, min_samples_leaf=1,\n",
       "            min_samples_split=2, min_weight_fraction_leaf=0.0,\n",
       "            presort=False, random_state=100, splitter='best')"
      ]
     },
     "execution_count": 59,
     "metadata": {},
     "output_type": "execute_result"
    }
   ],
   "source": [
    "clf=clfs[ac.index(max(ac))]\n",
    "clf"
   ]
  },
  {
   "cell_type": "markdown",
   "metadata": {},
   "source": [
    "# MASTER +AUC +StratifiedKFold"
   ]
  },
  {
   "cell_type": "code",
   "execution_count": 60,
   "metadata": {
    "collapsed": false
   },
   "outputs": [],
   "source": [
    "ac=[];clfs=[];confs=[]\n",
    "dfTemp=df[df.degreeCode==0].reset_index(drop=True)\n",
    "for spl in range(10,11):\n",
    "    skf = StratifiedKFold(n_splits=spl)\n",
    "    for train,test in skf.split(dfTemp[col], dfTemp.fund):\n",
    "        xtr, ytr,xte,yte=dfTemp.ix[train][col],dfTemp.ix[train]['fund'],dfTemp.ix[test][col],dfTemp.ix[test]['fund']\n",
    "        for i in range(3,8):\n",
    "            for j in range(1,6):\n",
    "                for j2 in range(1,6):\n",
    "                    for k in ['entropy','gini']:\n",
    "                        clf,acc,conf=build3(xtr, ytr,xte,yte,rocEnable=True,max_depth=i,criterion=k,class_weight={0:j, 1: j2})\n",
    "                        ac.append(acc)\n",
    "                        clfs.append(clf)\n",
    "                        confs.append(conf)"
   ]
  },
  {
   "cell_type": "code",
   "execution_count": 61,
   "metadata": {
    "collapsed": false,
    "scrolled": false
   },
   "outputs": [
    {
     "data": {
      "text/plain": [
       "[83.080808080808083, 2]"
      ]
     },
     "execution_count": 61,
     "metadata": {},
     "output_type": "execute_result"
    }
   ],
   "source": [
    "[max(ac),ac.index(max(ac))]"
   ]
  },
  {
   "cell_type": "code",
   "execution_count": 62,
   "metadata": {
    "collapsed": false,
    "scrolled": false
   },
   "outputs": [
    {
     "data": {
      "text/plain": [
       "DecisionTreeClassifier(class_weight={0: 1, 1: 2}, criterion='entropy',\n",
       "            max_depth=3, max_features=None, max_leaf_nodes=None,\n",
       "            min_impurity_split=1e-07, min_samples_leaf=1,\n",
       "            min_samples_split=2, min_weight_fraction_leaf=0.0,\n",
       "            presort=False, random_state=100, splitter='best')"
      ]
     },
     "execution_count": 62,
     "metadata": {},
     "output_type": "execute_result"
    }
   ],
   "source": [
    "clf=clfs[ac.index(max(ac))]\n",
    "clf"
   ]
  },
  {
   "cell_type": "code",
   "execution_count": 63,
   "metadata": {
    "collapsed": false,
    "scrolled": true
   },
   "outputs": [],
   "source": [
    "# draw3(clf)"
   ]
  },
  {
   "cell_type": "code",
   "execution_count": 64,
   "metadata": {
    "collapsed": false
   },
   "outputs": [
    {
     "name": "stdout",
     "output_type": "stream",
     "text": [
      "if ( countryCode <= 0.5 ) {\n",
      "if ( gpaB <= 2.25 ) {\n",
      "if ( paper <= 0.5 ) {\n",
      "return [[ 168.   46.]]\n",
      "} else {\n",
      "return [[ 39.  46.]]\n",
      "}\n",
      "} else {\n",
      "if ( highBU <= 0.5 ) {\n",
      "return [[ 202.  220.]]\n",
      "} else {\n",
      "return [[  99.  306.]]\n",
      "}\n",
      "}\n",
      "} else {\n",
      "if ( greV <= 143.5 ) {\n",
      "if ( paper <= 0.5 ) {\n",
      "return [[ 520.   84.]]\n",
      "} else {\n",
      "return [[ 122.   48.]]\n",
      "}\n",
      "} else {\n",
      "if ( fieldG_0 <= 0.5 ) {\n",
      "return [[ 16.  38.]]\n",
      "} else {\n",
      "return [[ 13.   6.]]\n",
      "}\n",
      "}\n",
      "}\n"
     ]
    }
   ],
   "source": [
    "get_code(clf,col)"
   ]
  },
  {
   "cell_type": "code",
   "execution_count": 65,
   "metadata": {
    "collapsed": false
   },
   "outputs": [
    {
     "data": {
      "text/plain": [
       "array([[102,  30],\n",
       "       [  5,  40]])"
      ]
     },
     "execution_count": 65,
     "metadata": {},
     "output_type": "execute_result"
    }
   ],
   "source": [
    "confs[ac.index(max(ac))]"
   ]
  },
  {
   "cell_type": "markdown",
   "metadata": {},
   "source": [
    "# {0: 1, 1: 5} ACC"
   ]
  },
  {
   "cell_type": "code",
   "execution_count": 66,
   "metadata": {
    "collapsed": false
   },
   "outputs": [],
   "source": [
    "ac=[];clfs=[];confs=[]\n",
    "dfTemp=df[df.degreeCode==0].reset_index(drop=True)\n",
    "for spl in range(10,11):\n",
    "    skf = StratifiedKFold(n_splits=spl)\n",
    "    for train,test in skf.split(dfTemp[col], dfTemp.fund):\n",
    "        xtr, ytr,xte,yte=dfTemp.ix[train][col],dfTemp.ix[train]['fund'],dfTemp.ix[test][col],dfTemp.ix[test]['fund']\n",
    "        for i in range(3,8):\n",
    "            for k in ['entropy','gini']:\n",
    "                clf,acc,conf=build3(xtr, ytr,xte,yte,rocEnable=False,max_depth=i,criterion=k,class_weight={0:1, 1: 5})\n",
    "                ac.append(acc)\n",
    "                clfs.append(clf)\n",
    "                confs.append(conf)"
   ]
  },
  {
   "cell_type": "code",
   "execution_count": 67,
   "metadata": {
    "collapsed": false,
    "scrolled": false
   },
   "outputs": [
    {
     "data": {
      "text/plain": [
       "[82.954545454545453, 10]"
      ]
     },
     "execution_count": 67,
     "metadata": {},
     "output_type": "execute_result"
    }
   ],
   "source": [
    "[max(ac),ac.index(max(ac))]"
   ]
  },
  {
   "cell_type": "code",
   "execution_count": 68,
   "metadata": {
    "collapsed": false
   },
   "outputs": [
    {
     "data": {
      "text/plain": [
       "DecisionTreeClassifier(class_weight={0: 1, 1: 5}, criterion='gini',\n",
       "            max_depth=7, max_features=None, max_leaf_nodes=None,\n",
       "            min_impurity_split=1e-07, min_samples_leaf=1,\n",
       "            min_samples_split=2, min_weight_fraction_leaf=0.0,\n",
       "            presort=False, random_state=100, splitter='best')"
      ]
     },
     "execution_count": 68,
     "metadata": {},
     "output_type": "execute_result"
    }
   ],
   "source": [
    "clf"
   ]
  },
  {
   "cell_type": "code",
   "execution_count": 69,
   "metadata": {
    "collapsed": false
   },
   "outputs": [],
   "source": [
    "# draw3(clf)"
   ]
  },
  {
   "cell_type": "code",
   "execution_count": 70,
   "metadata": {
    "collapsed": false
   },
   "outputs": [
    {
     "name": "stdout",
     "output_type": "stream",
     "text": [
      "if ( countryCode <= 0.5 ) {\n",
      "if ( gpaB <= 2.25 ) {\n",
      "if ( paper <= 0.5 ) {\n",
      "if ( greV <= 142.5 ) {\n",
      "if ( uniRank <= 721.5 ) {\n",
      "if ( eng <= 6.75 ) {\n",
      "return [[ 53.   0.]]\n",
      "} else {\n",
      "if ( eng <= 7.75 ) {\n",
      "return [[ 31.  25.]]\n",
      "} else {\n",
      "return [[ 41.   5.]]\n",
      "}\n",
      "}\n",
      "} else {\n",
      "if ( highBU <= 0.5 ) {\n",
      "return [[ 4.  0.]]\n",
      "} else {\n",
      "if ( greV <= 65.0 ) {\n",
      "return [[  0.  15.]]\n",
      "} else {\n",
      "return [[ 1.  0.]]\n",
      "}\n",
      "}\n",
      "}\n",
      "} else {\n",
      "if ( uniRank <= 274.5 ) {\n",
      "if ( uniRank <= 35.0 ) {\n",
      "return [[ 1.  0.]]\n",
      "} else {\n",
      "if ( fieldG_10 <= 0.5 ) {\n",
      "return [[  3.  35.]]\n",
      "} else {\n",
      "return [[ 1.  0.]]\n",
      "}\n",
      "}\n",
      "} else {\n",
      "if ( greQ <= 158.5 ) {\n",
      "return [[ 9.  0.]]\n",
      "} else {\n",
      "if ( greW <= 3.25 ) {\n",
      "return [[ 14.  10.]]\n",
      "} else {\n",
      "return [[  3.  15.]]\n",
      "}\n",
      "}\n",
      "}\n",
      "}\n",
      "} else {\n",
      "if ( gpaB <= 1.25 ) {\n",
      "return [[ 6.  0.]]\n",
      "} else {\n",
      "if ( uniRank <= 312.0 ) {\n",
      "if ( paper <= 2.5 ) {\n",
      "if ( greV <= 133.0 ) {\n",
      "return [[ 10.  20.]]\n",
      "} else {\n",
      "return [[ 11.   0.]]\n",
      "}\n",
      "} else {\n",
      "if ( eng <= 6.0 ) {\n",
      "return [[ 1.  0.]]\n",
      "} else {\n",
      "return [[  4.  45.]]\n",
      "}\n",
      "}\n",
      "} else {\n",
      "if ( uniRank <= 806.5 ) {\n",
      "if ( fieldG_0 <= 0.5 ) {\n",
      "return [[  1.  55.]]\n",
      "} else {\n",
      "return [[ 2.  5.]]\n",
      "}\n",
      "} else {\n",
      "return [[ 2.  0.]]\n",
      "}\n",
      "}\n",
      "}\n",
      "}\n",
      "} else {\n",
      "if ( highBU <= 0.5 ) {\n",
      "if ( paper <= 0.5 ) {\n",
      "if ( greQ <= 157.5 ) {\n",
      "if ( eng <= 6.75 ) {\n",
      "if ( uniRank <= 576.5 ) {\n",
      "return [[ 43.  15.]]\n",
      "} else {\n",
      "return [[  4.  10.]]\n",
      "}\n",
      "} else {\n",
      "if ( gpaB <= 3.25 ) {\n",
      "return [[ 57.  65.]]\n",
      "} else {\n",
      "return [[ 16.  60.]]\n",
      "}\n",
      "}\n",
      "} else {\n",
      "if ( uniRank <= 10.0 ) {\n",
      "return [[ 2.  0.]]\n",
      "} else {\n",
      "if ( uniRank <= 603.5 ) {\n",
      "return [[ 19.  70.]]\n",
      "} else {\n",
      "return [[  0.  35.]]\n",
      "}\n",
      "}\n",
      "}\n",
      "} else {\n",
      "if ( eng <= 7.25 ) {\n",
      "if ( paper <= 4.5 ) {\n",
      "if ( uniRank <= 449.0 ) {\n",
      "return [[ 22.  70.]]\n",
      "} else {\n",
      "return [[  2.  35.]]\n",
      "}\n",
      "} else {\n",
      "return [[ 5.  0.]]\n",
      "}\n",
      "} else {\n",
      "if ( fieldG_6 <= 0.5 ) {\n",
      "if ( greV <= 157.0 ) {\n",
      "return [[  10.  155.]]\n",
      "} else {\n",
      "return [[ 1.  0.]]\n",
      "}\n",
      "} else {\n",
      "return [[ 1.  0.]]\n",
      "}\n",
      "}\n",
      "}\n",
      "} else {\n",
      "if ( greQ <= 163.5 ) {\n",
      "if ( fieldG_8 <= 0.5 ) {\n",
      "if ( fieldG_9 <= 0.5 ) {\n",
      "if ( fieldG_18 <= 0.5 ) {\n",
      "return [[  69.  470.]]\n",
      "} else {\n",
      "return [[ 1.  0.]]\n",
      "}\n",
      "} else {\n",
      "if ( greV <= 145.0 ) {\n",
      "return [[  6.  25.]]\n",
      "} else {\n",
      "return [[ 4.  0.]]\n",
      "}\n",
      "}\n",
      "} else {\n",
      "if ( greW <= 3.25 ) {\n",
      "return [[ 7.  0.]]\n",
      "} else {\n",
      "return [[ 0.  5.]]\n",
      "}\n",
      "}\n",
      "} else {\n",
      "if ( uniRank <= 869.5 ) {\n",
      "if ( greV <= 164.5 ) {\n",
      "if ( gpaB <= 2.75 ) {\n",
      "return [[ 10.  85.]]\n",
      "} else {\n",
      "return [[   9.  265.]]\n",
      "}\n",
      "} else {\n",
      "return [[ 1.  0.]]\n",
      "}\n",
      "} else {\n",
      "return [[ 1.  0.]]\n",
      "}\n",
      "}\n",
      "}\n",
      "}\n",
      "} else {\n",
      "if ( greV <= 143.5 ) {\n",
      "if ( paper <= 0.5 ) {\n",
      "if ( uniRank <= 231.0 ) {\n",
      "if ( gpaB <= 2.75 ) {\n",
      "if ( uniRank <= 186.5 ) {\n",
      "if ( fieldG_14 <= 0.5 ) {\n",
      "return [[ 65.   5.]]\n",
      "} else {\n",
      "return [[ 0.  5.]]\n",
      "}\n",
      "} else {\n",
      "if ( uniRank <= 199.0 ) {\n",
      "return [[  2.  20.]]\n",
      "} else {\n",
      "return [[ 6.  0.]]\n",
      "}\n",
      "}\n",
      "} else {\n",
      "if ( eng <= 6.75 ) {\n",
      "return [[ 9.  0.]]\n",
      "} else {\n",
      "if ( uniRank <= 42.0 ) {\n",
      "return [[ 6.  5.]]\n",
      "} else {\n",
      "return [[  7.  35.]]\n",
      "}\n",
      "}\n",
      "}\n",
      "} else {\n",
      "if ( fieldG_0 <= 0.5 ) {\n",
      "if ( gpaB <= 2.25 ) {\n",
      "if ( uniRank <= 329.5 ) {\n",
      "return [[ 70.   5.]]\n",
      "} else {\n",
      "return [[ 27.  15.]]\n",
      "}\n",
      "} else {\n",
      "if ( eng <= 6.25 ) {\n",
      "return [[ 25.   0.]]\n",
      "} else {\n",
      "return [[ 85.  65.]]\n",
      "}\n",
      "}\n",
      "} else {\n",
      "if ( uniRank <= 426.5 ) {\n",
      "if ( uniRank <= 415.5 ) {\n",
      "return [[ 169.   25.]]\n",
      "} else {\n",
      "return [[ 4.  5.]]\n",
      "}\n",
      "} else {\n",
      "return [[ 62.   0.]]\n",
      "}\n",
      "}\n",
      "}\n",
      "} else {\n",
      "if ( eng <= 7.25 ) {\n",
      "if ( fieldG_2 <= 0.5 ) {\n",
      "if ( gpaB <= 3.25 ) {\n",
      "if ( paper <= 2.5 ) {\n",
      "return [[ 74.   0.]]\n",
      "} else {\n",
      "return [[ 15.  15.]]\n",
      "}\n",
      "} else {\n",
      "if ( paper <= 1.5 ) {\n",
      "return [[  2.  20.]]\n",
      "} else {\n",
      "return [[ 5.  0.]]\n",
      "}\n",
      "}\n",
      "} else {\n",
      "return [[  0.  15.]]\n",
      "}\n",
      "} else {\n",
      "if ( uniRank <= 90.0 ) {\n",
      "return [[ 4.  0.]]\n",
      "} else {\n",
      "if ( countryCode <= 3.5 ) {\n",
      "if ( uniRank <= 111.5 ) {\n",
      "return [[  0.  10.]]\n",
      "} else {\n",
      "return [[ 26.  30.]]\n",
      "}\n",
      "} else {\n",
      "if ( gre <= 0.5 ) {\n",
      "return [[  0.  15.]]\n",
      "} else {\n",
      "return [[ 1.  0.]]\n",
      "}\n",
      "}\n",
      "}\n",
      "}\n",
      "}\n",
      "} else {\n",
      "if ( fieldG_0 <= 0.5 ) {\n",
      "if ( greW <= 3.75 ) {\n",
      "if ( fieldG_1 <= 0.5 ) {\n",
      "if ( fieldG_9 <= 0.5 ) {\n",
      "if ( uniRank <= 873.5 ) {\n",
      "return [[  3.  80.]]\n",
      "} else {\n",
      "return [[ 1.  0.]]\n",
      "}\n",
      "} else {\n",
      "return [[ 1.  0.]]\n",
      "}\n",
      "} else {\n",
      "if ( greQ <= 161.5 ) {\n",
      "if ( eng <= 6.75 ) {\n",
      "return [[ 1.  0.]]\n",
      "} else {\n",
      "return [[  1.  15.]]\n",
      "}\n",
      "} else {\n",
      "return [[ 5.  0.]]\n",
      "}\n",
      "}\n",
      "} else {\n",
      "return [[ 3.  0.]]\n",
      "}\n",
      "} else {\n",
      "if ( countryCode <= 1.5 ) {\n",
      "if ( gpaB <= 2.75 ) {\n",
      "return [[ 1.  0.]]\n",
      "} else {\n",
      "return [[  0.  10.]]\n",
      "}\n",
      "} else {\n",
      "return [[ 12.   0.]]\n",
      "}\n",
      "}\n",
      "}\n",
      "}\n"
     ]
    }
   ],
   "source": [
    "get_code(clf,col)"
   ]
  },
  {
   "cell_type": "markdown",
   "metadata": {},
   "source": [
    "# MASTER +AUC +StratifiedKFold + BALANCED"
   ]
  },
  {
   "cell_type": "code",
   "execution_count": 71,
   "metadata": {
    "collapsed": false
   },
   "outputs": [],
   "source": [
    "ac=[];clfs=[];confs=[]\n",
    "dfTemp=df[df.degreeCode==0].reset_index(drop=True)\n",
    "for spl in range(10,11):\n",
    "    skf = StratifiedKFold(n_splits=spl)\n",
    "    for train,test in skf.split(dfTemp[col], dfTemp.fund):\n",
    "        xtr, ytr,xte,yte=dfTemp.ix[train][col],dfTemp.ix[train]['fund'],dfTemp.ix[test][col],dfTemp.ix[test]['fund']\n",
    "        for i in range(3,8):\n",
    "            for k in ['entropy','gini']:\n",
    "                clf,acc,conf=build3(xtr, ytr,xte,yte,rocEnable=True,max_depth=i,criterion=k,class_weight=\"balanced\")\n",
    "                ac.append(acc)\n",
    "                clfs.append(clf)\n",
    "                confs.append(conf)"
   ]
  },
  {
   "cell_type": "code",
   "execution_count": 72,
   "metadata": {
    "collapsed": false,
    "scrolled": true
   },
   "outputs": [
    {
     "data": {
      "text/plain": [
       "[83.080808080808083, 0]"
      ]
     },
     "execution_count": 72,
     "metadata": {},
     "output_type": "execute_result"
    }
   ],
   "source": [
    "[max(ac),ac.index(max(ac))]"
   ]
  },
  {
   "cell_type": "markdown",
   "metadata": {},
   "source": [
    "# MASTER +ACC +StratifiedKFold + BALANCED"
   ]
  },
  {
   "cell_type": "code",
   "execution_count": 73,
   "metadata": {
    "collapsed": false
   },
   "outputs": [],
   "source": [
    "ac=[];clfs=[];confs=[]\n",
    "dfTemp=df[df.degreeCode==0].reset_index(drop=True)\n",
    "for spl in range(10,11):\n",
    "    skf = StratifiedKFold(n_splits=spl)\n",
    "    for train,test in skf.split(dfTemp[col], dfTemp.fund):\n",
    "        xtr, ytr,xte,yte=dfTemp.ix[train][col],dfTemp.ix[train]['fund'],dfTemp.ix[test][col],dfTemp.ix[test]['fund']\n",
    "        for i in range(3,8):\n",
    "            for k in ['entropy','gini']:\n",
    "                clf,acc,conf=build3(xtr, ytr,xte,yte,rocEnable=False,max_depth=i,criterion=k,class_weight=\"balanced\")\n",
    "                ac.append(acc)\n",
    "                clfs.append(clf)\n",
    "                confs.append(conf)"
   ]
  },
  {
   "cell_type": "code",
   "execution_count": 74,
   "metadata": {
    "collapsed": false,
    "scrolled": true
   },
   "outputs": [
    {
     "data": {
      "text/plain": [
       "[84.659090909090907, 17]"
      ]
     },
     "execution_count": 74,
     "metadata": {},
     "output_type": "execute_result"
    }
   ],
   "source": [
    "[max(ac),ac.index(max(ac))]"
   ]
  },
  {
   "cell_type": "markdown",
   "metadata": {},
   "source": [
    "# MASTER +ACC +StratifiedKFold"
   ]
  },
  {
   "cell_type": "code",
   "execution_count": 75,
   "metadata": {
    "collapsed": false
   },
   "outputs": [],
   "source": [
    "ac=[];clfs=[];confs=[]\n",
    "dfTemp=df[df.degreeCode==0].reset_index(drop=True)\n",
    "for spl in range(10,11):\n",
    "    skf = StratifiedKFold(n_splits=spl)\n",
    "    for train,test in skf.split(dfTemp[col], dfTemp.fund):\n",
    "        xtr, ytr,xte,yte=dfTemp.ix[train][col],dfTemp.ix[train]['fund'],dfTemp.ix[test][col],dfTemp.ix[test]['fund']\n",
    "        for i in range(3,8):\n",
    "            for j in range(1,6):\n",
    "                for j2 in range(1,6):\n",
    "                    for k in ['entropy','gini']:\n",
    "                        clf,acc,conf=build3(xtr, ytr,xte,yte,rocEnable=False,max_depth=i,criterion=k,class_weight={0:j, 1: j2})\n",
    "                        ac.append(acc)\n",
    "                        clfs.append(clf)\n",
    "                        confs.append(conf)"
   ]
  },
  {
   "cell_type": "code",
   "execution_count": 76,
   "metadata": {
    "collapsed": false,
    "scrolled": false
   },
   "outputs": [
    {
     "data": {
      "text/plain": [
       "[84.659090909090907, 302]"
      ]
     },
     "execution_count": 76,
     "metadata": {},
     "output_type": "execute_result"
    }
   ],
   "source": [
    "[max(ac),ac.index(max(ac))]"
   ]
  },
  {
   "cell_type": "code",
   "execution_count": 77,
   "metadata": {
    "collapsed": false,
    "scrolled": false
   },
   "outputs": [
    {
     "data": {
      "text/plain": [
       "DecisionTreeClassifier(class_weight={0: 1, 1: 2}, criterion='entropy',\n",
       "            max_depth=4, max_features=None, max_leaf_nodes=None,\n",
       "            min_impurity_split=1e-07, min_samples_leaf=1,\n",
       "            min_samples_split=2, min_weight_fraction_leaf=0.0,\n",
       "            presort=False, random_state=100, splitter='best')"
      ]
     },
     "execution_count": 77,
     "metadata": {},
     "output_type": "execute_result"
    }
   ],
   "source": [
    "clf=clfs[ac.index(max(ac))]\n",
    "clf"
   ]
  },
  {
   "cell_type": "code",
   "execution_count": 78,
   "metadata": {
    "collapsed": false,
    "scrolled": false
   },
   "outputs": [],
   "source": [
    "# draw3(clf)"
   ]
  },
  {
   "cell_type": "code",
   "execution_count": 79,
   "metadata": {
    "collapsed": false
   },
   "outputs": [
    {
     "data": {
      "text/plain": [
       "array([[123,   8],\n",
       "       [ 19,  26]])"
      ]
     },
     "execution_count": 79,
     "metadata": {},
     "output_type": "execute_result"
    }
   ],
   "source": [
    "confs[ac.index(max(ac))]"
   ]
  },
  {
   "cell_type": "code",
   "execution_count": 80,
   "metadata": {
    "collapsed": false,
    "scrolled": true
   },
   "outputs": [],
   "source": [
    "# get_code(clf,col)"
   ]
  },
  {
   "cell_type": "markdown",
   "metadata": {},
   "source": [
    "## Sample Path"
   ]
  },
  {
   "cell_type": "code",
   "execution_count": 81,
   "metadata": {
    "collapsed": false,
    "scrolled": true
   },
   "outputs": [],
   "source": [
    "# # col=['countryCode', 'engCode', 'fieldGroup', 'gpaBachelors', 'gre', \n",
    "# #      'highLevelBachUni','paper','uniRank']\n",
    "# me=[1,2,0,3.1,False,False,1,100]\n",
    "# clf.decision_path([me]).toarray()"
   ]
  },
  {
   "cell_type": "code",
   "execution_count": 82,
   "metadata": {
    "collapsed": false
   },
   "outputs": [],
   "source": [
    "# clf.predict([me])"
   ]
  },
  {
   "cell_type": "code",
   "execution_count": 83,
   "metadata": {
    "collapsed": false
   },
   "outputs": [],
   "source": [
    "# clf.classes_"
   ]
  },
  {
   "cell_type": "code",
   "execution_count": 84,
   "metadata": {
    "collapsed": false
   },
   "outputs": [],
   "source": [
    "# clf.predict_proba([me])"
   ]
  },
  {
   "cell_type": "markdown",
   "metadata": {},
   "source": [
    "# confusion matrix"
   ]
  },
  {
   "cell_type": "code",
   "execution_count": 85,
   "metadata": {
    "collapsed": true
   },
   "outputs": [],
   "source": [
    "from sklearn.metrics import confusion_matrix\n",
    "import itertools\n",
    "import matplotlib.pyplot as plt"
   ]
  },
  {
   "cell_type": "code",
   "execution_count": 86,
   "metadata": {
    "collapsed": false
   },
   "outputs": [],
   "source": [
    "def plot_confusion_matrix(cm, classes,\n",
    "                          normalize=False,\n",
    "                          title='Confusion matrix',\n",
    "                          cmap=plt.cm.Blues):\n",
    "    \"\"\"\n",
    "    This function prints and plots the confusion matrix.\n",
    "    Normalization can be applied by setting `normalize=True`.\n",
    "    \"\"\"\n",
    "    if normalize:\n",
    "        cm = cm.astype('float') / cm.sum(axis=1)[:, np.newaxis]\n",
    "        print(\"Normalized confusion matrix\")\n",
    "    else:\n",
    "        print('Confusion matrix, without normalization')\n",
    "\n",
    "    print(cm)\n",
    "\n",
    "    plt.imshow(cm, interpolation='nearest', cmap=cmap)\n",
    "    plt.title(title)\n",
    "    plt.colorbar()\n",
    "    tick_marks = np.arange(len(classes))\n",
    "    plt.xticks(tick_marks, classes, rotation=45)\n",
    "    plt.yticks(tick_marks, classes)\n",
    "\n",
    "    fmt = '.2f' if normalize else 'd'\n",
    "    thresh = cm.max() / 2.\n",
    "    for i, j in itertools.product(range(cm.shape[0]), range(cm.shape[1])):\n",
    "        plt.text(j, i, format(cm[i, j], fmt),\n",
    "                 horizontalalignment=\"center\",\n",
    "                 color=\"white\" if cm[i, j] > thresh else \"black\")\n",
    "\n",
    "    plt.tight_layout()\n",
    "    plt.ylabel('True label')\n",
    "    plt.xlabel('Predicted label')"
   ]
  },
  {
   "cell_type": "code",
   "execution_count": 87,
   "metadata": {
    "collapsed": false
   },
   "outputs": [
    {
     "name": "stdout",
     "output_type": "stream",
     "text": [
      "Confusion matrix, without normalization\n",
      "[[119  12]\n",
      " [ 34  10]]\n",
      "Normalized confusion matrix\n",
      "[[ 0.90839695  0.09160305]\n",
      " [ 0.77272727  0.22727273]]\n"
     ]
    },
    {
     "data": {
      "image/png": "[encoded data removed]",
      "text/plain": [
       "<matplotlib.figure.Figure at 0xfb617f0>"
      ]
     },
     "metadata": {},
     "output_type": "display_data"
    },
    {
     "data": {
      "image/png": "[encoded data removed]",
      "text/plain": [
       "<matplotlib.figure.Figure at 0x10d9aa20>"
      ]
     },
     "metadata": {},
     "output_type": "display_data"
    }
   ],
   "source": [
    "# np.set_printoptions(precision=2)\n",
    "\n",
    "# Plot non-normalized confusion matrix\n",
    "plt.figure()\n",
    "plot_confusion_matrix(conf, classes=col,\n",
    "                      title='Confusion matrix, without normalization')\n",
    "\n",
    "# Plot normalized confusion matrix\n",
    "plt.figure()\n",
    "plot_confusion_matrix(conf, classes=col, normalize=True,\n",
    "                      title='Normalized confusion matrix')\n",
    "\n",
    "plt.show()"
   ]
  },
  {
   "cell_type": "code",
   "execution_count": 88,
   "metadata": {
    "collapsed": true
   },
   "outputs": [],
   "source": [
    "col=['countryCode', 'eng','gpaB', 'gre', 'greQ', 'greV', 'greW', \n",
    "       'highBU', 'paper', 'uniRank']"
   ]
  },
  {
   "cell_type": "code",
   "execution_count": 89,
   "metadata": {
    "collapsed": false,
    "scrolled": false
   },
   "outputs": [
    {
     "name": "stdout",
     "output_type": "stream",
     "text": [
      "Confusion matrix, without normalization\n",
      "[[119  12]\n",
      " [ 34  10]]\n",
      "Normalized confusion matrix\n",
      "[[ 0.90839695  0.09160305]\n",
      " [ 0.77272727  0.22727273]]\n"
     ]
    },
    {
     "data": {
      "image/png": "[encoded data removed]",
      "text/plain": [
       "<matplotlib.figure.Figure at 0x11b20588>"
      ]
     },
     "metadata": {},
     "output_type": "display_data"
    },
    {
     "data": {
      "image/png": "[encoded data removed]",
      "text/plain": [
       "<matplotlib.figure.Figure at 0x11b20048>"
      ]
     },
     "metadata": {},
     "output_type": "display_data"
    }
   ],
   "source": [
    "# Plot non-normalized confusion matrix\n",
    "plt.figure()\n",
    "plot_confusion_matrix(conf, classes=col,\n",
    "                      title='Confusion matrix, without normalization')\n",
    "\n",
    "# Plot normalized confusion matrix\n",
    "plt.figure()\n",
    "plot_confusion_matrix(conf, classes=col, normalize=True,\n",
    "                      title='Normalized confusion matrix')\n",
    "\n",
    "plt.show()"
   ]
  },
  {
   "cell_type": "code",
   "execution_count": 92,
   "metadata": {
    "collapsed": true
   },
   "outputs": [],
   "source": [
    "col=['countryCode', 'eng','highBU', 'paper', 'uniRank']"
   ]
  },
  {
   "cell_type": "code",
   "execution_count": 93,
   "metadata": {
    "collapsed": false,
    "scrolled": false
   },
   "outputs": [
    {
     "name": "stdout",
     "output_type": "stream",
     "text": [
      "Confusion matrix, without normalization\n",
      "[[119  12]\n",
      " [ 34  10]]\n",
      "Normalized confusion matrix\n",
      "[[ 0.90839695  0.09160305]\n",
      " [ 0.77272727  0.22727273]]\n"
     ]
    },
    {
     "data": {
      "image/png": "[encoded data removed]",
      "text/plain": [
       "<matplotlib.figure.Figure at 0x125cdc50>"
      ]
     },
     "metadata": {},
     "output_type": "display_data"
    },
    {
     "data": {
      "image/png": "[encoded data removed]",
      "text/plain": [
       "<matplotlib.figure.Figure at 0x124aa358>"
      ]
     },
     "metadata": {},
     "output_type": "display_data"
    }
   ],
   "source": [
    "# Plot non-normalized confusion matrix\n",
    "plt.figure()\n",
    "plot_confusion_matrix(conf, classes=col,\n",
    "                      title='Confusion matrix, without normalization')\n",
    "\n",
    "# Plot normalized confusion matrix\n",
    "plt.figure()\n",
    "plot_confusion_matrix(conf, classes=col, normalize=True,\n",
    "                      title='Normalized confusion matrix')\n",
    "\n",
    "plt.show()"
   ]
  },
  {
   "cell_type": "code",
   "execution_count": null,
   "metadata": {
    "collapsed": true
   },
   "outputs": [],
   "source": []
  }
 ],
 "metadata": {
  "kernelspec": {
   "display_name": "Python 2",
   "language": "python",
   "name": "python2"
  },
  "language_info": {
   "codemirror_mode": {
    "name": "ipython",
    "version": 2
   },
   "file_extension": ".py",
   "mimetype": "text/x-python",
   "name": "python",
   "nbconvert_exporter": "python",
   "pygments_lexer": "ipython2",
   "version": "2.7.13"
  }
 },
 "nbformat": 4,
 "nbformat_minor": 2
}

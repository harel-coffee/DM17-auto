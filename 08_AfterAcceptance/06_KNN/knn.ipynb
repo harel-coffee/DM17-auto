{
 "cells": [
  {
   "cell_type": "code",
   "execution_count": 1,
   "metadata": {
    "collapsed": false
   },
   "outputs": [
    {
     "name": "stderr",
     "output_type": "stream",
     "text": [
      "C:\\ProgramData\\Anaconda2\\lib\\site-packages\\sklearn\\cross_validation.py:44: DeprecationWarning: This module was deprecated in version 0.18 in favor of the model_selection module into which all the refactored classes and functions are moved. Also note that the interface of the new CV iterators are different from that of this module. This module will be removed in 0.20.\n",
      "  \"This module will be removed in 0.20.\", DeprecationWarning)\n"
     ]
    }
   ],
   "source": [
    "import numpy as np\n",
    "from pandas import Series, DataFrame\n",
    "import pandas as pd\n",
    "from sklearn import preprocessing, tree\n",
    "from sklearn.metrics import accuracy_score\n",
    "# from sklearn.model_selection import train_test_split, KFold\n",
    "from sklearn.neighbors import KNeighborsClassifier\n",
    "from sklearn.cross_validation import KFold"
   ]
  },
  {
   "cell_type": "code",
   "execution_count": 2,
   "metadata": {
    "collapsed": true
   },
   "outputs": [],
   "source": [
    "df=pd.read_json('../01_Preprocessing/First.json').sort_index()"
   ]
  },
  {
   "cell_type": "code",
   "execution_count": 3,
   "metadata": {
    "collapsed": false
   },
   "outputs": [
    {
     "data": {
      "text/html": [
       "<div>\n",
       "<table border=\"1\" class=\"dataframe\">\n",
       "  <thead>\n",
       "    <tr style=\"text-align: right;\">\n",
       "      <th></th>\n",
       "      <th>country</th>\n",
       "      <th>countryCoded</th>\n",
       "      <th>degree</th>\n",
       "      <th>degreeCoded</th>\n",
       "      <th>eng</th>\n",
       "      <th>engCoded</th>\n",
       "      <th>fieldGroup</th>\n",
       "      <th>fund</th>\n",
       "      <th>gpaBachelors</th>\n",
       "      <th>gpaMasters</th>\n",
       "      <th>gre</th>\n",
       "      <th>highLevelBachUni</th>\n",
       "      <th>highLevelMasterUni</th>\n",
       "      <th>paper</th>\n",
       "      <th>targetUni</th>\n",
       "      <th>uniRank</th>\n",
       "      <th>year</th>\n",
       "    </tr>\n",
       "  </thead>\n",
       "  <tbody>\n",
       "    <tr>\n",
       "      <th>2</th>\n",
       "      <td>united kingdom</td>\n",
       "      <td>4</td>\n",
       "      <td>Doctorate</td>\n",
       "      <td>1</td>\n",
       "      <td>High</td>\n",
       "      <td>1</td>\n",
       "      <td>7</td>\n",
       "      <td>TRUE</td>\n",
       "      <td>3.5</td>\n",
       "      <td>3.442986</td>\n",
       "      <td>FALSE</td>\n",
       "      <td>FALSE</td>\n",
       "      <td>FALSE</td>\n",
       "      <td>6.666667</td>\n",
       "      <td>heriot-watt</td>\n",
       "      <td>692.0</td>\n",
       "      <td>2007</td>\n",
       "    </tr>\n",
       "    <tr>\n",
       "      <th>3</th>\n",
       "      <td>united states</td>\n",
       "      <td>0</td>\n",
       "      <td>Doctorate</td>\n",
       "      <td>1</td>\n",
       "      <td>VeryHigh</td>\n",
       "      <td>0</td>\n",
       "      <td>5</td>\n",
       "      <td>TRUE</td>\n",
       "      <td>2.5</td>\n",
       "      <td>3.500000</td>\n",
       "      <td>TRUE</td>\n",
       "      <td>TRUE</td>\n",
       "      <td>FALSE</td>\n",
       "      <td>11.333333</td>\n",
       "      <td>northwestern</td>\n",
       "      <td>20.0</td>\n",
       "      <td>2010</td>\n",
       "    </tr>\n",
       "  </tbody>\n",
       "</table>\n",
       "</div>"
      ],
      "text/plain": [
       "          country  countryCoded     degree  degreeCoded       eng  engCoded  \\\n",
       "2  united kingdom             4  Doctorate            1      High         1   \n",
       "3   united states             0  Doctorate            1  VeryHigh         0   \n",
       "\n",
       "   fieldGroup  fund  gpaBachelors  gpaMasters    gre highLevelBachUni  \\\n",
       "2           7  TRUE           3.5    3.442986  FALSE            FALSE   \n",
       "3           5  TRUE           2.5    3.500000   TRUE             TRUE   \n",
       "\n",
       "  highLevelMasterUni      paper     targetUni  uniRank  year  \n",
       "2              FALSE   6.666667   heriot-watt    692.0  2007  \n",
       "3              FALSE  11.333333  northwestern     20.0  2010  "
      ]
     },
     "execution_count": 3,
     "metadata": {},
     "output_type": "execute_result"
    }
   ],
   "source": [
    "df.head(2)"
   ]
  },
  {
   "cell_type": "code",
   "execution_count": 4,
   "metadata": {
    "collapsed": true
   },
   "outputs": [],
   "source": [
    "def mydist(x, y):\n",
    "    return np.sum((x-y)**2)\n",
    "def jaccard(a, b):\n",
    "    intersection = float(len(set(a) & set(b)))\n",
    "    union = float(len(set(a) | set(b)))\n",
    "    return 1.0 - (intersection/union)"
   ]
  },
  {
   "cell_type": "code",
   "execution_count": 5,
   "metadata": {
    "collapsed": true
   },
   "outputs": [],
   "source": [
    "# http://scikit-learn.org/stable/modules/generated/sklearn.neighbors.DistanceMetric.html\n",
    "    \n",
    "dist=['braycurtis','canberra','chebyshev','cityblock','correlation','cosine','euclidean','dice','hamming','jaccard','kulsinski','matching','rogerstanimoto','russellrao','sokalsneath','yule']\n",
    "algorithm=['ball_tree', 'kd_tree', 'brute']"
   ]
  },
  {
   "cell_type": "code",
   "execution_count": 6,
   "metadata": {
    "collapsed": false
   },
   "outputs": [
    {
     "data": {
      "text/plain": [
       "16"
      ]
     },
     "execution_count": 6,
     "metadata": {},
     "output_type": "execute_result"
    }
   ],
   "source": [
    "len(dist)"
   ]
  },
  {
   "cell_type": "markdown",
   "metadata": {},
   "source": [
    "## On country (only MS)"
   ]
  },
  {
   "cell_type": "code",
   "execution_count": 7,
   "metadata": {
    "collapsed": true
   },
   "outputs": [],
   "source": [
    "df.fund= df.fund=='TRUE'\n",
    "df.gre= df.gre=='TRUE'\n",
    "df.highLevelBachUni= df.highLevelBachUni=='TRUE'\n",
    "df.highLevelMasterUni= df.highLevelMasterUni=='TRUE'\n",
    "df.uniRank.fillna(294,inplace=True)"
   ]
  },
  {
   "cell_type": "code",
   "execution_count": 8,
   "metadata": {
    "collapsed": false,
    "scrolled": false
   },
   "outputs": [
    {
     "data": {
      "text/plain": [
       "Index([u'country', u'countryCoded', u'degree', u'degreeCoded', u'eng',\n",
       "       u'engCoded', u'fieldGroup', u'fund', u'gpaBachelors', u'gpaMasters',\n",
       "       u'gre', u'highLevelBachUni', u'highLevelMasterUni', u'paper',\n",
       "       u'targetUni', u'uniRank', u'year'],\n",
       "      dtype='object')"
      ]
     },
     "execution_count": 8,
     "metadata": {},
     "output_type": "execute_result"
    }
   ],
   "source": [
    "df.columns"
   ]
  },
  {
   "cell_type": "code",
   "execution_count": 9,
   "metadata": {
    "collapsed": false
   },
   "outputs": [
    {
     "name": "stdout",
     "output_type": "stream",
     "text": [
      "('ball_tree', 'braycurtis', 55.507529507529512)\n",
      "('ball_tree', 'canberra', 44.839072039072036)\n",
      "('ball_tree', 'chebyshev', 53.738054538054541)\n",
      "('ball_tree', 'cityblock', 55.735775335775337)\n",
      "('ball_tree', 'euclidean', 55.793080993080991)\n",
      "('ball_tree', 'dice', 46.14798534798534)\n",
      "('ball_tree', 'hamming', 47.408547008547011)\n",
      "('ball_tree', 'jaccard', 46.14798534798534)\n",
      "('ball_tree', 'kulsinski', 46.319413919413918)\n",
      "('ball_tree', 'matching', 46.14798534798534)\n",
      "('ball_tree', 'rogerstanimoto', 46.14798534798534)\n",
      "('ball_tree', 'russellrao', 48.896052096052095)\n",
      "('ball_tree', 'sokalsneath', 46.14798534798534)\n",
      "('kd_tree', 'chebyshev', 53.909483109483105)\n",
      "('kd_tree', 'cityblock', 55.67863247863248)\n",
      "('kd_tree', 'euclidean', 55.793080993080991)\n",
      "('brute', 'braycurtis', 55.393080993081)\n",
      "('brute', 'canberra', 45.066829466829468)\n",
      "('brute', 'chebyshev', 53.738217338217339)\n",
      "('brute', 'cityblock', 55.735449735449741)\n",
      "('brute', 'correlation', 42.444444444444443)\n",
      "('brute', 'cosine', 44.841025641025645)\n",
      "('brute', 'euclidean', 55.792755392755396)\n"
     ]
    },
    {
     "name": "stderr",
     "output_type": "stream",
     "text": [
      "C:\\ProgramData\\Anaconda2\\lib\\site-packages\\sklearn\\utils\\validation.py:429: DataConversionWarning: Data with input dtype float64 was converted to bool by check_pairwise_arrays.\n",
      "  warnings.warn(msg, _DataConversionWarning)\n"
     ]
    },
    {
     "name": "stdout",
     "output_type": "stream",
     "text": [
      "('brute', 'dice', 41.181115181115182)\n",
      "('brute', 'hamming', 46.378184778184774)\n",
      "('brute', 'jaccard', 41.181115181115182)\n",
      "('brute', 'kulsinski', 41.181115181115182)\n",
      "('brute', 'matching', 41.181115181115182)\n",
      "('brute', 'rogerstanimoto', 41.181115181115182)\n",
      "('brute', 'russellrao', 50.433211233211232)\n",
      "('brute', 'sokalsneath', 41.181115181115182)\n"
     ]
    },
    {
     "name": "stderr",
     "output_type": "stream",
     "text": [
      "C:\\ProgramData\\Anaconda2\\lib\\site-packages\\sklearn\\utils\\extmath.py:483: RuntimeWarning: invalid value encountered in greater\n",
      "  mostfrequent = np.where(counts > oldcounts, score, oldmostfreq)\n",
      "C:\\ProgramData\\Anaconda2\\lib\\site-packages\\sklearn\\utils\\extmath.py:484: RuntimeWarning: invalid value encountered in maximum\n",
      "  oldcounts = np.maximum(counts, oldcounts)\n"
     ]
    },
    {
     "name": "stdout",
     "output_type": "stream",
     "text": [
      "('brute', 'yule', 49.464061864061861)\n",
      "('>>>>>>>Best: ', 55.793080993080991)\n"
     ]
    }
   ],
   "source": [
    "oldDf=df.copy()\n",
    "df=df[['countryCoded','degreeCoded','engCoded', 'fieldGroup','fund','gpaBachelors','gre', 'highLevelBachUni', 'paper','uniRank']]\n",
    "df=df[df.degreeCoded==0]\n",
    "del df['degreeCoded']\n",
    "bestAvg=[]\n",
    "for alg in algorithm:\n",
    "    for dis in dist:\n",
    "        k_fold = KFold(n=len(df), n_folds=5)\n",
    "        scores = []\n",
    "        try:\n",
    "            clf = KNeighborsClassifier(n_neighbors=3, weights='distance',algorithm=alg, metric=dis)\n",
    "        except Exception as err:\n",
    "#             print(alg,dis,'err')\n",
    "            continue\n",
    "        for train_indices, test_indices in k_fold:\n",
    "            xtr = df.iloc[train_indices,(df.columns != 'countryCoded')]\n",
    "            ytr = df.iloc[train_indices]['countryCoded']\n",
    "            xte = df.iloc[test_indices, (df.columns != 'countryCoded')]\n",
    "            yte = df.iloc[test_indices]['countryCoded']\n",
    "            clf.fit(xtr, ytr)\n",
    "            ypred = clf.predict(xte)\n",
    "            acc=accuracy_score(list(yte),list(ypred))\n",
    "            scores.append(acc*100)\n",
    "        print(alg,dis,np.average(scores))\n",
    "        bestAvg.append(np.average(scores))\n",
    "print('>>>>>>>Best: ',np.max(bestAvg))"
   ]
  },
  {
   "cell_type": "markdown",
   "metadata": {},
   "source": [
    "## On Fund (only MS)"
   ]
  },
  {
   "cell_type": "code",
   "execution_count": 10,
   "metadata": {
    "collapsed": false
   },
   "outputs": [
    {
     "name": "stdout",
     "output_type": "stream",
     "text": [
      "('ball_tree', 'braycurtis', 76.495400895400905)\n",
      "('ball_tree', 'canberra', 75.354008954008961)\n",
      "('ball_tree', 'chebyshev', 75.584533984533977)\n",
      "('ball_tree', 'cityblock', 77.293935693935694)\n",
      "('ball_tree', 'euclidean', 76.496703296703302)\n",
      "('ball_tree', 'dice', 74.383557183557173)\n",
      "('ball_tree', 'hamming', 76.152706552706562)\n",
      "('ball_tree', 'jaccard', 74.383557183557173)\n",
      "('ball_tree', 'kulsinski', 74.497842897842901)\n",
      "('ball_tree', 'matching', 74.383557183557173)\n",
      "('ball_tree', 'rogerstanimoto', 74.383557183557173)\n",
      "('ball_tree', 'russellrao', 75.409361009360993)\n",
      "('ball_tree', 'sokalsneath', 74.383557183557173)\n",
      "('kd_tree', 'chebyshev', 75.641676841676855)\n",
      "('kd_tree', 'cityblock', 77.293935693935694)\n",
      "('kd_tree', 'euclidean', 76.553683353683354)\n",
      "('brute', 'braycurtis', 76.495563695563703)\n",
      "('brute', 'canberra', 75.411151811151825)\n",
      "('brute', 'chebyshev', 75.754008954008967)\n",
      "('brute', 'cityblock', 77.008547008547012)\n",
      "('brute', 'correlation', 73.528367928367928)\n",
      "('brute', 'cosine', 72.901912901912894)\n",
      "('brute', 'euclidean', 76.61066341066342)\n",
      "('brute', 'dice', 73.983882783882777)\n",
      "('brute', 'hamming', 76.0954008954009)\n",
      "('brute', 'jaccard', 73.983882783882777)\n",
      "('brute', 'kulsinski', 74.098168498168491)\n",
      "('brute', 'matching', 73.983882783882777)\n",
      "('brute', 'rogerstanimoto', 73.983882783882777)\n",
      "('brute', 'russellrao', 72.670411070411063)\n",
      "('brute', 'sokalsneath', 73.983882783882777)\n",
      "('brute', 'yule', 58.807651607651607)\n",
      "('>>>>>>>Best: ', 77.293935693935694)\n"
     ]
    }
   ],
   "source": [
    "bestAvg=[]\n",
    "for alg in algorithm:\n",
    "    for dis in dist:\n",
    "        k_fold = KFold(n=len(df), n_folds=5)\n",
    "        scores = []\n",
    "        try:\n",
    "            clf = KNeighborsClassifier(n_neighbors=3, weights='distance',algorithm=alg, metric=dis)\n",
    "        except Exception as err:\n",
    "            continue\n",
    "        for train_indices, test_indices in k_fold:\n",
    "            xtr = df.iloc[train_indices, (df.columns != 'fund')]\n",
    "            ytr = df.iloc[train_indices]['fund']\n",
    "            xte = df.iloc[test_indices, (df.columns != 'fund')]\n",
    "            yte = df.iloc[test_indices]['fund']\n",
    "            clf.fit(xtr, ytr)\n",
    "            ypred = clf.predict(xte)\n",
    "            acc=accuracy_score(list(yte),list(ypred))\n",
    "            score=acc*100\n",
    "            scores.append(score)\n",
    "            if (len(bestAvg)>1) :\n",
    "                if(score > np.max(bestAvg)) :\n",
    "                    bestClf=clf\n",
    "        bestAvg.append(np.average(scores))\n",
    "        print (alg,dis,np.average(scores))\n",
    "print('>>>>>>>Best: ',np.max(bestAvg))"
   ]
  },
  {
   "cell_type": "markdown",
   "metadata": {},
   "source": [
    "### Best : ('kd_tree', 'cityblock', 77.692144892144896)"
   ]
  },
  {
   "cell_type": "code",
   "execution_count": 14,
   "metadata": {
    "collapsed": false
   },
   "outputs": [],
   "source": [
    "me=[0,2,0,2.5,False,False,1.5,400]"
   ]
  },
  {
   "cell_type": "code",
   "execution_count": 15,
   "metadata": {
    "collapsed": false
   },
   "outputs": [
    {
     "data": {
      "text/plain": [
       "(array([[ 0.,  0.,  0.]]), array([[225, 255, 348]], dtype=int64))"
      ]
     },
     "execution_count": 15,
     "metadata": {},
     "output_type": "execute_result"
    }
   ],
   "source": [
    "n=bestClf.kneighbors([me])\n",
    "n"
   ]
  },
  {
   "cell_type": "code",
   "execution_count": 16,
   "metadata": {
    "collapsed": false
   },
   "outputs": [
    {
     "name": "stdout",
     "output_type": "stream",
     "text": [
      "     countryCoded  engCoded  fieldGroup  gpaBachelors    gre highLevelBachUni  \\\n",
      "664             0         2           0           2.5  False            False   \n",
      "767             0         2           0           3.0  False            False   \n",
      "911             0         2           0           3.0  False            False   \n",
      "\n",
      "        paper  uniRank  \n",
      "664  1.000000     72.0  \n",
      "767  1.333333    294.0  \n",
      "911  3.000000    294.0  \n"
     ]
    }
   ],
   "source": [
    "for i in n[1]:\n",
    "    print(xtr.iloc[i])"
   ]
  },
  {
   "cell_type": "code",
   "execution_count": null,
   "metadata": {
    "collapsed": true
   },
   "outputs": [],
   "source": []
  },
  {
   "cell_type": "code",
   "execution_count": null,
   "metadata": {
    "collapsed": true
   },
   "outputs": [],
   "source": []
  }
 ],
 "metadata": {
  "kernelspec": {
   "display_name": "Python 2",
   "language": "python",
   "name": "python2"
  },
  "language_info": {
   "codemirror_mode": {
    "name": "ipython",
    "version": 2
   },
   "file_extension": ".py",
   "mimetype": "text/x-python",
   "name": "python",
   "nbconvert_exporter": "python",
   "pygments_lexer": "ipython2",
   "version": "2.7.13"
  }
 },
 "nbformat": 4,
 "nbformat_minor": 2
}

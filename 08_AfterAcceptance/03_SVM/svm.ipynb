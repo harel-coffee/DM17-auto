{
 "cells": [
  {
   "cell_type": "code",
   "execution_count": 7,
   "metadata": {
    "collapsed": false
   },
   "outputs": [],
   "source": [
    "import numpy as np\n",
    "from pandas import Series, DataFrame\n",
    "import pandas as pd\n",
    "from sklearn import preprocessing, tree\n",
    "from sklearn.metrics import accuracy_score\n",
    "from sklearn.model_selection import train_test_split, KFold\n",
    "from sklearn.tree import DecisionTreeClassifier, export_graphviz\n",
    "import pydotplus \n",
    "from sklearn import metrics\n",
    "from IPython.display import Image \n",
    "from sklearn.model_selection import StratifiedKFold\n",
    "from sklearn.metrics import confusion_matrix"
   ]
  },
  {
   "cell_type": "code",
   "execution_count": 8,
   "metadata": {
    "collapsed": true
   },
   "outputs": [],
   "source": [
    "dff=pd.read_json('../01_Preprocessing/Second.json').sort_index()"
   ]
  },
  {
   "cell_type": "code",
   "execution_count": 9,
   "metadata": {
    "collapsed": false,
    "scrolled": true
   },
   "outputs": [
    {
     "data": {
      "text/html": [
       "<div>\n",
       "<table border=\"1\" class=\"dataframe\">\n",
       "  <thead>\n",
       "    <tr style=\"text-align: right;\">\n",
       "      <th></th>\n",
       "      <th>country</th>\n",
       "      <th>countryCode</th>\n",
       "      <th>degree</th>\n",
       "      <th>degreeCode</th>\n",
       "      <th>eng</th>\n",
       "      <th>field</th>\n",
       "      <th>fieldG_0</th>\n",
       "      <th>fieldG_1</th>\n",
       "      <th>fieldG_10</th>\n",
       "      <th>fieldG_11</th>\n",
       "      <th>...</th>\n",
       "      <th>greQ</th>\n",
       "      <th>greV</th>\n",
       "      <th>greW</th>\n",
       "      <th>highBU</th>\n",
       "      <th>highMU</th>\n",
       "      <th>paper</th>\n",
       "      <th>rejUni</th>\n",
       "      <th>targetUni</th>\n",
       "      <th>uniRank</th>\n",
       "      <th>year</th>\n",
       "    </tr>\n",
       "  </thead>\n",
       "  <tbody>\n",
       "    <tr>\n",
       "      <th>2</th>\n",
       "      <td>united kingdom</td>\n",
       "      <td>4</td>\n",
       "      <td>Doctorate</td>\n",
       "      <td>1</td>\n",
       "      <td>8.0</td>\n",
       "      <td>petroleum engineering</td>\n",
       "      <td>False</td>\n",
       "      <td>False</td>\n",
       "      <td>False</td>\n",
       "      <td>False</td>\n",
       "      <td>...</td>\n",
       "      <td>NaN</td>\n",
       "      <td>NaN</td>\n",
       "      <td>NaN</td>\n",
       "      <td>False</td>\n",
       "      <td>False</td>\n",
       "      <td>7</td>\n",
       "      <td>n/a</td>\n",
       "      <td>heriot-watt</td>\n",
       "      <td>692.0</td>\n",
       "      <td>2007</td>\n",
       "    </tr>\n",
       "    <tr>\n",
       "      <th>3</th>\n",
       "      <td>united states</td>\n",
       "      <td>0</td>\n",
       "      <td>Doctorate</td>\n",
       "      <td>1</td>\n",
       "      <td>8.0</td>\n",
       "      <td>civil</td>\n",
       "      <td>False</td>\n",
       "      <td>False</td>\n",
       "      <td>False</td>\n",
       "      <td>False</td>\n",
       "      <td>...</td>\n",
       "      <td>159.0</td>\n",
       "      <td>143.0</td>\n",
       "      <td>3.0</td>\n",
       "      <td>True</td>\n",
       "      <td>False</td>\n",
       "      <td>11</td>\n",
       "      <td>UC Berkeley, Georgia Tech</td>\n",
       "      <td>northwestern</td>\n",
       "      <td>20.0</td>\n",
       "      <td>2010</td>\n",
       "    </tr>\n",
       "  </tbody>\n",
       "</table>\n",
       "<p>2 rows × 41 columns</p>\n",
       "</div>"
      ],
      "text/plain": [
       "          country  countryCode     degree  degreeCode  eng  \\\n",
       "2  united kingdom            4  Doctorate           1  8.0   \n",
       "3   united states            0  Doctorate           1  8.0   \n",
       "\n",
       "                   field fieldG_0 fieldG_1 fieldG_10 fieldG_11  ...    greQ  \\\n",
       "2  petroleum engineering    False    False     False     False  ...     NaN   \n",
       "3                  civil    False    False     False     False  ...   159.0   \n",
       "\n",
       "    greV greW highBU highMU paper                     rejUni     targetUni  \\\n",
       "2    NaN  NaN  False  False     7                        n/a   heriot-watt   \n",
       "3  143.0  3.0   True  False    11  UC Berkeley, Georgia Tech  northwestern   \n",
       "\n",
       "  uniRank  year  \n",
       "2   692.0  2007  \n",
       "3    20.0  2010  \n",
       "\n",
       "[2 rows x 41 columns]"
      ]
     },
     "execution_count": 9,
     "metadata": {},
     "output_type": "execute_result"
    }
   ],
   "source": [
    "dff.head(2)"
   ]
  },
  {
   "cell_type": "code",
   "execution_count": 10,
   "metadata": {
    "collapsed": false
   },
   "outputs": [
    {
     "ename": "NameError",
     "evalue": "name 'clf' is not defined",
     "output_type": "error",
     "traceback": [
      "\u001b[0;31m---------------------------------------------------------------------------\u001b[0m",
      "\u001b[0;31mNameError\u001b[0m                                 Traceback (most recent call last)",
      "\u001b[0;32m<ipython-input-10-45f0755f6088>\u001b[0m in \u001b[0;36m<module>\u001b[0;34m()\u001b[0m\n\u001b[1;32m      1\u001b[0m \u001b[1;32mfrom\u001b[0m \u001b[0msklearn\u001b[0m \u001b[1;32mimport\u001b[0m \u001b[0msvm\u001b[0m\u001b[1;33m\u001b[0m\u001b[0m\n\u001b[1;32m      2\u001b[0m \u001b[1;33m\u001b[0m\u001b[0m\n\u001b[0;32m----> 3\u001b[0;31m \u001b[0mclf\u001b[0m\u001b[1;33m.\u001b[0m\u001b[0mfit\u001b[0m\u001b[1;33m(\u001b[0m\u001b[0mX\u001b[0m\u001b[1;33m,\u001b[0m \u001b[0my\u001b[0m\u001b[1;33m)\u001b[0m\u001b[1;33m\u001b[0m\u001b[0m\n\u001b[0m",
      "\u001b[0;31mNameError\u001b[0m: name 'clf' is not defined"
     ]
    }
   ],
   "source": [
    "from sklearn import svm\n",
    "\n",
    "clf.fit(X, y)  "
   ]
  },
  {
   "cell_type": "code",
   "execution_count": null,
   "metadata": {
    "collapsed": false
   },
   "outputs": [],
   "source": [
    "dff.columns"
   ]
  },
  {
   "cell_type": "code",
   "execution_count": 11,
   "metadata": {
    "collapsed": true
   },
   "outputs": [],
   "source": [
    "col=['countryCode', 'eng',\n",
    "       'fieldG_0', 'fieldG_1', 'fieldG_10', 'fieldG_11', 'fieldG_12',\n",
    "       'fieldG_13', 'fieldG_14', 'fieldG_15', 'fieldG_16', 'fieldG_17',\n",
    "       'fieldG_18', 'fieldG_2', 'fieldG_3', 'fieldG_4', 'fieldG_5',\n",
    "       'fieldG_6', 'fieldG_7', 'fieldG_8', 'fieldG_9',\n",
    "       'gpaB', 'gre', 'greQ', 'greV', 'greW', \n",
    "       'highBU', 'paper', 'uniRank']"
   ]
  },
  {
   "cell_type": "code",
   "execution_count": 12,
   "metadata": {
    "collapsed": false
   },
   "outputs": [],
   "source": [
    "dff=dff[dff.degreeCode==0]\n",
    "df=dff[col]"
   ]
  },
  {
   "cell_type": "code",
   "execution_count": 14,
   "metadata": {
    "collapsed": false
   },
   "outputs": [],
   "source": [
    "df.uniRank.fillna(300,inplace=True)\n",
    "df.greQ.fillna(0,inplace=True)\n",
    "df.greW.fillna(0,inplace=True)\n",
    "df.greV.fillna(0,inplace=True)"
   ]
  },
  {
   "cell_type": "code",
   "execution_count": 15,
   "metadata": {
    "collapsed": false,
    "scrolled": true
   },
   "outputs": [
    {
     "data": {
      "text/html": [
       "<div>\n",
       "<table border=\"1\" class=\"dataframe\">\n",
       "  <thead>\n",
       "    <tr style=\"text-align: right;\">\n",
       "      <th></th>\n",
       "      <th>countryCode</th>\n",
       "      <th>eng</th>\n",
       "      <th>fieldG_0</th>\n",
       "      <th>fieldG_1</th>\n",
       "      <th>fieldG_10</th>\n",
       "      <th>fieldG_11</th>\n",
       "      <th>fieldG_12</th>\n",
       "      <th>fieldG_13</th>\n",
       "      <th>fieldG_14</th>\n",
       "      <th>fieldG_15</th>\n",
       "      <th>...</th>\n",
       "      <th>fieldG_8</th>\n",
       "      <th>fieldG_9</th>\n",
       "      <th>gpaB</th>\n",
       "      <th>gre</th>\n",
       "      <th>greQ</th>\n",
       "      <th>greV</th>\n",
       "      <th>greW</th>\n",
       "      <th>highBU</th>\n",
       "      <th>paper</th>\n",
       "      <th>uniRank</th>\n",
       "    </tr>\n",
       "  </thead>\n",
       "  <tbody>\n",
       "    <tr>\n",
       "      <th>6</th>\n",
       "      <td>2</td>\n",
       "      <td>7.0</td>\n",
       "      <td>True</td>\n",
       "      <td>False</td>\n",
       "      <td>False</td>\n",
       "      <td>False</td>\n",
       "      <td>False</td>\n",
       "      <td>False</td>\n",
       "      <td>False</td>\n",
       "      <td>False</td>\n",
       "      <td>...</td>\n",
       "      <td>False</td>\n",
       "      <td>False</td>\n",
       "      <td>3.0</td>\n",
       "      <td>True</td>\n",
       "      <td>166.0</td>\n",
       "      <td>138.0</td>\n",
       "      <td>3.0</td>\n",
       "      <td>True</td>\n",
       "      <td>0</td>\n",
       "      <td>443.0</td>\n",
       "    </tr>\n",
       "    <tr>\n",
       "      <th>7</th>\n",
       "      <td>3</td>\n",
       "      <td>8.0</td>\n",
       "      <td>False</td>\n",
       "      <td>False</td>\n",
       "      <td>True</td>\n",
       "      <td>False</td>\n",
       "      <td>False</td>\n",
       "      <td>False</td>\n",
       "      <td>False</td>\n",
       "      <td>False</td>\n",
       "      <td>...</td>\n",
       "      <td>False</td>\n",
       "      <td>False</td>\n",
       "      <td>2.5</td>\n",
       "      <td>False</td>\n",
       "      <td>0.0</td>\n",
       "      <td>0.0</td>\n",
       "      <td>0.0</td>\n",
       "      <td>False</td>\n",
       "      <td>0</td>\n",
       "      <td>300.0</td>\n",
       "    </tr>\n",
       "    <tr>\n",
       "      <th>8</th>\n",
       "      <td>1</td>\n",
       "      <td>6.5</td>\n",
       "      <td>False</td>\n",
       "      <td>False</td>\n",
       "      <td>True</td>\n",
       "      <td>False</td>\n",
       "      <td>False</td>\n",
       "      <td>False</td>\n",
       "      <td>False</td>\n",
       "      <td>False</td>\n",
       "      <td>...</td>\n",
       "      <td>False</td>\n",
       "      <td>False</td>\n",
       "      <td>3.0</td>\n",
       "      <td>False</td>\n",
       "      <td>0.0</td>\n",
       "      <td>0.0</td>\n",
       "      <td>0.0</td>\n",
       "      <td>True</td>\n",
       "      <td>0</td>\n",
       "      <td>318.0</td>\n",
       "    </tr>\n",
       "    <tr>\n",
       "      <th>9</th>\n",
       "      <td>0</td>\n",
       "      <td>8.0</td>\n",
       "      <td>True</td>\n",
       "      <td>False</td>\n",
       "      <td>False</td>\n",
       "      <td>False</td>\n",
       "      <td>False</td>\n",
       "      <td>False</td>\n",
       "      <td>False</td>\n",
       "      <td>False</td>\n",
       "      <td>...</td>\n",
       "      <td>False</td>\n",
       "      <td>False</td>\n",
       "      <td>3.5</td>\n",
       "      <td>False</td>\n",
       "      <td>0.0</td>\n",
       "      <td>0.0</td>\n",
       "      <td>0.0</td>\n",
       "      <td>True</td>\n",
       "      <td>1</td>\n",
       "      <td>21.0</td>\n",
       "    </tr>\n",
       "    <tr>\n",
       "      <th>12</th>\n",
       "      <td>0</td>\n",
       "      <td>7.5</td>\n",
       "      <td>True</td>\n",
       "      <td>False</td>\n",
       "      <td>False</td>\n",
       "      <td>False</td>\n",
       "      <td>False</td>\n",
       "      <td>False</td>\n",
       "      <td>False</td>\n",
       "      <td>False</td>\n",
       "      <td>...</td>\n",
       "      <td>False</td>\n",
       "      <td>False</td>\n",
       "      <td>3.5</td>\n",
       "      <td>True</td>\n",
       "      <td>155.0</td>\n",
       "      <td>146.0</td>\n",
       "      <td>3.5</td>\n",
       "      <td>False</td>\n",
       "      <td>1</td>\n",
       "      <td>300.0</td>\n",
       "    </tr>\n",
       "  </tbody>\n",
       "</table>\n",
       "<p>5 rows × 29 columns</p>\n",
       "</div>"
      ],
      "text/plain": [
       "    countryCode  eng fieldG_0 fieldG_1 fieldG_10 fieldG_11 fieldG_12  \\\n",
       "6             2  7.0     True    False     False     False     False   \n",
       "7             3  8.0    False    False      True     False     False   \n",
       "8             1  6.5    False    False      True     False     False   \n",
       "9             0  8.0     True    False     False     False     False   \n",
       "12            0  7.5     True    False     False     False     False   \n",
       "\n",
       "   fieldG_13 fieldG_14 fieldG_15   ...   fieldG_8 fieldG_9 gpaB    gre   greQ  \\\n",
       "6      False     False     False   ...      False    False  3.0   True  166.0   \n",
       "7      False     False     False   ...      False    False  2.5  False    0.0   \n",
       "8      False     False     False   ...      False    False  3.0  False    0.0   \n",
       "9      False     False     False   ...      False    False  3.5  False    0.0   \n",
       "12     False     False     False   ...      False    False  3.5   True  155.0   \n",
       "\n",
       "     greV greW highBU paper uniRank  \n",
       "6   138.0  3.0   True     0   443.0  \n",
       "7     0.0  0.0  False     0   300.0  \n",
       "8     0.0  0.0   True     0   318.0  \n",
       "9     0.0  0.0   True     1    21.0  \n",
       "12  146.0  3.5  False     1   300.0  \n",
       "\n",
       "[5 rows x 29 columns]"
      ]
     },
     "execution_count": 15,
     "metadata": {},
     "output_type": "execute_result"
    }
   ],
   "source": [
    "df.head()"
   ]
  },
  {
   "cell_type": "code",
   "execution_count": 16,
   "metadata": {
    "collapsed": false
   },
   "outputs": [],
   "source": [
    "xtr,xte,ytr,yte=train_test_split(df,dff.fund,test_size=0.2 ,random_state=99)"
   ]
  },
  {
   "cell_type": "code",
   "execution_count": 19,
   "metadata": {
    "collapsed": true
   },
   "outputs": [],
   "source": [
    "def build3(xtr, ytr,xte,yte,rocEnable):\n",
    "    clf = svm.SVC(random_state=99)\n",
    "    clf.fit(xtr, ytr)\n",
    "    ypred = clf.predict(xte)\n",
    "    if rocEnable==False:\n",
    "        acc=accuracy_score(yte,ypred)*100\n",
    "    else:\n",
    "        fpr, tpr, thresholds = metrics.roc_curve(yte,ypred)\n",
    "        acc=metrics.auc(fpr, tpr)*100\n",
    "    conf=confusion_matrix(yte,ypred)\n",
    "    return (clf,acc,conf)\n",
    "def draw3(clf):\n",
    "    dot_data = tree.export_graphviz(clf, out_file=None, feature_names=col,  max_depth=3, rounded=True)  \n",
    "    graph = pydotplus.graph_from_dot_data(dot_data)  \n",
    "    return Image(graph.create_png())  "
   ]
  },
  {
   "cell_type": "code",
   "execution_count": 20,
   "metadata": {
    "collapsed": false
   },
   "outputs": [
    {
     "data": {
      "text/plain": [
       "(SVC(C=1.0, cache_size=200, class_weight=None, coef0=0.0,\n",
       "   decision_function_shape=None, degree=3, gamma='auto', kernel='rbf',\n",
       "   max_iter=-1, probability=False, random_state=99, shrinking=True,\n",
       "   tol=0.001, verbose=False), 63.651039363113668, array([[251,  15],\n",
       "        [ 57,  28]]))"
      ]
     },
     "execution_count": 20,
     "metadata": {},
     "output_type": "execute_result"
    }
   ],
   "source": [
    "build3(xtr, ytr,xte,yte,True)"
   ]
  },
  {
   "cell_type": "code",
   "execution_count": 21,
   "metadata": {
    "collapsed": false
   },
   "outputs": [
    {
     "data": {
      "text/plain": [
       "(SVC(C=1.0, cache_size=200, class_weight=None, coef0=0.0,\n",
       "   decision_function_shape=None, degree=3, gamma='auto', kernel='rbf',\n",
       "   max_iter=-1, probability=False, random_state=99, shrinking=True,\n",
       "   tol=0.001, verbose=False), 79.487179487179489, array([[251,  15],\n",
       "        [ 57,  28]]))"
      ]
     },
     "execution_count": 21,
     "metadata": {},
     "output_type": "execute_result"
    }
   ],
   "source": [
    "build3(xtr, ytr,xte,yte,False)"
   ]
  },
  {
   "cell_type": "code",
   "execution_count": null,
   "metadata": {
    "collapsed": true
   },
   "outputs": [],
   "source": []
  },
  {
   "cell_type": "code",
   "execution_count": null,
   "metadata": {
    "collapsed": true
   },
   "outputs": [],
   "source": []
  }
 ],
 "metadata": {
  "kernelspec": {
   "display_name": "Python 2",
   "language": "python",
   "name": "python2"
  },
  "language_info": {
   "codemirror_mode": {
    "name": "ipython",
    "version": 2
   },
   "file_extension": ".py",
   "mimetype": "text/x-python",
   "name": "python",
   "nbconvert_exporter": "python",
   "pygments_lexer": "ipython2",
   "version": "2.7.13"
  }
 },
 "nbformat": 4,
 "nbformat_minor": 2
}

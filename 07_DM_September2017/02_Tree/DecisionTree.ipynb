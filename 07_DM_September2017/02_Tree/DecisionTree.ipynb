{
 "cells": [
  {
   "cell_type": "code",
   "execution_count": 339,
   "metadata": {
    "collapsed": true
   },
   "outputs": [],
   "source": [
    "import numpy as np\n",
    "from pandas import Series, DataFrame\n",
    "import pandas as pd\n",
    "from sklearn import preprocessing, tree\n",
    "from sklearn.metrics import accuracy_score\n",
    "from sklearn.model_selection import train_test_split, KFold\n",
    "from sklearn.tree import DecisionTreeClassifier, export_graphviz\n",
    "import pydotplus \n",
    "from sklearn import metrics\n",
    "from IPython.display import Image \n",
    "from sklearn.model_selection import StratifiedKFold\n",
    "from sklearn.metrics import confusion_matrix"
   ]
  },
  {
   "cell_type": "markdown",
   "metadata": {},
   "source": [
    "# Decision tree > Getting FUND"
   ]
  },
  {
   "cell_type": "code",
   "execution_count": 340,
   "metadata": {
    "collapsed": false
   },
   "outputs": [],
   "source": [
    "df=pd.read_json('../01_Preprocessing/First.json').sort_index()"
   ]
  },
  {
   "cell_type": "code",
   "execution_count": 341,
   "metadata": {
    "collapsed": false,
    "scrolled": true
   },
   "outputs": [
    {
     "data": {
      "text/html": [
       "<div>\n",
       "<table border=\"1\" class=\"dataframe\">\n",
       "  <thead>\n",
       "    <tr style=\"text-align: right;\">\n",
       "      <th></th>\n",
       "      <th>country</th>\n",
       "      <th>countryCoded</th>\n",
       "      <th>degree</th>\n",
       "      <th>degreeCoded</th>\n",
       "      <th>eng</th>\n",
       "      <th>engCoded</th>\n",
       "      <th>fieldGroup</th>\n",
       "      <th>fund</th>\n",
       "      <th>gpaBachelors</th>\n",
       "      <th>gpaMasters</th>\n",
       "      <th>gre</th>\n",
       "      <th>highLevelBachUni</th>\n",
       "      <th>highLevelMasterUni</th>\n",
       "      <th>paper</th>\n",
       "      <th>targetUni</th>\n",
       "      <th>uniRank</th>\n",
       "      <th>year</th>\n",
       "    </tr>\n",
       "  </thead>\n",
       "  <tbody>\n",
       "    <tr>\n",
       "      <th>2</th>\n",
       "      <td>united kingdom</td>\n",
       "      <td>4</td>\n",
       "      <td>Doctorate</td>\n",
       "      <td>1</td>\n",
       "      <td>High</td>\n",
       "      <td>1</td>\n",
       "      <td>7</td>\n",
       "      <td>TRUE</td>\n",
       "      <td>3.5</td>\n",
       "      <td>3.442986</td>\n",
       "      <td>FALSE</td>\n",
       "      <td>FALSE</td>\n",
       "      <td>FALSE</td>\n",
       "      <td>6.666667</td>\n",
       "      <td>heriot-watt</td>\n",
       "      <td>692.0</td>\n",
       "      <td>2007</td>\n",
       "    </tr>\n",
       "    <tr>\n",
       "      <th>3</th>\n",
       "      <td>united states</td>\n",
       "      <td>0</td>\n",
       "      <td>Doctorate</td>\n",
       "      <td>1</td>\n",
       "      <td>VeryHigh</td>\n",
       "      <td>0</td>\n",
       "      <td>5</td>\n",
       "      <td>TRUE</td>\n",
       "      <td>2.5</td>\n",
       "      <td>3.500000</td>\n",
       "      <td>TRUE</td>\n",
       "      <td>TRUE</td>\n",
       "      <td>FALSE</td>\n",
       "      <td>11.333333</td>\n",
       "      <td>northwestern</td>\n",
       "      <td>20.0</td>\n",
       "      <td>2010</td>\n",
       "    </tr>\n",
       "  </tbody>\n",
       "</table>\n",
       "</div>"
      ],
      "text/plain": [
       "          country  countryCoded     degree  degreeCoded       eng  engCoded  \\\n",
       "2  united kingdom             4  Doctorate            1      High         1   \n",
       "3   united states             0  Doctorate            1  VeryHigh         0   \n",
       "\n",
       "   fieldGroup  fund  gpaBachelors  gpaMasters    gre highLevelBachUni  \\\n",
       "2           7  TRUE           3.5    3.442986  FALSE            FALSE   \n",
       "3           5  TRUE           2.5    3.500000   TRUE             TRUE   \n",
       "\n",
       "  highLevelMasterUni      paper     targetUni  uniRank  year  \n",
       "2              FALSE   6.666667   heriot-watt    692.0  2007  \n",
       "3              FALSE  11.333333  northwestern     20.0  2010  "
      ]
     },
     "execution_count": 341,
     "metadata": {},
     "output_type": "execute_result"
    }
   ],
   "source": [
    "df.head(2)"
   ]
  },
  {
   "cell_type": "code",
   "execution_count": 342,
   "metadata": {
    "collapsed": false
   },
   "outputs": [
    {
     "data": {
      "text/plain": [
       "Index([u'country', u'countryCoded', u'degree', u'degreeCoded', u'eng',\n",
       "       u'engCoded', u'fieldGroup', u'fund', u'gpaBachelors', u'gpaMasters',\n",
       "       u'gre', u'highLevelBachUni', u'highLevelMasterUni', u'paper',\n",
       "       u'targetUni', u'uniRank', u'year'],\n",
       "      dtype='object')"
      ]
     },
     "execution_count": 342,
     "metadata": {},
     "output_type": "execute_result"
    }
   ],
   "source": [
    "df.columns"
   ]
  },
  {
   "cell_type": "code",
   "execution_count": 343,
   "metadata": {
    "collapsed": true
   },
   "outputs": [],
   "source": [
    "df.uniRank.fillna(294,inplace=True)"
   ]
  },
  {
   "cell_type": "code",
   "execution_count": 344,
   "metadata": {
    "collapsed": false
   },
   "outputs": [],
   "source": [
    "df.fund= df.fund=='TRUE'\n",
    "df.gre= df.gre=='TRUE'\n",
    "df.highLevelBachUni= df.highLevelBachUni=='TRUE'\n",
    "df.highLevelMasterUni= df.highLevelMasterUni=='TRUE'"
   ]
  },
  {
   "cell_type": "markdown",
   "metadata": {
    "collapsed": true
   },
   "source": [
    "# FUNCTIONS"
   ]
  },
  {
   "cell_type": "code",
   "execution_count": 345,
   "metadata": {
    "collapsed": true
   },
   "outputs": [],
   "source": [
    "def get_code(tree, feature_names):\n",
    "        left      = tree.tree_.children_left\n",
    "        right     = tree.tree_.children_right\n",
    "        threshold = tree.tree_.threshold\n",
    "        features  = [feature_names[i] for i in tree.tree_.feature]\n",
    "        value = tree.tree_.value\n",
    "\n",
    "        def recurse(left, right, threshold, features, node):\n",
    "                if (threshold[node] != -2):\n",
    "                        print \"if ( \" + features[node] + \" <= \" + str(threshold[node]) + \" ) {\"\n",
    "                        if left[node] != -1:\n",
    "                                recurse (left, right, threshold, features,left[node])\n",
    "                        print \"} else {\"\n",
    "                        if right[node] != -1:\n",
    "                                recurse (left, right, threshold, features,right[node])\n",
    "                        print \"}\"\n",
    "                else:\n",
    "                        print \"return \" + str(value[node])\n",
    "\n",
    "        recurse(left, right, threshold, features, 0)"
   ]
  },
  {
   "cell_type": "code",
   "execution_count": 346,
   "metadata": {
    "collapsed": false
   },
   "outputs": [],
   "source": [
    "def build3(xtr, ytr,xte,yte,rocEnable,max_depth,criterion='entropy',class_weight=None):\n",
    "    clf = DecisionTreeClassifier(criterion = criterion, random_state = 100, max_depth=max_depth,class_weight=class_weight)\n",
    "    clf.fit(xtr, ytr)\n",
    "    ypred = clf.predict(xte)\n",
    "    if rocEnable==False:\n",
    "        acc=accuracy_score(yte,ypred)*100\n",
    "    else:\n",
    "        fpr, tpr, thresholds = metrics.roc_curve(yte,ypred)\n",
    "        acc=metrics.auc(fpr, tpr)*100\n",
    "    conf=confusion_matrix(yte,ypred)\n",
    "    return (clf,acc,conf)\n",
    "def draw3(clf):\n",
    "    dot_data = tree.export_graphviz(clf, out_file=None, feature_names=col,  max_depth=3, rounded=True)  \n",
    "    graph = pydotplus.graph_from_dot_data(dot_data)  \n",
    "    return Image(graph.create_png())  "
   ]
  },
  {
   "cell_type": "markdown",
   "metadata": {},
   "source": [
    "# DTree Fund For PHD Students"
   ]
  },
  {
   "cell_type": "code",
   "execution_count": 347,
   "metadata": {
    "collapsed": false
   },
   "outputs": [],
   "source": [
    "col=['countryCoded', 'engCoded', 'fieldGroup', 'gpaBachelors','gpaMasters', 'gre', \n",
    "     'highLevelBachUni', 'highLevelMasterUni','paper','uniRank']\n",
    "data=df[df.degreeCoded==1][col]\n",
    "target=df[df.degreeCoded==1].fund\n",
    "xtr,xte,ytr,yte=train_test_split(data,target,test_size=0.3 ,random_state=99)"
   ]
  },
  {
   "cell_type": "code",
   "execution_count": 348,
   "metadata": {
    "collapsed": false,
    "scrolled": false
   },
   "outputs": [
    {
     "data": {
      "text/html": [
       "<div>\n",
       "<table border=\"1\" class=\"dataframe\">\n",
       "  <thead>\n",
       "    <tr style=\"text-align: right;\">\n",
       "      <th></th>\n",
       "      <th>countryCoded</th>\n",
       "      <th>engCoded</th>\n",
       "      <th>fieldGroup</th>\n",
       "      <th>gpaBachelors</th>\n",
       "      <th>gpaMasters</th>\n",
       "      <th>gre</th>\n",
       "      <th>highLevelBachUni</th>\n",
       "      <th>highLevelMasterUni</th>\n",
       "      <th>paper</th>\n",
       "      <th>uniRank</th>\n",
       "    </tr>\n",
       "  </thead>\n",
       "  <tbody>\n",
       "    <tr>\n",
       "      <th>2</th>\n",
       "      <td>4</td>\n",
       "      <td>1</td>\n",
       "      <td>7</td>\n",
       "      <td>3.5</td>\n",
       "      <td>3.442986</td>\n",
       "      <td>False</td>\n",
       "      <td>False</td>\n",
       "      <td>False</td>\n",
       "      <td>6.666667</td>\n",
       "      <td>692.0</td>\n",
       "    </tr>\n",
       "    <tr>\n",
       "      <th>3</th>\n",
       "      <td>0</td>\n",
       "      <td>0</td>\n",
       "      <td>5</td>\n",
       "      <td>2.5</td>\n",
       "      <td>3.500000</td>\n",
       "      <td>True</td>\n",
       "      <td>True</td>\n",
       "      <td>False</td>\n",
       "      <td>11.333333</td>\n",
       "      <td>20.0</td>\n",
       "    </tr>\n",
       "  </tbody>\n",
       "</table>\n",
       "</div>"
      ],
      "text/plain": [
       "   countryCoded  engCoded  fieldGroup  gpaBachelors  gpaMasters    gre  \\\n",
       "2             4         1           7           3.5    3.442986  False   \n",
       "3             0         0           5           2.5    3.500000   True   \n",
       "\n",
       "  highLevelBachUni highLevelMasterUni      paper  uniRank  \n",
       "2            False              False   6.666667    692.0  \n",
       "3             True              False  11.333333     20.0  "
      ]
     },
     "execution_count": 348,
     "metadata": {},
     "output_type": "execute_result"
    }
   ],
   "source": [
    "data.head(2)"
   ]
  },
  {
   "cell_type": "code",
   "execution_count": 349,
   "metadata": {
    "collapsed": false,
    "scrolled": true
   },
   "outputs": [
    {
     "name": "stdout",
     "output_type": "stream",
     "text": [
      "((1241, 10), (1241L,), (532, 10), (532L,))\n"
     ]
    }
   ],
   "source": [
    "print(xtr.shape,ytr.shape,xte.shape,yte.shape)"
   ]
  },
  {
   "cell_type": "markdown",
   "metadata": {},
   "source": [
    "# PHD + AUC + train_test_split"
   ]
  },
  {
   "cell_type": "code",
   "execution_count": 350,
   "metadata": {
    "collapsed": false
   },
   "outputs": [],
   "source": [
    "ac=[];clfs=[]\n",
    "for i in range(3,10):\n",
    "    for j in range(1,10):\n",
    "        for j2 in range(1,10):\n",
    "            for k in ['entropy','gini']:\n",
    "                clf,acc,conf=build3(xtr, ytr,xte,yte,rocEnable=True,max_depth=i,criterion=k,class_weight={0:j, 1: j2})\n",
    "                ac.append(acc)\n",
    "                clfs.append(clf)"
   ]
  },
  {
   "cell_type": "code",
   "execution_count": 351,
   "metadata": {
    "collapsed": false,
    "scrolled": false
   },
   "outputs": [
    {
     "data": {
      "text/plain": [
       "[62.07194707526493, 639]"
      ]
     },
     "execution_count": 351,
     "metadata": {},
     "output_type": "execute_result"
    }
   ],
   "source": [
    "[max(ac),ac.index(max(ac))]"
   ]
  },
  {
   "cell_type": "code",
   "execution_count": 352,
   "metadata": {
    "collapsed": false,
    "scrolled": false
   },
   "outputs": [
    {
     "data": {
      "text/plain": [
       "DecisionTreeClassifier(class_weight={0: 9, 1: 5}, criterion='gini',\n",
       "            max_depth=6, max_features=None, max_leaf_nodes=None,\n",
       "            min_impurity_split=1e-07, min_samples_leaf=1,\n",
       "            min_samples_split=2, min_weight_fraction_leaf=0.0,\n",
       "            presort=False, random_state=100, splitter='best')"
      ]
     },
     "execution_count": 352,
     "metadata": {},
     "output_type": "execute_result"
    }
   ],
   "source": [
    "clf=clfs[ac.index(max(ac))]\n",
    "clf"
   ]
  },
  {
   "cell_type": "code",
   "execution_count": 353,
   "metadata": {
    "collapsed": false,
    "scrolled": true
   },
   "outputs": [],
   "source": [
    "# draw3(clf) "
   ]
  },
  {
   "cell_type": "markdown",
   "metadata": {},
   "source": [
    "# PHD + Acc + train_test_split"
   ]
  },
  {
   "cell_type": "code",
   "execution_count": 354,
   "metadata": {
    "collapsed": false
   },
   "outputs": [],
   "source": [
    "ac=[];clfs=[]\n",
    "for i in range(3,10):\n",
    "    for j in range(1,10):\n",
    "        for j2 in range(1,10):\n",
    "            for k in ['entropy','gini']:\n",
    "                clf,acc,conf=build3(xtr, ytr,xte,yte,rocEnable=False,max_depth=i,criterion=k,class_weight={0:j, 1: j2})\n",
    "                ac.append(acc)\n",
    "                clfs.append(clf)"
   ]
  },
  {
   "cell_type": "code",
   "execution_count": 355,
   "metadata": {
    "collapsed": false,
    "scrolled": false
   },
   "outputs": [
    {
     "data": {
      "text/plain": [
       "[79.323308270676691, 326]"
      ]
     },
     "execution_count": 355,
     "metadata": {},
     "output_type": "execute_result"
    }
   ],
   "source": [
    "[max(ac),ac.index(max(ac))]"
   ]
  },
  {
   "cell_type": "code",
   "execution_count": 356,
   "metadata": {
    "collapsed": false
   },
   "outputs": [
    {
     "data": {
      "text/plain": [
       "DecisionTreeClassifier(class_weight={0: 1, 1: 2}, criterion='entropy',\n",
       "            max_depth=5, max_features=None, max_leaf_nodes=None,\n",
       "            min_impurity_split=1e-07, min_samples_leaf=1,\n",
       "            min_samples_split=2, min_weight_fraction_leaf=0.0,\n",
       "            presort=False, random_state=100, splitter='best')"
      ]
     },
     "execution_count": 356,
     "metadata": {},
     "output_type": "execute_result"
    }
   ],
   "source": [
    "clf=clfs[ac.index(max(ac))]\n",
    "clf"
   ]
  },
  {
   "cell_type": "code",
   "execution_count": 357,
   "metadata": {
    "collapsed": false,
    "scrolled": true
   },
   "outputs": [],
   "source": [
    "# get_code(clf,col)"
   ]
  },
  {
   "cell_type": "markdown",
   "metadata": {},
   "source": [
    "# PHD + Acc + train_test_split + NoWeight"
   ]
  },
  {
   "cell_type": "code",
   "execution_count": 358,
   "metadata": {
    "collapsed": false
   },
   "outputs": [],
   "source": [
    "ac=[];clfs=[]\n",
    "for i in range(3,10):\n",
    "    for k in ['entropy','gini']:\n",
    "        clf,acc,conf=build3(xtr, ytr,xte,yte,rocEnable=False,max_depth=i,criterion=k)\n",
    "        ac.append(acc)\n",
    "        clfs.append(clf)"
   ]
  },
  {
   "cell_type": "code",
   "execution_count": 359,
   "metadata": {
    "collapsed": false,
    "scrolled": false
   },
   "outputs": [
    {
     "data": {
      "text/plain": [
       "[78.383458646616546, 5]"
      ]
     },
     "execution_count": 359,
     "metadata": {},
     "output_type": "execute_result"
    }
   ],
   "source": [
    "[max(ac),ac.index(max(ac))]"
   ]
  },
  {
   "cell_type": "code",
   "execution_count": 360,
   "metadata": {
    "collapsed": false
   },
   "outputs": [
    {
     "data": {
      "text/plain": [
       "DecisionTreeClassifier(class_weight=None, criterion='gini', max_depth=5,\n",
       "            max_features=None, max_leaf_nodes=None,\n",
       "            min_impurity_split=1e-07, min_samples_leaf=1,\n",
       "            min_samples_split=2, min_weight_fraction_leaf=0.0,\n",
       "            presort=False, random_state=100, splitter='best')"
      ]
     },
     "execution_count": 360,
     "metadata": {},
     "output_type": "execute_result"
    }
   ],
   "source": [
    "clf=clfs[ac.index(max(ac))]\n",
    "clf"
   ]
  },
  {
   "cell_type": "code",
   "execution_count": 361,
   "metadata": {
    "collapsed": false
   },
   "outputs": [],
   "source": [
    "# draw3(clf)"
   ]
  },
  {
   "cell_type": "code",
   "execution_count": 362,
   "metadata": {
    "collapsed": false,
    "scrolled": true
   },
   "outputs": [],
   "source": [
    "# get_code(clf,col)"
   ]
  },
  {
   "cell_type": "markdown",
   "metadata": {},
   "source": [
    "# PHD + AUC + StratifiedKFold"
   ]
  },
  {
   "cell_type": "code",
   "execution_count": 363,
   "metadata": {
    "collapsed": false
   },
   "outputs": [],
   "source": [
    "ac=[];clfs=[];confs=[]\n",
    "dfTemp=df[df.degreeCoded==1].reset_index(drop=True)\n",
    "for spl in range(10,11):\n",
    "    skf = StratifiedKFold(n_splits=spl)\n",
    "    for train,test in skf.split(dfTemp[col], dfTemp.fund):\n",
    "        xtr, ytr,xte,yte=dfTemp.ix[train][col],dfTemp.ix[train]['fund'],dfTemp.ix[test][col],dfTemp.ix[test]['fund']\n",
    "        for i in range(3,8):\n",
    "            for j in range(1,6):\n",
    "                for j2 in range(1,6):\n",
    "                    for k in ['entropy','gini']:\n",
    "                        clf,acc,conf=build3(xtr, ytr,xte,yte,rocEnable=True,max_depth=i,criterion=k,class_weight={0:j, 1: j2})\n",
    "                        ac.append(acc)\n",
    "                        clfs.append(clf)\n",
    "                        confs.append(conf)"
   ]
  },
  {
   "cell_type": "code",
   "execution_count": 364,
   "metadata": {
    "collapsed": false,
    "scrolled": false
   },
   "outputs": [
    {
     "data": {
      "text/plain": [
       "[71.98105081826013, 973]"
      ]
     },
     "execution_count": 364,
     "metadata": {},
     "output_type": "execute_result"
    }
   ],
   "source": [
    "[max(ac),ac.index(max(ac))]"
   ]
  },
  {
   "cell_type": "code",
   "execution_count": 365,
   "metadata": {
    "collapsed": false,
    "scrolled": true
   },
   "outputs": [
    {
     "data": {
      "text/plain": [
       "DecisionTreeClassifier(class_weight={0: 3, 1: 2}, criterion='gini',\n",
       "            max_depth=7, max_features=None, max_leaf_nodes=None,\n",
       "            min_impurity_split=1e-07, min_samples_leaf=1,\n",
       "            min_samples_split=2, min_weight_fraction_leaf=0.0,\n",
       "            presort=False, random_state=100, splitter='best')"
      ]
     },
     "execution_count": 365,
     "metadata": {},
     "output_type": "execute_result"
    }
   ],
   "source": [
    "clf=clfs[ac.index(max(ac))]\n",
    "clf"
   ]
  },
  {
   "cell_type": "code",
   "execution_count": 366,
   "metadata": {
    "collapsed": false,
    "scrolled": false
   },
   "outputs": [
    {
     "data": {
      "image/png": "[encoded data removed]",
      "text/plain": [
       "<IPython.core.display.Image object>"
      ]
     },
     "execution_count": 366,
     "metadata": {},
     "output_type": "execute_result"
    }
   ],
   "source": [
    "draw3(clf)"
   ]
  },
  {
   "cell_type": "code",
   "execution_count": 367,
   "metadata": {
    "collapsed": false
   },
   "outputs": [
    {
     "name": "stdout",
     "output_type": "stream",
     "text": [
      "if ( gre <= 0.5 ) {\n",
      "if ( paper <= 1.5 ) {\n",
      "if ( gpaBachelors <= 2.55565452576 ) {\n",
      "if ( engCoded <= 0.5 ) {\n",
      "if ( gpaMasters <= 2.75 ) {\n",
      "return [[ 6.  0.]]\n",
      "} else {\n",
      "if ( gpaMasters <= 3.47149276733 ) {\n",
      "return [[  0.  16.]]\n",
      "} else {\n",
      "if ( highLevelBachUni <= 0.5 ) {\n",
      "return [[ 6.  0.]]\n",
      "} else {\n",
      "return [[  6.  20.]]\n",
      "}\n",
      "}\n",
      "}\n",
      "} else {\n",
      "if ( uniRank <= 406.0 ) {\n",
      "if ( uniRank <= 273.0 ) {\n",
      "if ( gpaBachelors <= 2.25 ) {\n",
      "return [[  6.  20.]]\n",
      "} else {\n",
      "return [[ 30.  12.]]\n",
      "}\n",
      "} else {\n",
      "if ( countryCoded <= 6.5 ) {\n",
      "return [[ 165.   32.]]\n",
      "} else {\n",
      "return [[ 0.  4.]]\n",
      "}\n",
      "}\n",
      "} else {\n",
      "if ( fieldGroup <= 5.5 ) {\n",
      "if ( countryCoded <= 1.5 ) {\n",
      "return [[ 3.  8.]]\n",
      "} else {\n",
      "return [[ 9.  0.]]\n",
      "}\n",
      "} else {\n",
      "return [[  0.  14.]]\n",
      "}\n",
      "}\n",
      "}\n",
      "} else {\n",
      "if ( uniRank <= 297.0 ) {\n",
      "if ( uniRank <= 284.5 ) {\n",
      "if ( paper <= 0.83333337307 ) {\n",
      "if ( fieldGroup <= 2.5 ) {\n",
      "return [[  0.  26.]]\n",
      "} else {\n",
      "return [[  9.  22.]]\n",
      "}\n",
      "} else {\n",
      "if ( paper <= 1.16666674614 ) {\n",
      "return [[ 24.  16.]]\n",
      "} else {\n",
      "return [[  0.  12.]]\n",
      "}\n",
      "}\n",
      "} else {\n",
      "if ( highLevelBachUni <= 0.5 ) {\n",
      "if ( gpaMasters <= 3.22149276733 ) {\n",
      "return [[ 0.  2.]]\n",
      "} else {\n",
      "return [[ 45.  12.]]\n",
      "}\n",
      "} else {\n",
      "if ( gpaMasters <= 3.75 ) {\n",
      "return [[  0.  20.]]\n",
      "} else {\n",
      "return [[ 12.   4.]]\n",
      "}\n",
      "}\n",
      "}\n",
      "} else {\n",
      "if ( uniRank <= 659.0 ) {\n",
      "if ( engCoded <= 1.5 ) {\n",
      "return [[  0.  36.]]\n",
      "} else {\n",
      "if ( paper <= 0.166666671634 ) {\n",
      "return [[ 3.  0.]]\n",
      "} else {\n",
      "return [[ 0.  6.]]\n",
      "}\n",
      "}\n",
      "} else {\n",
      "if ( highLevelMasterUni <= 0.5 ) {\n",
      "return [[ 9.  0.]]\n",
      "} else {\n",
      "return [[  0.  10.]]\n",
      "}\n",
      "}\n",
      "}\n",
      "}\n",
      "} else {\n",
      "if ( highLevelBachUni <= 0.5 ) {\n",
      "if ( uniRank <= 262.0 ) {\n",
      "if ( paper <= 4.83333301544 ) {\n",
      "if ( uniRank <= 71.5 ) {\n",
      "if ( gpaMasters <= 3.63000011444 ) {\n",
      "return [[ 18.   4.]]\n",
      "} else {\n",
      "return [[ 6.  8.]]\n",
      "}\n",
      "} else {\n",
      "if ( highLevelMasterUni <= 0.5 ) {\n",
      "return [[ 24.  44.]]\n",
      "} else {\n",
      "return [[  0.  28.]]\n",
      "}\n",
      "}\n",
      "} else {\n",
      "if ( gpaMasters <= 3.98000001907 ) {\n",
      "return [[  0.  44.]]\n",
      "} else {\n",
      "if ( paper <= 7.83333301544 ) {\n",
      "return [[  0.  12.]]\n",
      "} else {\n",
      "return [[ 3.  6.]]\n",
      "}\n",
      "}\n",
      "}\n",
      "} else {\n",
      "if ( uniRank <= 297.0 ) {\n",
      "if ( fieldGroup <= 1.5 ) {\n",
      "if ( highLevelMasterUni <= 0.5 ) {\n",
      "return [[ 33.  30.]]\n",
      "} else {\n",
      "return [[  3.  22.]]\n",
      "}\n",
      "} else {\n",
      "if ( paper <= 5.83333301544 ) {\n",
      "return [[ 51.  40.]]\n",
      "} else {\n",
      "return [[ 36.   6.]]\n",
      "}\n",
      "}\n",
      "} else {\n",
      "if ( countryCoded <= 1.5 ) {\n",
      "if ( uniRank <= 473.0 ) {\n",
      "return [[  9.  26.]]\n",
      "} else {\n",
      "return [[  0.  36.]]\n",
      "}\n",
      "} else {\n",
      "if ( uniRank <= 418.0 ) {\n",
      "return [[  0.  10.]]\n",
      "} else {\n",
      "return [[ 33.  24.]]\n",
      "}\n",
      "}\n",
      "}\n",
      "}\n",
      "} else {\n",
      "if ( gpaMasters <= 2.25 ) {\n",
      "return [[ 6.  0.]]\n",
      "} else {\n",
      "if ( countryCoded <= 0.5 ) {\n",
      "if ( fieldGroup <= 10.5 ) {\n",
      "if ( paper <= 1.83333325386 ) {\n",
      "return [[ 6.  0.]]\n",
      "} else {\n",
      "return [[ 45.  94.]]\n",
      "}\n",
      "} else {\n",
      "if ( uniRank <= 760.0 ) {\n",
      "return [[  0.  40.]]\n",
      "} else {\n",
      "return [[ 3.  0.]]\n",
      "}\n",
      "}\n",
      "} else {\n",
      "if ( uniRank <= 85.0 ) {\n",
      "if ( paper <= 3.33333349228 ) {\n",
      "return [[ 0.  2.]]\n",
      "} else {\n",
      "return [[ 6.  2.]]\n",
      "}\n",
      "} else {\n",
      "if ( countryCoded <= 5.5 ) {\n",
      "return [[   6.  142.]]\n",
      "} else {\n",
      "return [[ 3.  0.]]\n",
      "}\n",
      "}\n",
      "}\n",
      "}\n",
      "}\n",
      "}\n",
      "} else {\n",
      "if ( paper <= 0.166666671634 ) {\n",
      "if ( gpaBachelors <= 3.69999980927 ) {\n",
      "if ( uniRank <= 234.0 ) {\n",
      "if ( uniRank <= 83.0 ) {\n",
      "if ( gpaMasters <= 3.47149276733 ) {\n",
      "if ( highLevelBachUni <= 0.5 ) {\n",
      "return [[ 3.  2.]]\n",
      "} else {\n",
      "return [[  6.  56.]]\n",
      "}\n",
      "} else {\n",
      "if ( gpaBachelors <= 2.75 ) {\n",
      "return [[ 21.  16.]]\n",
      "} else {\n",
      "return [[  0.  10.]]\n",
      "}\n",
      "}\n",
      "} else {\n",
      "return [[  0.  50.]]\n",
      "}\n",
      "} else {\n",
      "if ( highLevelMasterUni <= 0.5 ) {\n",
      "if ( uniRank <= 262.0 ) {\n",
      "return [[ 9.  0.]]\n",
      "} else {\n",
      "if ( gpaBachelors <= 2.95000004768 ) {\n",
      "return [[ 30.  20.]]\n",
      "} else {\n",
      "return [[ 12.  28.]]\n",
      "}\n",
      "}\n",
      "} else {\n",
      "if ( gpaMasters <= 2.25 ) {\n",
      "return [[ 3.  0.]]\n",
      "} else {\n",
      "if ( gpaMasters <= 2.75 ) {\n",
      "return [[  0.  18.]]\n",
      "} else {\n",
      "return [[ 39.  74.]]\n",
      "}\n",
      "}\n",
      "}\n",
      "}\n",
      "} else {\n",
      "if ( engCoded <= 0.5 ) {\n",
      "if ( uniRank <= 40.5 ) {\n",
      "return [[ 0.  8.]]\n",
      "} else {\n",
      "if ( gpaMasters <= 3.75 ) {\n",
      "return [[ 9.  0.]]\n",
      "} else {\n",
      "return [[ 0.  2.]]\n",
      "}\n",
      "}\n",
      "} else {\n",
      "return [[ 15.   0.]]\n",
      "}\n",
      "}\n",
      "} else {\n",
      "if ( uniRank <= 29.5 ) {\n",
      "if ( paper <= 19.3333320618 ) {\n",
      "if ( gpaBachelors <= 1.75 ) {\n",
      "if ( fieldGroup <= 8.0 ) {\n",
      "return [[ 0.  4.]]\n",
      "} else {\n",
      "return [[ 3.  0.]]\n",
      "}\n",
      "} else {\n",
      "if ( uniRank <= 2.5 ) {\n",
      "if ( engCoded <= 0.5 ) {\n",
      "return [[ 0.  8.]]\n",
      "} else {\n",
      "return [[ 3.  0.]]\n",
      "}\n",
      "} else {\n",
      "if ( paper <= 3.16666650772 ) {\n",
      "return [[  6.  56.]]\n",
      "} else {\n",
      "return [[  0.  64.]]\n",
      "}\n",
      "}\n",
      "}\n",
      "} else {\n",
      "return [[ 3.  0.]]\n",
      "}\n",
      "} else {\n",
      "if ( countryCoded <= 0.5 ) {\n",
      "if ( uniRank <= 655.5 ) {\n",
      "if ( uniRank <= 588.0 ) {\n",
      "if ( uniRank <= 397.5 ) {\n",
      "return [[ 309.  788.]]\n",
      "} else {\n",
      "return [[  9.  84.]]\n",
      "}\n",
      "} else {\n",
      "if ( paper <= 4.5 ) {\n",
      "return [[ 21.   2.]]\n",
      "} else {\n",
      "return [[ 0.  6.]]\n",
      "}\n",
      "}\n",
      "} else {\n",
      "if ( fieldGroup <= 1.5 ) {\n",
      "if ( gpaBachelors <= 2.75 ) {\n",
      "return [[  3.  30.]]\n",
      "} else {\n",
      "return [[  9.  10.]]\n",
      "}\n",
      "} else {\n",
      "return [[  0.  56.]]\n",
      "}\n",
      "}\n",
      "} else {\n",
      "if ( uniRank <= 806.5 ) {\n",
      "if ( gpaMasters <= 3.61999988556 ) {\n",
      "return [[  0.  82.]]\n",
      "} else {\n",
      "if ( gpaMasters <= 3.76499986649 ) {\n",
      "return [[ 6.  0.]]\n",
      "} else {\n",
      "return [[  6.  36.]]\n",
      "}\n",
      "}\n",
      "} else {\n",
      "return [[ 3.  0.]]\n",
      "}\n",
      "}\n",
      "}\n",
      "}\n",
      "}\n"
     ]
    }
   ],
   "source": [
    "get_code(clf,col)"
   ]
  },
  {
   "cell_type": "code",
   "execution_count": 368,
   "metadata": {
    "collapsed": false,
    "scrolled": true
   },
   "outputs": [
    {
     "data": {
      "text/plain": [
       "array([[ 24,  19],\n",
       "       [ 16, 119]])"
      ]
     },
     "execution_count": 368,
     "metadata": {},
     "output_type": "execute_result"
    }
   ],
   "source": [
    "confs[ac.index(max(ac))]"
   ]
  },
  {
   "cell_type": "markdown",
   "metadata": {},
   "source": [
    "# {0:3, 1: 2} ACC"
   ]
  },
  {
   "cell_type": "code",
   "execution_count": 369,
   "metadata": {
    "collapsed": false
   },
   "outputs": [],
   "source": [
    "ac=[];clfs=[];confs=[]\n",
    "dfTemp=df[df.degreeCoded==1].reset_index(drop=True)\n",
    "for spl in range(10,11):\n",
    "    skf = StratifiedKFold(n_splits=spl)\n",
    "    for train,test in skf.split(dfTemp[col], dfTemp.fund):\n",
    "        xtr, ytr,xte,yte=dfTemp.ix[train][col],dfTemp.ix[train]['fund'],dfTemp.ix[test][col],dfTemp.ix[test]['fund']\n",
    "        for i in range(3,8):\n",
    "            for k in ['entropy','gini']:\n",
    "                clf,acc,conf=build3(xtr, ytr,xte,yte,rocEnable=False,max_depth=i,criterion=k,class_weight={0:3, 1: 2})\n",
    "                ac.append(acc)\n",
    "                clfs.append(clf)\n",
    "                confs.append(conf)"
   ]
  },
  {
   "cell_type": "code",
   "execution_count": 370,
   "metadata": {
    "collapsed": false,
    "scrolled": false
   },
   "outputs": [
    {
     "data": {
      "text/plain": [
       "[80.337078651685388, 39]"
      ]
     },
     "execution_count": 370,
     "metadata": {},
     "output_type": "execute_result"
    }
   ],
   "source": [
    "[max(ac),ac.index(max(ac))]"
   ]
  },
  {
   "cell_type": "code",
   "execution_count": 371,
   "metadata": {
    "collapsed": false
   },
   "outputs": [
    {
     "data": {
      "image/png": "[encoded data removed]",
      "text/plain": [
       "<IPython.core.display.Image object>"
      ]
     },
     "execution_count": 371,
     "metadata": {},
     "output_type": "execute_result"
    }
   ],
   "source": [
    "draw3(clf)"
   ]
  },
  {
   "cell_type": "code",
   "execution_count": 420,
   "metadata": {
    "collapsed": false
   },
   "outputs": [
    {
     "data": {
      "text/plain": [
       "DecisionTreeClassifier(class_weight={0: 3, 1: 5}, criterion='entropy',\n",
       "            max_depth=5, max_features=None, max_leaf_nodes=None,\n",
       "            min_impurity_split=1e-07, min_samples_leaf=1,\n",
       "            min_samples_split=2, min_weight_fraction_leaf=0.0,\n",
       "            presort=False, random_state=100, splitter='best')"
      ]
     },
     "execution_count": 420,
     "metadata": {},
     "output_type": "execute_result"
    }
   ],
   "source": [
    "clf"
   ]
  },
  {
   "cell_type": "code",
   "execution_count": 372,
   "metadata": {
    "collapsed": false
   },
   "outputs": [
    {
     "name": "stdout",
     "output_type": "stream",
     "text": [
      "if ( gre <= 0.5 ) {\n",
      "if ( paper <= 1.5 ) {\n",
      "if ( uniRank <= 297.0 ) {\n",
      "if ( uniRank <= 273.0 ) {\n",
      "if ( uniRank <= 223.5 ) {\n",
      "if ( gpaBachelors <= 3.75 ) {\n",
      "if ( countryCoded <= 5.0 ) {\n",
      "return [[ 72.  82.]]\n",
      "} else {\n",
      "return [[ 6.  0.]]\n",
      "}\n",
      "} else {\n",
      "return [[ 0.  8.]]\n",
      "}\n",
      "} else {\n",
      "if ( fieldGroup <= 0.5 ) {\n",
      "if ( highLevelBachUni <= 0.5 ) {\n",
      "return [[ 0.  2.]]\n",
      "} else {\n",
      "return [[ 3.  0.]]\n",
      "}\n",
      "} else {\n",
      "return [[  0.  24.]]\n",
      "}\n",
      "}\n",
      "} else {\n",
      "if ( highLevelBachUni <= 0.5 ) {\n",
      "if ( countryCoded <= 6.5 ) {\n",
      "if ( gpaMasters <= 3.47149276733 ) {\n",
      "return [[ 78.   6.]]\n",
      "} else {\n",
      "return [[ 93.  26.]]\n",
      "}\n",
      "} else {\n",
      "return [[ 0.  4.]]\n",
      "}\n",
      "} else {\n",
      "if ( gpaMasters <= 3.59999990463 ) {\n",
      "if ( gpaBachelors <= 2.75 ) {\n",
      "return [[ 33.  24.]]\n",
      "} else {\n",
      "return [[  0.  24.]]\n",
      "}\n",
      "} else {\n",
      "if ( gpaBachelors <= 3.84999990463 ) {\n",
      "return [[ 24.   4.]]\n",
      "} else {\n",
      "return [[ 0.  2.]]\n",
      "}\n",
      "}\n",
      "}\n",
      "}\n",
      "} else {\n",
      "if ( countryCoded <= 5.0 ) {\n",
      "if ( paper <= 0.166666671634 ) {\n",
      "if ( fieldGroup <= 1.5 ) {\n",
      "if ( highLevelMasterUni <= 0.5 ) {\n",
      "return [[ 9.  0.]]\n",
      "} else {\n",
      "return [[ 0.  4.]]\n",
      "}\n",
      "} else {\n",
      "if ( uniRank <= 354.5 ) {\n",
      "return [[ 0.  6.]]\n",
      "} else {\n",
      "return [[  9.  16.]]\n",
      "}\n",
      "}\n",
      "} else {\n",
      "if ( uniRank <= 901.5 ) {\n",
      "if ( gpaBachelors <= 2.25 ) {\n",
      "return [[  6.  14.]]\n",
      "} else {\n",
      "return [[  0.  48.]]\n",
      "}\n",
      "} else {\n",
      "if ( fieldGroup <= 2.5 ) {\n",
      "return [[ 3.  0.]]\n",
      "} else {\n",
      "return [[ 0.  2.]]\n",
      "}\n",
      "}\n",
      "}\n",
      "} else {\n",
      "return [[ 6.  0.]]\n",
      "}\n",
      "}\n",
      "} else {\n",
      "if ( countryCoded <= 5.5 ) {\n",
      "if ( highLevelMasterUni <= 0.5 ) {\n",
      "if ( countryCoded <= 0.5 ) {\n",
      "if ( uniRank <= 473.0 ) {\n",
      "if ( highLevelBachUni <= 0.5 ) {\n",
      "return [[ 105.   78.]]\n",
      "} else {\n",
      "return [[ 15.  34.]]\n",
      "}\n",
      "} else {\n",
      "if ( paper <= 2.16666650772 ) {\n",
      "return [[ 3.  0.]]\n",
      "} else {\n",
      "return [[  0.  22.]]\n",
      "}\n",
      "}\n",
      "} else {\n",
      "if ( paper <= 3.83333349228 ) {\n",
      "if ( gpaBachelors <= 1.75 ) {\n",
      "return [[ 0.  8.]]\n",
      "} else {\n",
      "return [[ 36.  42.]]\n",
      "}\n",
      "} else {\n",
      "if ( countryCoded <= 2.5 ) {\n",
      "return [[  0.  56.]]\n",
      "} else {\n",
      "return [[ 12.  48.]]\n",
      "}\n",
      "}\n",
      "}\n",
      "} else {\n",
      "if ( uniRank <= 20.5 ) {\n",
      "if ( uniRank <= 4.0 ) {\n",
      "return [[ 0.  2.]]\n",
      "} else {\n",
      "if ( gpaBachelors <= 2.25 ) {\n",
      "return [[ 0.  2.]]\n",
      "} else {\n",
      "return [[ 9.  2.]]\n",
      "}\n",
      "}\n",
      "} else {\n",
      "if ( uniRank <= 219.5 ) {\n",
      "if ( uniRank <= 86.5 ) {\n",
      "return [[  9.  22.]]\n",
      "} else {\n",
      "return [[   0.  110.]]\n",
      "}\n",
      "} else {\n",
      "if ( paper <= 2.5 ) {\n",
      "return [[ 30.  42.]]\n",
      "} else {\n",
      "return [[  30.  140.]]\n",
      "}\n",
      "}\n",
      "}\n",
      "}\n",
      "} else {\n",
      "if ( fieldGroup <= 1.5 ) {\n",
      "if ( countryCoded <= 6.5 ) {\n",
      "if ( paper <= 2.16666650772 ) {\n",
      "return [[ 0.  4.]]\n",
      "} else {\n",
      "return [[ 12.   0.]]\n",
      "}\n",
      "} else {\n",
      "return [[ 0.  8.]]\n",
      "}\n",
      "} else {\n",
      "return [[ 24.   0.]]\n",
      "}\n",
      "}\n",
      "}\n",
      "} else {\n",
      "if ( countryCoded <= 0.5 ) {\n",
      "if ( paper <= 3.16666650772 ) {\n",
      "if ( uniRank <= 234.0 ) {\n",
      "if ( uniRank <= 89.5 ) {\n",
      "if ( uniRank <= 43.5 ) {\n",
      "if ( gpaBachelors <= 2.73500013351 ) {\n",
      "return [[ 21.  34.]]\n",
      "} else {\n",
      "return [[  15.  106.]]\n",
      "}\n",
      "} else {\n",
      "if ( gpaBachelors <= 3.65000009537 ) {\n",
      "return [[ 42.  90.]]\n",
      "} else {\n",
      "return [[ 15.   4.]]\n",
      "}\n",
      "}\n",
      "} else {\n",
      "if ( gpaBachelors <= 1.25 ) {\n",
      "return [[ 3.  0.]]\n",
      "} else {\n",
      "if ( gpaMasters <= 2.75 ) {\n",
      "return [[ 6.  6.]]\n",
      "} else {\n",
      "return [[  18.  154.]]\n",
      "}\n",
      "}\n",
      "}\n",
      "} else {\n",
      "if ( highLevelMasterUni <= 0.5 ) {\n",
      "if ( uniRank <= 327.5 ) {\n",
      "if ( gpaBachelors <= 3.25 ) {\n",
      "return [[ 81.  62.]]\n",
      "} else {\n",
      "return [[ 15.  32.]]\n",
      "}\n",
      "} else {\n",
      "if ( paper <= 0.166666671634 ) {\n",
      "return [[ 18.  12.]]\n",
      "} else {\n",
      "return [[  6.  46.]]\n",
      "}\n",
      "}\n",
      "} else {\n",
      "if ( fieldGroup <= 3.5 ) {\n",
      "if ( gpaMasters <= 2.25 ) {\n",
      "return [[ 3.  0.]]\n",
      "} else {\n",
      "return [[  42.  168.]]\n",
      "}\n",
      "} else {\n",
      "if ( uniRank <= 282.0 ) {\n",
      "return [[ 30.  16.]]\n",
      "} else {\n",
      "return [[  60.  120.]]\n",
      "}\n",
      "}\n",
      "}\n",
      "}\n",
      "} else {\n",
      "if ( engCoded <= 1.5 ) {\n",
      "if ( fieldGroup <= 4.5 ) {\n",
      "if ( gpaBachelors <= 3.25 ) {\n",
      "if ( paper <= 4.5 ) {\n",
      "return [[ 30.  58.]]\n",
      "} else {\n",
      "return [[  15.  110.]]\n",
      "}\n",
      "} else {\n",
      "if ( paper <= 4.16666698456 ) {\n",
      "return [[ 0.  8.]]\n",
      "} else {\n",
      "return [[ 18.  14.]]\n",
      "}\n",
      "}\n",
      "} else {\n",
      "if ( uniRank <= 65.5 ) {\n",
      "if ( uniRank <= 52.0 ) {\n",
      "return [[  9.  52.]]\n",
      "} else {\n",
      "return [[ 6.  2.]]\n",
      "}\n",
      "} else {\n",
      "if ( gpaBachelors <= 1.75 ) {\n",
      "return [[  6.  16.]]\n",
      "} else {\n",
      "return [[   3.  144.]]\n",
      "}\n",
      "}\n",
      "}\n",
      "} else {\n",
      "if ( paper <= 6.66666698456 ) {\n",
      "if ( uniRank <= 972.0 ) {\n",
      "if ( engCoded <= 2.5 ) {\n",
      "return [[  9.  64.]]\n",
      "} else {\n",
      "return [[ 3.  0.]]\n",
      "}\n",
      "} else {\n",
      "return [[ 3.  0.]]\n",
      "}\n",
      "} else {\n",
      "if ( uniRank <= 365.5 ) {\n",
      "if ( gpaBachelors <= 1.75 ) {\n",
      "return [[ 9.  0.]]\n",
      "} else {\n",
      "return [[ 21.  22.]]\n",
      "}\n",
      "} else {\n",
      "return [[ 0.  8.]]\n",
      "}\n",
      "}\n",
      "}\n",
      "}\n",
      "} else {\n",
      "if ( uniRank <= 806.5 ) {\n",
      "if ( gpaMasters <= 3.60500001907 ) {\n",
      "if ( paper <= 0.166666671634 ) {\n",
      "if ( highLevelBachUni <= 0.5 ) {\n",
      "if ( highLevelMasterUni <= 0.5 ) {\n",
      "return [[ 3.  0.]]\n",
      "} else {\n",
      "return [[ 0.  4.]]\n",
      "}\n",
      "} else {\n",
      "return [[  0.  14.]]\n",
      "}\n",
      "} else {\n",
      "return [[  0.  96.]]\n",
      "}\n",
      "} else {\n",
      "if ( gpaMasters <= 3.76499986649 ) {\n",
      "return [[ 9.  0.]]\n",
      "} else {\n",
      "if ( uniRank <= 277.0 ) {\n",
      "return [[  0.  28.]]\n",
      "} else {\n",
      "if ( gpaBachelors <= 3.34500002861 ) {\n",
      "return [[  0.  14.]]\n",
      "} else {\n",
      "return [[ 6.  4.]]\n",
      "}\n",
      "}\n",
      "}\n",
      "}\n",
      "} else {\n",
      "return [[ 3.  0.]]\n",
      "}\n",
      "}\n",
      "}\n"
     ]
    }
   ],
   "source": [
    "get_code(clf,col)"
   ]
  },
  {
   "cell_type": "markdown",
   "metadata": {},
   "source": [
    "# PHD + ACC + StratifiedKFold"
   ]
  },
  {
   "cell_type": "code",
   "execution_count": 373,
   "metadata": {
    "collapsed": false
   },
   "outputs": [],
   "source": [
    "ac=[];clfs=[];confs=[]\n",
    "dfTemp=df[df.degreeCoded==1].reset_index(drop=True)\n",
    "for spl in range(10,11):\n",
    "    skf = StratifiedKFold(n_splits=spl)\n",
    "    for train,test in skf.split(dfTemp[col], dfTemp.fund):\n",
    "        xtr, ytr,xte,yte=dfTemp.ix[train][col],dfTemp.ix[train]['fund'],dfTemp.ix[test][col],dfTemp.ix[test]['fund']\n",
    "        for i in range(3,8):\n",
    "            for j in range(1,6):\n",
    "                for j2 in range(1,6):\n",
    "                    for k in ['entropy','gini']:\n",
    "                        clf,acc,conf=build3(xtr, ytr,xte,yte,rocEnable=False,max_depth=i,criterion=k,class_weight={0:j, 1: j2})\n",
    "                        ac.append(acc)\n",
    "                        clfs.append(clf)\n",
    "                        confs.append(conf)"
   ]
  },
  {
   "cell_type": "code",
   "execution_count": 374,
   "metadata": {
    "collapsed": false,
    "scrolled": false
   },
   "outputs": [
    {
     "data": {
      "text/plain": [
       "[80.898876404494374, 965]"
      ]
     },
     "execution_count": 374,
     "metadata": {},
     "output_type": "execute_result"
    }
   ],
   "source": [
    "[max(ac),ac.index(max(ac))]"
   ]
  },
  {
   "cell_type": "code",
   "execution_count": 375,
   "metadata": {
    "collapsed": false,
    "scrolled": true
   },
   "outputs": [
    {
     "data": {
      "text/plain": [
       "DecisionTreeClassifier(class_weight={0: 2, 1: 3}, criterion='gini',\n",
       "            max_depth=7, max_features=None, max_leaf_nodes=None,\n",
       "            min_impurity_split=1e-07, min_samples_leaf=1,\n",
       "            min_samples_split=2, min_weight_fraction_leaf=0.0,\n",
       "            presort=False, random_state=100, splitter='best')"
      ]
     },
     "execution_count": 375,
     "metadata": {},
     "output_type": "execute_result"
    }
   ],
   "source": [
    "clf=clfs[ac.index(max(ac))]\n",
    "clf"
   ]
  },
  {
   "cell_type": "code",
   "execution_count": 376,
   "metadata": {
    "collapsed": false,
    "scrolled": false
   },
   "outputs": [
    {
     "data": {
      "image/png": "[encoded data removed]",
      "text/plain": [
       "<IPython.core.display.Image object>"
      ]
     },
     "execution_count": 376,
     "metadata": {},
     "output_type": "execute_result"
    }
   ],
   "source": [
    "draw3(clf)"
   ]
  },
  {
   "cell_type": "code",
   "execution_count": 377,
   "metadata": {
    "collapsed": false
   },
   "outputs": [
    {
     "name": "stdout",
     "output_type": "stream",
     "text": [
      "if ( gre <= 0.5 ) {\n",
      "if ( paper <= 1.5 ) {\n",
      "if ( gpaBachelors <= 2.55565452576 ) {\n",
      "if ( engCoded <= 0.5 ) {\n",
      "if ( gpaMasters <= 2.75 ) {\n",
      "return [[ 4.  0.]]\n",
      "} else {\n",
      "if ( gpaMasters <= 3.47149276733 ) {\n",
      "return [[  0.  24.]]\n",
      "} else {\n",
      "if ( highLevelBachUni <= 0.5 ) {\n",
      "return [[ 4.  0.]]\n",
      "} else {\n",
      "return [[  4.  30.]]\n",
      "}\n",
      "}\n",
      "}\n",
      "} else {\n",
      "if ( uniRank <= 406.0 ) {\n",
      "if ( uniRank <= 273.0 ) {\n",
      "if ( gpaBachelors <= 2.25 ) {\n",
      "return [[  4.  30.]]\n",
      "} else {\n",
      "return [[ 20.  18.]]\n",
      "}\n",
      "} else {\n",
      "if ( countryCoded <= 6.5 ) {\n",
      "return [[ 110.   48.]]\n",
      "} else {\n",
      "return [[ 0.  6.]]\n",
      "}\n",
      "}\n",
      "} else {\n",
      "if ( fieldGroup <= 5.5 ) {\n",
      "if ( countryCoded <= 1.5 ) {\n",
      "return [[  2.  12.]]\n",
      "} else {\n",
      "return [[ 6.  0.]]\n",
      "}\n",
      "} else {\n",
      "return [[  0.  21.]]\n",
      "}\n",
      "}\n",
      "}\n",
      "} else {\n",
      "if ( countryCoded <= 5.0 ) {\n",
      "if ( uniRank <= 297.0 ) {\n",
      "if ( uniRank <= 284.5 ) {\n",
      "if ( gpaMasters <= 1.75 ) {\n",
      "return [[ 2.  0.]]\n",
      "} else {\n",
      "return [[  20.  114.]]\n",
      "}\n",
      "} else {\n",
      "if ( highLevelBachUni <= 0.5 ) {\n",
      "return [[ 28.  21.]]\n",
      "} else {\n",
      "return [[  8.  36.]]\n",
      "}\n",
      "}\n",
      "} else {\n",
      "if ( uniRank <= 901.5 ) {\n",
      "if ( paper <= 0.166666671634 ) {\n",
      "return [[  4.  12.]]\n",
      "} else {\n",
      "return [[  0.  66.]]\n",
      "}\n",
      "} else {\n",
      "return [[ 2.  0.]]\n",
      "}\n",
      "}\n",
      "} else {\n",
      "return [[ 4.  0.]]\n",
      "}\n",
      "}\n",
      "} else {\n",
      "if ( countryCoded <= 5.5 ) {\n",
      "if ( countryCoded <= 0.5 ) {\n",
      "if ( highLevelMasterUni <= 0.5 ) {\n",
      "if ( uniRank <= 473.0 ) {\n",
      "if ( engCoded <= 0.5 ) {\n",
      "return [[  6.  42.]]\n",
      "} else {\n",
      "return [[  74.  126.]]\n",
      "}\n",
      "} else {\n",
      "if ( fieldGroup <= 12.0 ) {\n",
      "return [[  0.  33.]]\n",
      "} else {\n",
      "return [[ 2.  3.]]\n",
      "}\n",
      "}\n",
      "} else {\n",
      "if ( engCoded <= 2.5 ) {\n",
      "if ( paper <= 2.5 ) {\n",
      "return [[ 14.  45.]]\n",
      "} else {\n",
      "return [[  20.  165.]]\n",
      "}\n",
      "} else {\n",
      "return [[ 2.  0.]]\n",
      "}\n",
      "}\n",
      "} else {\n",
      "if ( countryCoded <= 1.5 ) {\n",
      "if ( gpaMasters <= 2.25 ) {\n",
      "if ( gpaMasters <= 1.5 ) {\n",
      "return [[ 0.  3.]]\n",
      "} else {\n",
      "return [[ 2.  0.]]\n",
      "}\n",
      "} else {\n",
      "if ( uniRank <= 107.0 ) {\n",
      "return [[  0.  96.]]\n",
      "} else {\n",
      "return [[   8.  150.]]\n",
      "}\n",
      "}\n",
      "} else {\n",
      "if ( gpaMasters <= 1.75 ) {\n",
      "return [[ 2.  0.]]\n",
      "} else {\n",
      "if ( countryCoded <= 3.5 ) {\n",
      "return [[ 30.  99.]]\n",
      "} else {\n",
      "return [[  12.  141.]]\n",
      "}\n",
      "}\n",
      "}\n",
      "}\n",
      "} else {\n",
      "if ( fieldGroup <= 1.5 ) {\n",
      "if ( uniRank <= 752.0 ) {\n",
      "if ( uniRank <= 44.0 ) {\n",
      "return [[ 2.  0.]]\n",
      "} else {\n",
      "if ( paper <= 3.83333349228 ) {\n",
      "return [[ 2.  6.]]\n",
      "} else {\n",
      "return [[  0.  21.]]\n",
      "}\n",
      "}\n",
      "} else {\n",
      "return [[ 4.  0.]]\n",
      "}\n",
      "} else {\n",
      "return [[ 14.   0.]]\n",
      "}\n",
      "}\n",
      "}\n",
      "} else {\n",
      "if ( paper <= 0.166666671634 ) {\n",
      "if ( gpaBachelors <= 3.69999980927 ) {\n",
      "if ( uniRank <= 234.0 ) {\n",
      "if ( uniRank <= 83.0 ) {\n",
      "if ( fieldGroup <= 12.0 ) {\n",
      "if ( gpaMasters <= 3.47149276733 ) {\n",
      "return [[  6.  87.]]\n",
      "} else {\n",
      "return [[ 12.  39.]]\n",
      "}\n",
      "} else {\n",
      "return [[ 2.  0.]]\n",
      "}\n",
      "} else {\n",
      "return [[  0.  75.]]\n",
      "}\n",
      "} else {\n",
      "if ( uniRank <= 254.5 ) {\n",
      "return [[ 4.  0.]]\n",
      "} else {\n",
      "if ( highLevelMasterUni <= 0.5 ) {\n",
      "if ( uniRank <= 262.0 ) {\n",
      "return [[ 4.  0.]]\n",
      "} else {\n",
      "return [[ 28.  72.]]\n",
      "}\n",
      "} else {\n",
      "if ( gpaMasters <= 2.25 ) {\n",
      "return [[ 2.  0.]]\n",
      "} else {\n",
      "return [[  24.  138.]]\n",
      "}\n",
      "}\n",
      "}\n",
      "}\n",
      "} else {\n",
      "if ( engCoded <= 0.5 ) {\n",
      "if ( uniRank <= 40.5 ) {\n",
      "return [[  0.  12.]]\n",
      "} else {\n",
      "if ( gpaMasters <= 3.75 ) {\n",
      "return [[ 6.  0.]]\n",
      "} else {\n",
      "return [[ 0.  3.]]\n",
      "}\n",
      "}\n",
      "} else {\n",
      "return [[ 10.   0.]]\n",
      "}\n",
      "}\n",
      "} else {\n",
      "if ( engCoded <= 2.5 ) {\n",
      "if ( uniRank <= 29.5 ) {\n",
      "if ( paper <= 19.3333320618 ) {\n",
      "if ( gpaBachelors <= 1.75 ) {\n",
      "if ( fieldGroup <= 8.0 ) {\n",
      "return [[ 0.  6.]]\n",
      "} else {\n",
      "return [[ 2.  0.]]\n",
      "}\n",
      "} else {\n",
      "if ( uniRank <= 2.5 ) {\n",
      "return [[  2.  12.]]\n",
      "} else {\n",
      "return [[   4.  180.]]\n",
      "}\n",
      "}\n",
      "} else {\n",
      "return [[ 2.  0.]]\n",
      "}\n",
      "} else {\n",
      "if ( uniRank <= 30.5 ) {\n",
      "return [[ 2.  0.]]\n",
      "} else {\n",
      "if ( countryCoded <= 0.5 ) {\n",
      "if ( uniRank <= 655.5 ) {\n",
      "return [[  222.  1320.]]\n",
      "} else {\n",
      "return [[   8.  144.]]\n",
      "}\n",
      "} else {\n",
      "if ( uniRank <= 806.5 ) {\n",
      "return [[   8.  177.]]\n",
      "} else {\n",
      "return [[ 2.  0.]]\n",
      "}\n",
      "}\n",
      "}\n",
      "}\n",
      "} else {\n",
      "return [[ 2.  0.]]\n",
      "}\n",
      "}\n",
      "}\n"
     ]
    }
   ],
   "source": [
    "get_code(clf,col)"
   ]
  },
  {
   "cell_type": "code",
   "execution_count": 378,
   "metadata": {
    "collapsed": false
   },
   "outputs": [
    {
     "data": {
      "text/plain": [
       "array([[ 15,  28],\n",
       "       [  6, 129]])"
      ]
     },
     "execution_count": 378,
     "metadata": {},
     "output_type": "execute_result"
    }
   ],
   "source": [
    "confs[ac.index(max(ac))]"
   ]
  },
  {
   "cell_type": "markdown",
   "metadata": {},
   "source": [
    "# PHD + ACC + StratifiedKFold + BALANCED"
   ]
  },
  {
   "cell_type": "code",
   "execution_count": 379,
   "metadata": {
    "collapsed": false
   },
   "outputs": [],
   "source": [
    "ac=[];clfs=[];confs=[]\n",
    "dfTemp=df[df.degreeCoded==1].reset_index(drop=True)\n",
    "for spl in range(10,11):\n",
    "    skf = StratifiedKFold(n_splits=spl)\n",
    "    for train,test in skf.split(dfTemp[col], dfTemp.fund):\n",
    "        xtr, ytr,xte,yte=dfTemp.ix[train][col],dfTemp.ix[train]['fund'],dfTemp.ix[test][col],dfTemp.ix[test]['fund']\n",
    "        for i in range(3,8):\n",
    "            for k in ['entropy','gini']:\n",
    "                clf,acc,conf=build3(xtr, ytr,xte,yte,rocEnable=False,max_depth=i,criterion=k,class_weight=\"balanced\")\n",
    "                ac.append(acc)\n",
    "                clfs.append(clf)\n",
    "                confs.append(conf)"
   ]
  },
  {
   "cell_type": "code",
   "execution_count": 380,
   "metadata": {
    "collapsed": false,
    "scrolled": false
   },
   "outputs": [
    {
     "data": {
      "text/plain": [
       "[75.842696629213478, 0]"
      ]
     },
     "execution_count": 380,
     "metadata": {},
     "output_type": "execute_result"
    }
   ],
   "source": [
    "[max(ac),ac.index(max(ac))]"
   ]
  },
  {
   "cell_type": "markdown",
   "metadata": {},
   "source": [
    "# PHD + AUC + StratifiedKFold + BALANCED"
   ]
  },
  {
   "cell_type": "code",
   "execution_count": 381,
   "metadata": {
    "collapsed": false
   },
   "outputs": [],
   "source": [
    "ac=[];clfs=[];confs=[]\n",
    "dfTemp=df[df.degreeCoded==1].reset_index(drop=True)\n",
    "for spl in range(10,11):\n",
    "    skf = StratifiedKFold(n_splits=spl)\n",
    "    for train,test in skf.split(dfTemp[col], dfTemp.fund):\n",
    "        xtr, ytr,xte,yte=dfTemp.ix[train][col],dfTemp.ix[train]['fund'],dfTemp.ix[test][col],dfTemp.ix[test]['fund']\n",
    "        for i in range(3,8):\n",
    "            for k in ['entropy','gini']:\n",
    "                clf,acc,conf=build3(xtr, ytr,xte,yte,rocEnable=True,max_depth=i,criterion=k,class_weight=\"balanced\")\n",
    "                ac.append(acc)\n",
    "                clfs.append(clf)\n",
    "                confs.append(conf)"
   ]
  },
  {
   "cell_type": "code",
   "execution_count": 382,
   "metadata": {
    "collapsed": false,
    "scrolled": true
   },
   "outputs": [
    {
     "data": {
      "text/plain": [
       "[68.062015503875969, 37]"
      ]
     },
     "execution_count": 382,
     "metadata": {},
     "output_type": "execute_result"
    }
   ],
   "source": [
    "[max(ac),ac.index(max(ac))]"
   ]
  },
  {
   "cell_type": "markdown",
   "metadata": {},
   "source": [
    "# PHD + ACC + StratifiedKFold + NoWeight"
   ]
  },
  {
   "cell_type": "code",
   "execution_count": 383,
   "metadata": {
    "collapsed": false
   },
   "outputs": [],
   "source": [
    "ac=[];clfs=[];confs=[]\n",
    "dfTemp=df[df.degreeCoded==1].reset_index(drop=True)\n",
    "for spl in range(10,11):\n",
    "    skf = StratifiedKFold(n_splits=spl)\n",
    "    for train,test in skf.split(dfTemp[col], dfTemp.fund):\n",
    "        xtr, ytr,xte,yte=dfTemp.ix[train][col],dfTemp.ix[train]['fund'],dfTemp.ix[test][col],dfTemp.ix[test]['fund']\n",
    "        for i in range(3,8):\n",
    "            for k in ['entropy','gini']:\n",
    "                clf,acc,conf=build3(xtr, ytr,xte,yte,rocEnable=False,max_depth=i,criterion=k,class_weight=None)\n",
    "                ac.append(acc)\n",
    "                clfs.append(clf)\n",
    "                confs.append(conf)"
   ]
  },
  {
   "cell_type": "code",
   "execution_count": 384,
   "metadata": {
    "collapsed": false,
    "scrolled": false
   },
   "outputs": [
    {
     "data": {
      "text/plain": [
       "[79.775280898876403, 46]"
      ]
     },
     "execution_count": 384,
     "metadata": {},
     "output_type": "execute_result"
    }
   ],
   "source": [
    "[max(ac),ac.index(max(ac))]"
   ]
  },
  {
   "cell_type": "markdown",
   "metadata": {},
   "source": [
    "# PHD + AUC + StratifiedKFold + NoWeight"
   ]
  },
  {
   "cell_type": "code",
   "execution_count": 385,
   "metadata": {
    "collapsed": false
   },
   "outputs": [],
   "source": [
    "ac=[];clfs=[];confs=[]\n",
    "dfTemp=df[df.degreeCoded==1].reset_index(drop=True)\n",
    "for spl in range(10,11):\n",
    "    skf = StratifiedKFold(n_splits=spl)\n",
    "    for train,test in skf.split(dfTemp[col], dfTemp.fund):\n",
    "        xtr, ytr,xte,yte=dfTemp.ix[train][col],dfTemp.ix[train]['fund'],dfTemp.ix[test][col],dfTemp.ix[test]['fund']\n",
    "        for i in range(3,8):\n",
    "            for k in ['entropy','gini']:\n",
    "                clf,acc,conf=build3(xtr, ytr,xte,yte,rocEnable=True,max_depth=i,criterion=k,class_weight=None)\n",
    "                ac.append(acc)\n",
    "                clfs.append(clf)\n",
    "                confs.append(conf)"
   ]
  },
  {
   "cell_type": "code",
   "execution_count": 386,
   "metadata": {
    "collapsed": false,
    "scrolled": true
   },
   "outputs": [
    {
     "data": {
      "text/plain": [
       "[67.278208440999137, 38]"
      ]
     },
     "execution_count": 386,
     "metadata": {},
     "output_type": "execute_result"
    }
   ],
   "source": [
    "[max(ac),ac.index(max(ac))]"
   ]
  },
  {
   "cell_type": "markdown",
   "metadata": {},
   "source": [
    "# For Masters Students"
   ]
  },
  {
   "cell_type": "markdown",
   "metadata": {},
   "source": [
    "# Masters + AUC + train_test_split"
   ]
  },
  {
   "cell_type": "code",
   "execution_count": 454,
   "metadata": {
    "collapsed": false
   },
   "outputs": [],
   "source": [
    "col=['countryCoded', 'engCoded', 'fieldGroup', 'gpaBachelors', 'gre', 'highLevelBachUni','paper','uniRank']\n",
    "xtr,xte,ytr,yte=train_test_split(df[df.degreeCoded==0][col],df[df.degreeCoded==0].fund,test_size=0.2,random_state=99)"
   ]
  },
  {
   "cell_type": "code",
   "execution_count": 455,
   "metadata": {
    "collapsed": true
   },
   "outputs": [],
   "source": [
    "ac=[];clfs=[]\n",
    "for i in range(3,10):\n",
    "    for j in range(1,10):\n",
    "        for j2 in range(1,10):\n",
    "            for k in ['entropy','gini']:\n",
    "                clf,acc,conf=build3(xtr, ytr,xte,yte,rocEnable=True,max_depth=i,criterion=k,class_weight={0:j, 1: j2})\n",
    "                ac.append(acc)\n",
    "                clfs.append(clf)"
   ]
  },
  {
   "cell_type": "code",
   "execution_count": 456,
   "metadata": {
    "collapsed": false,
    "scrolled": false
   },
   "outputs": [
    {
     "data": {
      "text/plain": [
       "[75.707651481645286, 650]"
      ]
     },
     "execution_count": 456,
     "metadata": {},
     "output_type": "execute_result"
    }
   ],
   "source": [
    "[max(ac),ac.index(max(ac))]"
   ]
  },
  {
   "cell_type": "code",
   "execution_count": 457,
   "metadata": {
    "collapsed": false,
    "scrolled": true
   },
   "outputs": [
    {
     "data": {
      "text/plain": [
       "DecisionTreeClassifier(class_weight={0: 1, 1: 2}, criterion='entropy',\n",
       "            max_depth=7, max_features=None, max_leaf_nodes=None,\n",
       "            min_impurity_split=1e-07, min_samples_leaf=1,\n",
       "            min_samples_split=2, min_weight_fraction_leaf=0.0,\n",
       "            presort=False, random_state=100, splitter='best')"
      ]
     },
     "execution_count": 457,
     "metadata": {},
     "output_type": "execute_result"
    }
   ],
   "source": [
    "clf=clfs[ac.index(max(ac))]\n",
    "clf"
   ]
  },
  {
   "cell_type": "code",
   "execution_count": 458,
   "metadata": {
    "collapsed": false
   },
   "outputs": [],
   "source": [
    "# draw3(clf)"
   ]
  },
  {
   "cell_type": "code",
   "execution_count": 459,
   "metadata": {
    "collapsed": false,
    "scrolled": false
   },
   "outputs": [],
   "source": [
    "# get_code(clf,col)"
   ]
  },
  {
   "cell_type": "markdown",
   "metadata": {},
   "source": [
    "# MASTER + ACC + train_test_split "
   ]
  },
  {
   "cell_type": "code",
   "execution_count": 460,
   "metadata": {
    "collapsed": false
   },
   "outputs": [],
   "source": [
    "ac=[];clfs=[]\n",
    "for i in range(3,10):\n",
    "    for j in range(1,10):\n",
    "        for j2 in range(1,10):\n",
    "            for k in ['entropy','gini']:\n",
    "                clf,acc,conf=build3(xtr, ytr,xte,yte,rocEnable=False,max_depth=i,criterion=k,class_weight={0:j, 1: j2})\n",
    "                ac.append(acc)\n",
    "                clfs.append(clf)"
   ]
  },
  {
   "cell_type": "code",
   "execution_count": 461,
   "metadata": {
    "collapsed": false,
    "scrolled": false
   },
   "outputs": [
    {
     "data": {
      "text/plain": [
       "[81.76638176638177, 726]"
      ]
     },
     "execution_count": 461,
     "metadata": {},
     "output_type": "execute_result"
    }
   ],
   "source": [
    "[max(ac),ac.index(max(ac))]"
   ]
  },
  {
   "cell_type": "code",
   "execution_count": 462,
   "metadata": {
    "collapsed": false
   },
   "outputs": [
    {
     "data": {
      "text/plain": [
       "DecisionTreeClassifier(class_weight={0: 5, 1: 4}, criterion='entropy',\n",
       "            max_depth=7, max_features=None, max_leaf_nodes=None,\n",
       "            min_impurity_split=1e-07, min_samples_leaf=1,\n",
       "            min_samples_split=2, min_weight_fraction_leaf=0.0,\n",
       "            presort=False, random_state=100, splitter='best')"
      ]
     },
     "execution_count": 462,
     "metadata": {},
     "output_type": "execute_result"
    }
   ],
   "source": [
    "clf=clfs[ac.index(max(ac))]\n",
    "clf"
   ]
  },
  {
   "cell_type": "markdown",
   "metadata": {},
   "source": [
    "# MASTER +AUC +StratifiedKFold"
   ]
  },
  {
   "cell_type": "code",
   "execution_count": 463,
   "metadata": {
    "collapsed": false
   },
   "outputs": [],
   "source": [
    "ac=[];clfs=[];confs=[]\n",
    "dfTemp=df[df.degreeCoded==0].reset_index(drop=True)\n",
    "for spl in range(10,11):\n",
    "    skf = StratifiedKFold(n_splits=spl)\n",
    "    for train,test in skf.split(dfTemp[col], dfTemp.fund):\n",
    "        xtr, ytr,xte,yte=dfTemp.ix[train][col],dfTemp.ix[train]['fund'],dfTemp.ix[test][col],dfTemp.ix[test]['fund']\n",
    "        for i in range(3,8):\n",
    "            for j in range(1,6):\n",
    "                for j2 in range(1,6):\n",
    "                    for k in ['entropy','gini']:\n",
    "                        clf,acc,conf=build3(xtr, ytr,xte,yte,rocEnable=True,max_depth=i,criterion=k,class_weight={0:j, 1: j2})\n",
    "                        ac.append(acc)\n",
    "                        clfs.append(clf)\n",
    "                        confs.append(conf)"
   ]
  },
  {
   "cell_type": "code",
   "execution_count": 464,
   "metadata": {
    "collapsed": false,
    "scrolled": false
   },
   "outputs": [
    {
     "data": {
      "text/plain": [
       "[83.249479528105482, 1958]"
      ]
     },
     "execution_count": 464,
     "metadata": {},
     "output_type": "execute_result"
    }
   ],
   "source": [
    "[max(ac),ac.index(max(ac))]"
   ]
  },
  {
   "cell_type": "code",
   "execution_count": 465,
   "metadata": {
    "collapsed": false,
    "scrolled": false
   },
   "outputs": [
    {
     "data": {
      "text/plain": [
       "DecisionTreeClassifier(class_weight={0: 1, 1: 5}, criterion='entropy',\n",
       "            max_depth=7, max_features=None, max_leaf_nodes=None,\n",
       "            min_impurity_split=1e-07, min_samples_leaf=1,\n",
       "            min_samples_split=2, min_weight_fraction_leaf=0.0,\n",
       "            presort=False, random_state=100, splitter='best')"
      ]
     },
     "execution_count": 465,
     "metadata": {},
     "output_type": "execute_result"
    }
   ],
   "source": [
    "clf=clfs[ac.index(max(ac))]\n",
    "clf"
   ]
  },
  {
   "cell_type": "code",
   "execution_count": 466,
   "metadata": {
    "collapsed": false,
    "scrolled": true
   },
   "outputs": [
    {
     "data": {
      "image/png": "[encoded data removed]",
      "text/plain": [
       "<IPython.core.display.Image object>"
      ]
     },
     "execution_count": 466,
     "metadata": {},
     "output_type": "execute_result"
    }
   ],
   "source": [
    "draw3(clf)"
   ]
  },
  {
   "cell_type": "code",
   "execution_count": 467,
   "metadata": {
    "collapsed": false
   },
   "outputs": [
    {
     "name": "stdout",
     "output_type": "stream",
     "text": [
      "if ( countryCoded <= 0.5 ) {\n",
      "if ( gpaBachelors <= 2.25 ) {\n",
      "if ( paper <= 0.5 ) {\n",
      "if ( highLevelBachUni <= 0.5 ) {\n",
      "if ( engCoded <= 1.5 ) {\n",
      "if ( engCoded <= 0.5 ) {\n",
      "return [[ 11.   0.]]\n",
      "} else {\n",
      "if ( uniRank <= 241.0 ) {\n",
      "return [[  6.  15.]]\n",
      "} else {\n",
      "return [[ 40.  20.]]\n",
      "}\n",
      "}\n",
      "} else {\n",
      "return [[ 48.   0.]]\n",
      "}\n",
      "} else {\n",
      "if ( uniRank <= 789.5 ) {\n",
      "if ( fieldGroup <= 10.5 ) {\n",
      "if ( engCoded <= 0.5 ) {\n",
      "return [[ 10.  30.]]\n",
      "} else {\n",
      "return [[ 38.  30.]]\n",
      "}\n",
      "} else {\n",
      "return [[ 8.  0.]]\n",
      "}\n",
      "} else {\n",
      "return [[  0.  15.]]\n",
      "}\n",
      "}\n",
      "} else {\n",
      "if ( gpaBachelors <= 1.25 ) {\n",
      "return [[ 6.  0.]]\n",
      "} else {\n",
      "if ( uniRank <= 297.0 ) {\n",
      "if ( paper <= 1.16666674614 ) {\n",
      "return [[ 11.   0.]]\n",
      "} else {\n",
      "if ( fieldGroup <= 4.0 ) {\n",
      "return [[  5.  45.]]\n",
      "} else {\n",
      "return [[  8.  10.]]\n",
      "}\n",
      "}\n",
      "} else {\n",
      "if ( uniRank <= 806.5 ) {\n",
      "if ( paper <= 1.5 ) {\n",
      "return [[  0.  40.]]\n",
      "} else {\n",
      "return [[  2.  25.]]\n",
      "}\n",
      "} else {\n",
      "return [[ 2.  0.]]\n",
      "}\n",
      "}\n",
      "}\n",
      "}\n",
      "} else {\n",
      "if ( highLevelBachUni <= 0.5 ) {\n",
      "if ( paper <= 0.166666671634 ) {\n",
      "if ( uniRank <= 762.0 ) {\n",
      "if ( uniRank <= 248.0 ) {\n",
      "if ( uniRank <= 10.0 ) {\n",
      "return [[ 5.  0.]]\n",
      "} else {\n",
      "return [[ 22.  85.]]\n",
      "}\n",
      "} else {\n",
      "if ( gpaBachelors <= 3.45000004768 ) {\n",
      "return [[ 87.  55.]]\n",
      "} else {\n",
      "return [[ 21.  55.]]\n",
      "}\n",
      "}\n",
      "} else {\n",
      "return [[  0.  35.]]\n",
      "}\n",
      "} else {\n",
      "if ( uniRank <= 467.5 ) {\n",
      "if ( paper <= 2.16666650772 ) {\n",
      "if ( gpaBachelors <= 3.25 ) {\n",
      "return [[ 29.  35.]]\n",
      "} else {\n",
      "return [[  8.  60.]]\n",
      "}\n",
      "} else {\n",
      "if ( engCoded <= 0.5 ) {\n",
      "return [[  1.  35.]]\n",
      "} else {\n",
      "return [[ 12.  60.]]\n",
      "}\n",
      "}\n",
      "} else {\n",
      "if ( uniRank <= 665.0 ) {\n",
      "return [[  0.  55.]]\n",
      "} else {\n",
      "if ( uniRank <= 748.5 ) {\n",
      "return [[ 2.  0.]]\n",
      "} else {\n",
      "return [[  1.  10.]]\n",
      "}\n",
      "}\n",
      "}\n",
      "}\n",
      "} else {\n",
      "if ( gpaBachelors <= 3.25 ) {\n",
      "if ( uniRank <= 552.0 ) {\n",
      "if ( uniRank <= 510.0 ) {\n",
      "if ( uniRank <= 489.5 ) {\n",
      "return [[  78.  425.]]\n",
      "} else {\n",
      "return [[  0.  20.]]\n",
      "}\n",
      "} else {\n",
      "return [[ 3.  0.]]\n",
      "}\n",
      "} else {\n",
      "if ( fieldGroup <= 10.5 ) {\n",
      "if ( uniRank <= 869.5 ) {\n",
      "return [[  0.  75.]]\n",
      "} else {\n",
      "return [[ 1.  0.]]\n",
      "}\n",
      "} else {\n",
      "if ( uniRank <= 575.5 ) {\n",
      "return [[ 0.  5.]]\n",
      "} else {\n",
      "return [[ 3.  5.]]\n",
      "}\n",
      "}\n",
      "}\n",
      "} else {\n",
      "if ( uniRank <= 30.0 ) {\n",
      "if ( engCoded <= 0.5 ) {\n",
      "return [[  0.  50.]]\n",
      "} else {\n",
      "if ( gre <= 0.5 ) {\n",
      "return [[  0.  20.]]\n",
      "} else {\n",
      "return [[  1.  10.]]\n",
      "}\n",
      "}\n",
      "} else {\n",
      "if ( uniRank <= 35.0 ) {\n",
      "return [[ 1.  0.]]\n",
      "} else {\n",
      "if ( uniRank <= 806.5 ) {\n",
      "return [[  19.  245.]]\n",
      "} else {\n",
      "return [[ 1.  0.]]\n",
      "}\n",
      "}\n",
      "}\n",
      "}\n",
      "}\n",
      "}\n",
      "} else {\n",
      "if ( gpaBachelors <= 2.80565452576 ) {\n",
      "if ( paper <= 2.16666650772 ) {\n",
      "if ( fieldGroup <= 1.5 ) {\n",
      "if ( fieldGroup <= 0.5 ) {\n",
      "if ( countryCoded <= 2.5 ) {\n",
      "if ( engCoded <= 1.5 ) {\n",
      "return [[ 50.   0.]]\n",
      "} else {\n",
      "return [[ 57.  10.]]\n",
      "}\n",
      "} else {\n",
      "if ( uniRank <= 199.0 ) {\n",
      "return [[ 23.  15.]]\n",
      "} else {\n",
      "return [[ 103.   20.]]\n",
      "}\n",
      "}\n",
      "} else {\n",
      "return [[ 31.   0.]]\n",
      "}\n",
      "} else {\n",
      "if ( fieldGroup <= 2.5 ) {\n",
      "if ( paper <= 0.166666671634 ) {\n",
      "if ( uniRank <= 527.0 ) {\n",
      "return [[ 10.   0.]]\n",
      "} else {\n",
      "return [[ 0.  5.]]\n",
      "}\n",
      "} else {\n",
      "if ( paper <= 0.666666686535 ) {\n",
      "return [[ 1.  5.]]\n",
      "} else {\n",
      "return [[  0.  15.]]\n",
      "}\n",
      "}\n",
      "} else {\n",
      "if ( uniRank <= 118.5 ) {\n",
      "return [[ 21.   0.]]\n",
      "} else {\n",
      "if ( fieldGroup <= 12.0 ) {\n",
      "return [[ 155.   60.]]\n",
      "} else {\n",
      "return [[  8.  15.]]\n",
      "}\n",
      "}\n",
      "}\n",
      "}\n",
      "} else {\n",
      "if ( highLevelBachUni <= 0.5 ) {\n",
      "if ( uniRank <= 445.0 ) {\n",
      "return [[ 17.   0.]]\n",
      "} else {\n",
      "if ( paper <= 3.33333349228 ) {\n",
      "return [[ 1.  0.]]\n",
      "} else {\n",
      "if ( fieldGroup <= 5.5 ) {\n",
      "return [[  0.  10.]]\n",
      "} else {\n",
      "return [[ 1.  0.]]\n",
      "}\n",
      "}\n",
      "}\n",
      "} else {\n",
      "if ( gpaBachelors <= 1.75 ) {\n",
      "return [[ 2.  0.]]\n",
      "} else {\n",
      "if ( paper <= 3.5 ) {\n",
      "if ( countryCoded <= 3.5 ) {\n",
      "return [[ 4.  0.]]\n",
      "} else {\n",
      "return [[  1.  15.]]\n",
      "}\n",
      "} else {\n",
      "return [[  0.  20.]]\n",
      "}\n",
      "}\n",
      "}\n",
      "}\n",
      "} else {\n",
      "if ( paper <= 0.166666671634 ) {\n",
      "if ( uniRank <= 418.0 ) {\n",
      "if ( uniRank <= 400.0 ) {\n",
      "if ( uniRank <= 233.0 ) {\n",
      "if ( gre <= 0.5 ) {\n",
      "return [[ 25.  30.]]\n",
      "} else {\n",
      "return [[  1.  15.]]\n",
      "}\n",
      "} else {\n",
      "if ( fieldGroup <= 0.5 ) {\n",
      "return [[ 53.  10.]]\n",
      "} else {\n",
      "return [[ 43.  40.]]\n",
      "}\n",
      "}\n",
      "} else {\n",
      "return [[  0.  10.]]\n",
      "}\n",
      "} else {\n",
      "return [[ 26.   0.]]\n",
      "}\n",
      "} else {\n",
      "if ( gre <= 0.5 ) {\n",
      "if ( paper <= 1.5 ) {\n",
      "if ( highLevelBachUni <= 0.5 ) {\n",
      "if ( paper <= 0.83333337307 ) {\n",
      "return [[ 12.   0.]]\n",
      "} else {\n",
      "return [[  8.  25.]]\n",
      "}\n",
      "} else {\n",
      "if ( uniRank <= 586.0 ) {\n",
      "return [[  2.  30.]]\n",
      "} else {\n",
      "return [[ 3.  0.]]\n",
      "}\n",
      "}\n",
      "} else {\n",
      "if ( countryCoded <= 2.5 ) {\n",
      "if ( highLevelBachUni <= 0.5 ) {\n",
      "return [[  4.  15.]]\n",
      "} else {\n",
      "return [[ 5.  0.]]\n",
      "}\n",
      "} else {\n",
      "return [[ 16.   0.]]\n",
      "}\n",
      "}\n",
      "} else {\n",
      "if ( fieldGroup <= 0.5 ) {\n",
      "return [[ 2.  0.]]\n",
      "} else {\n",
      "if ( uniRank <= 187.0 ) {\n",
      "return [[ 1.  0.]]\n",
      "} else {\n",
      "if ( fieldGroup <= 12.0 ) {\n",
      "return [[  3.  55.]]\n",
      "} else {\n",
      "return [[ 1.  0.]]\n",
      "}\n",
      "}\n",
      "}\n",
      "}\n",
      "}\n",
      "}\n",
      "}\n"
     ]
    }
   ],
   "source": [
    "get_code(clf,col)"
   ]
  },
  {
   "cell_type": "code",
   "execution_count": 468,
   "metadata": {
    "collapsed": false
   },
   "outputs": [
    {
     "data": {
      "text/plain": [
       "array([[102,  29],\n",
       "       [  5,  39]])"
      ]
     },
     "execution_count": 468,
     "metadata": {},
     "output_type": "execute_result"
    }
   ],
   "source": [
    "confs[ac.index(max(ac))]"
   ]
  },
  {
   "cell_type": "markdown",
   "metadata": {},
   "source": [
    "# {0: 1, 1: 5} ACC"
   ]
  },
  {
   "cell_type": "code",
   "execution_count": 469,
   "metadata": {
    "collapsed": false
   },
   "outputs": [],
   "source": [
    "ac=[];clfs=[];confs=[]\n",
    "dfTemp=df[df.degreeCoded==0].reset_index(drop=True)\n",
    "for spl in range(10,11):\n",
    "    skf = StratifiedKFold(n_splits=spl)\n",
    "    for train,test in skf.split(dfTemp[col], dfTemp.fund):\n",
    "        xtr, ytr,xte,yte=dfTemp.ix[train][col],dfTemp.ix[train]['fund'],dfTemp.ix[test][col],dfTemp.ix[test]['fund']\n",
    "        for i in range(3,8):\n",
    "            for k in ['entropy','gini']:\n",
    "                clf,acc,conf=build3(xtr, ytr,xte,yte,rocEnable=False,max_depth=i,criterion=k,class_weight={0:1, 1: 5})\n",
    "                ac.append(acc)\n",
    "                clfs.append(clf)\n",
    "                confs.append(conf)"
   ]
  },
  {
   "cell_type": "code",
   "execution_count": 470,
   "metadata": {
    "collapsed": false,
    "scrolled": false
   },
   "outputs": [
    {
     "data": {
      "text/plain": [
       "[81.818181818181827, 16]"
      ]
     },
     "execution_count": 470,
     "metadata": {},
     "output_type": "execute_result"
    }
   ],
   "source": [
    "[max(ac),ac.index(max(ac))]"
   ]
  },
  {
   "cell_type": "code",
   "execution_count": 471,
   "metadata": {
    "collapsed": false
   },
   "outputs": [
    {
     "data": {
      "text/plain": [
       "DecisionTreeClassifier(class_weight={0: 1, 1: 5}, criterion='gini',\n",
       "            max_depth=7, max_features=None, max_leaf_nodes=None,\n",
       "            min_impurity_split=1e-07, min_samples_leaf=1,\n",
       "            min_samples_split=2, min_weight_fraction_leaf=0.0,\n",
       "            presort=False, random_state=100, splitter='best')"
      ]
     },
     "execution_count": 471,
     "metadata": {},
     "output_type": "execute_result"
    }
   ],
   "source": [
    "clf"
   ]
  },
  {
   "cell_type": "code",
   "execution_count": 472,
   "metadata": {
    "collapsed": false
   },
   "outputs": [
    {
     "data": {
      "image/png": "[encoded data removed]",
      "text/plain": [
       "<IPython.core.display.Image object>"
      ]
     },
     "execution_count": 472,
     "metadata": {},
     "output_type": "execute_result"
    }
   ],
   "source": [
    "draw3(clf)"
   ]
  },
  {
   "cell_type": "code",
   "execution_count": 473,
   "metadata": {
    "collapsed": false
   },
   "outputs": [
    {
     "name": "stdout",
     "output_type": "stream",
     "text": [
      "if ( countryCoded <= 0.5 ) {\n",
      "if ( gpaBachelors <= 2.25 ) {\n",
      "if ( paper <= 0.83333337307 ) {\n",
      "if ( highLevelBachUni <= 0.5 ) {\n",
      "if ( engCoded <= 1.5 ) {\n",
      "if ( uniRank <= 241.0 ) {\n",
      "if ( gre <= 0.5 ) {\n",
      "return [[ 8.  5.]]\n",
      "} else {\n",
      "return [[  0.  15.]]\n",
      "}\n",
      "} else {\n",
      "if ( paper <= 0.166666671634 ) {\n",
      "return [[ 44.  10.]]\n",
      "} else {\n",
      "return [[ 11.  10.]]\n",
      "}\n",
      "}\n",
      "} else {\n",
      "return [[ 45.   0.]]\n",
      "}\n",
      "} else {\n",
      "if ( fieldGroup <= 6.0 ) {\n",
      "if ( gre <= 0.5 ) {\n",
      "if ( uniRank <= 309.0 ) {\n",
      "return [[ 15.   0.]]\n",
      "} else {\n",
      "return [[  2.  10.]]\n",
      "}\n",
      "} else {\n",
      "if ( engCoded <= 0.5 ) {\n",
      "return [[  3.  30.]]\n",
      "} else {\n",
      "return [[ 11.  20.]]\n",
      "}\n",
      "}\n",
      "} else {\n",
      "if ( uniRank <= 721.5 ) {\n",
      "return [[ 24.   0.]]\n",
      "} else {\n",
      "if ( gre <= 0.5 ) {\n",
      "return [[  0.  10.]]\n",
      "} else {\n",
      "return [[ 2.  0.]]\n",
      "}\n",
      "}\n",
      "}\n",
      "}\n",
      "} else {\n",
      "if ( gpaBachelors <= 1.25 ) {\n",
      "return [[ 4.  0.]]\n",
      "} else {\n",
      "if ( uniRank <= 297.0 ) {\n",
      "if ( paper <= 1.16666674614 ) {\n",
      "return [[ 11.   0.]]\n",
      "} else {\n",
      "if ( fieldGroup <= 4.0 ) {\n",
      "return [[  4.  50.]]\n",
      "} else {\n",
      "return [[  9.  10.]]\n",
      "}\n",
      "}\n",
      "} else {\n",
      "if ( uniRank <= 806.5 ) {\n",
      "if ( fieldGroup <= 0.5 ) {\n",
      "return [[  2.  10.]]\n",
      "} else {\n",
      "return [[  1.  50.]]\n",
      "}\n",
      "} else {\n",
      "return [[ 2.  0.]]\n",
      "}\n",
      "}\n",
      "}\n",
      "}\n",
      "} else {\n",
      "if ( highLevelBachUni <= 0.5 ) {\n",
      "if ( paper <= 0.5 ) {\n",
      "if ( uniRank <= 689.5 ) {\n",
      "if ( engCoded <= 1.5 ) {\n",
      "if ( gpaBachelors <= 3.45000004768 ) {\n",
      "return [[ 65.  85.]]\n",
      "} else {\n",
      "return [[ 19.  85.]]\n",
      "}\n",
      "} else {\n",
      "if ( fieldGroup <= 5.5 ) {\n",
      "return [[ 30.  30.]]\n",
      "} else {\n",
      "return [[ 24.   0.]]\n",
      "}\n",
      "}\n",
      "} else {\n",
      "if ( gre <= 0.5 ) {\n",
      "if ( fieldGroup <= 6.0 ) {\n",
      "return [[  2.  25.]]\n",
      "} else {\n",
      "return [[ 1.  0.]]\n",
      "}\n",
      "} else {\n",
      "return [[  0.  30.]]\n",
      "}\n",
      "}\n",
      "} else {\n",
      "if ( uniRank <= 442.0 ) {\n",
      "if ( uniRank <= 392.5 ) {\n",
      "if ( uniRank <= 35.0 ) {\n",
      "return [[  6.  10.]]\n",
      "} else {\n",
      "return [[  28.  175.]]\n",
      "}\n",
      "} else {\n",
      "return [[ 4.  0.]]\n",
      "}\n",
      "} else {\n",
      "if ( uniRank <= 665.0 ) {\n",
      "return [[  0.  55.]]\n",
      "} else {\n",
      "if ( uniRank <= 748.5 ) {\n",
      "return [[ 2.  0.]]\n",
      "} else {\n",
      "return [[  1.  20.]]\n",
      "}\n",
      "}\n",
      "}\n",
      "}\n",
      "} else {\n",
      "if ( gpaBachelors <= 3.25 ) {\n",
      "if ( gre <= 0.5 ) {\n",
      "if ( paper <= 0.166666671634 ) {\n",
      "if ( uniRank <= 31.0 ) {\n",
      "return [[ 3.  0.]]\n",
      "} else {\n",
      "return [[  28.  100.]]\n",
      "}\n",
      "} else {\n",
      "if ( fieldGroup <= 9.5 ) {\n",
      "return [[ 10.  90.]]\n",
      "} else {\n",
      "return [[ 3.  0.]]\n",
      "}\n",
      "}\n",
      "} else {\n",
      "if ( uniRank <= 883.5 ) {\n",
      "if ( fieldGroup <= 7.5 ) {\n",
      "return [[  22.  260.]]\n",
      "} else {\n",
      "return [[ 18.  85.]]\n",
      "}\n",
      "} else {\n",
      "return [[ 1.  0.]]\n",
      "}\n",
      "}\n",
      "} else {\n",
      "if ( uniRank <= 806.5 ) {\n",
      "if ( gre <= 0.5 ) {\n",
      "if ( paper <= 2.83333349228 ) {\n",
      "return [[  15.  120.]]\n",
      "} else {\n",
      "return [[  0.  25.]]\n",
      "}\n",
      "} else {\n",
      "if ( fieldGroup <= 9.5 ) {\n",
      "return [[   7.  135.]]\n",
      "} else {\n",
      "return [[  0.  35.]]\n",
      "}\n",
      "}\n",
      "} else {\n",
      "return [[ 1.  0.]]\n",
      "}\n",
      "}\n",
      "}\n",
      "}\n",
      "} else {\n",
      "if ( gpaBachelors <= 2.80565452576 ) {\n",
      "if ( paper <= 2.16666650772 ) {\n",
      "if ( fieldGroup <= 12.0 ) {\n",
      "if ( fieldGroup <= 1.5 ) {\n",
      "if ( paper <= 1.5 ) {\n",
      "if ( highLevelBachUni <= 0.5 ) {\n",
      "return [[ 189.   35.]]\n",
      "} else {\n",
      "return [[ 82.   0.]]\n",
      "}\n",
      "} else {\n",
      "if ( gpaBachelors <= 1.75 ) {\n",
      "return [[ 0.  5.]]\n",
      "} else {\n",
      "return [[ 5.  0.]]\n",
      "}\n",
      "}\n",
      "} else {\n",
      "if ( fieldGroup <= 2.5 ) {\n",
      "if ( paper <= 0.166666671634 ) {\n",
      "return [[ 11.   5.]]\n",
      "} else {\n",
      "return [[  1.  20.]]\n",
      "}\n",
      "} else {\n",
      "if ( fieldGroup <= 10.5 ) {\n",
      "return [[ 127.   50.]]\n",
      "} else {\n",
      "return [[ 42.   0.]]\n",
      "}\n",
      "}\n",
      "}\n",
      "} else {\n",
      "if ( uniRank <= 256.0 ) {\n",
      "if ( countryCoded <= 3.5 ) {\n",
      "return [[  0.  15.]]\n",
      "} else {\n",
      "if ( gpaBachelors <= 2.0 ) {\n",
      "return [[ 1.  0.]]\n",
      "} else {\n",
      "return [[ 0.  5.]]\n",
      "}\n",
      "}\n",
      "} else {\n",
      "return [[ 5.  0.]]\n",
      "}\n",
      "}\n",
      "} else {\n",
      "if ( highLevelBachUni <= 0.5 ) {\n",
      "if ( countryCoded <= 1.5 ) {\n",
      "if ( fieldGroup <= 4.0 ) {\n",
      "return [[  0.  10.]]\n",
      "} else {\n",
      "return [[ 1.  0.]]\n",
      "}\n",
      "} else {\n",
      "return [[ 15.   0.]]\n",
      "}\n",
      "} else {\n",
      "if ( countryCoded <= 2.5 ) {\n",
      "return [[ 2.  0.]]\n",
      "} else {\n",
      "if ( gpaBachelors <= 1.75 ) {\n",
      "return [[ 1.  0.]]\n",
      "} else {\n",
      "if ( fieldGroup <= 9.0 ) {\n",
      "return [[  0.  20.]]\n",
      "} else {\n",
      "return [[  3.  10.]]\n",
      "}\n",
      "}\n",
      "}\n",
      "}\n",
      "}\n",
      "} else {\n",
      "if ( uniRank <= 234.5 ) {\n",
      "if ( uniRank <= 29.5 ) {\n",
      "if ( countryCoded <= 2.5 ) {\n",
      "if ( fieldGroup <= 2.5 ) {\n",
      "if ( uniRank <= 15.5 ) {\n",
      "return [[ 2.  0.]]\n",
      "} else {\n",
      "return [[ 0.  5.]]\n",
      "}\n",
      "} else {\n",
      "return [[ 3.  0.]]\n",
      "}\n",
      "} else {\n",
      "return [[ 6.  0.]]\n",
      "}\n",
      "} else {\n",
      "if ( fieldGroup <= 3.5 ) {\n",
      "if ( engCoded <= 1.5 ) {\n",
      "if ( fieldGroup <= 0.5 ) {\n",
      "return [[  8.  30.]]\n",
      "} else {\n",
      "return [[ 3.  0.]]\n",
      "}\n",
      "} else {\n",
      "return [[ 5.  0.]]\n",
      "}\n",
      "} else {\n",
      "if ( fieldGroup <= 12.5 ) {\n",
      "if ( engCoded <= 1.5 ) {\n",
      "return [[  0.  50.]]\n",
      "} else {\n",
      "return [[  2.  15.]]\n",
      "}\n",
      "} else {\n",
      "return [[ 2.  0.]]\n",
      "}\n",
      "}\n",
      "}\n",
      "} else {\n",
      "if ( fieldGroup <= 0.5 ) {\n",
      "if ( paper <= 0.166666671634 ) {\n",
      "if ( countryCoded <= 5.0 ) {\n",
      "return [[ 63.   0.]]\n",
      "} else {\n",
      "if ( countryCoded <= 6.5 ) {\n",
      "return [[ 4.  5.]]\n",
      "} else {\n",
      "return [[ 2.  0.]]\n",
      "}\n",
      "}\n",
      "} else {\n",
      "if ( countryCoded <= 2.5 ) {\n",
      "if ( gpaBachelors <= 3.79999995232 ) {\n",
      "return [[ 4.  5.]]\n",
      "} else {\n",
      "return [[ 0.  5.]]\n",
      "}\n",
      "} else {\n",
      "if ( paper <= 0.83333337307 ) {\n",
      "return [[ 7.  0.]]\n",
      "} else {\n",
      "return [[ 9.  5.]]\n",
      "}\n",
      "}\n",
      "}\n",
      "} else {\n",
      "if ( fieldGroup <= 8.5 ) {\n",
      "if ( highLevelBachUni <= 0.5 ) {\n",
      "if ( gre <= 0.5 ) {\n",
      "return [[ 40.  25.]]\n",
      "} else {\n",
      "return [[  1.  10.]]\n",
      "}\n",
      "} else {\n",
      "if ( uniRank <= 581.0 ) {\n",
      "return [[  8.  50.]]\n",
      "} else {\n",
      "return [[ 5.  5.]]\n",
      "}\n",
      "}\n",
      "} else {\n",
      "if ( paper <= 4.5 ) {\n",
      "if ( engCoded <= 1.5 ) {\n",
      "return [[ 20.   0.]]\n",
      "} else {\n",
      "return [[ 12.   5.]]\n",
      "}\n",
      "} else {\n",
      "if ( paper <= 6.5 ) {\n",
      "return [[ 0.  5.]]\n",
      "} else {\n",
      "return [[ 1.  0.]]\n",
      "}\n",
      "}\n",
      "}\n",
      "}\n",
      "}\n",
      "}\n",
      "}\n"
     ]
    }
   ],
   "source": [
    "get_code(clf,col)"
   ]
  },
  {
   "cell_type": "markdown",
   "metadata": {},
   "source": [
    "# MASTER +AUC +StratifiedKFold + BALANCED"
   ]
  },
  {
   "cell_type": "code",
   "execution_count": 474,
   "metadata": {
    "collapsed": false
   },
   "outputs": [],
   "source": [
    "ac=[];clfs=[];confs=[]\n",
    "dfTemp=df[df.degreeCoded==0].reset_index(drop=True)\n",
    "for spl in range(10,11):\n",
    "    skf = StratifiedKFold(n_splits=spl)\n",
    "    for train,test in skf.split(dfTemp[col], dfTemp.fund):\n",
    "        xtr, ytr,xte,yte=dfTemp.ix[train][col],dfTemp.ix[train]['fund'],dfTemp.ix[test][col],dfTemp.ix[test]['fund']\n",
    "        for i in range(3,8):\n",
    "            for k in ['entropy','gini']:\n",
    "                clf,acc,conf=build3(xtr, ytr,xte,yte,rocEnable=True,max_depth=i,criterion=k,class_weight=\"balanced\")\n",
    "                ac.append(acc)\n",
    "                clfs.append(clf)\n",
    "                confs.append(conf)"
   ]
  },
  {
   "cell_type": "code",
   "execution_count": 475,
   "metadata": {
    "collapsed": false,
    "scrolled": true
   },
   "outputs": [
    {
     "data": {
      "text/plain": [
       "[81.919191919191917, 3]"
      ]
     },
     "execution_count": 475,
     "metadata": {},
     "output_type": "execute_result"
    }
   ],
   "source": [
    "[max(ac),ac.index(max(ac))]"
   ]
  },
  {
   "cell_type": "markdown",
   "metadata": {},
   "source": [
    "# MASTER +ACC +StratifiedKFold + BALANCED"
   ]
  },
  {
   "cell_type": "code",
   "execution_count": 476,
   "metadata": {
    "collapsed": false
   },
   "outputs": [],
   "source": [
    "ac=[];clfs=[];confs=[]\n",
    "dfTemp=df[df.degreeCoded==0].reset_index(drop=True)\n",
    "for spl in range(10,11):\n",
    "    skf = StratifiedKFold(n_splits=spl)\n",
    "    for train,test in skf.split(dfTemp[col], dfTemp.fund):\n",
    "        xtr, ytr,xte,yte=dfTemp.ix[train][col],dfTemp.ix[train]['fund'],dfTemp.ix[test][col],dfTemp.ix[test]['fund']\n",
    "        for i in range(3,8):\n",
    "            for k in ['entropy','gini']:\n",
    "                clf,acc,conf=build3(xtr, ytr,xte,yte,rocEnable=False,max_depth=i,criterion=k,class_weight=\"balanced\")\n",
    "                ac.append(acc)\n",
    "                clfs.append(clf)\n",
    "                confs.append(conf)"
   ]
  },
  {
   "cell_type": "code",
   "execution_count": 477,
   "metadata": {
    "collapsed": false,
    "scrolled": true
   },
   "outputs": [
    {
     "data": {
      "text/plain": [
       "[82.954545454545453, 14]"
      ]
     },
     "execution_count": 477,
     "metadata": {},
     "output_type": "execute_result"
    }
   ],
   "source": [
    "[max(ac),ac.index(max(ac))]"
   ]
  },
  {
   "cell_type": "markdown",
   "metadata": {},
   "source": [
    "# MASTER +ACC +StratifiedKFold"
   ]
  },
  {
   "cell_type": "code",
   "execution_count": 478,
   "metadata": {
    "collapsed": false
   },
   "outputs": [],
   "source": [
    "ac=[];clfs=[];confs=[]\n",
    "dfTemp=df[df.degreeCoded==0].reset_index(drop=True)\n",
    "for spl in range(10,11):\n",
    "    skf = StratifiedKFold(n_splits=spl)\n",
    "    for train,test in skf.split(dfTemp[col], dfTemp.fund):\n",
    "        xtr, ytr,xte,yte=dfTemp.ix[train][col],dfTemp.ix[train]['fund'],dfTemp.ix[test][col],dfTemp.ix[test]['fund']\n",
    "        for i in range(3,8):\n",
    "            for j in range(1,6):\n",
    "                for j2 in range(1,6):\n",
    "                    for k in ['entropy','gini']:\n",
    "                        clf,acc,conf=build3(xtr, ytr,xte,yte,rocEnable=False,max_depth=i,criterion=k,class_weight={0:j, 1: j2})\n",
    "                        ac.append(acc)\n",
    "                        clfs.append(clf)\n",
    "                        confs.append(conf)"
   ]
  },
  {
   "cell_type": "code",
   "execution_count": 479,
   "metadata": {
    "collapsed": false,
    "scrolled": false
   },
   "outputs": [
    {
     "data": {
      "text/plain": [
       "[85.227272727272734, 378]"
      ]
     },
     "execution_count": 479,
     "metadata": {},
     "output_type": "execute_result"
    }
   ],
   "source": [
    "[max(ac),ac.index(max(ac))]"
   ]
  },
  {
   "cell_type": "code",
   "execution_count": 480,
   "metadata": {
    "collapsed": false,
    "scrolled": false
   },
   "outputs": [
    {
     "data": {
      "text/plain": [
       "DecisionTreeClassifier(class_weight={0: 3, 1: 5}, criterion='entropy',\n",
       "            max_depth=5, max_features=None, max_leaf_nodes=None,\n",
       "            min_impurity_split=1e-07, min_samples_leaf=1,\n",
       "            min_samples_split=2, min_weight_fraction_leaf=0.0,\n",
       "            presort=False, random_state=100, splitter='best')"
      ]
     },
     "execution_count": 480,
     "metadata": {},
     "output_type": "execute_result"
    }
   ],
   "source": [
    "clf=clfs[ac.index(max(ac))]\n",
    "clf"
   ]
  },
  {
   "cell_type": "code",
   "execution_count": 481,
   "metadata": {
    "collapsed": false,
    "scrolled": false
   },
   "outputs": [],
   "source": [
    "# draw3(clf)"
   ]
  },
  {
   "cell_type": "code",
   "execution_count": 482,
   "metadata": {
    "collapsed": false
   },
   "outputs": [
    {
     "data": {
      "text/plain": [
       "array([[123,   8],\n",
       "       [ 18,  27]])"
      ]
     },
     "execution_count": 482,
     "metadata": {},
     "output_type": "execute_result"
    }
   ],
   "source": [
    "confs[ac.index(max(ac))]"
   ]
  },
  {
   "cell_type": "code",
   "execution_count": 483,
   "metadata": {
    "collapsed": false,
    "scrolled": true
   },
   "outputs": [],
   "source": [
    "# get_code(clf,col)"
   ]
  },
  {
   "cell_type": "markdown",
   "metadata": {},
   "source": [
    "## Sample Path"
   ]
  },
  {
   "cell_type": "code",
   "execution_count": 484,
   "metadata": {
    "collapsed": false,
    "scrolled": true
   },
   "outputs": [
    {
     "data": {
      "text/plain": [
       "array([[1, 0, 0, 0, 0, 0, 0, 0, 0, 0, 0, 0, 0, 0, 0, 0, 0, 0, 0, 0, 0, 0,\n",
       "        0, 0, 0, 0, 0, 0, 0, 0, 1, 0, 0, 0, 0, 0, 0, 0, 0, 0, 0, 0, 0, 0,\n",
       "        0, 0, 1, 1, 1, 0, 1, 0, 0, 0, 0, 0, 0, 0, 0]], dtype=int64)"
      ]
     },
     "execution_count": 484,
     "metadata": {},
     "output_type": "execute_result"
    }
   ],
   "source": [
    "# col=['countryCoded', 'engCoded', 'fieldGroup', 'gpaBachelors', 'gre', \n",
    "#      'highLevelBachUni','paper','uniRank']\n",
    "me=[1,2,0,3.1,False,False,1,100]\n",
    "clf.decision_path([me]).toarray()"
   ]
  },
  {
   "cell_type": "code",
   "execution_count": 485,
   "metadata": {
    "collapsed": false
   },
   "outputs": [
    {
     "data": {
      "text/plain": [
       "array([False], dtype=bool)"
      ]
     },
     "execution_count": 485,
     "metadata": {},
     "output_type": "execute_result"
    }
   ],
   "source": [
    "clf.predict([me])"
   ]
  },
  {
   "cell_type": "code",
   "execution_count": 486,
   "metadata": {
    "collapsed": false
   },
   "outputs": [
    {
     "data": {
      "text/plain": [
       "array([False,  True], dtype=bool)"
      ]
     },
     "execution_count": 486,
     "metadata": {},
     "output_type": "execute_result"
    }
   ],
   "source": [
    "clf.classes_"
   ]
  },
  {
   "cell_type": "code",
   "execution_count": 487,
   "metadata": {
    "collapsed": false
   },
   "outputs": [
    {
     "data": {
      "text/plain": [
       "array([[ 0.5,  0.5]])"
      ]
     },
     "execution_count": 487,
     "metadata": {},
     "output_type": "execute_result"
    }
   ],
   "source": [
    "clf.predict_proba([me])"
   ]
  }
 ],
 "metadata": {
  "kernelspec": {
   "display_name": "Python 2",
   "language": "python",
   "name": "python2"
  },
  "language_info": {
   "codemirror_mode": {
    "name": "ipython",
    "version": 2
   },
   "file_extension": ".py",
   "mimetype": "text/x-python",
   "name": "python",
   "nbconvert_exporter": "python",
   "pygments_lexer": "ipython2",
   "version": "2.7.13"
  }
 },
 "nbformat": 4,
 "nbformat_minor": 2
}

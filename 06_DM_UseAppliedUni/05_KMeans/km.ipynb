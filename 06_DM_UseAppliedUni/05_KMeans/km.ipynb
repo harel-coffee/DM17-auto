{
 "cells": [
  {
   "cell_type": "code",
   "execution_count": 1,
   "metadata": {
    "collapsed": false
   },
   "outputs": [],
   "source": [
    "import numpy as np\n",
    "from pandas import Series, DataFrame\n",
    "import pandas as pd\n",
    "from sklearn.cluster import KMeans\n",
    "from sklearn.preprocessing import scale\n",
    "import matplotlib.pylab as plt"
   ]
  },
  {
   "cell_type": "code",
   "execution_count": 2,
   "metadata": {
    "collapsed": true
   },
   "outputs": [],
   "source": [
    "olddf=pd.read_json('../01_Preprocessing//First.json').sort_index()\n",
    "olddf.targetUni.replace('n/a',np.nan,inplace=True)"
   ]
  },
  {
   "cell_type": "code",
   "execution_count": 3,
   "metadata": {
    "collapsed": false
   },
   "outputs": [
    {
     "data": {
      "text/plain": [
       "Index([u'country', u'countryCoded', u'degree', u'degreeCoded', u'eng',\n",
       "       u'engCoded', u'fieldGroup', u'fund', u'gpaBachelors', u'gpaMasters',\n",
       "       u'gre', u'highLevelBachUni', u'highLevelMasterUni', u'paper',\n",
       "       u'targetUni', u'uniAccepted', u'uniBachelors', u'uniMasters',\n",
       "       u'uniSelected', u'year'],\n",
       "      dtype='object')"
      ]
     },
     "execution_count": 3,
     "metadata": {},
     "output_type": "execute_result"
    }
   ],
   "source": [
    "olddf.columns"
   ]
  },
  {
   "cell_type": "markdown",
   "metadata": {},
   "source": [
    "# phd"
   ]
  },
  {
   "cell_type": "code",
   "execution_count": 4,
   "metadata": {
    "collapsed": false
   },
   "outputs": [
    {
     "data": {
      "text/plain": [
       "alberta                 12\n",
       "bologna                  9\n",
       "calgary                  8\n",
       "royal lnstitute of       8\n",
       "waterloo                 7\n",
       "new south wales          6\n",
       "concordia                6\n",
       "ottawa                   6\n",
       "polytechnic  tirane      6\n",
       "north carolina state     5\n",
       "Name: targetUni, dtype: int64"
      ]
     },
     "execution_count": 4,
     "metadata": {},
     "output_type": "execute_result"
    }
   ],
   "source": [
    "df=olddf[['countryCoded', 'degreeCoded','engCoded', 'fieldGroup', 'fund',\n",
    "          'gpaBachelors', 'gpaMasters','gre', 'highLevelBachUni', 'highLevelMasterUni','paper']]\n",
    "model=KMeans(n_clusters=10,random_state=99)\n",
    "model.fit(df)\n",
    "olddf['label']=Series(model.labels_,index=df.index)\n",
    "\n",
    "# Canada, Masters, Medium Eng , Want Fund, 2.5GPA , 0GPA MS, NoGRE, NoTopUni,noTopUniMS, 1Paper, 0PaperIran, 2017\n",
    "me=[1, 0,2, 3.5,True,2.5,0,False,False,False,1]\n",
    "pred=model.predict([me])\n",
    "olddf[olddf.label==pred[0]]['targetUni'].value_counts().head(10)"
   ]
  },
  {
   "cell_type": "markdown",
   "metadata": {},
   "source": [
    "# Masters"
   ]
  },
  {
   "cell_type": "code",
   "execution_count": 5,
   "metadata": {
    "collapsed": true
   },
   "outputs": [],
   "source": [
    "# 'countryCoded', 'engCoded', 'fieldGroup','gpaBachelors','gre',\n",
    "# 'highLevelBachUni','papersGLOB','papersIRAN','fund'\n",
    "me=[1,2, 0,2.5,False,False,1,True]"
   ]
  },
  {
   "cell_type": "code",
   "execution_count": 6,
   "metadata": {
    "collapsed": false
   },
   "outputs": [
    {
     "data": {
      "text/plain": [
       "concordia           29\n",
       "alberta             16\n",
       "simon fraser        15\n",
       "calgary             15\n",
       "melbourne           13\n",
       "british columbia    12\n",
       "manitoba            11\n",
       "boston               8\n",
       "northeastern         8\n",
       "toronto              8\n",
       "Name: targetUni, dtype: int64"
      ]
     },
     "execution_count": 6,
     "metadata": {},
     "output_type": "execute_result"
    }
   ],
   "source": [
    "df=olddf[['countryCoded', 'engCoded', 'fieldGroup','gpaBachelors','gre', 'highLevelBachUni','paper','fund']]\n",
    "model=KMeans(n_clusters=10,random_state=99)\n",
    "model.fit(df)\n",
    "olddf['label']=Series(model.labels_,index=df.index)\n",
    "pred=model.predict([me])\n",
    "olddf[olddf.label==pred[0]]['targetUni'].value_counts().head(10)"
   ]
  },
  {
   "cell_type": "markdown",
   "metadata": {},
   "source": [
    "# range clusters"
   ]
  },
  {
   "cell_type": "code",
   "execution_count": 7,
   "metadata": {
    "collapsed": false
   },
   "outputs": [],
   "source": [
    "cl=[u'country', u'degree', u'eng', u'fieldGroup', u'fund', u'gpaBachelors',\n",
    "       u'gre', u'highLevelBachUni', u'paper', u'targetUni', u'year']\n",
    "recomUni=[]\n",
    "for i in range(2,20):\n",
    "    model=KMeans(n_clusters=i,random_state=99)\n",
    "    model.fit(df)\n",
    "    pr=model.predict([me])\n",
    "    \n",
    "    olddf['label']=Series(model.labels_,index=df.index)\n",
    "    recomUni.append(olddf[(olddf.label==pr[0])&(olddf.countryCoded==me[0])][cl])"
   ]
  },
  {
   "cell_type": "code",
   "execution_count": 8,
   "metadata": {
    "collapsed": false
   },
   "outputs": [],
   "source": [
    "allProp=pd.concat(recomUni)"
   ]
  },
  {
   "cell_type": "code",
   "execution_count": 9,
   "metadata": {
    "collapsed": false
   },
   "outputs": [
    {
     "data": {
      "text/plain": [
       "targetUni\n",
       "concordia           504\n",
       "alberta             328\n",
       "calgary             310\n",
       "simon fraser        287\n",
       "british columbia    224\n",
       "melbourne           218\n",
       "manitoba            205\n",
       "toronto             170\n",
       "western ontario     165\n",
       "waterloo            161\n",
       "saskatchewan        124\n",
       "mcmaster            114\n",
       "mcgill              113\n",
       "dalhousie           100\n",
       "new south wales      92\n",
       "Name: country, dtype: int64"
      ]
     },
     "execution_count": 9,
     "metadata": {},
     "output_type": "execute_result"
    }
   ],
   "source": [
    "allProp.groupby('targetUni').count().ix[:,0].sort_values(ascending=False).head(15)"
   ]
  },
  {
   "cell_type": "code",
   "execution_count": 10,
   "metadata": {
    "collapsed": false
   },
   "outputs": [
    {
     "name": "stdout",
     "output_type": "stream",
     "text": [
      "country\n",
      "canada       3963\n",
      "australia     801\n",
      "Name: degree, dtype: int64\n",
      "\n",
      "\n",
      "degree\n",
      "Masters      2719\n",
      "Doctorate    2045\n",
      "Name: country, dtype: int64\n",
      "\n",
      "\n",
      "eng\n",
      "High        2523\n",
      "VeryHigh    1335\n",
      "Medium       904\n",
      "Low            2\n",
      "Name: country, dtype: int64\n",
      "\n",
      "\n",
      "fieldGroup\n",
      "0    2971\n",
      "1    1122\n",
      "2     353\n",
      "4     153\n",
      "5     123\n",
      "3      42\n",
      "Name: country, dtype: int64\n",
      "\n",
      "\n",
      "fund\n",
      "True     3373\n",
      "False    1391\n",
      "Name: country, dtype: int64\n",
      "\n",
      "\n",
      "gpaBachelors\n",
      " 3.000000     1433\n",
      " 2.500000     1023\n",
      " 3.500000      864\n",
      " 2.000000      729\n",
      " 4.000000      359\n",
      " 1.500000      231\n",
      " 2.611309       81\n",
      " 1.000000       43\n",
      "-14.000000       1\n",
      "Name: country, dtype: int64\n",
      "\n",
      "\n",
      "gre\n",
      "False    3158\n",
      "True     1606\n",
      "Name: country, dtype: int64\n",
      "\n",
      "\n",
      "highLevelBachUni\n",
      "True     2635\n",
      "False    2129\n",
      "Name: country, dtype: int64\n",
      "\n",
      "\n",
      "paper\n",
      "0.00    2052\n",
      "1.00     530\n",
      "2.00     448\n",
      "0.25     304\n",
      "1.25     284\n",
      "3.00     169\n",
      "1.50     134\n",
      "0.75     128\n",
      "0.50     116\n",
      "3.25      82\n",
      "Name: country, dtype: int64\n",
      "\n",
      "\n",
      "targetUni\n",
      "concordia           504\n",
      "alberta             328\n",
      "calgary             310\n",
      "simon fraser        287\n",
      "british columbia    224\n",
      "melbourne           218\n",
      "manitoba            205\n",
      "toronto             170\n",
      "western ontario     165\n",
      "waterloo            161\n",
      "Name: country, dtype: int64\n",
      "\n",
      "\n",
      "year\n",
      "2013    801\n",
      "2010    672\n",
      "2012    667\n",
      "2011    584\n",
      "2014    525\n",
      "2016    418\n",
      "2015    340\n",
      "2009    282\n",
      "2008    251\n",
      "2017    169\n",
      "Name: country, dtype: int64\n",
      "\n",
      "\n"
     ]
    }
   ],
   "source": [
    "for l in cl:\n",
    "    print(allProp.groupby(l).count().ix[:,0].sort_values(ascending=False).head(10))\n",
    "    print '\\n'"
   ]
  },
  {
   "cell_type": "code",
   "execution_count": null,
   "metadata": {
    "collapsed": true
   },
   "outputs": [],
   "source": []
  }
 ],
 "metadata": {
  "kernelspec": {
   "display_name": "Python 2",
   "language": "python",
   "name": "python2"
  },
  "language_info": {
   "codemirror_mode": {
    "name": "ipython",
    "version": 2
   },
   "file_extension": ".py",
   "mimetype": "text/x-python",
   "name": "python",
   "nbconvert_exporter": "python",
   "pygments_lexer": "ipython2",
   "version": "2.7.13"
  }
 },
 "nbformat": 4,
 "nbformat_minor": 2
}
